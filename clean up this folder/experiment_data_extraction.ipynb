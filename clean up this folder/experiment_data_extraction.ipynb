{
 "cells": [
  {
   "cell_type": "code",
   "execution_count": 7,
   "metadata": {
    "collapsed": true,
    "pycharm": {
     "is_executing": false
    }
   },
   "outputs": [],
   "source": [
    "import json\n",
    "import numpy as np\n",
    "import pandas as pd\n",
    "from pandas.io.json import json_normalize\n",
    "import os\n",
    "import zipfile\n",
    "from zipfile import ZipFile\n",
    "import datetime as dt"
   ]
  },
  {
   "cell_type": "code",
   "execution_count": 130,
   "metadata": {
    "pycharm": {
     "is_executing": false,
     "name": "#%%\n"
    }
   },
   "outputs": [],
   "source": [
    "def flatten_json(y):\n",
    "    out = {}\n",
    "\n",
    "    def flatten(z, name=''):\n",
    "        x = eval(z)\n",
    "        if type(x) is dict:\n",
    "            for a in x:\n",
    "                flatten(x[a], name + a + '_')\n",
    "        elif type(x) is list:\n",
    "            i = 0\n",
    "            for a in x:\n",
    "                flatten(a, name + str(i) + '_')\n",
    "                i += 1\n",
    "        else:\n",
    "            out[name[:-1]] = x\n",
    "\n",
    "    flatten(y)\n",
    "    return out"
   ]
  },
  {
   "cell_type": "code",
   "execution_count": 2,
   "metadata": {
    "pycharm": {
     "is_executing": false,
     "name": "#%%\n"
    }
   },
   "outputs": [
    {
     "name": "stdout",
     "output_type": "stream",
     "text": [
      "No file from 11/11/2019 on local directories.\n",
      "No file from 11/10/2019 on local directories.\n",
      "No file from 11/09/2019 on local directories.\n",
      "No file from 11/08/2019 on local directories.\n",
      "No file from 11/07/2019 on local directories.\n",
      "No file from 11/06/2019 on local directories.\n",
      "loading file from 2019-11-05\n"
     ]
    }
   ],
   "source": [
    "current_dir = os.getcwd()\n",
    "root_dir = current_dir.split('/capstone_fall_2019')[0]\n",
    "data_folder_path = root_dir + \\\n",
    "                   '/capstone_fall_2019/Step_2_Data pipeline development/Step_2.1_Data ingestion and EDA/data_ingestion/'\n",
    "\n",
    "for i in range(10):\n",
    "    valid_path = '{}'.format((dt.date.today() - dt.timedelta(days=i)).strftime('%d%m%Y')) + '/gold_dataset.zip'\n",
    "    if os.path.isfile(data_folder_path + valid_path):\n",
    "        most_recent_ds_path = data_folder_path + valid_path\n",
    "        print('loading file from {}'.format(dt.date.today() - dt.timedelta(days=i)))\n",
    "        \n",
    "        zipObj = zipfile.ZipFile(most_recent_ds_path)\n",
    "        df = pd.read_csv(zipObj.open('experiments.csv'))\n",
    "        break\n",
    "    else:\n",
    "        print('No file from {} on local directories.'.format((dt.date.today() - dt.timedelta(days=i)).strftime('%m/%d/%Y')))"
   ]
  },
  {
   "cell_type": "code",
   "execution_count": 149,
   "metadata": {
    "pycharm": {
     "is_executing": false,
     "name": "#%%\n"
    }
   },
   "outputs": [
    {
     "data": {
      "text/html": [
       "<div>\n",
       "<style scoped>\n",
       "    .dataframe tbody tr th:only-of-type {\n",
       "        vertical-align: middle;\n",
       "    }\n",
       "\n",
       "    .dataframe tbody tr th {\n",
       "        vertical-align: top;\n",
       "    }\n",
       "\n",
       "    .dataframe thead th {\n",
       "        text-align: right;\n",
       "    }\n",
       "</style>\n",
       "<table border=\"1\" class=\"dataframe\">\n",
       "  <thead>\n",
       "    <tr style=\"text-align: right;\">\n",
       "      <th></th>\n",
       "      <th>metricName</th>\n",
       "      <th>stageName.isBaseline</th>\n",
       "      <th>stageSummaries.stageName</th>\n",
       "      <th>x</th>\n",
       "      <th>y</th>\n",
       "    </tr>\n",
       "  </thead>\n",
       "  <tbody>\n",
       "    <tr>\n",
       "      <td>0</td>\n",
       "      <td>Resting heart rate</td>\n",
       "      <td>True</td>\n",
       "      <td>Baseline</td>\n",
       "      <td>2019-08-17</td>\n",
       "      <td>56.500</td>\n",
       "    </tr>\n",
       "    <tr>\n",
       "      <td>1</td>\n",
       "      <td>Resting heart rate</td>\n",
       "      <td>True</td>\n",
       "      <td>Baseline</td>\n",
       "      <td>2019-08-18</td>\n",
       "      <td>50.000</td>\n",
       "    </tr>\n",
       "    <tr>\n",
       "      <td>2</td>\n",
       "      <td>Resting heart rate</td>\n",
       "      <td>True</td>\n",
       "      <td>Baseline</td>\n",
       "      <td>2019-08-19</td>\n",
       "      <td>51.000</td>\n",
       "    </tr>\n",
       "    <tr>\n",
       "      <td>3</td>\n",
       "      <td>Resting heart rate</td>\n",
       "      <td>True</td>\n",
       "      <td>Baseline</td>\n",
       "      <td>2019-08-20</td>\n",
       "      <td>47.250</td>\n",
       "    </tr>\n",
       "    <tr>\n",
       "      <td>4</td>\n",
       "      <td>Resting heart rate</td>\n",
       "      <td>True</td>\n",
       "      <td>Baseline</td>\n",
       "      <td>2019-08-21</td>\n",
       "      <td>48.625</td>\n",
       "    </tr>\n",
       "  </tbody>\n",
       "</table>\n",
       "</div>"
      ],
      "text/plain": [
       "           metricName stageName.isBaseline stageSummaries.stageName  \\\n",
       "0  Resting heart rate                 True                 Baseline   \n",
       "1  Resting heart rate                 True                 Baseline   \n",
       "2  Resting heart rate                 True                 Baseline   \n",
       "3  Resting heart rate                 True                 Baseline   \n",
       "4  Resting heart rate                 True                 Baseline   \n",
       "\n",
       "            x       y  \n",
       "0  2019-08-17  56.500  \n",
       "1  2019-08-18  50.000  \n",
       "2  2019-08-19  51.000  \n",
       "3  2019-08-20  47.250  \n",
       "4  2019-08-21  48.625  "
      ]
     },
     "execution_count": 149,
     "metadata": {},
     "output_type": "execute_result"
    }
   ],
   "source": [
    "dataSummary = pd.DataFrame()\n",
    "\n",
    "for i in df['dataSummary']:\n",
    "    for metric in eval(i):\n",
    "        test = json_normalize(data=metric, record_path=['stageSummaries', 'data'],\n",
    "                              meta=['metricName', ['stageSummaries', 'stageName'], ['stageName', 'isBaseline'],\n",
    "                                    ])\n",
    "        # test = json_normalize(metric,'stageSummaries', ['stageName', 'data'])\n",
    "        dataSummary = dataSummary.append(test)\n",
    "\n",
    "dataSummary.head()\n",
    "\n",
    "# flat = flatten_json(df['dataSummary'])\n",
    "# flat"
   ]
  },
  {
   "cell_type": "code",
   "execution_count": 145,
   "metadata": {
    "pycharm": {
     "is_executing": false,
     "name": "#%%\n"
    }
   },
   "outputs": [
    {
     "data": {
      "text/plain": [
       "array(['reishi-mushroom', 'magnesium-bed', 'pink-noise', 'melatonin',\n",
       "       'meditation', 'chamomile-tea', 'lavender-oil', 'im-fasting',\n",
       "       'blue-blocking-glasses', 'no-electronics-bed', 'coffee',\n",
       "       'earplugs', 'mct-oil', 'core-temperature'], dtype=object)"
      ]
     },
     "execution_count": 145,
     "metadata": {},
     "output_type": "execute_result"
    }
   ],
   "source": [
    "df.experimentId.unique()"
   ]
  },
  {
   "cell_type": "code",
   "execution_count": null,
   "metadata": {
    "pycharm": {
     "name": "#%%\n"
    }
   },
   "outputs": [],
   "source": [
    "\n"
   ]
  }
 ],
 "metadata": {
  "kernelspec": {
   "display_name": "Python 3",
   "language": "python",
   "name": "python3"
  },
  "language_info": {
   "codemirror_mode": {
    "name": "ipython",
    "version": 3
   },
   "file_extension": ".py",
   "mimetype": "text/x-python",
   "name": "python",
   "nbconvert_exporter": "python",
   "pygments_lexer": "ipython3",
   "version": "3.7.3"
  },
  "pycharm": {
   "stem_cell": {
    "cell_type": "raw",
    "metadata": {
     "collapsed": false
    },
    "source": []
   }
  }
 },
 "nbformat": 4,
 "nbformat_minor": 1
}
