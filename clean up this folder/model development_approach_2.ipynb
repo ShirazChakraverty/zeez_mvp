{
 "cells": [
  {
   "cell_type": "markdown",
   "metadata": {},
   "source": [
    "### Problem Framing and Pitch\n",
    "\n",
    "The user buys an Oura ring in order to monitor their every activity, level of readiness and also monitor their sleep. They can see this data as often as they like on the Oura cloud. They want to improve their lifestyle and health. However, Oura does not offer any transformative insight into why someone is sleeping they way they are.\n",
    "\n",
    "In general we can agree:\n",
    "\n",
    "- Everybody knows what are generally healthy habits, these lead to a good night's sleep.\n",
    "- We also know that good sleep over time promotes good health and may also result in other benefits like longevity, general mental wellbeing, sense of happiness.\n",
    "- So good habits lead to good sleep which further leads to good health and this cycle supports a good life.\n",
    "\n",
    "Hence the question...Could we improve someone's sleep? We don't think of this as a simple regression or classification problem rather a 'change someone's daily habits over time' problem. We plan to build a predictive model that can show us how a set of important features can predict with a reasonable level of accuracy, someone's sleep quality __({sleep score >= 80} Quality = 'good' ; {sleep < 80} Quality = 'bad')__.This formulation mkaes our problem as a binary classification approach where we want to simply tell the user what are the factors that result in good vs bad sleep --simple is often better when we want strong end user adoption.\n",
    "\n",
    "This can in turn help us understand what effects sleep the most in general but also what might be some common traits that are shared by a subset of individuals that result in a similar sleep experience. So we will do a few simple things here. \n",
    "\n",
    "We will first try to find using a range of feature evaluation methods, what features are most useful to predict the quality of sleep and we will also try to see what are some sub groups within out population and what might be some characteristics that might be common in these subgroups. \n",
    "\n",
    "If these characterstics that are common are also strong influencers on sleep, then we know that we could advice someone with some confidence that focusing on certain specific aspects of their daily routine could help them reach a better sleep experience.\n",
    "\n",
    "We know that there are a lot of things in a person's life that a sensor, or any sensor cannot measure -- we can measure blood pressure but we cannot know all the factors that are effecting a person. Hence we aim at informing the individual in a manner that they can get some actionable insight that gives them a starting point into shifting their habits in a direction that will support better sleep, that will contribute to better health and a happy life.\n"
   ]
  },
  {
   "cell_type": "markdown",
   "metadata": {},
   "source": [
    "### The Client\n",
    "\n",
    "Our client is memento labs and their clients are those who own an Oura ring and want to learn more about their sleep and how to make it better. They have allowed us to use real data that comes from Oura ring bearers who have agreed under a strict data privacy agreement to allow us on behalf of memento labs to use this data for this purpose. The deliverables of this project are:\n",
    "\n",
    "1) Detailed feature analysis    \n",
    "2) Pipeline of predictive models    \n",
    "3) Model interpretability outputs     \n",
    "4) Model object that can predict sleep quality    \n",
    "5) Actionable reasons from features for end user    "
   ]
  },
  {
   "cell_type": "markdown",
   "metadata": {},
   "source": [
    "#### Methodology\n",
    "\n",
    "<div class=\"alert alert-block alert-info\">\n",
    "<b>Methodology   :</b> We have developed a simple yet repeatable experiment pipeline. We will complete the following 5 steps below and provide a summary of learnings for the next iteration.\n",
    "</div>\n",
    "\n",
    "<div class=\"alert alert-block alert-info\">\n",
    "<b> We have two major deliverables:</b> 1. final model object that can help us score and 2. explain the top 5-10 features that explain that score. We will not just use the feature importance but also perform LIME analysis in order to understand the directional importance of the features on quality of sleep\n",
    "</div>\n"
   ]
  },
  {
   "cell_type": "markdown",
   "metadata": {},
   "source": [
    "<div class=\"alert alert-block alert-info\">\n",
    "<b>Iteration 3:</b> Major objective is to develop a final understanding of the data and the learning feasible with a minimal number of transformations and aggregations.\n",
    "</div>"
   ]
  },
  {
   "cell_type": "markdown",
   "metadata": {},
   "source": [
    "<div class=\"alert alert-block alert-info\">\n",
    "<b> 1. Ingest Data:</b> Capture JSON data feed from Memento labs\n",
    "server and tranfrom into four structured tables for further processing\n",
    "</div>\n",
    "\n",
    "> This step involved a set of tasks that only need to be done when fetching new data. We have decided to fix the date range to limit data until October 14th, 2019. This allows us to build a generalizatioble model using various linear and non-linear methods. The data comes with some API literature from the wearable device maker, this has helped us further understand the dataset."
   ]
  },
  {
   "cell_type": "markdown",
   "metadata": {},
   "source": [
    "<div class=\"alert alert-block alert-info\">\n",
    "<b>2. Feature evaluation:</b> Take the attributes across tables and analyse them to identify most useful set of attributes\n",
    "</div>\n",
    "\n",
    "> This data has many properties that vary over time however time in itself has less to do with sleep. It is the activity, readiness and routine that effects sleep. "
   ]
  },
  {
   "cell_type": "markdown",
   "metadata": {},
   "source": [
    "<div class=\"alert alert-block alert-info\">\n",
    "<b>3. Unsupervised methods:</b> Take the set of features and use unsupervised methods to learn about the population\n",
    "</div>\n",
    "\n",
    "> This data comes from a range of Oura ring users, we have a goal to help a new user to understand some things their 'cohort' might be doing and being successful. Unsupervised methods can help us find these cohorts."
   ]
  },
  {
   "cell_type": "markdown",
   "metadata": {},
   "source": [
    "<div class=\"alert alert-block alert-info\">\n",
    "<b>4. Feature Evolution:</b> Based on feature evaluation and unsupervised methods, we will select some features and then use some recipes to engineer additional features\n",
    "</div>\n",
    "\n",
    "> We will try to evolve the features in both mathamatical and domain context."
   ]
  },
  {
   "cell_type": "markdown",
   "metadata": {},
   "source": [
    "<div class=\"alert alert-block alert-info\">\n",
    "<b>5. Final model validation:</b> We take the final models and test them to ensure they are going to be reliable for use.\n",
    "</div>\n",
    "\n",
    "> The validation step woul..."
   ]
  },
  {
   "cell_type": "markdown",
   "metadata": {},
   "source": [
    "### Step 1. Capture Full Dataset\n",
    "\n",
    "The Oura data has 3 categories - Sleep, Activity and Readiness. This is well documented [here](https://cloud.ouraring.com/docs/). We have used this to build a data dictionary that is saved on the Github repo. This dictionary calls out the metadata and the transformations and aggregations we have performed for this first iteration. "
   ]
  },
  {
   "cell_type": "markdown",
   "metadata": {},
   "source": [
    "<div class=\"alert alert-block alert-info\">\n",
    "<b> 1. Ingest Data:</b> Capture JSON data feed from Memento labs\n",
    "server and tranform into four structured tables for further processing\n",
    "</div>\n",
    "\n",
    "> This step has been put in 1 python file that can be run in order to create all the tables and also some features."
   ]
  },
  {
   "cell_type": "markdown",
   "metadata": {},
   "source": [
    "The following section downloads data from Oura API and exports into CSV exports can only handle 1 user. As we are using pre-authorized data from Memento labs, we are able to use records of several Oura users all at once. The following code has been developed to ingest the raw JSON file and then break it down into a relational schedule of 4 tables that have all users, sleep, readiness and activity data - all tables can be joined using the unique `user_id` key that is a primary key in the users table and a foreign key in the other 3 data tables.\n",
    "\n",
    "For more info on Oura API, see [Oura Documentation](https://cloud.ouraring.com/docs/)"
   ]
  },
  {
   "cell_type": "markdown",
   "metadata": {},
   "source": [
    "<div class=\"alert alert-block alert-info\">\n",
    "<b> Dependencies and Libraries:</b> The following code section focuses only on the libraries needed for the ingestion and basic data munging. Each section will capture libraries used for that perticular section's analysis.\n",
    "</div>"
   ]
  },
  {
   "cell_type": "markdown",
   "metadata": {},
   "source": [
    "<div class=\"alert alert-block alert-info\">\n",
    "<b> Installing missing libraries:</b> A sample code snippet for when you find a perticular library is missing. As this implementation is inside a docker container, it is key to properly install packages within the docker container as following:\n",
    "</div>\n",
    "\n",
    "```\n",
    "!pip install --user numpy scipy matplotlib ipython pandas sympy nose statsmodels patsy seaborn\n",
    "```\n",
    "\n",
    ">the above snippet can use used right here in Jupyter notebook, the `--user` flag is key to make sure the current environment is updated. \n",
    "\n",
    "\n",
    "\n",
    "\n",
    "\n"
   ]
  },
  {
   "cell_type": "code",
   "execution_count": 115,
   "metadata": {},
   "outputs": [],
   "source": [
    "## Data ingestion libraries\n",
    "import requests,json,numpy as np,pandas as pd,csv,gzip\n",
    "import zipfile,zlib,time,matplotlib,seaborn\n",
    "from zipfile import ZipFile\n",
    "from os import mkdir\n",
    "from datetime import datetime,date\n",
    "from pandas.io.json import json_normalize\n",
    "import json\n",
    "import numpy as np\n",
    "import pandas as pd\n",
    "import os\n",
    "import zipfile\n",
    "from zipfile import ZipFile\n",
    "from datetime import datetime, date\n",
    "import time\n",
    "import requests"
   ]
  },
  {
   "cell_type": "code",
   "execution_count": 139,
   "metadata": {},
   "outputs": [],
   "source": [
    "## Machine learning libraries\n",
    "# Load libraries\n",
    "from matplotlib import pyplot\n",
    "from pandas import read_csv\n",
    "from pandas import set_option\n",
    "from pandas.plotting import scatter_matrix\n",
    "from sklearn.preprocessing import StandardScaler\n",
    "from sklearn.model_selection import train_test_split\n",
    "from sklearn.model_selection import KFold\n",
    "from sklearn.model_selection import cross_val_score\n",
    "from sklearn.model_selection import GridSearchCV\n",
    "from sklearn.metrics import classification_report\n",
    "from sklearn.metrics import confusion_matrix\n",
    "from sklearn.metrics import accuracy_score\n",
    "from sklearn.pipeline import Pipeline\n",
    "from sklearn.linear_model import LogisticRegression\n",
    "from sklearn.tree import DecisionTreeClassifier\n",
    "from sklearn.neighbors import KNeighborsClassifier\n",
    "from sklearn.discriminant_analysis import LinearDiscriminantAnalysis\n",
    "from sklearn.naive_bayes import GaussianNB\n",
    "from sklearn.svm import SVC\n",
    "from sklearn.ensemble import AdaBoostClassifier\n",
    "from sklearn.ensemble import GradientBoostingClassifier\n",
    "from sklearn.ensemble import RandomForestClassifier\n",
    "from sklearn.ensemble import ExtraTreesClassifier"
   ]
  },
  {
   "cell_type": "code",
   "execution_count": 117,
   "metadata": {},
   "outputs": [],
   "source": [
    "## Import and setup customized python files\n",
    "\n",
    "import os\n",
    "import sys\n",
    "\n",
    "sys.path.append(os.getcwd() + '/modules')\n",
    "import oura_data_pipeline"
   ]
  },
  {
   "cell_type": "code",
   "execution_count": 118,
   "metadata": {},
   "outputs": [],
   "source": [
    "%reload_ext autoreload\n",
    "%autoreload 2\n",
    "main_time_counter = time.time()"
   ]
  },
  {
   "cell_type": "markdown",
   "metadata": {},
   "source": [
    "<div class=\"alert alert-block alert-info\">\n",
    "<b> Authentication & Download:</b> Memento Labs has provided (Sep 3rd, 2019) access credentials for us to download the data. The following cell has been saved here in order to maintain a future need to ingest more data. Authentication information will not be used after running and extracting this data. The following section does not need to run anymore as of October 14th, we have extracted the needed dataset and due to capacity contraints on the server, have decided to only pull additional data when we schedule the next ingestion.\n",
    "</div>"
   ]
  },
  {
   "cell_type": "code",
   "execution_count": 119,
   "metadata": {},
   "outputs": [
    {
     "name": "stdout",
     "output_type": "stream",
     "text": [
      "CPU times: user 14.6 s, sys: 2.92 s, total: 17.5 s\n",
      "Wall time: 1min 25s\n"
     ]
    }
   ],
   "source": [
    "%%time\n",
    "full_path = 'data_ingestion/{}'.format(date.today().strftime('%d%m%Y'))\n",
    "os.makedirs(full_path, exist_ok=True)\n",
    "\n",
    "# create a simple \"log file\" on the log ingestion directory. Can be helpful to debug and later on for feature monitoring.\n",
    "log_file = open(full_path + '/log.txt', 'a+')\n",
    "log_file.write(time.asctime() + ' - Starting data ingestion process\\n')\n",
    "\n",
    "# if a data file exists, load it, otherwise, create the directory, download a new one and load the DFs:\n",
    "if not os.path.isfile(full_path + '/raw_dataset.zip'):    \n",
    "    start = time.time() # time the data ingestion from Memento\n",
    "    log_file.write(time.asctime() + ' - Day file not found. Starting data download\\n')\n",
    "    \n",
    "    # try: \n",
    "    ACCESS_TOKEN = ##INSERT ENVIRONMENT VARIABLE##\n",
    "    headers = {'Authorization': 'Bearer ' + ACCESS_TOKEN }\n",
    "    URL = \"https://api.mementolabs.io/data/dataset\"\n",
    "    # changed this code to deal with streaming json from 10/20/2019 on. Must double check if this will be the final \n",
    "    # format\n",
    "    data = requests.get(URL, headers=headers).content.decode(encoding='utf-8')\n",
    "\n",
    "    # save the raw data to disk as zip it to allow re-processing without new download\n",
    "    zip_file = full_path + '/raw_dataset.zip'\n",
    "    zipObj = ZipFile(zip_file, 'w', compression=zipfile.ZIP_DEFLATED)\n",
    "    zipObj.writestr('raw_dataset.txt', data)\n",
    "    zipObj.close()\n",
    "\n",
    "    # print('total run time:',time.time() - start)\n",
    "    log_file.write(time.asctime() + ' - JSON File downloaded and saved. Time: ' + f'{(time.time() - start):.1f}' + ' secs.\\n')\n",
    "    "
   ]
  },
  {
   "cell_type": "code",
   "execution_count": 120,
   "metadata": {},
   "outputs": [
    {
     "name": "stderr",
     "output_type": "stream",
     "text": [
      "/opt/h2oai/dai/python/lib/python3.6/site-packages/pandas/core/frame.py:6692: FutureWarning: Sorting because non-concatenation axis is not aligned. A future version\n",
      "of pandas will change to not sort by default.\n",
      "\n",
      "To accept the future behavior, pass 'sort=False'.\n",
      "\n",
      "To retain the current behavior and silence the warning, pass 'sort=True'.\n",
      "\n",
      "  sort=sort)\n"
     ]
    },
    {
     "name": "stdout",
     "output_type": "stream",
     "text": [
      "CPU times: user 51.1 s, sys: 1.49 s, total: 52.6 s\n",
      "Wall time: 52.6 s\n"
     ]
    }
   ],
   "source": [
    "%%time\n",
    "## All pipeline work has been moved to the /modules folder\n",
    "## the below function has been moved to the oura_data_pipeline.py file\n",
    "## this function is being called and returns dataframes\n",
    "zipfl = '/raw_dataset.zip'\n",
    "fname = 'raw_dataset.txt'\n",
    "users, sleep, readiness, activity, experiments = oura_data_pipeline.create_all_features(zipfl,fname,full_path,log_file)"
   ]
  },
  {
   "cell_type": "code",
   "execution_count": 6,
   "metadata": {},
   "outputs": [
    {
     "name": "stdout",
     "output_type": "stream",
     "text": [
      "CPU times: user 0 ns, sys: 0 ns, total: 0 ns\n",
      "Wall time: 37.7 µs\n"
     ]
    },
    {
     "data": {
      "text/plain": [
       "((91, 7), (24671, 87), (25399, 11), (25403, 67), (60, 41))"
      ]
     },
     "execution_count": 6,
     "metadata": {},
     "output_type": "execute_result"
    }
   ],
   "source": [
    "%%time\n",
    "users.shape, sleep.shape, readiness.shape, activity.shape, experiments.shape"
   ]
  },
  {
   "cell_type": "code",
   "execution_count": 121,
   "metadata": {},
   "outputs": [
    {
     "name": "stdout",
     "output_type": "stream",
     "text": [
      "CPU times: user 0 ns, sys: 0 ns, total: 0 ns\n",
      "Wall time: 47.2 µs\n"
     ]
    },
    {
     "data": {
      "text/plain": [
       "((98, 7), (26602, 87), (27404, 11), (27456, 67), (62, 41))"
      ]
     },
     "execution_count": 121,
     "metadata": {},
     "output_type": "execute_result"
    }
   ],
   "source": [
    "%%time\n",
    "users.shape, sleep.shape, readiness.shape, activity.shape, experiments.shape"
   ]
  },
  {
   "cell_type": "code",
   "execution_count": 122,
   "metadata": {},
   "outputs": [
    {
     "name": "stdout",
     "output_type": "stream",
     "text": [
      "CPU times: user 45.1 s, sys: 1.28 s, total: 46.4 s\n",
      "Wall time: 46.4 s\n"
     ]
    }
   ],
   "source": [
    "%%time\n",
    "## Create the datafiles for storage on data foundary folder\n",
    "## data files can be reused for range of modeling efforts\n",
    "\n",
    "start = time.time()\n",
    "\n",
    "# Save each DF as a csv file (case needed to work on a single file in teh future\n",
    "users_file_path = full_path + '/users_data.csv'\n",
    "sleep_file_path = full_path + '/sleep_data.csv'\n",
    "readiness_file_path = full_path + '/readiness_data.csv'\n",
    "activity_file_path = full_path + '/activity_data.csv'\n",
    "df_gold_file_path = full_path + '/gold.csv'\n",
    "experiments_file_path = full_path + '/experiments.csv'\n",
    "\n",
    "users.to_csv(users_file_path, index=None, encoding='utf-8')\n",
    "sleep.to_csv(sleep_file_path, index_label='user_date', encoding='utf-8')\n",
    "readiness.to_csv(readiness_file_path, index_label='user_Date', encoding='utf-8')\n",
    "activity.to_csv(activity_file_path, index_label='user_Date', encoding='utf-8')\n",
    "experiments.to_csv(experiments_file_path, index=None, encoding='utf-8')\n",
    "\n",
    "# Drop duplicate columns and merge all dfs in a big \"gold\" df. Will keep only one of the summary dates (readiness)\n",
    "# sleep.drop('summary_date', axis=1, inplace=True)\n",
    "# activity.drop(['bedtime_start', 'bedtime_end', 'summary_date'], axis=1, inplace=True)\n",
    "\n",
    "# merge all data frames into one\n",
    "df_gold = sleep.merge(activity, left_index=True, right_index=True)\n",
    "df_gold = df_gold.merge(readiness, left_index=True, right_index=True)\n",
    "\n",
    "df_gold.to_csv(df_gold_file_path, index_label='user_date', encoding='utf-8')\n",
    "\n",
    "log_file.write(time.asctime() + '     - GOLD data frame shape: ' + str(df_gold.shape) + '\\n')\n",
    "\n",
    "# zip all files in a gold_dataset.zip\n",
    "files = [users_file_path, sleep_file_path, readiness_file_path,\n",
    "         activity_file_path, df_gold_file_path, experiments_file_path]\n",
    "\n",
    "files_names = ['users_data.csv', 'sleep_data.csv', 'readiness_data.csv',\n",
    "         'activity_data.csv', 'gold.csv', 'experiments.csv']\n",
    "\n",
    "zip_file = full_path + '/gold_dataset.zip'\n",
    "zipObj = zipfile.ZipFile(zip_file, mode='w')\n",
    "\n",
    "for i in range(len(files)):\n",
    "    zipObj.write(files[i], arcname=files_names[i])    \n",
    "\n",
    "zipObj.close()\n",
    "\n",
    "# delete unzipped CSVs\n",
    "for i in range(len(files)):\n",
    "    os.remove(files[i])\n",
    "    \n",
    "log_file.write(time.asctime() + ' - All data frames saved and zipped. Time: ' + f'{(time.time() - start):.1f}' + ' secs.\\n')\n",
    "\n",
    "log_file.write(time.asctime() + ' - Total time spent in the routine: ' + f'{(time.time() - main_time_counter):.1f}' + ' secs.\\n')\n",
    "log_file.write(time.asctime() + ' ##### ----- DATA INGESTION ROUTINE FINALIZED ----- #####\\n\\n')\n",
    "\n",
    "log_file.close()\n",
    "\n"
   ]
  },
  {
   "cell_type": "code",
   "execution_count": 123,
   "metadata": {},
   "outputs": [
    {
     "name": "stdout",
     "output_type": "stream",
     "text": [
      "CPU times: user 940 ms, sys: 400 ms, total: 1.34 s\n",
      "Wall time: 1.34 s\n"
     ]
    }
   ],
   "source": [
    "%%time\n",
    "import zipfile\n",
    "unzip_file_path = full_path + '/unzipped_data'\n",
    "os.makedirs(unzip_file_path, exist_ok=True)\n",
    "\n",
    "with zipfile.ZipFile(zip_file, 'r') as zip_ref:\n",
    "    zip_ref.extractall(unzip_file_path)"
   ]
  },
  {
   "cell_type": "code",
   "execution_count": 124,
   "metadata": {},
   "outputs": [
    {
     "name": "stdout",
     "output_type": "stream",
     "text": [
      "CPU times: user 2.71 s, sys: 140 ms, total: 2.85 s\n",
      "Wall time: 2.84 s\n"
     ]
    },
    {
     "data": {
      "text/plain": [
       "(26909, 166)"
      ]
     },
     "execution_count": 124,
     "metadata": {},
     "output_type": "execute_result"
    }
   ],
   "source": [
    "%%time\n",
    "df_gold = pd.read_csv(unzip_file_path +'/gold.csv',parse_dates = ['summary_date'])\n",
    "df_gold['user_id'] = list(pd.Series(df_gold.user_date).apply(lambda x: str(x).split('|')[0]))\n",
    "df_gold.shape"
   ]
  },
  {
   "cell_type": "code",
   "execution_count": 125,
   "metadata": {},
   "outputs": [
    {
     "name": "stdout",
     "output_type": "stream",
     "text": [
      "total 2719924\r\n",
      "drwxr-xrwx 1 root root       4096 Nov 23 20:16 .\r\n",
      "drwxr-xr-x 1 root root       4096 Oct 19 19:50 ..\r\n",
      "drwxr-xr-x 6 root root       4096 Oct 20 19:57 .cache\r\n",
      "drwxr-xr-x 3 root root       4096 Oct 19 19:57 .config\r\n",
      "-rw------- 1 root root 2959187968 Nov  3 00:57 core\r\n",
      "drwxr-xrwx 1 root root       4096 Oct 26 23:20 data\r\n",
      "drwxr-xr-x 5 root root       4096 Nov 23 20:13 data_ingestion\r\n",
      "-rw-r--r-- 1 root root     277650 Nov  9 21:20 data_ingestion_and_transform_COPY.ipynb\r\n",
      "-rw-r--r-- 1 root root  240273878 Nov  4 15:22 gold.csv\r\n",
      "drwxr-xrwx 1 root root       4096 Oct  4 05:40 h2oai_client_demo\r\n",
      "drwxr-xr-x 2 root root       4096 Nov  9 21:18 .ipynb_checkpoints\r\n",
      "drwxr-xr-x 5 root root       4096 Oct 19 19:55 .ipython\r\n",
      "drwx------ 3 root root       4096 Oct 19 19:50 .local\r\n",
      "-rw-r--r-- 1 root root    1702428 Nov  9 21:18 model development_iteration_2_Shiraz.ipynb\r\n",
      "-rw-r--r-- 1 root root     295836 Nov 23 20:16 model development_iteration_3_Shiraz.ipynb\r\n",
      "drwxr-xr-x 4 root root       4096 Nov 23 20:05 modules\r\n",
      "-rw-r--r-- 1 root root    5049391 Nov 10 04:00 test.csv\r\n",
      "-rw-r--r-- 1 root root   18518792 Nov 10 04:00 train.csv\r\n"
     ]
    }
   ],
   "source": [
    "!ls -la"
   ]
  },
  {
   "cell_type": "markdown",
   "metadata": {},
   "source": []
  },
  {
   "cell_type": "markdown",
   "metadata": {},
   "source": []
  },
  {
   "cell_type": "code",
   "execution_count": null,
   "metadata": {},
   "outputs": [],
   "source": []
  },
  {
   "cell_type": "code",
   "execution_count": null,
   "metadata": {},
   "outputs": [],
   "source": []
  },
  {
   "cell_type": "code",
   "execution_count": null,
   "metadata": {},
   "outputs": [],
   "source": []
  },
  {
   "cell_type": "markdown",
   "metadata": {},
   "source": [
    "The above dataset has 166 features, many have been created by the project team using the raw attributes. "
   ]
  },
  {
   "cell_type": "markdown",
   "metadata": {},
   "source": [
    "<div class=\"alert alert-block alert-info\">\n",
    "<b> Structure of the Oura dataset:</b> Each key: value pair is a dict key and the value is a list which is a key:value pair of each column in the schema. In order for us to convert this fast into a table, we need to read the entire set at once and convert them rapidly. We can do this as an DataFrame very easily. This will allow us to use this as a starting point of the pipeline to produce the flattened data within a short amount of processing time.\n",
    "</div>\n",
    "\n",
    "> Full structure looks like this : each dict is 1 day of data for the user\n",
    "```\n",
    "List: [\n",
    "    {'sleep':[Dict,Dict,Dict,.....Dict],\n",
    "     'readiness':[Dict,Dict,Dict,.....Dict]},\n",
    "    {'activity':[Dict,Dict,Dict,.....Dict],\n",
    "     'userId':[Dict,Dict,Dict,.....Dict]},\n",
    "    ...\n",
    "    'finishedExperiment':[Dict,Dict,Dict,.....Dict]},\n",
    "    {'sleep':[Dict,Dict,Dict,.....Dict],\n",
    "     'readiness':[Dict,Dict,Dict,.....Dict]},\n",
    "    {'activity':[Dict,Dict,Dict,.....Dict],\n",
    "     'userId':[Dict,Dict,Dict,.....Dict]},\n",
    "    ...\n",
    "    'finishedExperiment':[Dict,Dict,Dict,.....Dict]},\n",
    "    None,\n",
    "    {'sleep':[Dict,Dict,Dict,.....Dict],\n",
    "     'readiness':[Dict,Dict,Dict,.....Dict]},\n",
    "    {'activity':[Dict,Dict,Dict,.....Dict],\n",
    "     'userId':[Dict,Dict,Dict,.....Dict]},\n",
    "    ...\n",
    "    'finishedExperiment':[Dict,Dict,Dict,.....Dict]}\n",
    "    ...\n",
    "    {'sleep':[Dict,Dict,Dict,.....Dict],\n",
    "     'readiness':[Dict,Dict,Dict,.....Dict]},\n",
    "    {'activity':[Dict,Dict,Dict,.....Dict],\n",
    "     'userId':[Dict,Dict,Dict,.....Dict]},\n",
    "    ...\n",
    "    'finishedExperiment':[Dict,Dict,Dict,.....Dict]}\n",
    "    ]\n",
    "```\n",
    "\n",
    "Per Oura API [link](https://cloud.ouraring.com/docs/sleep)\n",
    "```\n",
    "sleep.summary_date\n",
    "\n",
    "    Type: String\n",
    "    Format: YYYY-MM-DD\n",
    "\n",
    "Date when the sleep period ended.\n",
    "```\n",
    "Hence we will need to process the flattened file in order to fix the date. As the convention of assessing sleep is that we tell ourselves \"I slept last night really well\", so we atttibute the sleep to the previous calander day, this is what we will also do. This will require slight pre-processing of the data:\n",
    "\n",
    "```\n",
    "sleep.bedtime_end\n",
    "\n",
    "    Type: String\n",
    "    Format: Date time\n",
    "\n",
    "Local time when the sleep period ended.\n",
    "sleep.duration\n",
    "\n",
    "    Type: Int\n",
    "    Unit: seconds\n",
    "\n",
    "Total duration of the sleep period (sleep.duration = sleep.bedtime_end - sleep.bedtime_start). \n",
    "```\n",
    "As we will know the number of seconds slept and the timezone, we will simply allocate the sleep to the date when the sleep actually started rather than ended, this will ensure we assign the 'sleep' to the previous day."
   ]
  },
  {
   "cell_type": "markdown",
   "metadata": {},
   "source": [
    "Now the data has been flattened and we can join it -- this join will have a lot of mismatching rows where we will see that activity, readiness and sleep data has gaps or blanks between each other, this would not be an example that the model can learn from, hence we will need to remove all rows that have blanks."
   ]
  },
  {
   "cell_type": "markdown",
   "metadata": {},
   "source": [
    "<div class=\"alert alert-block alert-info\">\n",
    "<b> Sleep data only:</b> UPDATE WITH LIST OF EDA JOBS\n",
    "</div>"
   ]
  },
  {
   "cell_type": "markdown",
   "metadata": {},
   "source": [
    "<div class=\"alert alert-block alert-info\">\n",
    "<b>2. Feature evaluation:</b> Take the attributes across tables and analyse them to identify most useful set of attributes or features\n",
    "</div>\n",
    "\n",
    "> We are going to perform an exhaustive feature evaluation exercise. We have in total about 166 featurs that include the original sensor data attributes and engineered attributes.Methods we employed are noted 1 at a time\n",
    "\n"
   ]
  },
  {
   "cell_type": "markdown",
   "metadata": {},
   "source": [
    "#### 2.1 Mutual Information (Entropy) Gain for Classification and Regression\n",
    "\n",
    "Feature Selection Based on Mutual Information (Entropy) Gain for Classification and Regression\n",
    "\n",
    "Mutual Information gain method is the elimination process that aims to reduce the size of the input feature set and at the same time trys to retain the class discriminatory information for classification problems.\n",
    "\n",
    "Mutual information (MI) is a measure of the amount of information between two random variables is symmetric and non-negative, and it could be zero if and only if the variables are independent.\n",
    "\n",
    "It is NP hard optimization problem in computer science branch. The best approach which we in general follow is greedy solution for feature selection. Those approaches are step-wise forward feature selection or step-wise backward feature selection.\n"
   ]
  },
  {
   "cell_type": "code",
   "execution_count": 3,
   "metadata": {},
   "outputs": [],
   "source": [
    "import numpy as np\n",
    "import pandas as pd\n",
    "import matplotlib.pyplot as plt\n",
    "import seaborn as sns\n",
    "from sklearn.model_selection import train_test_split\n",
    "from sklearn.ensemble import RandomForestClassifier\n",
    "from sklearn.metrics import accuracy_score\n",
    "from sklearn.feature_selection import VarianceThreshold, mutual_info_classif, mutual_info_regression\n",
    "from sklearn.feature_selection import SelectKBest, SelectPercentile\n",
    "\n"
   ]
  },
  {
   "cell_type": "code",
   "execution_count": 130,
   "metadata": {},
   "outputs": [
    {
     "data": {
      "text/html": [
       "['gold.csv', 'sleep_data.csv', 'readiness_data.csv', 'users_data.csv', 'activity_data.csv', 'experiments.csv']"
      ],
      "text/plain": [
       "['gold.csv',\n",
       " 'sleep_data.csv',\n",
       " 'readiness_data.csv',\n",
       " 'users_data.csv',\n",
       " 'activity_data.csv',\n",
       " 'experiments.csv']"
      ]
     },
     "execution_count": 130,
     "metadata": {},
     "output_type": "execute_result"
    }
   ],
   "source": [
    "os.listdir(unzip_file_path)"
   ]
  },
  {
   "cell_type": "code",
   "execution_count": 137,
   "metadata": {},
   "outputs": [
    {
     "name": "stdout",
     "output_type": "stream",
     "text": [
      "./data_ingestion/23112019/unzipped_data/gold.csv\n"
     ]
    }
   ],
   "source": [
    "filename = './' + unzip_file_path+'/'+'gold.csv'\n",
    "print(filename)"
   ]
  },
  {
   "cell_type": "code",
   "execution_count": 140,
   "metadata": {},
   "outputs": [],
   "source": [
    "dataset = pd.read_csv(filename)\n"
   ]
  },
  {
   "cell_type": "code",
   "execution_count": 323,
   "metadata": {},
   "outputs": [
    {
     "name": "stdout",
     "output_type": "stream",
     "text": [
      "(26906, 20)\n",
      "onset_latency_norm                  float64\n",
      "rol_bedtime_start_delta_7d          float64\n",
      "score_move_every_hour                 int64\n",
      "score_recovery_time                   int64\n",
      "score_stay_active                     int64\n",
      "score_training_frequency              int64\n",
      "score_training_volume                 int64\n",
      "rol_activity_score_7d               float64\n",
      "rol_met_min_medium_7d               float64\n",
      "rol_sleep_afterMidnight_7d          float64\n",
      "rol_met_min_high_7d                 float64\n",
      "rol_met_min_medium_plus_7d          float64\n",
      "rol_score_move_every_hour_7d        float64\n",
      "rol_score_stay_active_7d            float64\n",
      "rol_beforesleep_exercise_min_7d     float64\n",
      "rol_afterwake_exercise_min_7d       float64\n",
      "rol_noon_exercise_min_7d            float64\n",
      "rol_eve_exercise_min_7d             float64\n",
      "steps                                 int64\n",
      "Quality                            category\n",
      "dtype: object\n"
     ]
    }
   ],
   "source": [
    "# Summarize Data\n",
    "\n",
    "# Descriptive statistics\n",
    "# shape\n",
    "print(dataset.shape)\n",
    "# types\n",
    "set_option('display.max_rows', 500)\n",
    "print(dataset.dtypes)\n",
    "# head\n",
    "set_option('display.width', 100)\n"
   ]
  },
  {
   "cell_type": "code",
   "execution_count": 324,
   "metadata": {},
   "outputs": [],
   "source": [
    "cols = dataset.columns"
   ]
  },
  {
   "cell_type": "code",
   "execution_count": 325,
   "metadata": {},
   "outputs": [
    {
     "name": "stdout",
     "output_type": "stream",
     "text": [
      "CPU times: user 3.61 s, sys: 216 ms, total: 3.82 s\n",
      "Wall time: 3.82 s\n"
     ]
    }
   ],
   "source": [
    "%%time\n",
    "### remove duplicate and redundant features in order to build a simpler baseline model \n",
    "### for a binary classification. We can add more features in the next iteration.\n",
    "dataset = pd.read_csv(filename)\n",
    "dataset_trimmed = dataset[['sleep_score',\n",
    "                           'onset_latency_norm',\n",
    "                           'rol_bedtime_start_delta_7d',\n",
    "                           'score_move_every_hour',\n",
    "                           'score_recovery_time',\n",
    "                           'score_stay_active',\n",
    "                           'score_training_frequency',\n",
    "                           'score_training_volume',\n",
    "                           'rol_activity_score_7d',\n",
    "                           'rol_met_min_medium_7d',\n",
    "                           'rol_sleep_afterMidnight_7d',\n",
    "                           'rol_met_min_high_7d',\n",
    "                           'rol_met_min_medium_plus_7d',\n",
    "                           'rol_score_move_every_hour_7d',\n",
    "                           'rol_score_stay_active_7d',\n",
    "                           'rol_beforesleep_exercise_min_7d',\n",
    "                           'rol_afterwake_exercise_min_7d',\n",
    "                           'rol_noon_exercise_min_7d',\n",
    "                           'rol_eve_exercise_min_7d','steps']]\n",
    "bins = [0, 78,100]\n",
    "names = ['Bad', 'Good']\n",
    "dataset_trimmed['Quality'] = pd.cut(dataset_trimmed['sleep_score'], bins=bins, labels=names)"
   ]
  },
  {
   "cell_type": "code",
   "execution_count": 326,
   "metadata": {},
   "outputs": [],
   "source": [
    "dataset_base = dataset_trimmed.drop('sleep_score',1)\n",
    "dataset = dataset_base ## This will run only once"
   ]
  },
  {
   "cell_type": "code",
   "execution_count": 327,
   "metadata": {},
   "outputs": [
    {
     "data": {
      "text/plain": [
       "(26909, 20)"
      ]
     },
     "execution_count": 327,
     "metadata": {},
     "output_type": "execute_result"
    }
   ],
   "source": [
    "dataset.shape"
   ]
  },
  {
   "cell_type": "code",
   "execution_count": 328,
   "metadata": {},
   "outputs": [
    {
     "name": "stdout",
     "output_type": "stream",
     "text": [
      "Quality\n",
      "Bad     13715\n",
      "Good    13191\n",
      "dtype: int64\n"
     ]
    }
   ],
   "source": [
    "# class distribution\n",
    "print(dataset.groupby('Quality').size())"
   ]
  },
  {
   "cell_type": "markdown",
   "metadata": {},
   "source": [
    "__We can see that the classes are reasonably balanced between Good and Bad sleep.__"
   ]
  },
  {
   "cell_type": "code",
   "execution_count": 329,
   "metadata": {},
   "outputs": [],
   "source": [
    "import warnings\n",
    "warnings.filterwarnings(\"ignore\")"
   ]
  },
  {
   "cell_type": "code",
   "execution_count": 330,
   "metadata": {},
   "outputs": [
    {
     "data": {
      "text/plain": [
       "array([[<matplotlib.axes._subplots.AxesSubplot object at 0x7fa19515c5c0>,\n",
       "        <matplotlib.axes._subplots.AxesSubplot object at 0x7fa1957e5e48>,\n",
       "        <matplotlib.axes._subplots.AxesSubplot object at 0x7fa1956cab70>,\n",
       "        <matplotlib.axes._subplots.AxesSubplot object at 0x7fa272411320>],\n",
       "       [<matplotlib.axes._subplots.AxesSubplot object at 0x7fa2544b6f98>,\n",
       "        <matplotlib.axes._subplots.AxesSubplot object at 0x7fa2544b6fd0>,\n",
       "        <matplotlib.axes._subplots.AxesSubplot object at 0x7fa255779860>,\n",
       "        <matplotlib.axes._subplots.AxesSubplot object at 0x7fa26cc77ef0>],\n",
       "       [<matplotlib.axes._subplots.AxesSubplot object at 0x7fa196a00588>,\n",
       "        <matplotlib.axes._subplots.AxesSubplot object at 0x7fa1960e0c18>,\n",
       "        <matplotlib.axes._subplots.AxesSubplot object at 0x7fa268b082e8>,\n",
       "        <matplotlib.axes._subplots.AxesSubplot object at 0x7fa256af8978>],\n",
       "       [<matplotlib.axes._subplots.AxesSubplot object at 0x7fa266ea5048>,\n",
       "        <matplotlib.axes._subplots.AxesSubplot object at 0x7fa2697f76d8>,\n",
       "        <matplotlib.axes._subplots.AxesSubplot object at 0x7fa254909d68>,\n",
       "        <matplotlib.axes._subplots.AxesSubplot object at 0x7fa2547fe438>],\n",
       "       [<matplotlib.axes._subplots.AxesSubplot object at 0x7fa25593cac8>,\n",
       "        <matplotlib.axes._subplots.AxesSubplot object at 0x7fa2686c6198>,\n",
       "        <matplotlib.axes._subplots.AxesSubplot object at 0x7fa2547d7828>,\n",
       "        <matplotlib.axes._subplots.AxesSubplot object at 0x7fa265a5feb8>]],\n",
       "      dtype=object)"
      ]
     },
     "execution_count": 330,
     "metadata": {},
     "output_type": "execute_result"
    },
    {
     "data": {
      "image/png": "[encoded data removed]",
      "text/plain": [
       "<Figure size 1080x1440 with 20 Axes>"
      ]
     },
     "metadata": {
      "needs_background": "light"
     },
     "output_type": "display_data"
    }
   ],
   "source": [
    "fig = plt.figure(figsize = (15,20))\n",
    "ax = fig.gca()\n",
    "dataset.hist(ax = ax)"
   ]
  },
  {
   "cell_type": "markdown",
   "metadata": {},
   "source": [
    "We can see above that there are quite a few gaussian like distributions and many where there is skewness. This tells us that we may need to fit non linear models for this dataset where these properties may be less of a problem."
   ]
  },
  {
   "cell_type": "code",
   "execution_count": 331,
   "metadata": {},
   "outputs": [
    {
     "data": {
      "image/png": "[encoded data removed]",
      "text/plain": [
       "<Figure size 1080x1440 with 2 Axes>"
      ]
     },
     "metadata": {
      "needs_background": "light"
     },
     "output_type": "display_data"
    }
   ],
   "source": [
    "# correlation matrix\n",
    "fig = pyplot.figure(figsize = (15,20))\n",
    "ax = fig.add_subplot(111)\n",
    "cax = ax.matshow(dataset.corr(), vmin=-1, vmax=1, interpolation='none')\n",
    "fig.colorbar(cax)\n",
    "pyplot.show()"
   ]
  },
  {
   "cell_type": "markdown",
   "metadata": {},
   "source": [
    "It looks like there is also some structure in the order of the attributes. The yellow-green around\n",
    "the diagonal suggests that attributes that are next to each other are generally more correlated\n",
    "with each other. The blue patches also suggest some moderate negative correlation the further\n",
    "attributes are away from each other in the ordering."
   ]
  },
  {
   "cell_type": "code",
   "execution_count": 332,
   "metadata": {},
   "outputs": [
    {
     "data": {
      "text/html": [
       "<div>\n",
       "<style scoped>\n",
       "    .dataframe tbody tr th:only-of-type {\n",
       "        vertical-align: middle;\n",
       "    }\n",
       "\n",
       "    .dataframe tbody tr th {\n",
       "        vertical-align: top;\n",
       "    }\n",
       "\n",
       "    .dataframe thead th {\n",
       "        text-align: right;\n",
       "    }\n",
       "</style>\n",
       "<table border=\"1\" class=\"dataframe\">\n",
       "  <thead>\n",
       "    <tr style=\"text-align: right;\">\n",
       "      <th></th>\n",
       "      <th>onset_latency_norm</th>\n",
       "      <th>rol_bedtime_start_delta_7d</th>\n",
       "      <th>score_move_every_hour</th>\n",
       "      <th>score_recovery_time</th>\n",
       "      <th>score_stay_active</th>\n",
       "      <th>score_training_frequency</th>\n",
       "      <th>score_training_volume</th>\n",
       "      <th>rol_activity_score_7d</th>\n",
       "      <th>rol_met_min_medium_7d</th>\n",
       "      <th>rol_sleep_afterMidnight_7d</th>\n",
       "      <th>rol_met_min_high_7d</th>\n",
       "      <th>rol_met_min_medium_plus_7d</th>\n",
       "      <th>rol_score_move_every_hour_7d</th>\n",
       "      <th>rol_score_stay_active_7d</th>\n",
       "      <th>rol_beforesleep_exercise_min_7d</th>\n",
       "      <th>rol_afterwake_exercise_min_7d</th>\n",
       "      <th>rol_noon_exercise_min_7d</th>\n",
       "      <th>rol_eve_exercise_min_7d</th>\n",
       "      <th>steps</th>\n",
       "    </tr>\n",
       "  </thead>\n",
       "  <tbody>\n",
       "    <tr>\n",
       "      <th>count</th>\n",
       "      <td>26909.000</td>\n",
       "      <td>25371.000</td>\n",
       "      <td>26909.000</td>\n",
       "      <td>26909.000</td>\n",
       "      <td>26909.000</td>\n",
       "      <td>26909.000</td>\n",
       "      <td>26909.000</td>\n",
       "      <td>26340.000</td>\n",
       "      <td>26340.000</td>\n",
       "      <td>26315.000</td>\n",
       "      <td>26340.000</td>\n",
       "      <td>26340.000</td>\n",
       "      <td>26340.000</td>\n",
       "      <td>26340.000</td>\n",
       "      <td>26315.000</td>\n",
       "      <td>26315.000</td>\n",
       "      <td>26340.000</td>\n",
       "      <td>26340.000</td>\n",
       "      <td>26909.000</td>\n",
       "    </tr>\n",
       "    <tr>\n",
       "      <th>mean</th>\n",
       "      <td>0.024</td>\n",
       "      <td>-1719.001</td>\n",
       "      <td>95.772</td>\n",
       "      <td>94.539</td>\n",
       "      <td>81.187</td>\n",
       "      <td>64.052</td>\n",
       "      <td>74.847</td>\n",
       "      <td>76.472</td>\n",
       "      <td>128.145</td>\n",
       "      <td>0.304</td>\n",
       "      <td>51.016</td>\n",
       "      <td>179.161</td>\n",
       "      <td>95.775</td>\n",
       "      <td>81.064</td>\n",
       "      <td>43.906</td>\n",
       "      <td>48.688</td>\n",
       "      <td>38.781</td>\n",
       "      <td>42.543</td>\n",
       "      <td>8805.244</td>\n",
       "    </tr>\n",
       "    <tr>\n",
       "      <th>std</th>\n",
       "      <td>0.026</td>\n",
       "      <td>5892.219</td>\n",
       "      <td>9.540</td>\n",
       "      <td>19.625</td>\n",
       "      <td>16.317</td>\n",
       "      <td>40.098</td>\n",
       "      <td>32.665</td>\n",
       "      <td>15.036</td>\n",
       "      <td>104.820</td>\n",
       "      <td>0.353</td>\n",
       "      <td>108.970</td>\n",
       "      <td>168.380</td>\n",
       "      <td>5.493</td>\n",
       "      <td>12.409</td>\n",
       "      <td>27.320</td>\n",
       "      <td>27.600</td>\n",
       "      <td>22.918</td>\n",
       "      <td>24.057</td>\n",
       "      <td>6388.854</td>\n",
       "    </tr>\n",
       "    <tr>\n",
       "      <th>min</th>\n",
       "      <td>0.000</td>\n",
       "      <td>-15279.429</td>\n",
       "      <td>15.000</td>\n",
       "      <td>1.000</td>\n",
       "      <td>1.000</td>\n",
       "      <td>1.000</td>\n",
       "      <td>1.000</td>\n",
       "      <td>43.429</td>\n",
       "      <td>0.000</td>\n",
       "      <td>0.000</td>\n",
       "      <td>0.000</td>\n",
       "      <td>0.000</td>\n",
       "      <td>47.571</td>\n",
       "      <td>44.429</td>\n",
       "      <td>0.000</td>\n",
       "      <td>0.000</td>\n",
       "      <td>0.000</td>\n",
       "      <td>0.000</td>\n",
       "      <td>0.000</td>\n",
       "    </tr>\n",
       "    <tr>\n",
       "      <th>25%</th>\n",
       "      <td>0.009</td>\n",
       "      <td>-5845.071</td>\n",
       "      <td>95.000</td>\n",
       "      <td>100.000</td>\n",
       "      <td>69.000</td>\n",
       "      <td>40.000</td>\n",
       "      <td>56.000</td>\n",
       "      <td>64.857</td>\n",
       "      <td>56.143</td>\n",
       "      <td>0.000</td>\n",
       "      <td>1.143</td>\n",
       "      <td>67.714</td>\n",
       "      <td>94.000</td>\n",
       "      <td>71.857</td>\n",
       "      <td>24.286</td>\n",
       "      <td>31.429</td>\n",
       "      <td>24.286</td>\n",
       "      <td>28.571</td>\n",
       "      <td>4402.000</td>\n",
       "    </tr>\n",
       "    <tr>\n",
       "      <th>50%</th>\n",
       "      <td>0.017</td>\n",
       "      <td>-3108.714</td>\n",
       "      <td>100.000</td>\n",
       "      <td>100.000</td>\n",
       "      <td>82.000</td>\n",
       "      <td>71.000</td>\n",
       "      <td>95.000</td>\n",
       "      <td>79.286</td>\n",
       "      <td>107.571</td>\n",
       "      <td>0.143</td>\n",
       "      <td>7.857</td>\n",
       "      <td>136.286</td>\n",
       "      <td>97.857</td>\n",
       "      <td>80.143</td>\n",
       "      <td>43.333</td>\n",
       "      <td>50.000</td>\n",
       "      <td>40.000</td>\n",
       "      <td>45.000</td>\n",
       "      <td>8388.000</td>\n",
       "    </tr>\n",
       "    <tr>\n",
       "      <th>75%</th>\n",
       "      <td>0.031</td>\n",
       "      <td>1582.857</td>\n",
       "      <td>100.000</td>\n",
       "      <td>100.000</td>\n",
       "      <td>98.000</td>\n",
       "      <td>100.000</td>\n",
       "      <td>99.000</td>\n",
       "      <td>89.571</td>\n",
       "      <td>176.893</td>\n",
       "      <td>0.571</td>\n",
       "      <td>43.714</td>\n",
       "      <td>235.143</td>\n",
       "      <td>99.286</td>\n",
       "      <td>90.750</td>\n",
       "      <td>62.143</td>\n",
       "      <td>67.500</td>\n",
       "      <td>54.286</td>\n",
       "      <td>59.286</td>\n",
       "      <td>12292.000</td>\n",
       "    </tr>\n",
       "    <tr>\n",
       "      <th>max</th>\n",
       "      <td>0.442</td>\n",
       "      <td>30083.286</td>\n",
       "      <td>100.000</td>\n",
       "      <td>100.000</td>\n",
       "      <td>100.000</td>\n",
       "      <td>100.000</td>\n",
       "      <td>100.000</td>\n",
       "      <td>99.571</td>\n",
       "      <td>1108.714</td>\n",
       "      <td>1.000</td>\n",
       "      <td>1083.571</td>\n",
       "      <td>1353.143</td>\n",
       "      <td>100.000</td>\n",
       "      <td>100.000</td>\n",
       "      <td>140.000</td>\n",
       "      <td>143.333</td>\n",
       "      <td>109.286</td>\n",
       "      <td>110.714</td>\n",
       "      <td>65535.000</td>\n",
       "    </tr>\n",
       "  </tbody>\n",
       "</table>\n",
       "</div>"
      ],
      "text/plain": [
       "       onset_latency_norm  rol_bedtime_start_delta_7d  score_move_every_hour  score_recovery_time  score_stay_active  score_training_frequency  score_training_volume  rol_activity_score_7d  rol_met_min_medium_7d  rol_sleep_afterMidnight_7d  rol_met_min_high_7d  rol_met_min_medium_plus_7d  rol_score_move_every_hour_7d  rol_score_stay_active_7d  rol_beforesleep_exercise_min_7d  rol_afterwake_exercise_min_7d  rol_noon_exercise_min_7d  rol_eve_exercise_min_7d      steps\n",
       "count           26909.000                   25371.000              26909.000            26909.000          26909.000                 26909.000              26909.000              26340.000              26340.000                   26315.000            26340.000                   26340.000                     26340.000                 26340.000                        26315.000                      26315.000                 26340.000                26340.000  26909.000\n",
       "mean                0.024                   -1719.001                 95.772               94.539             81.187                    64.052                 74.847                 76.472                128.145                       0.304               51.016                     179.161                        95.775                    81.064                           43.906                         48.688                    38.781                   42.543   8805.244\n",
       "std                 0.026                    5892.219                  9.540               19.625             16.317                    40.098                 32.665                 15.036                104.820                       0.353              108.970                     168.380                         5.493                    12.409                           27.320                         27.600                    22.918                   24.057   6388.854\n",
       "min                 0.000                  -15279.429                 15.000                1.000              1.000                     1.000                  1.000                 43.429                  0.000                       0.000                0.000                       0.000                        47.571                    44.429                            0.000                          0.000                     0.000                    0.000      0.000\n",
       "25%                 0.009                   -5845.071                 95.000              100.000             69.000                    40.000                 56.000                 64.857                 56.143                       0.000                1.143                      67.714                        94.000                    71.857                           24.286                         31.429                    24.286                   28.571   4402.000\n",
       "50%                 0.017                   -3108.714                100.000              100.000             82.000                    71.000                 95.000                 79.286                107.571                       0.143                7.857                     136.286                        97.857                    80.143                           43.333                         50.000                    40.000                   45.000   8388.000\n",
       "75%                 0.031                    1582.857                100.000              100.000             98.000                   100.000                 99.000                 89.571                176.893                       0.571               43.714                     235.143                        99.286                    90.750                           62.143                         67.500                    54.286                   59.286  12292.000\n",
       "max                 0.442                   30083.286                100.000              100.000            100.000                   100.000                100.000                 99.571               1108.714                       1.000             1083.571                    1353.143                       100.000                   100.000                          140.000                        143.333                   109.286                  110.714  65535.000"
      ]
     },
     "execution_count": 332,
     "metadata": {},
     "output_type": "execute_result"
    }
   ],
   "source": [
    "dataset.describe()"
   ]
  },
  {
   "cell_type": "code",
   "execution_count": 333,
   "metadata": {},
   "outputs": [
    {
     "data": {
      "text/plain": [
       "onset_latency_norm                 False\n",
       "rol_bedtime_start_delta_7d          True\n",
       "score_move_every_hour              False\n",
       "score_recovery_time                False\n",
       "score_stay_active                  False\n",
       "score_training_frequency           False\n",
       "score_training_volume              False\n",
       "rol_activity_score_7d               True\n",
       "rol_met_min_medium_7d               True\n",
       "rol_sleep_afterMidnight_7d          True\n",
       "rol_met_min_high_7d                 True\n",
       "rol_met_min_medium_plus_7d          True\n",
       "rol_score_move_every_hour_7d        True\n",
       "rol_score_stay_active_7d            True\n",
       "rol_beforesleep_exercise_min_7d     True\n",
       "rol_afterwake_exercise_min_7d       True\n",
       "rol_noon_exercise_min_7d            True\n",
       "rol_eve_exercise_min_7d             True\n",
       "steps                              False\n",
       "Quality                             True\n",
       "dtype: bool"
      ]
     },
     "execution_count": 333,
     "metadata": {},
     "output_type": "execute_result"
    }
   ],
   "source": [
    "pd.isnull(dataset).sum() > 0"
   ]
  },
  {
   "cell_type": "code",
   "execution_count": 334,
   "metadata": {},
   "outputs": [],
   "source": [
    "#dataset[dataset==np.inf]=np.nan\n",
    "dataset.fillna(dataset.mean(), inplace=True)"
   ]
  },
  {
   "cell_type": "code",
   "execution_count": 335,
   "metadata": {},
   "outputs": [
    {
     "data": {
      "text/plain": [
       "onset_latency_norm                 False\n",
       "rol_bedtime_start_delta_7d         False\n",
       "score_move_every_hour              False\n",
       "score_recovery_time                False\n",
       "score_stay_active                  False\n",
       "score_training_frequency           False\n",
       "score_training_volume              False\n",
       "rol_activity_score_7d              False\n",
       "rol_met_min_medium_7d              False\n",
       "rol_sleep_afterMidnight_7d         False\n",
       "rol_met_min_high_7d                False\n",
       "rol_met_min_medium_plus_7d         False\n",
       "rol_score_move_every_hour_7d       False\n",
       "rol_score_stay_active_7d           False\n",
       "rol_beforesleep_exercise_min_7d    False\n",
       "rol_afterwake_exercise_min_7d      False\n",
       "rol_noon_exercise_min_7d           False\n",
       "rol_eve_exercise_min_7d            False\n",
       "steps                              False\n",
       "Quality                             True\n",
       "dtype: bool"
      ]
     },
     "execution_count": 335,
     "metadata": {},
     "output_type": "execute_result"
    }
   ],
   "source": [
    "pd.isnull(dataset).sum() > 0"
   ]
  },
  {
   "cell_type": "code",
   "execution_count": 336,
   "metadata": {},
   "outputs": [],
   "source": [
    "dataset = dataset.dropna(axis=0, subset=['Quality'])"
   ]
  },
  {
   "cell_type": "code",
   "execution_count": 337,
   "metadata": {},
   "outputs": [
    {
     "data": {
      "text/plain": [
       "onset_latency_norm                 False\n",
       "rol_bedtime_start_delta_7d         False\n",
       "score_move_every_hour              False\n",
       "score_recovery_time                False\n",
       "score_stay_active                  False\n",
       "score_training_frequency           False\n",
       "score_training_volume              False\n",
       "rol_activity_score_7d              False\n",
       "rol_met_min_medium_7d              False\n",
       "rol_sleep_afterMidnight_7d         False\n",
       "rol_met_min_high_7d                False\n",
       "rol_met_min_medium_plus_7d         False\n",
       "rol_score_move_every_hour_7d       False\n",
       "rol_score_stay_active_7d           False\n",
       "rol_beforesleep_exercise_min_7d    False\n",
       "rol_afterwake_exercise_min_7d      False\n",
       "rol_noon_exercise_min_7d           False\n",
       "rol_eve_exercise_min_7d            False\n",
       "steps                              False\n",
       "Quality                            False\n",
       "dtype: bool"
      ]
     },
     "execution_count": 337,
     "metadata": {},
     "output_type": "execute_result"
    }
   ],
   "source": [
    "pd.isnull(dataset).sum() > 0"
   ]
  },
  {
   "cell_type": "code",
   "execution_count": 338,
   "metadata": {},
   "outputs": [],
   "source": [
    "# Prepare Data\n",
    "\n",
    "# Split-out validation dataset\n",
    "array = dataset.values\n",
    "X = array[:,0:18].astype(float)\n",
    "Y = array[:,19]\n",
    "validation_size = 0.20\n",
    "seed = 7\n",
    "X_train, X_validation, Y_train, Y_validation = train_test_split(X, Y, test_size=validation_size, random_state=seed)"
   ]
  },
  {
   "cell_type": "markdown",
   "metadata": {},
   "source": [
    "It is a good idea to use a validation hold-out set. This is a sample of the data that we hold\n",
    "back from our analysis and modeling. We use it right at the end of our project to confirm the\n",
    "accuracy of our final model. It is a smoke test that we can use to see if we messed up and to\n",
    "give us confidence on our estimates of accuracy on unseen data. We will use 80% of the dataset\n",
    "for modeling and hold back 20% for validation."
   ]
  },
  {
   "cell_type": "code",
   "execution_count": 339,
   "metadata": {},
   "outputs": [
    {
     "data": {
      "text/plain": [
       "((26906, 18), (26906,))"
      ]
     },
     "execution_count": 339,
     "metadata": {},
     "output_type": "execute_result"
    }
   ],
   "source": [
    "X.shape , Y.shape"
   ]
  },
  {
   "cell_type": "markdown",
   "metadata": {},
   "source": [
    "#### Evaluating some simple algorithms\n",
    "\n",
    "We don't know what algorithms will do well on this dataset. Gut feel suggests distance based\n",
    "algorithms like k-Nearest Neighbors and Support Vector Machines may not do well. Let's design\n",
    "our test harness. We will use 10-fold cross-validation. The dataset is not too small and this is\n",
    "a good standard test harness configuration. We will evaluate algorithms using the accuracy\n",
    "metric. This is a gross metric that will give a quick idea of how correct a given model is, and is\n",
    "more useful on binary classification problems like this one.\n",
    "\n",
    "Let's create a baseline of performance on this problem and spot-check a number of di\u000b",
    "erent\n",
    "algorithms. We will select a suite of different algorithms capable of working on this classi\f",
    "cation\n",
    "problem. The six algorithms selected include:\n",
    " Linear Algorithms: Logistic Regression (LR) and Linear Discriminant Analysis (LDA).\n",
    " Nonlinear Algorithms: Classification and Regression Trees (CART), Gaussian Naive Bayes (NB) and k-Nearest Neighbors (KNN)."
   ]
  },
  {
   "cell_type": "code",
   "execution_count": 340,
   "metadata": {},
   "outputs": [
    {
     "name": "stdout",
     "output_type": "stream",
     "text": [
      "LR: 0.639239 (0.011048)\n",
      "LDA: 0.654060 (0.009071)\n",
      "KNN: 0.621213 (0.006484)\n",
      "CART: 0.644909 (0.009063)\n",
      "NB: 0.609645 (0.006502)\n",
      "CPU times: user 18.3 s, sys: 25.4 s, total: 43.7 s\n",
      "Wall time: 9.9 s\n"
     ]
    }
   ],
   "source": [
    "%%time\n",
    "# Test options and evaluation metric\n",
    "num_folds = 10\n",
    "seed = 7\n",
    "scoring = 'accuracy'\n",
    "\n",
    "# Spot Check Algorithms\n",
    "models = []\n",
    "models.append(('LR', LogisticRegression(solver='liblinear')))\n",
    "models.append(('LDA', LinearDiscriminantAnalysis()))\n",
    "models.append(('KNN', KNeighborsClassifier()))\n",
    "models.append(('CART', DecisionTreeClassifier()))\n",
    "models.append(('NB', GaussianNB()))\n",
    "\n",
    "results = []\n",
    "names = []\n",
    "for name, model in models:\n",
    "\tkfold = KFold(n_splits=num_folds, random_state=seed)\n",
    "\tcv_results = cross_val_score(model, X_train, Y_train, cv=kfold, scoring=scoring)\n",
    "\tresults.append(cv_results)\n",
    "\tnames.append(name)\n",
    "\tmsg = \"%s: %f (%f)\" % (name, cv_results.mean(), cv_results.std())\n",
    "\tprint(msg)"
   ]
  },
  {
   "cell_type": "markdown",
   "metadata": {},
   "source": [
    "#### Model results\n",
    "\n",
    "The algorithms all use default tuning parameters. Let's compare the algorithms. We will\n",
    "display the mean and standard deviation of accuracy for each algorithm as we calculate it and\n",
    "collect the results for use later."
   ]
  },
  {
   "cell_type": "code",
   "execution_count": 341,
   "metadata": {},
   "outputs": [
    {
     "data": {
      "image/png": "[encoded data removed]",
      "text/plain": [
       "<Figure size 720x720 with 1 Axes>"
      ]
     },
     "metadata": {
      "needs_background": "light"
     },
     "output_type": "display_data"
    }
   ],
   "source": [
    "# Compare Algorithms\n",
    "fig = pyplot.figure(figsize = (10,10))\n",
    "fig.suptitle('Algorithm Comparison')\n",
    "ax = fig.add_subplot(111)\n",
    "pyplot.boxplot(results)\n",
    "ax.set_xticklabels(names)\n",
    "pyplot.show()"
   ]
  },
  {
   "cell_type": "markdown",
   "metadata": {},
   "source": [
    "These are just mean accuracy values. It is always wise to look at the distribution of accuracy\n",
    "values calculated across cross-validation folds. We can do that graphically using box and whisker\n",
    "plots.The results show a tight distribution for LDA, CART which is encouraging, suggesting low variance.\n",
    "The poor results for NB are surprising.\n",
    "\n",
    "__note:__ : It is possible that the varied distribution of the attributes is having an effect on the accuracy\n",
    "of algorithms such as NB. In the next section we will repeat this spot-check with a standardized\n",
    "copy of the training dataset."
   ]
  },
  {
   "cell_type": "markdown",
   "metadata": {},
   "source": [
    "#### Standardizing the dataset\n",
    "\n",
    "We suspect that the diiffering distributions of the raw data may be negatively impacting the skill\n",
    "of some of the algorithms. Let's evaluate the same algorithms with a standardized copy of the\n",
    "dataset. This is where the data is transformed such that each attribute has a mean value of zero\n",
    "and a standard deviation of one. We also need to avoid data leakage when we transform the\n",
    "data. A good way to avoid leakage is to use pipelines that standardize the data and build the\n",
    "model for each fold in the cross-validation test harness. That way we can get a fair estimation\n",
    "of how each model with standardized data might perform on unseen data."
   ]
  },
  {
   "cell_type": "code",
   "execution_count": 342,
   "metadata": {},
   "outputs": [
    {
     "name": "stdout",
     "output_type": "stream",
     "text": [
      "ScaledLR: 0.653177 (0.009757)\n",
      "ScaledLDA: 0.654060 (0.009071)\n",
      "ScaledKNN: 0.698848 (0.006815)\n",
      "ScaledCART: 0.647279 (0.011582)\n",
      "ScaledNB: 0.633479 (0.009994)\n",
      "CPU times: user 23.1 s, sys: 26.7 s, total: 49.7 s\n",
      "Wall time: 14.5 s\n"
     ]
    }
   ],
   "source": [
    "%%time\n",
    "# Standardize the dataset\n",
    "pipelines = []\n",
    "pipelines.append(('ScaledLR', Pipeline([('Scaler', StandardScaler()),('LR', LogisticRegression(solver='liblinear'))])))\n",
    "pipelines.append(('ScaledLDA', Pipeline([('Scaler', StandardScaler()),('LDA', LinearDiscriminantAnalysis())])))\n",
    "pipelines.append(('ScaledKNN', Pipeline([('Scaler', StandardScaler()),('KNN', KNeighborsClassifier())])))\n",
    "pipelines.append(('ScaledCART', Pipeline([('Scaler', StandardScaler()),('CART', DecisionTreeClassifier())])))\n",
    "pipelines.append(('ScaledNB', Pipeline([('Scaler', StandardScaler()),('NB', GaussianNB())])))\n",
    "results = []\n",
    "names = []\n",
    "for name, model in pipelines:\n",
    "\tkfold = KFold(n_splits=num_folds, random_state=seed)\n",
    "\tcv_results = cross_val_score(model, X_train, Y_train, cv=kfold, scoring=scoring)\n",
    "\tresults.append(cv_results)\n",
    "\tnames.append(name)\n",
    "\tmsg = \"%s: %f (%f)\" % (name, cv_results.mean(), cv_results.std())\n",
    "\tprint(msg)"
   ]
  },
  {
   "cell_type": "markdown",
   "metadata": {},
   "source": [
    "Running the example provides the results listed below. We can see that KNN is still doing\n",
    "well, even better than before. We can also see that the standardization of the data has lifted\n",
    "the skill of LR & LDA to be the more accurate algorithm tested so far."
   ]
  },
  {
   "cell_type": "code",
   "execution_count": 343,
   "metadata": {},
   "outputs": [
    {
     "data": {
      "image/png": "[encoded data removed]",
      "text/plain": [
       "<Figure size 720x720 with 1 Axes>"
      ]
     },
     "metadata": {
      "needs_background": "light"
     },
     "output_type": "display_data"
    },
    {
     "name": "stdout",
     "output_type": "stream",
     "text": [
      "CPU times: user 380 ms, sys: 348 ms, total: 728 ms\n",
      "Wall time: 302 ms\n"
     ]
    }
   ],
   "source": [
    "%%time\n",
    "# Compare Algorithms\n",
    "fig = pyplot.figure(figsize = (10,10))\n",
    "fig.suptitle('Scaled Algorithm Comparison')\n",
    "ax = fig.add_subplot(111)\n",
    "pyplot.boxplot(results)\n",
    "ax.set_xticklabels(names)\n",
    "pyplot.show()"
   ]
  },
  {
   "cell_type": "markdown",
   "metadata": {},
   "source": [
    "### Ensemble testing\n",
    "\n",
    "Another way that we can improve the performance of algorithms on this problem is by using\n",
    "ensemble methods. In this section we will evaluate four different ensemble machine learning\n",
    "algorithms, two boosting and two bagging methods:\n",
    " Boosting Methods: AdaBoost (AB) and Gradient Boosting (GBM).\n",
    " Bagging Methods: Random Forests (RF) and Extra Trees (ET).\n",
    "We will use the same test harness as before, 10-fold cross-validation. No data standardization\n",
    "is used in this case because all four ensemble algorithms are based on decision trees that are\n",
    "less sensitive to data distributions."
   ]
  },
  {
   "cell_type": "markdown",
   "metadata": {},
   "source": [
    "Running the example provides the following accuracy scores...."
   ]
  },
  {
   "cell_type": "code",
   "execution_count": 344,
   "metadata": {},
   "outputs": [
    {
     "name": "stdout",
     "output_type": "stream",
     "text": [
      "AB: 0.666511 (0.010473)\n",
      "GBM: 0.688208 (0.011253)\n",
      "RF: 0.695642 (0.010177)\n",
      "ET: 0.697082 (0.006447)\n",
      "CPU times: user 50.7 s, sys: 36 ms, total: 50.7 s\n",
      "Wall time: 50.7 s\n"
     ]
    }
   ],
   "source": [
    "%%time\n",
    "# ensembles\n",
    "ensembles = []\n",
    "ensembles.append(('AB', AdaBoostClassifier()))\n",
    "ensembles.append(('GBM', GradientBoostingClassifier()))\n",
    "ensembles.append(('RF', RandomForestClassifier(n_estimators=10)))\n",
    "ensembles.append(('ET', ExtraTreesClassifier(n_estimators=10)))\n",
    "results = []\n",
    "names = []\n",
    "for name, model in ensembles:\n",
    "\tkfold = KFold(n_splits=num_folds, random_state=seed)\n",
    "\tcv_results = cross_val_score(model, X_train, Y_train, cv=kfold, scoring=scoring)\n",
    "\tresults.append(cv_results)\n",
    "\tnames.append(name)\n",
    "\tmsg = \"%s: %f (%f)\" % (name, cv_results.mean(), cv_results.std())\n",
    "\tprint(msg)"
   ]
  },
  {
   "cell_type": "code",
   "execution_count": 345,
   "metadata": {},
   "outputs": [
    {
     "data": {
      "image/png": "[encoded data removed]",
      "text/plain": [
       "<Figure size 720x720 with 1 Axes>"
      ]
     },
     "metadata": {
      "needs_background": "light"
     },
     "output_type": "display_data"
    },
    {
     "name": "stdout",
     "output_type": "stream",
     "text": [
      "CPU times: user 448 ms, sys: 284 ms, total: 732 ms\n",
      "Wall time: 314 ms\n"
     ]
    }
   ],
   "source": [
    "%%time\n",
    "# Compare Algorithms\n",
    "fig = pyplot.figure(figsize = (10,10))\n",
    "fig.suptitle('Ensemble Algorithm Comparison')\n",
    "ax = fig.add_subplot(111)\n",
    "pyplot.boxplot(results)\n",
    "ax.set_xticklabels(names)\n",
    "pyplot.show()"
   ]
  },
  {
   "cell_type": "markdown",
   "metadata": {},
   "source": [
    "We can see that both boosting techniques provide MARGINALLY strong accuracy scores in the 70s\n",
    "(%) with default configurations. We can plot the distribution of accuracy scores across the\n",
    "cross-validation folds."
   ]
  },
  {
   "cell_type": "markdown",
   "metadata": {},
   "source": [
    "#### Final Model\n",
    "\n",
    "The RF showed the most promise as a low complexity and stable model for this problem. In\n",
    "this section we will finalize the model by training it on the entire training dataset and make\n",
    "predictions for the hold-out validation dataset to confirm our findings. A part of the findings was\n",
    "that RF does not really perform better when the dataset is standardized so that all attributes have a mean\n",
    "value of zero and a standard deviation of one. We can calculate this from the entire training\n",
    "dataset and apply the same transform to the input attributes from the validation dataset."
   ]
  },
  {
   "cell_type": "code",
   "execution_count": 346,
   "metadata": {},
   "outputs": [],
   "source": [
    "# Finalize Model\n",
    "# prepare the model\n",
    "\n",
    "model = RandomForestClassifier()\n",
    "model.fit(X_train, Y_train)\n",
    "# estimate accuracy on validation dataset\n",
    "predictions = model.predict(X_validation)"
   ]
  },
  {
   "cell_type": "code",
   "execution_count": 347,
   "metadata": {},
   "outputs": [
    {
     "name": "stdout",
     "output_type": "stream",
     "text": [
      "0.6928651059085842\n",
      "[[2082  673]\n",
      " [ 980 1647]]\n",
      "              precision    recall  f1-score   support\n",
      "\n",
      "         Bad       0.68      0.76      0.72      2755\n",
      "        Good       0.71      0.63      0.67      2627\n",
      "\n",
      "    accuracy                           0.69      5382\n",
      "   macro avg       0.69      0.69      0.69      5382\n",
      "weighted avg       0.69      0.69      0.69      5382\n",
      "\n"
     ]
    }
   ],
   "source": [
    "print(accuracy_score(Y_validation, predictions))\n",
    "print(confusion_matrix(Y_validation, predictions))\n",
    "print(classification_report(Y_validation, predictions))"
   ]
  },
  {
   "cell_type": "markdown",
   "metadata": {},
   "source": [
    "We can see that we achieve an accuracy of nearly 70% on the held-out validation dataset. A score that matches closely to our expectations estimated above during the tuning of RF."
   ]
  },
  {
   "cell_type": "markdown",
   "metadata": {},
   "source": [
    "## USING H2O\n",
    "\n",
    "This is an important step to the path of productionlization of our model. We want to use H2O in order to find improvements in our models and also try to build a model object that can be shipped to our customer.\n",
    "\n",
    "A good place to start playing with H2O is http://aquarium.h2o.ai"
   ]
  },
  {
   "cell_type": "code",
   "execution_count": 242,
   "metadata": {},
   "outputs": [
    {
     "name": "stdout",
     "output_type": "stream",
     "text": [
      "Checking whether there is an H2O instance running at http://localhost:54321 . connected.\n",
      "Warning: Your H2O cluster version is too old (4 months and 8 days)! Please download and install the latest version from http://h2o.ai/download/\n"
     ]
    },
    {
     "data": {
      "text/html": [
       "<div style=\"overflow:auto\"><table style=\"width:50%\"><tr><td>H2O cluster uptime:</td>\n",
       "<td>14 days 0 hours 33 mins</td></tr>\n",
       "<tr><td>H2O cluster timezone:</td>\n",
       "<td>UTC</td></tr>\n",
       "<tr><td>H2O data parsing timezone:</td>\n",
       "<td>UTC</td></tr>\n",
       "<tr><td>H2O cluster version:</td>\n",
       "<td>3.26.0.1</td></tr>\n",
       "<tr><td>H2O cluster version age:</td>\n",
       "<td>4 months and 8 days !!!</td></tr>\n",
       "<tr><td>H2O cluster name:</td>\n",
       "<td>H2O_from_python_unknownUser_m7x25t</td></tr>\n",
       "<tr><td>H2O cluster total nodes:</td>\n",
       "<td>1</td></tr>\n",
       "<tr><td>H2O cluster free memory:</td>\n",
       "<td>5.466 Gb</td></tr>\n",
       "<tr><td>H2O cluster total cores:</td>\n",
       "<td>32</td></tr>\n",
       "<tr><td>H2O cluster allowed cores:</td>\n",
       "<td>32</td></tr>\n",
       "<tr><td>H2O cluster status:</td>\n",
       "<td>locked, healthy</td></tr>\n",
       "<tr><td>H2O connection url:</td>\n",
       "<td>http://localhost:54321</td></tr>\n",
       "<tr><td>H2O connection proxy:</td>\n",
       "<td>None</td></tr>\n",
       "<tr><td>H2O internal security:</td>\n",
       "<td>False</td></tr>\n",
       "<tr><td>H2O API Extensions:</td>\n",
       "<td>Amazon S3, XGBoost, Algos, AutoML, Core V3, Core V4</td></tr>\n",
       "<tr><td>Python version:</td>\n",
       "<td>3.6.4 final</td></tr></table></div>"
      ],
      "text/plain": [
       "--------------------------  ---------------------------------------------------\n",
       "H2O cluster uptime:         14 days 0 hours 33 mins\n",
       "H2O cluster timezone:       UTC\n",
       "H2O data parsing timezone:  UTC\n",
       "H2O cluster version:        3.26.0.1\n",
       "H2O cluster version age:    4 months and 8 days !!!\n",
       "H2O cluster name:           H2O_from_python_unknownUser_m7x25t\n",
       "H2O cluster total nodes:    1\n",
       "H2O cluster free memory:    5.466 Gb\n",
       "H2O cluster total cores:    32\n",
       "H2O cluster allowed cores:  32\n",
       "H2O cluster status:         locked, healthy\n",
       "H2O connection url:         http://localhost:54321\n",
       "H2O connection proxy:\n",
       "H2O internal security:      False\n",
       "H2O API Extensions:         Amazon S3, XGBoost, Algos, AutoML, Core V3, Core V4\n",
       "Python version:             3.6.4 final\n",
       "--------------------------  ---------------------------------------------------"
      ]
     },
     "metadata": {},
     "output_type": "display_data"
    }
   ],
   "source": [
    "import h2o\n",
    "from h2o.automl import H2OAutoML\n",
    "h2o.init()"
   ]
  },
  {
   "cell_type": "markdown",
   "metadata": {},
   "source": [
    "#### Load Data\n",
    "For the AutoML regression iteration, we use the trimmed down simple dataset. The goal here is to predict the sleep score(1-100), given the activity and readiness from Oura data. In this iteration, you will use H2O's AutoML to outperform the state of the art results on this task."
   ]
  },
  {
   "cell_type": "code",
   "execution_count": 348,
   "metadata": {},
   "outputs": [
    {
     "data": {
      "text/plain": [
       "(26906, 20)"
      ]
     },
     "execution_count": 348,
     "metadata": {},
     "output_type": "execute_result"
    }
   ],
   "source": [
    "dataset.shape"
   ]
  },
  {
   "cell_type": "code",
   "execution_count": 349,
   "metadata": {},
   "outputs": [],
   "source": [
    "dataset.to_csv('dataset.csv', encoding='utf-8')"
   ]
  },
  {
   "cell_type": "code",
   "execution_count": 350,
   "metadata": {},
   "outputs": [
    {
     "name": "stdout",
     "output_type": "stream",
     "text": [
      "Parse progress: |█████████████████████████████████████████████████████████| 100%\n"
     ]
    }
   ],
   "source": [
    "# Load data into H2O\n",
    "\n",
    "data_path = 'dataset.csv'\n",
    "df = h2o.import_file(data_path)\n",
    "df = df.drop('C1')\n",
    "## Convert the target label to a factor so AutoML knows this is a classification problem\n",
    "df[\"Quality\"] = df[\"Quality\"].asfactor()\n",
    "predictors = list(set(df.col_names) - set('Quality'))"
   ]
  },
  {
   "cell_type": "code",
   "execution_count": 351,
   "metadata": {},
   "outputs": [
    {
     "data": {
      "text/plain": [
       "(26906, 20)"
      ]
     },
     "execution_count": 351,
     "metadata": {},
     "output_type": "execute_result"
    }
   ],
   "source": [
    "df.shape"
   ]
  },
  {
   "cell_type": "markdown",
   "metadata": {},
   "source": [
    "Now that we have cleaned our data and added new columns, we train a model to predict bad loans. First split our loans data into train and test."
   ]
  },
  {
   "cell_type": "code",
   "execution_count": 352,
   "metadata": {},
   "outputs": [],
   "source": [
    "train, test = df.split_frame(seed=25, ratios=[0.75])"
   ]
  },
  {
   "cell_type": "code",
   "execution_count": 353,
   "metadata": {},
   "outputs": [],
   "source": [
    "# h2o Python API with specific classes\n",
    "import h2o                                        \n",
    "from h2o.estimators.gbm import H2OGradientBoostingEstimator # for GBM\n",
    "from h2o.grid.grid_search import H2OGridSearch \n",
    "\n",
    "import numpy as np   # array, vector, matrix calculations\n",
    "import pandas as pd  # DataFrame handling\n",
    "import shap          # for visualizing Shapley values\n",
    "\n",
    "import matplotlib.pyplot as plt # general plotting\n",
    "pd.options.display.max_columns = 999 # enable display of all columns in notebook\n",
    "\n",
    "# display plots in-notebook\n",
    "%matplotlib inline   "
   ]
  },
  {
   "cell_type": "code",
   "execution_count": 354,
   "metadata": {},
   "outputs": [
    {
     "name": "stdout",
     "output_type": "stream",
     "text": [
      "gbm Model Build progress: |███████████████████████████████████████████████| 100%\n",
      "GBM Test AUC = 0.78\n"
     ]
    }
   ],
   "source": [
    "# initialize GBM model\n",
    "model = H2OGradientBoostingEstimator(ntrees=150,              # maximum 150 trees in GBM\n",
    "                                     max_depth=4,             # trees can have maximum depth of 4\n",
    "                                     sample_rate=0.9,         # use 90% of rows in each iteration (tree)\n",
    "                                     col_sample_rate=0.9,     # use 90% of variables in each iteration (tree)\n",
    "                                     #balance_classes=True,   # sample to balance 0/1 distribution of target - can help LOCO\n",
    "                                     stopping_rounds=5,       # stop if validation error does not decrease for 5 iterations (trees)\n",
    "                                     score_tree_interval=1,   # for reproducibility, set higher for bigger data\n",
    "                                     model_id='oura_gbm',      # for locating the model in Flow UI \n",
    "                                     seed=12345)              # for reproducibility\n",
    "\n",
    "# train a GBM model\n",
    "model.train(y='Quality', x=predictors, training_frame=train, validation_frame=test)\n",
    "\n",
    "# print AUC\n",
    "print('GBM Test AUC = %.2f' % model.auc(valid=True))\n",
    "\n",
    "# uncomment to see model details\n",
    "# print(model) "
   ]
  },
  {
   "cell_type": "code",
   "execution_count": 355,
   "metadata": {},
   "outputs": [
    {
     "data": {
      "image/png": "[encoded data removed]",
      "text/plain": [
       "<Figure size 432x288 with 1 Axes>"
      ]
     },
     "metadata": {
      "needs_background": "light"
     },
     "output_type": "display_data"
    }
   ],
   "source": [
    "%matplotlib inline\n",
    "model.plot()"
   ]
  },
  {
   "cell_type": "code",
   "execution_count": 356,
   "metadata": {},
   "outputs": [
    {
     "name": "stdout",
     "output_type": "stream",
     "text": [
      "Training Data\n"
     ]
    },
    {
     "data": {
      "image/png": "[encoded data removed]",
      "text/plain": [
       "<Figure size 432x288 with 1 Axes>"
      ]
     },
     "metadata": {
      "needs_background": "light"
     },
     "output_type": "display_data"
    },
    {
     "name": "stdout",
     "output_type": "stream",
     "text": [
      "Testing Data\n"
     ]
    },
    {
     "data": {
      "image/png": "[encoded data removed]",
      "text/plain": [
       "<Figure size 432x288 with 1 Axes>"
      ]
     },
     "metadata": {
      "needs_background": "light"
     },
     "output_type": "display_data"
    },
    {
     "name": "stdout",
     "output_type": "stream",
     "text": [
      "X-Val\n"
     ]
    },
    {
     "data": {
      "image/png": "[encoded data removed]",
      "text/plain": [
       "<Figure size 432x288 with 1 Axes>"
      ]
     },
     "metadata": {
      "needs_background": "light"
     },
     "output_type": "display_data"
    }
   ],
   "source": [
    "print(\"Training Data\")\n",
    "model.model_performance(train = True).plot()\n",
    "print(\"Testing Data\")\n",
    "model.model_performance(valid = True).plot()\n",
    "print(\"X-Val\")\n",
    "model.model_performance().plot()"
   ]
  },
  {
   "cell_type": "code",
   "execution_count": 357,
   "metadata": {},
   "outputs": [
    {
     "data": {
      "image/png": "[encoded data removed]",
      "text/plain": [
       "<Figure size 1008x720 with 1 Axes>"
      ]
     },
     "metadata": {
      "needs_background": "light"
     },
     "output_type": "display_data"
    }
   ],
   "source": [
    "model.varimp_plot()"
   ]
  },
  {
   "cell_type": "code",
   "execution_count": 358,
   "metadata": {},
   "outputs": [
    {
     "name": "stdout",
     "output_type": "stream",
     "text": [
      "\n",
      "ModelMetricsBinomial: gbm\n",
      "** Reported on train data. **\n",
      "\n",
      "MSE: 0.1736325786502686\n",
      "RMSE: 0.41669242691734704\n",
      "LogLoss: 0.5219741353807957\n",
      "Mean Per-Class Error: 0.2545543496113838\n",
      "AUC: 0.8280825819482347\n",
      "pr_auc: 0.819202567461904\n",
      "Gini: 0.6561651638964694\n",
      "Confusion Matrix (Act/Pred) for max f1 @ threshold = 0.4178777275400175: \n"
     ]
    },
    {
     "data": {
      "text/html": [
       "<div style=\"overflow:auto\"><table style=\"width:50%\"><tr><td><b></b></td>\n",
       "<td><b>Bad</b></td>\n",
       "<td><b>Good</b></td>\n",
       "<td><b>Error</b></td>\n",
       "<td><b>Rate</b></td></tr>\n",
       "<tr><td>Bad</td>\n",
       "<td>6127.0</td>\n",
       "<td>4130.0</td>\n",
       "<td>0.4027</td>\n",
       "<td> (4130.0/10257.0)</td></tr>\n",
       "<tr><td>Good</td>\n",
       "<td>1320.0</td>\n",
       "<td>8670.0</td>\n",
       "<td>0.1321</td>\n",
       "<td> (1320.0/9990.0)</td></tr>\n",
       "<tr><td>Total</td>\n",
       "<td>7447.0</td>\n",
       "<td>12800.0</td>\n",
       "<td>0.2692</td>\n",
       "<td> (5450.0/20247.0)</td></tr></table></div>"
      ],
      "text/plain": [
       "       Bad    Good    Error    Rate\n",
       "-----  -----  ------  -------  ----------------\n",
       "Bad    6127   4130    0.4027   (4130.0/10257.0)\n",
       "Good   1320   8670    0.1321   (1320.0/9990.0)\n",
       "Total  7447   12800   0.2692   (5450.0/20247.0)"
      ]
     },
     "metadata": {},
     "output_type": "display_data"
    },
    {
     "name": "stdout",
     "output_type": "stream",
     "text": [
      "Maximum Metrics: Maximum metrics at their respective thresholds\n",
      "\n"
     ]
    },
    {
     "data": {
      "text/html": [
       "<div style=\"overflow:auto\"><table style=\"width:50%\"><tr><td><b>metric</b></td>\n",
       "<td><b>threshold</b></td>\n",
       "<td><b>value</b></td>\n",
       "<td><b>idx</b></td></tr>\n",
       "<tr><td>max f1</td>\n",
       "<td>0.4178777</td>\n",
       "<td>0.7608600</td>\n",
       "<td>233.0</td></tr>\n",
       "<tr><td>max f2</td>\n",
       "<td>0.2372249</td>\n",
       "<td>0.8592818</td>\n",
       "<td>315.0</td></tr>\n",
       "<tr><td>max f0point5</td>\n",
       "<td>0.5837705</td>\n",
       "<td>0.7473684</td>\n",
       "<td>153.0</td></tr>\n",
       "<tr><td>max accuracy</td>\n",
       "<td>0.4878540</td>\n",
       "<td>0.7449005</td>\n",
       "<td>200.0</td></tr>\n",
       "<tr><td>max precision</td>\n",
       "<td>0.9573469</td>\n",
       "<td>1.0</td>\n",
       "<td>0.0</td></tr>\n",
       "<tr><td>max recall</td>\n",
       "<td>0.0672491</td>\n",
       "<td>1.0</td>\n",
       "<td>383.0</td></tr>\n",
       "<tr><td>max specificity</td>\n",
       "<td>0.9573469</td>\n",
       "<td>1.0</td>\n",
       "<td>0.0</td></tr>\n",
       "<tr><td>max absolute_mcc</td>\n",
       "<td>0.4878540</td>\n",
       "<td>0.4922802</td>\n",
       "<td>200.0</td></tr>\n",
       "<tr><td>max min_per_class_accuracy</td>\n",
       "<td>0.5199957</td>\n",
       "<td>0.7421273</td>\n",
       "<td>185.0</td></tr>\n",
       "<tr><td>max mean_per_class_accuracy</td>\n",
       "<td>0.4878540</td>\n",
       "<td>0.7454457</td>\n",
       "<td>200.0</td></tr></table></div>"
      ],
      "text/plain": [
       "metric                       threshold    value     idx\n",
       "---------------------------  -----------  --------  -----\n",
       "max f1                       0.417878     0.76086   233\n",
       "max f2                       0.237225     0.859282  315\n",
       "max f0point5                 0.583771     0.747368  153\n",
       "max accuracy                 0.487854     0.7449    200\n",
       "max precision                0.957347     1         0\n",
       "max recall                   0.0672491    1         383\n",
       "max specificity              0.957347     1         0\n",
       "max absolute_mcc             0.487854     0.49228   200\n",
       "max min_per_class_accuracy   0.519996     0.742127  185\n",
       "max mean_per_class_accuracy  0.487854     0.745446  200"
      ]
     },
     "metadata": {},
     "output_type": "display_data"
    },
    {
     "name": "stdout",
     "output_type": "stream",
     "text": [
      "Gains/Lift Table: Avg response rate: 49.34 %, avg score: 49.33 %\n",
      "\n"
     ]
    },
    {
     "data": {
      "text/html": [
       "<div style=\"overflow:auto\"><table style=\"width:50%\"><tr><td><b></b></td>\n",
       "<td><b>group</b></td>\n",
       "<td><b>cumulative_data_fraction</b></td>\n",
       "<td><b>lower_threshold</b></td>\n",
       "<td><b>lift</b></td>\n",
       "<td><b>cumulative_lift</b></td>\n",
       "<td><b>response_rate</b></td>\n",
       "<td><b>score</b></td>\n",
       "<td><b>cumulative_response_rate</b></td>\n",
       "<td><b>cumulative_score</b></td>\n",
       "<td><b>capture_rate</b></td>\n",
       "<td><b>cumulative_capture_rate</b></td>\n",
       "<td><b>gain</b></td>\n",
       "<td><b>cumulative_gain</b></td></tr>\n",
       "<tr><td></td>\n",
       "<td>1</td>\n",
       "<td>0.0100262</td>\n",
       "<td>0.8901588</td>\n",
       "<td>1.9967751</td>\n",
       "<td>1.9967751</td>\n",
       "<td>0.9852217</td>\n",
       "<td>0.9174944</td>\n",
       "<td>0.9852217</td>\n",
       "<td>0.9174944</td>\n",
       "<td>0.0200200</td>\n",
       "<td>0.0200200</td>\n",
       "<td>99.6775100</td>\n",
       "<td>99.6775100</td></tr>\n",
       "<tr><td></td>\n",
       "<td>2</td>\n",
       "<td>0.0200030</td>\n",
       "<td>0.8569654</td>\n",
       "<td>1.9865935</td>\n",
       "<td>1.9916969</td>\n",
       "<td>0.9801980</td>\n",
       "<td>0.8729776</td>\n",
       "<td>0.9827160</td>\n",
       "<td>0.8952910</td>\n",
       "<td>0.0198198</td>\n",
       "<td>0.0398398</td>\n",
       "<td>98.6593524</td>\n",
       "<td>99.1696882</td></tr>\n",
       "<tr><td></td>\n",
       "<td>3</td>\n",
       "<td>0.0300291</td>\n",
       "<td>0.8355430</td>\n",
       "<td>1.9368718</td>\n",
       "<td>1.9733918</td>\n",
       "<td>0.9556650</td>\n",
       "<td>0.8457245</td>\n",
       "<td>0.9736842</td>\n",
       "<td>0.8787416</td>\n",
       "<td>0.0194194</td>\n",
       "<td>0.0592593</td>\n",
       "<td>93.6871847</td>\n",
       "<td>97.3391813</td></tr>\n",
       "<tr><td></td>\n",
       "<td>4</td>\n",
       "<td>0.0400059</td>\n",
       "<td>0.8203609</td>\n",
       "<td>1.8762272</td>\n",
       "<td>1.9491606</td>\n",
       "<td>0.9257426</td>\n",
       "<td>0.8277047</td>\n",
       "<td>0.9617284</td>\n",
       "<td>0.8660139</td>\n",
       "<td>0.0187187</td>\n",
       "<td>0.0779780</td>\n",
       "<td>87.6227217</td>\n",
       "<td>94.9160642</td></tr>\n",
       "<tr><td></td>\n",
       "<td>5</td>\n",
       "<td>0.0500321</td>\n",
       "<td>0.8089153</td>\n",
       "<td>1.9169041</td>\n",
       "<td>1.9426966</td>\n",
       "<td>0.9458128</td>\n",
       "<td>0.8146919</td>\n",
       "<td>0.9585390</td>\n",
       "<td>0.8557292</td>\n",
       "<td>0.0192192</td>\n",
       "<td>0.0971972</td>\n",
       "<td>91.6904096</td>\n",
       "<td>94.2696596</td></tr>\n",
       "<tr><td></td>\n",
       "<td>6</td>\n",
       "<td>0.1000148</td>\n",
       "<td>0.7693644</td>\n",
       "<td>1.8444815</td>\n",
       "<td>1.8936133</td>\n",
       "<td>0.9100791</td>\n",
       "<td>0.7875707</td>\n",
       "<td>0.9343210</td>\n",
       "<td>0.8216668</td>\n",
       "<td>0.0921922</td>\n",
       "<td>0.1893894</td>\n",
       "<td>84.4481537</td>\n",
       "<td>89.3613317</td></tr>\n",
       "<tr><td></td>\n",
       "<td>7</td>\n",
       "<td>0.1499975</td>\n",
       "<td>0.7365494</td>\n",
       "<td>1.7543603</td>\n",
       "<td>1.8472109</td>\n",
       "<td>0.8656126</td>\n",
       "<td>0.7526917</td>\n",
       "<td>0.9114257</td>\n",
       "<td>0.7986827</td>\n",
       "<td>0.0876877</td>\n",
       "<td>0.2770771</td>\n",
       "<td>75.4360289</td>\n",
       "<td>84.7210925</td></tr>\n",
       "<tr><td></td>\n",
       "<td>8</td>\n",
       "<td>0.2000296</td>\n",
       "<td>0.7056071</td>\n",
       "<td>1.6565940</td>\n",
       "<td>1.7995332</td>\n",
       "<td>0.8173741</td>\n",
       "<td>0.7202801</td>\n",
       "<td>0.8879012</td>\n",
       "<td>0.7790723</td>\n",
       "<td>0.0828829</td>\n",
       "<td>0.3599600</td>\n",
       "<td>65.6594008</td>\n",
       "<td>79.9533163</td></tr>\n",
       "<tr><td></td>\n",
       "<td>9</td>\n",
       "<td>0.2999951</td>\n",
       "<td>0.6462662</td>\n",
       "<td>1.4609656</td>\n",
       "<td>1.6867145</td>\n",
       "<td>0.7208498</td>\n",
       "<td>0.6760000</td>\n",
       "<td>0.8322358</td>\n",
       "<td>0.7447262</td>\n",
       "<td>0.1460460</td>\n",
       "<td>0.5060060</td>\n",
       "<td>46.0965560</td>\n",
       "<td>68.6714456</td></tr>\n",
       "<tr><td></td>\n",
       "<td>10</td>\n",
       "<td>0.4000099</td>\n",
       "<td>0.5854056</td>\n",
       "<td>1.2740855</td>\n",
       "<td>1.5835445</td>\n",
       "<td>0.6286420</td>\n",
       "<td>0.6160287</td>\n",
       "<td>0.7813310</td>\n",
       "<td>0.7125479</td>\n",
       "<td>0.1274274</td>\n",
       "<td>0.6334334</td>\n",
       "<td>27.4085493</td>\n",
       "<td>58.3544478</td></tr>\n",
       "<tr><td></td>\n",
       "<td>11</td>\n",
       "<td>0.5000247</td>\n",
       "<td>0.5163062</td>\n",
       "<td>1.1209550</td>\n",
       "<td>1.4910174</td>\n",
       "<td>0.5530864</td>\n",
       "<td>0.5516346</td>\n",
       "<td>0.7356776</td>\n",
       "<td>0.6803620</td>\n",
       "<td>0.1121121</td>\n",
       "<td>0.7455455</td>\n",
       "<td>12.0955029</td>\n",
       "<td>49.1017450</td></tr>\n",
       "<tr><td></td>\n",
       "<td>12</td>\n",
       "<td>0.5999901</td>\n",
       "<td>0.4400172</td>\n",
       "<td>0.9412664</td>\n",
       "<td>1.3994224</td>\n",
       "<td>0.4644269</td>\n",
       "<td>0.4782521</td>\n",
       "<td>0.6904840</td>\n",
       "<td>0.6466881</td>\n",
       "<td>0.0940941</td>\n",
       "<td>0.8396396</td>\n",
       "<td>-5.8733635</td>\n",
       "<td>39.9422439</td></tr>\n",
       "<tr><td></td>\n",
       "<td>13</td>\n",
       "<td>0.7000049</td>\n",
       "<td>0.3620936</td>\n",
       "<td>0.7316233</td>\n",
       "<td>1.3040091</td>\n",
       "<td>0.3609877</td>\n",
       "<td>0.4023481</td>\n",
       "<td>0.6434065</td>\n",
       "<td>0.6117775</td>\n",
       "<td>0.0731732</td>\n",
       "<td>0.9128128</td>\n",
       "<td>-26.8376673</td>\n",
       "<td>30.4009103</td></tr>\n",
       "<tr><td></td>\n",
       "<td>14</td>\n",
       "<td>0.7999704</td>\n",
       "<td>0.2745241</td>\n",
       "<td>0.5136911</td>\n",
       "<td>1.2052499</td>\n",
       "<td>0.2534585</td>\n",
       "<td>0.3196501</td>\n",
       "<td>0.5946780</td>\n",
       "<td>0.5752728</td>\n",
       "<td>0.0513514</td>\n",
       "<td>0.9641642</td>\n",
       "<td>-48.6308888</td>\n",
       "<td>20.5249851</td></tr>\n",
       "<tr><td></td>\n",
       "<td>15</td>\n",
       "<td>0.8999852</td>\n",
       "<td>0.1699239</td>\n",
       "<td>0.2852430</td>\n",
       "<td>1.1030100</td>\n",
       "<td>0.1407407</td>\n",
       "<td>0.2242387</td>\n",
       "<td>0.5442322</td>\n",
       "<td>0.5362626</td>\n",
       "<td>0.0285285</td>\n",
       "<td>0.9926927</td>\n",
       "<td>-71.4756979</td>\n",
       "<td>10.3010040</td></tr>\n",
       "<tr><td></td>\n",
       "<td>16</td>\n",
       "<td>1.0</td>\n",
       "<td>0.0076166</td>\n",
       "<td>0.0730622</td>\n",
       "<td>1.0</td>\n",
       "<td>0.0360494</td>\n",
       "<td>0.1064047</td>\n",
       "<td>0.4934064</td>\n",
       "<td>0.4932704</td>\n",
       "<td>0.0073073</td>\n",
       "<td>1.0</td>\n",
       "<td>-92.6937753</td>\n",
       "<td>0.0</td></tr></table></div>"
      ],
      "text/plain": [
       "    group    cumulative_data_fraction    lower_threshold    lift       cumulative_lift    response_rate    score     cumulative_response_rate    cumulative_score    capture_rate    cumulative_capture_rate    gain      cumulative_gain\n",
       "--  -------  --------------------------  -----------------  ---------  -----------------  ---------------  --------  --------------------------  ------------------  --------------  -------------------------  --------  -----------------\n",
       "    1        0.0100262                   0.890159           1.99678    1.99678            0.985222         0.917494  0.985222                    0.917494            0.02002         0.02002                    99.6775   99.6775\n",
       "    2        0.020003                    0.856965           1.98659    1.9917             0.980198         0.872978  0.982716                    0.895291            0.0198198       0.0398398                  98.6594   99.1697\n",
       "    3        0.0300291                   0.835543           1.93687    1.97339            0.955665         0.845725  0.973684                    0.878742            0.0194194       0.0592593                  93.6872   97.3392\n",
       "    4        0.0400059                   0.820361           1.87623    1.94916            0.925743         0.827705  0.961728                    0.866014            0.0187187       0.077978                   87.6227   94.9161\n",
       "    5        0.0500321                   0.808915           1.9169     1.9427             0.945813         0.814692  0.958539                    0.855729            0.0192192       0.0971972                  91.6904   94.2697\n",
       "    6        0.100015                    0.769364           1.84448    1.89361            0.910079         0.787571  0.934321                    0.821667            0.0921922       0.189389                   84.4482   89.3613\n",
       "    7        0.149998                    0.736549           1.75436    1.84721            0.865613         0.752692  0.911426                    0.798683            0.0876877       0.277077                   75.436    84.7211\n",
       "    8        0.20003                     0.705607           1.65659    1.79953            0.817374         0.72028   0.887901                    0.779072            0.0828829       0.35996                    65.6594   79.9533\n",
       "    9        0.299995                    0.646266           1.46097    1.68671            0.72085          0.676     0.832236                    0.744726            0.146046        0.506006                   46.0966   68.6714\n",
       "    10       0.40001                     0.585406           1.27409    1.58354            0.628642         0.616029  0.781331                    0.712548            0.127427        0.633433                   27.4085   58.3544\n",
       "    11       0.500025                    0.516306           1.12096    1.49102            0.553086         0.551635  0.735678                    0.680362            0.112112        0.745546                   12.0955   49.1017\n",
       "    12       0.59999                     0.440017           0.941266   1.39942            0.464427         0.478252  0.690484                    0.646688            0.0940941       0.83964                    -5.87336  39.9422\n",
       "    13       0.700005                    0.362094           0.731623   1.30401            0.360988         0.402348  0.643406                    0.611777            0.0731732       0.912813                   -26.8377  30.4009\n",
       "    14       0.79997                     0.274524           0.513691   1.20525            0.253458         0.31965   0.594678                    0.575273            0.0513514       0.964164                   -48.6309  20.525\n",
       "    15       0.899985                    0.169924           0.285243   1.10301            0.140741         0.224239  0.544232                    0.536263            0.0285285       0.992693                   -71.4757  10.301\n",
       "    16       1                           0.00761663         0.0730622  1                  0.0360494        0.106405  0.493406                    0.49327             0.00730731      1                          -92.6938  0"
      ]
     },
     "metadata": {},
     "output_type": "display_data"
    },
    {
     "name": "stdout",
     "output_type": "stream",
     "text": [
      "\n"
     ]
    },
    {
     "data": {
      "text/plain": []
     },
     "execution_count": 358,
     "metadata": {},
     "output_type": "execute_result"
    }
   ],
   "source": [
    "perf_cls = model.model_performance()\n",
    "perf_cls"
   ]
  },
  {
   "cell_type": "code",
   "execution_count": 359,
   "metadata": {},
   "outputs": [
    {
     "name": "stdout",
     "output_type": "stream",
     "text": [
      "xgboost Model Build progress: |███████████████████████████████████████████| 100%\n",
      "GBM Test AUC = 0.78\n"
     ]
    }
   ],
   "source": [
    "from h2o.estimators import H2OXGBoostEstimator\n",
    "\n",
    "param = {\n",
    "      \"ntrees\" : 20\n",
    "    , \"nfolds\" : 5\n",
    "    , \"seed\": 25\n",
    "}\n",
    "xgboost_model = H2OXGBoostEstimator(**param)\n",
    "xgboost_model.train(x = predictors,\n",
    "                    y = \"Quality\",\n",
    "                    training_frame=train,\n",
    "                    validation_frame=test)\n",
    "\n",
    "# print AUC\n",
    "print('GBM Test AUC = %.2f' % xgboost_model.auc(valid=True))"
   ]
  },
  {
   "cell_type": "code",
   "execution_count": 360,
   "metadata": {},
   "outputs": [
    {
     "data": {
      "image/png": "[encoded data removed]",
      "text/plain": [
       "<Figure size 432x288 with 1 Axes>"
      ]
     },
     "metadata": {
      "needs_background": "light"
     },
     "output_type": "display_data"
    }
   ],
   "source": [
    "%matplotlib inline\n",
    "xgboost_model.plot()"
   ]
  },
  {
   "cell_type": "code",
   "execution_count": 361,
   "metadata": {},
   "outputs": [
    {
     "name": "stdout",
     "output_type": "stream",
     "text": [
      "Training Data\n"
     ]
    },
    {
     "data": {
      "image/png": "[encoded data removed]",
      "text/plain": [
       "<Figure size 432x288 with 1 Axes>"
      ]
     },
     "metadata": {
      "needs_background": "light"
     },
     "output_type": "display_data"
    },
    {
     "name": "stdout",
     "output_type": "stream",
     "text": [
      "Testing Data\n"
     ]
    },
    {
     "data": {
      "image/png": "[encoded data removed]",
      "text/plain": [
       "<Figure size 432x288 with 1 Axes>"
      ]
     },
     "metadata": {
      "needs_background": "light"
     },
     "output_type": "display_data"
    },
    {
     "name": "stdout",
     "output_type": "stream",
     "text": [
      "X-Val\n"
     ]
    },
    {
     "data": {
      "image/png": "[encoded data removed]",
      "text/plain": [
       "<Figure size 432x288 with 1 Axes>"
      ]
     },
     "metadata": {
      "needs_background": "light"
     },
     "output_type": "display_data"
    }
   ],
   "source": [
    "print(\"Training Data\")\n",
    "xgboost_model.model_performance(train = True).plot()\n",
    "print(\"Testing Data\")\n",
    "xgboost_model.model_performance(valid = True).plot()\n",
    "print(\"X-Val\")\n",
    "xgboost_model.model_performance().plot()"
   ]
  },
  {
   "cell_type": "code",
   "execution_count": 362,
   "metadata": {},
   "outputs": [
    {
     "data": {
      "image/png": "[encoded data removed]",
      "text/plain": [
       "<Figure size 1008x720 with 1 Axes>"
      ]
     },
     "metadata": {
      "needs_background": "light"
     },
     "output_type": "display_data"
    }
   ],
   "source": [
    "xgboost_model.varimp_plot()"
   ]
  },
  {
   "cell_type": "code",
   "execution_count": 363,
   "metadata": {},
   "outputs": [
    {
     "name": "stdout",
     "output_type": "stream",
     "text": [
      "\n",
      "ModelMetricsBinomial: xgboost\n",
      "** Reported on train data. **\n",
      "\n",
      "MSE: 0.1632280027305747\n",
      "RMSE: 0.40401485459147995\n",
      "LogLoss: 0.4964482474591066\n",
      "Mean Per-Class Error: 0.2320305388746453\n",
      "AUC: 0.8523584908882754\n",
      "pr_auc: 0.8409541922861463\n",
      "Gini: 0.7047169817765508\n",
      "Confusion Matrix (Act/Pred) for max f1 @ threshold = 0.4333660498261452: \n"
     ]
    },
    {
     "data": {
      "text/html": [
       "<div style=\"overflow:auto\"><table style=\"width:50%\"><tr><td><b></b></td>\n",
       "<td><b>Bad</b></td>\n",
       "<td><b>Good</b></td>\n",
       "<td><b>Error</b></td>\n",
       "<td><b>Rate</b></td></tr>\n",
       "<tr><td>Bad</td>\n",
       "<td>6613.0</td>\n",
       "<td>3644.0</td>\n",
       "<td>0.3553</td>\n",
       "<td> (3644.0/10257.0)</td></tr>\n",
       "<tr><td>Good</td>\n",
       "<td>1262.0</td>\n",
       "<td>8728.0</td>\n",
       "<td>0.1263</td>\n",
       "<td> (1262.0/9990.0)</td></tr>\n",
       "<tr><td>Total</td>\n",
       "<td>7875.0</td>\n",
       "<td>12372.0</td>\n",
       "<td>0.2423</td>\n",
       "<td> (4906.0/20247.0)</td></tr></table></div>"
      ],
      "text/plain": [
       "       Bad    Good    Error    Rate\n",
       "-----  -----  ------  -------  ----------------\n",
       "Bad    6613   3644    0.3553   (3644.0/10257.0)\n",
       "Good   1262   8728    0.1263   (1262.0/9990.0)\n",
       "Total  7875   12372   0.2423   (4906.0/20247.0)"
      ]
     },
     "metadata": {},
     "output_type": "display_data"
    },
    {
     "name": "stdout",
     "output_type": "stream",
     "text": [
      "Maximum Metrics: Maximum metrics at their respective thresholds\n",
      "\n"
     ]
    },
    {
     "data": {
      "text/html": [
       "<div style=\"overflow:auto\"><table style=\"width:50%\"><tr><td><b>metric</b></td>\n",
       "<td><b>threshold</b></td>\n",
       "<td><b>value</b></td>\n",
       "<td><b>idx</b></td></tr>\n",
       "<tr><td>max f1</td>\n",
       "<td>0.4333660</td>\n",
       "<td>0.7806100</td>\n",
       "<td>227.0</td></tr>\n",
       "<tr><td>max f2</td>\n",
       "<td>0.2834783</td>\n",
       "<td>0.8693319</td>\n",
       "<td>294.0</td></tr>\n",
       "<tr><td>max f0point5</td>\n",
       "<td>0.6168872</td>\n",
       "<td>0.7687362</td>\n",
       "<td>140.0</td></tr>\n",
       "<tr><td>max accuracy</td>\n",
       "<td>0.5072143</td>\n",
       "<td>0.7677187</td>\n",
       "<td>192.0</td></tr>\n",
       "<tr><td>max precision</td>\n",
       "<td>0.9764546</td>\n",
       "<td>1.0</td>\n",
       "<td>0.0</td></tr>\n",
       "<tr><td>max recall</td>\n",
       "<td>0.1004710</td>\n",
       "<td>1.0</td>\n",
       "<td>368.0</td></tr>\n",
       "<tr><td>max specificity</td>\n",
       "<td>0.9764546</td>\n",
       "<td>1.0</td>\n",
       "<td>0.0</td></tr>\n",
       "<tr><td>max absolute_mcc</td>\n",
       "<td>0.5072143</td>\n",
       "<td>0.5361495</td>\n",
       "<td>192.0</td></tr>\n",
       "<tr><td>max min_per_class_accuracy</td>\n",
       "<td>0.5208838</td>\n",
       "<td>0.7641611</td>\n",
       "<td>185.0</td></tr>\n",
       "<tr><td>max mean_per_class_accuracy</td>\n",
       "<td>0.5072143</td>\n",
       "<td>0.7679695</td>\n",
       "<td>192.0</td></tr></table></div>"
      ],
      "text/plain": [
       "metric                       threshold    value     idx\n",
       "---------------------------  -----------  --------  -----\n",
       "max f1                       0.433366     0.78061   227\n",
       "max f2                       0.283478     0.869332  294\n",
       "max f0point5                 0.616887     0.768736  140\n",
       "max accuracy                 0.507214     0.767719  192\n",
       "max precision                0.976455     1         0\n",
       "max recall                   0.100471     1         368\n",
       "max specificity              0.976455     1         0\n",
       "max absolute_mcc             0.507214     0.536149  192\n",
       "max min_per_class_accuracy   0.520884     0.764161  185\n",
       "max mean_per_class_accuracy  0.507214     0.767969  192"
      ]
     },
     "metadata": {},
     "output_type": "display_data"
    },
    {
     "name": "stdout",
     "output_type": "stream",
     "text": [
      "Gains/Lift Table: Avg response rate: 49.34 %, avg score: 49.35 %\n",
      "\n"
     ]
    },
    {
     "data": {
      "text/html": [
       "<div style=\"overflow:auto\"><table style=\"width:50%\"><tr><td><b></b></td>\n",
       "<td><b>group</b></td>\n",
       "<td><b>cumulative_data_fraction</b></td>\n",
       "<td><b>lower_threshold</b></td>\n",
       "<td><b>lift</b></td>\n",
       "<td><b>cumulative_lift</b></td>\n",
       "<td><b>response_rate</b></td>\n",
       "<td><b>score</b></td>\n",
       "<td><b>cumulative_response_rate</b></td>\n",
       "<td><b>cumulative_score</b></td>\n",
       "<td><b>capture_rate</b></td>\n",
       "<td><b>cumulative_capture_rate</b></td>\n",
       "<td><b>gain</b></td>\n",
       "<td><b>cumulative_gain</b></td></tr>\n",
       "<tr><td></td>\n",
       "<td>1</td>\n",
       "<td>0.0100262</td>\n",
       "<td>0.9062322</td>\n",
       "<td>2.0167429</td>\n",
       "<td>2.0167429</td>\n",
       "<td>0.9950739</td>\n",
       "<td>0.9349229</td>\n",
       "<td>0.9950739</td>\n",
       "<td>0.9349229</td>\n",
       "<td>0.0202202</td>\n",
       "<td>0.0202202</td>\n",
       "<td>101.6742851</td>\n",
       "<td>101.6742851</td></tr>\n",
       "<tr><td></td>\n",
       "<td>2</td>\n",
       "<td>0.0200030</td>\n",
       "<td>0.8739743</td>\n",
       "<td>1.9665269</td>\n",
       "<td>1.9916969</td>\n",
       "<td>0.9702970</td>\n",
       "<td>0.8883470</td>\n",
       "<td>0.9827160</td>\n",
       "<td>0.9116924</td>\n",
       "<td>0.0196196</td>\n",
       "<td>0.0398398</td>\n",
       "<td>96.6526923</td>\n",
       "<td>99.1696882</td></tr>\n",
       "<tr><td></td>\n",
       "<td>3</td>\n",
       "<td>0.0300291</td>\n",
       "<td>0.8508431</td>\n",
       "<td>1.9268880</td>\n",
       "<td>1.9700584</td>\n",
       "<td>0.9507389</td>\n",
       "<td>0.8623116</td>\n",
       "<td>0.9720395</td>\n",
       "<td>0.8952051</td>\n",
       "<td>0.0193193</td>\n",
       "<td>0.0591592</td>\n",
       "<td>92.6887972</td>\n",
       "<td>97.0058381</td></tr>\n",
       "<tr><td></td>\n",
       "<td>4</td>\n",
       "<td>0.0400059</td>\n",
       "<td>0.8341104</td>\n",
       "<td>1.9364270</td>\n",
       "<td>1.9616713</td>\n",
       "<td>0.9554455</td>\n",
       "<td>0.8427292</td>\n",
       "<td>0.9679012</td>\n",
       "<td>0.8821185</td>\n",
       "<td>0.0193193</td>\n",
       "<td>0.0784785</td>\n",
       "<td>93.6427021</td>\n",
       "<td>96.1671301</td></tr>\n",
       "<tr><td></td>\n",
       "<td>5</td>\n",
       "<td>0.0500321</td>\n",
       "<td>0.8210818</td>\n",
       "<td>1.9568396</td>\n",
       "<td>1.9607031</td>\n",
       "<td>0.9655172</td>\n",
       "<td>0.8271535</td>\n",
       "<td>0.9674235</td>\n",
       "<td>0.8711038</td>\n",
       "<td>0.0196196</td>\n",
       "<td>0.0980981</td>\n",
       "<td>95.6839598</td>\n",
       "<td>96.0703053</td></tr>\n",
       "<tr><td></td>\n",
       "<td>6</td>\n",
       "<td>0.1000148</td>\n",
       "<td>0.7796042</td>\n",
       "<td>1.8625058</td>\n",
       "<td>1.9116287</td>\n",
       "<td>0.9189723</td>\n",
       "<td>0.7995049</td>\n",
       "<td>0.9432099</td>\n",
       "<td>0.8353221</td>\n",
       "<td>0.0930931</td>\n",
       "<td>0.1911912</td>\n",
       "<td>86.2505786</td>\n",
       "<td>91.1628666</td></tr>\n",
       "<tr><td></td>\n",
       "<td>7</td>\n",
       "<td>0.1500469</td>\n",
       "<td>0.7446277</td>\n",
       "<td>1.7926428</td>\n",
       "<td>1.8719537</td>\n",
       "<td>0.8845015</td>\n",
       "<td>0.7615933</td>\n",
       "<td>0.9236340</td>\n",
       "<td>0.8107377</td>\n",
       "<td>0.0896897</td>\n",
       "<td>0.2808809</td>\n",
       "<td>79.2642791</td>\n",
       "<td>87.1953652</td></tr>\n",
       "<tr><td></td>\n",
       "<td>8</td>\n",
       "<td>0.2000296</td>\n",
       "<td>0.7130444</td>\n",
       "<td>1.7062956</td>\n",
       "<td>1.8305596</td>\n",
       "<td>0.8418972</td>\n",
       "<td>0.7284800</td>\n",
       "<td>0.9032099</td>\n",
       "<td>0.7901834</td>\n",
       "<td>0.0852853</td>\n",
       "<td>0.3661662</td>\n",
       "<td>70.6295624</td>\n",
       "<td>83.0559597</td></tr>\n",
       "<tr><td></td>\n",
       "<td>9</td>\n",
       "<td>0.2999951</td>\n",
       "<td>0.6491824</td>\n",
       "<td>1.5310599</td>\n",
       "<td>1.7307592</td>\n",
       "<td>0.7554348</td>\n",
       "<td>0.6808775</td>\n",
       "<td>0.8539677</td>\n",
       "<td>0.7537601</td>\n",
       "<td>0.1530531</td>\n",
       "<td>0.5192192</td>\n",
       "<td>53.1059864</td>\n",
       "<td>73.0759225</td></tr>\n",
       "<tr><td></td>\n",
       "<td>10</td>\n",
       "<td>0.4000099</td>\n",
       "<td>0.5895504</td>\n",
       "<td>1.3131187</td>\n",
       "<td>1.6263362</td>\n",
       "<td>0.6479012</td>\n",
       "<td>0.6198461</td>\n",
       "<td>0.8024447</td>\n",
       "<td>0.7202775</td>\n",
       "<td>0.1313313</td>\n",
       "<td>0.6505506</td>\n",
       "<td>31.3118748</td>\n",
       "<td>62.6336214</td></tr>\n",
       "<tr><td></td>\n",
       "<td>11</td>\n",
       "<td>0.5000247</td>\n",
       "<td>0.5182142</td>\n",
       "<td>1.1820070</td>\n",
       "<td>1.5374616</td>\n",
       "<td>0.5832099</td>\n",
       "<td>0.5539325</td>\n",
       "<td>0.7585934</td>\n",
       "<td>0.6870052</td>\n",
       "<td>0.1182182</td>\n",
       "<td>0.7687688</td>\n",
       "<td>18.2007044</td>\n",
       "<td>53.7461602</td></tr>\n",
       "<tr><td></td>\n",
       "<td>12</td>\n",
       "<td>0.5999901</td>\n",
       "<td>0.4422244</td>\n",
       "<td>0.9472744</td>\n",
       "<td>1.4391295</td>\n",
       "<td>0.4673913</td>\n",
       "<td>0.4801238</td>\n",
       "<td>0.7100757</td>\n",
       "<td>0.6525363</td>\n",
       "<td>0.0946947</td>\n",
       "<td>0.8634635</td>\n",
       "<td>-5.2725552</td>\n",
       "<td>43.9129465</td></tr>\n",
       "<tr><td></td>\n",
       "<td>13</td>\n",
       "<td>0.7000049</td>\n",
       "<td>0.3632267</td>\n",
       "<td>0.6855841</td>\n",
       "<td>1.3314649</td>\n",
       "<td>0.3382716</td>\n",
       "<td>0.4031843</td>\n",
       "<td>0.6569534</td>\n",
       "<td>0.6169096</td>\n",
       "<td>0.0685686</td>\n",
       "<td>0.9320320</td>\n",
       "<td>-31.4415897</td>\n",
       "<td>33.1464937</td></tr>\n",
       "<tr><td></td>\n",
       "<td>14</td>\n",
       "<td>0.7999704</td>\n",
       "<td>0.2704753</td>\n",
       "<td>0.4455995</td>\n",
       "<td>1.2207659</td>\n",
       "<td>0.2198617</td>\n",
       "<td>0.3174425</td>\n",
       "<td>0.6023338</td>\n",
       "<td>0.5794877</td>\n",
       "<td>0.0445445</td>\n",
       "<td>0.9765766</td>\n",
       "<td>-55.4400497</td>\n",
       "<td>22.0765941</td></tr>\n",
       "<tr><td></td>\n",
       "<td>15</td>\n",
       "<td>0.8999852</td>\n",
       "<td>0.1542575</td>\n",
       "<td>0.2061757</td>\n",
       "<td>1.1080151</td>\n",
       "<td>0.1017284</td>\n",
       "<td>0.2140567</td>\n",
       "<td>0.5467018</td>\n",
       "<td>0.5388776</td>\n",
       "<td>0.0206206</td>\n",
       "<td>0.9971972</td>\n",
       "<td>-79.3824343</td>\n",
       "<td>10.8015127</td></tr>\n",
       "<tr><td></td>\n",
       "<td>16</td>\n",
       "<td>1.0</td>\n",
       "<td>0.0051241</td>\n",
       "<td>0.0280239</td>\n",
       "<td>1.0</td>\n",
       "<td>0.0138272</td>\n",
       "<td>0.0853267</td>\n",
       "<td>0.4934064</td>\n",
       "<td>0.4935158</td>\n",
       "<td>0.0028028</td>\n",
       "<td>1.0</td>\n",
       "<td>-97.1976124</td>\n",
       "<td>0.0</td></tr></table></div>"
      ],
      "text/plain": [
       "    group    cumulative_data_fraction    lower_threshold    lift       cumulative_lift    response_rate    score      cumulative_response_rate    cumulative_score    capture_rate    cumulative_capture_rate    gain      cumulative_gain\n",
       "--  -------  --------------------------  -----------------  ---------  -----------------  ---------------  ---------  --------------------------  ------------------  --------------  -------------------------  --------  -----------------\n",
       "    1        0.0100262                   0.906232           2.01674    2.01674            0.995074         0.934923   0.995074                    0.934923            0.0202202       0.0202202                  101.674   101.674\n",
       "    2        0.020003                    0.873974           1.96653    1.9917             0.970297         0.888347   0.982716                    0.911692            0.0196196       0.0398398                  96.6527   99.1697\n",
       "    3        0.0300291                   0.850843           1.92689    1.97006            0.950739         0.862312   0.972039                    0.895205            0.0193193       0.0591592                  92.6888   97.0058\n",
       "    4        0.0400059                   0.83411            1.93643    1.96167            0.955446         0.842729   0.967901                    0.882119            0.0193193       0.0784785                  93.6427   96.1671\n",
       "    5        0.0500321                   0.821082           1.95684    1.9607             0.965517         0.827154   0.967423                    0.871104            0.0196196       0.0980981                  95.684    96.0703\n",
       "    6        0.100015                    0.779604           1.86251    1.91163            0.918972         0.799505   0.94321                     0.835322            0.0930931       0.191191                   86.2506   91.1629\n",
       "    7        0.150047                    0.744628           1.79264    1.87195            0.884501         0.761593   0.923634                    0.810738            0.0896897       0.280881                   79.2643   87.1954\n",
       "    8        0.20003                     0.713044           1.7063     1.83056            0.841897         0.72848    0.90321                     0.790183            0.0852853       0.366166                   70.6296   83.056\n",
       "    9        0.299995                    0.649182           1.53106    1.73076            0.755435         0.680878   0.853968                    0.75376             0.153053        0.519219                   53.106    73.0759\n",
       "    10       0.40001                     0.58955            1.31312    1.62634            0.647901         0.619846   0.802445                    0.720277            0.131331        0.650551                   31.3119   62.6336\n",
       "    11       0.500025                    0.518214           1.18201    1.53746            0.58321          0.553932   0.758593                    0.687005            0.118218        0.768769                   18.2007   53.7462\n",
       "    12       0.59999                     0.442224           0.947274   1.43913            0.467391         0.480124   0.710076                    0.652536            0.0946947       0.863463                   -5.27256  43.9129\n",
       "    13       0.700005                    0.363227           0.685584   1.33146            0.338272         0.403184   0.656953                    0.61691             0.0685686       0.932032                   -31.4416  33.1465\n",
       "    14       0.79997                     0.270475           0.4456     1.22077            0.219862         0.317442   0.602334                    0.579488            0.0445445       0.976577                   -55.44    22.0766\n",
       "    15       0.899985                    0.154257           0.206176   1.10802            0.101728         0.214057   0.546702                    0.538878            0.0206206       0.997197                   -79.3824  10.8015\n",
       "    16       1                           0.00512411         0.0280239  1                  0.0138272        0.0853267  0.493406                    0.493516            0.0028028       1                          -97.1976  0"
      ]
     },
     "metadata": {},
     "output_type": "display_data"
    },
    {
     "name": "stdout",
     "output_type": "stream",
     "text": [
      "\n"
     ]
    },
    {
     "data": {
      "text/plain": []
     },
     "execution_count": 363,
     "metadata": {},
     "output_type": "execute_result"
    }
   ],
   "source": [
    "perf_cls = xgboost_model.model_performance()\n",
    "perf_cls"
   ]
  },
  {
   "cell_type": "code",
   "execution_count": 364,
   "metadata": {},
   "outputs": [
    {
     "name": "stdout",
     "output_type": "stream",
     "text": [
      "PartialDependencePlot progress: |█████████████████████████████████████████| 100%\n"
     ]
    },
    {
     "data": {
      "image/png": "[encoded data removed]",
      "text/plain": [
       "<Figure size 504x720 with 1 Axes>"
      ]
     },
     "metadata": {
      "needs_background": "light"
     },
     "output_type": "display_data"
    }
   ],
   "source": [
    "pdp = xgboost_model.partial_plot(cols=[\"onset_latency_norm\"], data=train)"
   ]
  },
  {
   "cell_type": "code",
   "execution_count": 365,
   "metadata": {},
   "outputs": [
    {
     "name": "stdout",
     "output_type": "stream",
     "text": [
      "PartialDependencePlot progress: |█████████████████████████████████████████| 100%\n"
     ]
    },
    {
     "data": {
      "image/png": "[encoded data removed]",
      "text/plain": [
       "<Figure size 504x720 with 1 Axes>"
      ]
     },
     "metadata": {
      "needs_background": "light"
     },
     "output_type": "display_data"
    }
   ],
   "source": [
    "pdp = xgboost_model.partial_plot(cols=[\"rol_sleep_afterMidnight_7d\"], data=train)"
   ]
  },
  {
   "cell_type": "markdown",
   "metadata": {},
   "source": [
    "#### H2O AutoML\n",
    "\n",
    "\n",
    "Although H2O has made it easy for non-experts to experiment with machine learning, there is still a fair bit of knowledge and background in data science that is required to produce high-performing machine learning models. Deep Neural Networks in particular are notoriously difficult for a non-expert to tune properly. In order for machine learning software to truly be accessible to non-experts, we have designed an easy-to-use interface which automates the process of training a large selection of candidate models. H2O’s AutoML can also be a helpful tool for the advanced user, by providing a simple wrapper function that performs a large number of modeling-related tasks that would typically require many lines of code, and by freeing up their time to focus on other aspects of the data science pipeline tasks such as data-preprocessing, feature engineering and model deployment.\n",
    "\n",
    "H2O’s AutoML can be used for automating the machine learning workflow, which includes automatic training and tuning of many models within a user-specified time-limit. Stacked Ensembles – one based on all previously trained models, another one on the best model of each family – will be automatically trained on collections of individual models to produce highly predictive ensemble models which, in most cases, will be the top performing models in the AutoML Leaderboard."
   ]
  },
  {
   "cell_type": "code",
   "execution_count": 374,
   "metadata": {},
   "outputs": [
    {
     "name": "stdout",
     "output_type": "stream",
     "text": [
      "AutoML progress: |████████████████████████████████████████████████████████| 100%\n",
      "CPU times: user 4.12 s, sys: 300 ms, total: 4.42 s\n",
      "Wall time: 3min 34s\n"
     ]
    }
   ],
   "source": [
    "%%time\n",
    "from h2o.automl import H2OAutoML\n",
    "\n",
    "aml = H2OAutoML(max_models=5, \n",
    "                max_runtime_secs_per_model=60, \n",
    "                include_algos = [\"GBM\", \"GLM\", \"DRF\", \"XGBoost\"],\n",
    "                seed=25)\n",
    "aml.train(x=predictors, y='Quality', training_frame=train)"
   ]
  },
  {
   "cell_type": "code",
   "execution_count": 375,
   "metadata": {},
   "outputs": [
    {
     "data": {
      "text/html": [
       "<table>\n",
       "<thead>\n",
       "<tr><th>model_id                                 </th><th style=\"text-align: right;\">     auc</th><th style=\"text-align: right;\">  logloss</th><th style=\"text-align: right;\">  mean_per_class_error</th><th style=\"text-align: right;\">    rmse</th><th style=\"text-align: right;\">     mse</th></tr>\n",
       "</thead>\n",
       "<tbody>\n",
       "<tr><td>DRF_1_AutoML_20191124_002527             </td><td style=\"text-align: right;\">0.805291</td><td style=\"text-align: right;\"> 0.536337</td><td style=\"text-align: right;\">              0.293953</td><td style=\"text-align: right;\">0.425168</td><td style=\"text-align: right;\">0.180767</td></tr>\n",
       "<tr><td>XGBoost_2_AutoML_20191124_002527         </td><td style=\"text-align: right;\">0.795772</td><td style=\"text-align: right;\"> 0.558291</td><td style=\"text-align: right;\">              0.299488</td><td style=\"text-align: right;\">0.433835</td><td style=\"text-align: right;\">0.188213</td></tr>\n",
       "<tr><td>XGBoost_1_AutoML_20191124_002527         </td><td style=\"text-align: right;\">0.791215</td><td style=\"text-align: right;\"> 0.562211</td><td style=\"text-align: right;\">              0.297868</td><td style=\"text-align: right;\">0.435832</td><td style=\"text-align: right;\">0.18995 </td></tr>\n",
       "<tr><td>XGBoost_3_AutoML_20191124_002527         </td><td style=\"text-align: right;\">0.751824</td><td style=\"text-align: right;\"> 0.59556 </td><td style=\"text-align: right;\">              0.333849</td><td style=\"text-align: right;\">0.45246 </td><td style=\"text-align: right;\">0.20472 </td></tr>\n",
       "<tr><td>GLM_grid_1_AutoML_20191124_002527_model_1</td><td style=\"text-align: right;\">0.708875</td><td style=\"text-align: right;\"> 0.620609</td><td style=\"text-align: right;\">              0.377081</td><td style=\"text-align: right;\">0.46494 </td><td style=\"text-align: right;\">0.216169</td></tr>\n",
       "</tbody>\n",
       "</table>"
      ]
     },
     "metadata": {},
     "output_type": "display_data"
    },
    {
     "data": {
      "text/plain": []
     },
     "execution_count": 375,
     "metadata": {},
     "output_type": "execute_result"
    }
   ],
   "source": [
    "lb = aml.leaderboard\n",
    "lb.head()\n",
    "lb.head(rows=lb.nrows) # Entire leaderboard"
   ]
  },
  {
   "cell_type": "code",
   "execution_count": 376,
   "metadata": {},
   "outputs": [
    {
     "data": {
      "image/png": "[encoded data removed]",
      "text/plain": [
       "<Figure size 432x288 with 1 Axes>"
      ]
     },
     "metadata": {
      "needs_background": "light"
     },
     "output_type": "display_data"
    },
    {
     "name": "stdout",
     "output_type": "stream",
     "text": [
      "\n",
      "ModelMetricsBinomial: drf\n",
      "** Reported on test data. **\n",
      "\n",
      "MSE: 0.18201301870925107\n",
      "RMSE: 0.42662983804376725\n",
      "LogLoss: 0.5389423442186665\n",
      "Mean Per-Class Error: 0.27981179608960405\n",
      "AUC: 0.8024683310901434\n",
      "pr_auc: 0.7800243442694492\n",
      "Gini: 0.6049366621802867\n",
      "Confusion Matrix (Act/Pred) for max f1 @ threshold = 0.3913349270921986: \n"
     ]
    },
    {
     "data": {
      "text/html": [
       "<div style=\"overflow:auto\"><table style=\"width:50%\"><tr><td><b></b></td>\n",
       "<td><b>Bad</b></td>\n",
       "<td><b>Good</b></td>\n",
       "<td><b>Error</b></td>\n",
       "<td><b>Rate</b></td></tr>\n",
       "<tr><td>Bad</td>\n",
       "<td>1887.0</td>\n",
       "<td>1571.0</td>\n",
       "<td>0.4543</td>\n",
       "<td> (1571.0/3458.0)</td></tr>\n",
       "<tr><td>Good</td>\n",
       "<td>426.0</td>\n",
       "<td>2775.0</td>\n",
       "<td>0.1331</td>\n",
       "<td> (426.0/3201.0)</td></tr>\n",
       "<tr><td>Total</td>\n",
       "<td>2313.0</td>\n",
       "<td>4346.0</td>\n",
       "<td>0.2999</td>\n",
       "<td> (1997.0/6659.0)</td></tr></table></div>"
      ],
      "text/plain": [
       "       Bad    Good    Error    Rate\n",
       "-----  -----  ------  -------  ---------------\n",
       "Bad    1887   1571    0.4543   (1571.0/3458.0)\n",
       "Good   426    2775    0.1331   (426.0/3201.0)\n",
       "Total  2313   4346    0.2999   (1997.0/6659.0)"
      ]
     },
     "metadata": {},
     "output_type": "display_data"
    },
    {
     "name": "stdout",
     "output_type": "stream",
     "text": [
      "Maximum Metrics: Maximum metrics at their respective thresholds\n",
      "\n"
     ]
    },
    {
     "data": {
      "text/html": [
       "<div style=\"overflow:auto\"><table style=\"width:50%\"><tr><td><b>metric</b></td>\n",
       "<td><b>threshold</b></td>\n",
       "<td><b>value</b></td>\n",
       "<td><b>idx</b></td></tr>\n",
       "<tr><td>max f1</td>\n",
       "<td>0.3913349</td>\n",
       "<td>0.7353915</td>\n",
       "<td>245.0</td></tr>\n",
       "<tr><td>max f2</td>\n",
       "<td>0.2539134</td>\n",
       "<td>0.8477035</td>\n",
       "<td>310.0</td></tr>\n",
       "<tr><td>max f0point5</td>\n",
       "<td>0.5536645</td>\n",
       "<td>0.7156856</td>\n",
       "<td>171.0</td></tr>\n",
       "<tr><td>max accuracy</td>\n",
       "<td>0.5400935</td>\n",
       "<td>0.7209791</td>\n",
       "<td>177.0</td></tr>\n",
       "<tr><td>max precision</td>\n",
       "<td>0.9971132</td>\n",
       "<td>1.0</td>\n",
       "<td>0.0</td></tr>\n",
       "<tr><td>max recall</td>\n",
       "<td>0.0288519</td>\n",
       "<td>1.0</td>\n",
       "<td>390.0</td></tr>\n",
       "<tr><td>max specificity</td>\n",
       "<td>0.9971132</td>\n",
       "<td>1.0</td>\n",
       "<td>0.0</td></tr>\n",
       "<tr><td>max absolute_mcc</td>\n",
       "<td>0.4661497</td>\n",
       "<td>0.4423586</td>\n",
       "<td>211.0</td></tr>\n",
       "<tr><td>max min_per_class_accuracy</td>\n",
       "<td>0.5136862</td>\n",
       "<td>0.7191503</td>\n",
       "<td>189.0</td></tr>\n",
       "<tr><td>max mean_per_class_accuracy</td>\n",
       "<td>0.5136862</td>\n",
       "<td>0.7201882</td>\n",
       "<td>189.0</td></tr></table></div>"
      ],
      "text/plain": [
       "metric                       threshold    value     idx\n",
       "---------------------------  -----------  --------  -----\n",
       "max f1                       0.391335     0.735392  245\n",
       "max f2                       0.253913     0.847704  310\n",
       "max f0point5                 0.553664     0.715686  171\n",
       "max accuracy                 0.540093     0.720979  177\n",
       "max precision                0.997113     1         0\n",
       "max recall                   0.0288519    1         390\n",
       "max specificity              0.997113     1         0\n",
       "max absolute_mcc             0.46615      0.442359  211\n",
       "max min_per_class_accuracy   0.513686     0.71915   189\n",
       "max mean_per_class_accuracy  0.513686     0.720188  189"
      ]
     },
     "metadata": {},
     "output_type": "display_data"
    },
    {
     "name": "stdout",
     "output_type": "stream",
     "text": [
      "Gains/Lift Table: Avg response rate: 48.07 %, avg score: 49.50 %\n",
      "\n"
     ]
    },
    {
     "data": {
      "text/html": [
       "<div style=\"overflow:auto\"><table style=\"width:50%\"><tr><td><b></b></td>\n",
       "<td><b>group</b></td>\n",
       "<td><b>cumulative_data_fraction</b></td>\n",
       "<td><b>lower_threshold</b></td>\n",
       "<td><b>lift</b></td>\n",
       "<td><b>cumulative_lift</b></td>\n",
       "<td><b>response_rate</b></td>\n",
       "<td><b>score</b></td>\n",
       "<td><b>cumulative_response_rate</b></td>\n",
       "<td><b>cumulative_score</b></td>\n",
       "<td><b>capture_rate</b></td>\n",
       "<td><b>cumulative_capture_rate</b></td>\n",
       "<td><b>gain</b></td>\n",
       "<td><b>cumulative_gain</b></td></tr>\n",
       "<tr><td></td>\n",
       "<td>1</td>\n",
       "<td>0.0100616</td>\n",
       "<td>0.9434623</td>\n",
       "<td>1.9871402</td>\n",
       "<td>1.9871402</td>\n",
       "<td>0.9552239</td>\n",
       "<td>0.9666684</td>\n",
       "<td>0.9552239</td>\n",
       "<td>0.9666684</td>\n",
       "<td>0.0199938</td>\n",
       "<td>0.0199938</td>\n",
       "<td>98.7140213</td>\n",
       "<td>98.7140213</td></tr>\n",
       "<tr><td></td>\n",
       "<td>2</td>\n",
       "<td>0.0204235</td>\n",
       "<td>0.9183673</td>\n",
       "<td>1.9295419</td>\n",
       "<td>1.9579176</td>\n",
       "<td>0.9275362</td>\n",
       "<td>0.9308682</td>\n",
       "<td>0.9411765</td>\n",
       "<td>0.9485050</td>\n",
       "<td>0.0199938</td>\n",
       "<td>0.0399875</td>\n",
       "<td>92.9541946</td>\n",
       "<td>95.7917563</td></tr>\n",
       "<tr><td></td>\n",
       "<td>3</td>\n",
       "<td>0.0300345</td>\n",
       "<td>0.8952150</td>\n",
       "<td>1.9827739</td>\n",
       "<td>1.9658716</td>\n",
       "<td>0.953125</td>\n",
       "<td>0.9054872</td>\n",
       "<td>0.945</td>\n",
       "<td>0.9347393</td>\n",
       "<td>0.0190565</td>\n",
       "<td>0.0590440</td>\n",
       "<td>98.2773938</td>\n",
       "<td>96.5871603</td></tr>\n",
       "<tr><td></td>\n",
       "<td>4</td>\n",
       "<td>0.0400961</td>\n",
       "<td>0.8771482</td>\n",
       "<td>1.8939930</td>\n",
       "<td>1.9478347</td>\n",
       "<td>0.9104478</td>\n",
       "<td>0.8867519</td>\n",
       "<td>0.9363296</td>\n",
       "<td>0.9226975</td>\n",
       "<td>0.0190565</td>\n",
       "<td>0.0781006</td>\n",
       "<td>89.3993015</td>\n",
       "<td>94.7834654</td></tr>\n",
       "<tr><td></td>\n",
       "<td>5</td>\n",
       "<td>0.0500075</td>\n",
       "<td>0.8608658</td>\n",
       "<td>1.8596509</td>\n",
       "<td>1.9303568</td>\n",
       "<td>0.8939394</td>\n",
       "<td>0.8681055</td>\n",
       "<td>0.9279279</td>\n",
       "<td>0.9118775</td>\n",
       "<td>0.0184317</td>\n",
       "<td>0.0965323</td>\n",
       "<td>85.9650867</td>\n",
       "<td>93.0356786</td></tr>\n",
       "<tr><td></td>\n",
       "<td>6</td>\n",
       "<td>0.1000150</td>\n",
       "<td>0.8022484</td>\n",
       "<td>1.8366501</td>\n",
       "<td>1.8835035</td>\n",
       "<td>0.8828829</td>\n",
       "<td>0.8304892</td>\n",
       "<td>0.9054054</td>\n",
       "<td>0.8711833</td>\n",
       "<td>0.0918463</td>\n",
       "<td>0.1883786</td>\n",
       "<td>83.6650146</td>\n",
       "<td>88.3503466</td></tr>\n",
       "<tr><td></td>\n",
       "<td>7</td>\n",
       "<td>0.1500225</td>\n",
       "<td>0.7545596</td>\n",
       "<td>1.7054608</td>\n",
       "<td>1.8241559</td>\n",
       "<td>0.8198198</td>\n",
       "<td>0.7763513</td>\n",
       "<td>0.8768769</td>\n",
       "<td>0.8395727</td>\n",
       "<td>0.0852858</td>\n",
       "<td>0.2736645</td>\n",
       "<td>70.5460850</td>\n",
       "<td>82.4155927</td></tr>\n",
       "<tr><td></td>\n",
       "<td>8</td>\n",
       "<td>0.2000300</td>\n",
       "<td>0.7116075</td>\n",
       "<td>1.5930129</td>\n",
       "<td>1.7663702</td>\n",
       "<td>0.7657658</td>\n",
       "<td>0.7324253</td>\n",
       "<td>0.8490991</td>\n",
       "<td>0.8127858</td>\n",
       "<td>0.0796626</td>\n",
       "<td>0.3533271</td>\n",
       "<td>59.3012882</td>\n",
       "<td>76.6370166</td></tr>\n",
       "<tr><td></td>\n",
       "<td>9</td>\n",
       "<td>0.3001952</td>\n",
       "<td>0.6487180</td>\n",
       "<td>1.4097300</td>\n",
       "<td>1.6473712</td>\n",
       "<td>0.6776612</td>\n",
       "<td>0.6795331</td>\n",
       "<td>0.7918959</td>\n",
       "<td>0.7683238</td>\n",
       "<td>0.1412059</td>\n",
       "<td>0.4945330</td>\n",
       "<td>40.9729999</td>\n",
       "<td>64.7371171</td></tr>\n",
       "<tr><td></td>\n",
       "<td>10</td>\n",
       "<td>0.4000601</td>\n",
       "<td>0.5793575</td>\n",
       "<td>1.2387877</td>\n",
       "<td>1.5453787</td>\n",
       "<td>0.5954887</td>\n",
       "<td>0.6151148</td>\n",
       "<td>0.7428679</td>\n",
       "<td>0.7300790</td>\n",
       "<td>0.1237113</td>\n",
       "<td>0.6182443</td>\n",
       "<td>23.8787691</td>\n",
       "<td>54.5378673</td></tr>\n",
       "<tr><td></td>\n",
       "<td>11</td>\n",
       "<td>0.5000751</td>\n",
       "<td>0.5053397</td>\n",
       "<td>1.0838735</td>\n",
       "<td>1.4530776</td>\n",
       "<td>0.5210210</td>\n",
       "<td>0.5426814</td>\n",
       "<td>0.6984985</td>\n",
       "<td>0.6925995</td>\n",
       "<td>0.1084036</td>\n",
       "<td>0.7266479</td>\n",
       "<td>8.3873470</td>\n",
       "<td>45.3077632</td></tr>\n",
       "<tr><td></td>\n",
       "<td>12</td>\n",
       "<td>0.5999399</td>\n",
       "<td>0.4353101</td>\n",
       "<td>0.9697580</td>\n",
       "<td>1.3726252</td>\n",
       "<td>0.4661654</td>\n",
       "<td>0.4709107</td>\n",
       "<td>0.6598248</td>\n",
       "<td>0.6556976</td>\n",
       "<td>0.0968447</td>\n",
       "<td>0.8234927</td>\n",
       "<td>-3.0241959</td>\n",
       "<td>37.2625185</td></tr>\n",
       "<tr><td></td>\n",
       "<td>13</td>\n",
       "<td>0.6999549</td>\n",
       "<td>0.3526921</td>\n",
       "<td>0.7652709</td>\n",
       "<td>1.2858417</td>\n",
       "<td>0.3678679</td>\n",
       "<td>0.3931107</td>\n",
       "<td>0.6181077</td>\n",
       "<td>0.6181772</td>\n",
       "<td>0.0765386</td>\n",
       "<td>0.9000312</td>\n",
       "<td>-23.4729106</td>\n",
       "<td>28.5841671</td></tr>\n",
       "<tr><td></td>\n",
       "<td>14</td>\n",
       "<td>0.7999700</td>\n",
       "<td>0.2710134</td>\n",
       "<td>0.5872283</td>\n",
       "<td>1.1984986</td>\n",
       "<td>0.2822823</td>\n",
       "<td>0.3132726</td>\n",
       "<td>0.5761216</td>\n",
       "<td>0.5800569</td>\n",
       "<td>0.0587316</td>\n",
       "<td>0.9587629</td>\n",
       "<td>-41.2771722</td>\n",
       "<td>19.8498604</td></tr>\n",
       "<tr><td></td>\n",
       "<td>15</td>\n",
       "<td>0.9013365</td>\n",
       "<td>0.1632653</td>\n",
       "<td>0.3205184</td>\n",
       "<td>1.0997587</td>\n",
       "<td>0.1540741</td>\n",
       "<td>0.2197581</td>\n",
       "<td>0.5286571</td>\n",
       "<td>0.5395368</td>\n",
       "<td>0.0324898</td>\n",
       "<td>0.9912527</td>\n",
       "<td>-67.9481643</td>\n",
       "<td>9.9758739</td></tr>\n",
       "<tr><td></td>\n",
       "<td>16</td>\n",
       "<td>1.0</td>\n",
       "<td>0.0</td>\n",
       "<td>0.0886576</td>\n",
       "<td>1.0</td>\n",
       "<td>0.0426180</td>\n",
       "<td>0.0883263</td>\n",
       "<td>0.4807028</td>\n",
       "<td>0.4950188</td>\n",
       "<td>0.0087473</td>\n",
       "<td>1.0</td>\n",
       "<td>-91.1342393</td>\n",
       "<td>0.0</td></tr></table></div>"
      ],
      "text/plain": [
       "    group    cumulative_data_fraction    lower_threshold    lift       cumulative_lift    response_rate    score      cumulative_response_rate    cumulative_score    capture_rate    cumulative_capture_rate    gain      cumulative_gain\n",
       "--  -------  --------------------------  -----------------  ---------  -----------------  ---------------  ---------  --------------------------  ------------------  --------------  -------------------------  --------  -----------------\n",
       "    1        0.0100616                   0.943462           1.98714    1.98714            0.955224         0.966668   0.955224                    0.966668            0.0199938       0.0199938                  98.714    98.714\n",
       "    2        0.0204235                   0.918367           1.92954    1.95792            0.927536         0.930868   0.941176                    0.948505            0.0199938       0.0399875                  92.9542   95.7918\n",
       "    3        0.0300345                   0.895215           1.98277    1.96587            0.953125         0.905487   0.945                       0.934739            0.0190565       0.059044                   98.2774   96.5872\n",
       "    4        0.0400961                   0.877148           1.89399    1.94783            0.910448         0.886752   0.93633                     0.922698            0.0190565       0.0781006                  89.3993   94.7835\n",
       "    5        0.0500075                   0.860866           1.85965    1.93036            0.893939         0.868106   0.927928                    0.911877            0.0184317       0.0965323                  85.9651   93.0357\n",
       "    6        0.100015                    0.802248           1.83665    1.8835             0.882883         0.830489   0.905405                    0.871183            0.0918463       0.188379                   83.665    88.3503\n",
       "    7        0.150023                    0.75456            1.70546    1.82416            0.81982          0.776351   0.876877                    0.839573            0.0852858       0.273664                   70.5461   82.4156\n",
       "    8        0.20003                     0.711608           1.59301    1.76637            0.765766         0.732425   0.849099                    0.812786            0.0796626       0.353327                   59.3013   76.637\n",
       "    9        0.300195                    0.648718           1.40973    1.64737            0.677661         0.679533   0.791896                    0.768324            0.141206        0.494533                   40.973    64.7371\n",
       "    10       0.40006                     0.579357           1.23879    1.54538            0.595489         0.615115   0.742868                    0.730079            0.123711        0.618244                   23.8788   54.5379\n",
       "    11       0.500075                    0.50534            1.08387    1.45308            0.521021         0.542681   0.698498                    0.6926              0.108404        0.726648                   8.38735   45.3078\n",
       "    12       0.59994                     0.43531            0.969758   1.37263            0.466165         0.470911   0.659825                    0.655698            0.0968447       0.823493                   -3.0242   37.2625\n",
       "    13       0.699955                    0.352692           0.765271   1.28584            0.367868         0.393111   0.618108                    0.618177            0.0765386       0.900031                   -23.4729  28.5842\n",
       "    14       0.79997                     0.271013           0.587228   1.1985             0.282282         0.313273   0.576122                    0.580057            0.0587316       0.958763                   -41.2772  19.8499\n",
       "    15       0.901337                    0.163265           0.320518   1.09976            0.154074         0.219758   0.528657                    0.539537            0.0324898       0.991253                   -67.9482  9.97587\n",
       "    16       1                           0                  0.0886576  1                  0.042618         0.0883263  0.480703                    0.495019            0.00874727      1                          -91.1342  0"
      ]
     },
     "metadata": {},
     "output_type": "display_data"
    },
    {
     "name": "stdout",
     "output_type": "stream",
     "text": [
      "\n"
     ]
    },
    {
     "data": {
      "text/plain": []
     },
     "execution_count": 376,
     "metadata": {},
     "output_type": "execute_result"
    }
   ],
   "source": [
    "aml.leader.model_performance(test_data=test).plot()\n",
    "aml.leader.model_performance(test_data=test)"
   ]
  },
  {
   "cell_type": "code",
   "execution_count": 377,
   "metadata": {},
   "outputs": [],
   "source": [
    "# Get the best non-ensemble model\n",
    "model1 = h2o.get_model(lb[0,\"model_id\"])"
   ]
  },
  {
   "cell_type": "code",
   "execution_count": 378,
   "metadata": {},
   "outputs": [
    {
     "name": "stdout",
     "output_type": "stream",
     "text": [
      "\n",
      "ModelMetricsBinomial: drf\n",
      "** Reported on train data. **\n",
      "\n",
      "MSE: 0.18561399068124107\n",
      "RMSE: 0.43082942179154976\n",
      "LogLoss: 0.5601690791932443\n",
      "Mean Per-Class Error: 0.28392645350820256\n",
      "AUC: 0.7928014833591512\n",
      "pr_auc: 0.7742341341125886\n",
      "Gini: 0.5856029667183025\n",
      "Confusion Matrix (Act/Pred) for max f1 @ threshold = 0.37127196575676547: \n"
     ]
    },
    {
     "data": {
      "text/html": [
       "<div style=\"overflow:auto\"><table style=\"width:50%\"><tr><td><b></b></td>\n",
       "<td><b>Bad</b></td>\n",
       "<td><b>Good</b></td>\n",
       "<td><b>Error</b></td>\n",
       "<td><b>Rate</b></td></tr>\n",
       "<tr><td>Bad</td>\n",
       "<td>5321.0</td>\n",
       "<td>4936.0</td>\n",
       "<td>0.4812</td>\n",
       "<td> (4936.0/10257.0)</td></tr>\n",
       "<tr><td>Good</td>\n",
       "<td>1285.0</td>\n",
       "<td>8705.0</td>\n",
       "<td>0.1286</td>\n",
       "<td> (1285.0/9990.0)</td></tr>\n",
       "<tr><td>Total</td>\n",
       "<td>6606.0</td>\n",
       "<td>13641.0</td>\n",
       "<td>0.3073</td>\n",
       "<td> (6221.0/20247.0)</td></tr></table></div>"
      ],
      "text/plain": [
       "       Bad    Good    Error    Rate\n",
       "-----  -----  ------  -------  ----------------\n",
       "Bad    5321   4936    0.4812   (4936.0/10257.0)\n",
       "Good   1285   8705    0.1286   (1285.0/9990.0)\n",
       "Total  6606   13641   0.3073   (6221.0/20247.0)"
      ]
     },
     "metadata": {},
     "output_type": "display_data"
    },
    {
     "name": "stdout",
     "output_type": "stream",
     "text": [
      "Maximum Metrics: Maximum metrics at their respective thresholds\n",
      "\n"
     ]
    },
    {
     "data": {
      "text/html": [
       "<div style=\"overflow:auto\"><table style=\"width:50%\"><tr><td><b>metric</b></td>\n",
       "<td><b>threshold</b></td>\n",
       "<td><b>value</b></td>\n",
       "<td><b>idx</b></td></tr>\n",
       "<tr><td>max f1</td>\n",
       "<td>0.3712720</td>\n",
       "<td>0.7367441</td>\n",
       "<td>262.0</td></tr>\n",
       "<tr><td>max f2</td>\n",
       "<td>0.1707834</td>\n",
       "<td>0.8472919</td>\n",
       "<td>342.0</td></tr>\n",
       "<tr><td>max f0point5</td>\n",
       "<td>0.5521526</td>\n",
       "<td>0.7196422</td>\n",
       "<td>179.0</td></tr>\n",
       "<tr><td>max accuracy</td>\n",
       "<td>0.4978006</td>\n",
       "<td>0.7158591</td>\n",
       "<td>205.0</td></tr>\n",
       "<tr><td>max precision</td>\n",
       "<td>0.9776760</td>\n",
       "<td>0.9802956</td>\n",
       "<td>7.0</td></tr>\n",
       "<tr><td>max recall</td>\n",
       "<td>0.0000269</td>\n",
       "<td>1.0</td>\n",
       "<td>399.0</td></tr>\n",
       "<tr><td>max specificity</td>\n",
       "<td>0.9997857</td>\n",
       "<td>0.9997075</td>\n",
       "<td>0.0</td></tr>\n",
       "<tr><td>max absolute_mcc</td>\n",
       "<td>0.4978006</td>\n",
       "<td>0.4322650</td>\n",
       "<td>205.0</td></tr>\n",
       "<tr><td>max min_per_class_accuracy</td>\n",
       "<td>0.5077538</td>\n",
       "<td>0.7148148</td>\n",
       "<td>201.0</td></tr>\n",
       "<tr><td>max mean_per_class_accuracy</td>\n",
       "<td>0.4978006</td>\n",
       "<td>0.7160735</td>\n",
       "<td>205.0</td></tr></table></div>"
      ],
      "text/plain": [
       "metric                       threshold    value     idx\n",
       "---------------------------  -----------  --------  -----\n",
       "max f1                       0.371272     0.736744  262\n",
       "max f2                       0.170783     0.847292  342\n",
       "max f0point5                 0.552153     0.719642  179\n",
       "max accuracy                 0.497801     0.715859  205\n",
       "max precision                0.977676     0.980296  7\n",
       "max recall                   2.6876e-05   1         399\n",
       "max specificity              0.999786     0.999708  0\n",
       "max absolute_mcc             0.497801     0.432265  205\n",
       "max min_per_class_accuracy   0.507754     0.714815  201\n",
       "max mean_per_class_accuracy  0.497801     0.716074  205"
      ]
     },
     "metadata": {},
     "output_type": "display_data"
    },
    {
     "name": "stdout",
     "output_type": "stream",
     "text": [
      "Gains/Lift Table: Avg response rate: 49.34 %, avg score: 49.47 %\n",
      "\n"
     ]
    },
    {
     "data": {
      "text/html": [
       "<div style=\"overflow:auto\"><table style=\"width:50%\"><tr><td><b></b></td>\n",
       "<td><b>group</b></td>\n",
       "<td><b>cumulative_data_fraction</b></td>\n",
       "<td><b>lower_threshold</b></td>\n",
       "<td><b>lift</b></td>\n",
       "<td><b>cumulative_lift</b></td>\n",
       "<td><b>response_rate</b></td>\n",
       "<td><b>score</b></td>\n",
       "<td><b>cumulative_response_rate</b></td>\n",
       "<td><b>cumulative_score</b></td>\n",
       "<td><b>capture_rate</b></td>\n",
       "<td><b>cumulative_capture_rate</b></td>\n",
       "<td><b>gain</b></td>\n",
       "<td><b>cumulative_gain</b></td></tr>\n",
       "<tr><td></td>\n",
       "<td>1</td>\n",
       "<td>0.0100262</td>\n",
       "<td>0.9749057</td>\n",
       "<td>1.9867912</td>\n",
       "<td>1.9867912</td>\n",
       "<td>0.9802956</td>\n",
       "<td>0.9910898</td>\n",
       "<td>0.9802956</td>\n",
       "<td>0.9910898</td>\n",
       "<td>0.0199199</td>\n",
       "<td>0.0199199</td>\n",
       "<td>98.6791225</td>\n",
       "<td>98.6791225</td></tr>\n",
       "<tr><td></td>\n",
       "<td>2</td>\n",
       "<td>0.0200030</td>\n",
       "<td>0.9408590</td>\n",
       "<td>1.9163604</td>\n",
       "<td>1.9516628</td>\n",
       "<td>0.9455446</td>\n",
       "<td>0.9554100</td>\n",
       "<td>0.9629630</td>\n",
       "<td>0.9732940</td>\n",
       "<td>0.0191191</td>\n",
       "<td>0.0390390</td>\n",
       "<td>91.6360420</td>\n",
       "<td>95.1662774</td></tr>\n",
       "<tr><td></td>\n",
       "<td>3</td>\n",
       "<td>0.0300291</td>\n",
       "<td>0.9187726</td>\n",
       "<td>1.8270492</td>\n",
       "<td>1.9100566</td>\n",
       "<td>0.9014778</td>\n",
       "<td>0.9295882</td>\n",
       "<td>0.9424342</td>\n",
       "<td>0.9587014</td>\n",
       "<td>0.0183183</td>\n",
       "<td>0.0573574</td>\n",
       "<td>82.7049217</td>\n",
       "<td>91.0056603</td></tr>\n",
       "<tr><td></td>\n",
       "<td>4</td>\n",
       "<td>0.0400059</td>\n",
       "<td>0.9000735</td>\n",
       "<td>1.8561606</td>\n",
       "<td>1.8966159</td>\n",
       "<td>0.9158416</td>\n",
       "<td>0.9089251</td>\n",
       "<td>0.9358025</td>\n",
       "<td>0.9462881</td>\n",
       "<td>0.0185185</td>\n",
       "<td>0.0758759</td>\n",
       "<td>85.6160616</td>\n",
       "<td>89.6615875</td></tr>\n",
       "<tr><td></td>\n",
       "<td>5</td>\n",
       "<td>0.0500321</td>\n",
       "<td>0.8843638</td>\n",
       "<td>1.8570008</td>\n",
       "<td>1.8886772</td>\n",
       "<td>0.9162562</td>\n",
       "<td>0.8923294</td>\n",
       "<td>0.9318855</td>\n",
       "<td>0.9354750</td>\n",
       "<td>0.0186186</td>\n",
       "<td>0.0944945</td>\n",
       "<td>85.7000843</td>\n",
       "<td>88.8677226</td></tr>\n",
       "<tr><td></td>\n",
       "<td>6</td>\n",
       "<td>0.1000148</td>\n",
       "<td>0.8190338</td>\n",
       "<td>1.7343333</td>\n",
       "<td>1.8115434</td>\n",
       "<td>0.8557312</td>\n",
       "<td>0.8491270</td>\n",
       "<td>0.8938272</td>\n",
       "<td>0.8923223</td>\n",
       "<td>0.0866867</td>\n",
       "<td>0.1811812</td>\n",
       "<td>73.4333345</td>\n",
       "<td>81.1543395</td></tr>\n",
       "<tr><td></td>\n",
       "<td>7</td>\n",
       "<td>0.1499975</td>\n",
       "<td>0.7674148</td>\n",
       "<td>1.6181771</td>\n",
       "<td>1.7471092</td>\n",
       "<td>0.7984190</td>\n",
       "<td>0.7926486</td>\n",
       "<td>0.8620349</td>\n",
       "<td>0.8591087</td>\n",
       "<td>0.0808809</td>\n",
       "<td>0.2620621</td>\n",
       "<td>61.8177070</td>\n",
       "<td>74.7109177</td></tr>\n",
       "<tr><td></td>\n",
       "<td>8</td>\n",
       "<td>0.2000296</td>\n",
       "<td>0.7243566</td>\n",
       "<td>1.5705632</td>\n",
       "<td>1.7029509</td>\n",
       "<td>0.7749260</td>\n",
       "<td>0.7457094</td>\n",
       "<td>0.8402469</td>\n",
       "<td>0.8307449</td>\n",
       "<td>0.0785786</td>\n",
       "<td>0.3406406</td>\n",
       "<td>57.0563159</td>\n",
       "<td>70.2950877</td></tr>\n",
       "<tr><td></td>\n",
       "<td>9</td>\n",
       "<td>0.2999951</td>\n",
       "<td>0.6511634</td>\n",
       "<td>1.4299238</td>\n",
       "<td>1.6119718</td>\n",
       "<td>0.7055336</td>\n",
       "<td>0.6876441</td>\n",
       "<td>0.7953573</td>\n",
       "<td>0.7830603</td>\n",
       "<td>0.1429429</td>\n",
       "<td>0.4835836</td>\n",
       "<td>42.9923797</td>\n",
       "<td>61.1971817</td></tr>\n",
       "<tr><td></td>\n",
       "<td>10</td>\n",
       "<td>0.4000099</td>\n",
       "<td>0.5804001</td>\n",
       "<td>1.2600736</td>\n",
       "<td>1.5239864</td>\n",
       "<td>0.6217284</td>\n",
       "<td>0.6167075</td>\n",
       "<td>0.7519447</td>\n",
       "<td>0.7414670</td>\n",
       "<td>0.1260260</td>\n",
       "<td>0.6096096</td>\n",
       "<td>26.0073555</td>\n",
       "<td>52.3986389</td></tr>\n",
       "<tr><td></td>\n",
       "<td>11</td>\n",
       "<td>0.5000247</td>\n",
       "<td>0.5041754</td>\n",
       "<td>1.0809209</td>\n",
       "<td>1.4353645</td>\n",
       "<td>0.5333333</td>\n",
       "<td>0.5429990</td>\n",
       "<td>0.7082181</td>\n",
       "<td>0.7017695</td>\n",
       "<td>0.1081081</td>\n",
       "<td>0.7177177</td>\n",
       "<td>8.0920921</td>\n",
       "<td>43.5364543</td></tr>\n",
       "<tr><td></td>\n",
       "<td>12</td>\n",
       "<td>0.5999901</td>\n",
       "<td>0.4294915</td>\n",
       "<td>0.9322542</td>\n",
       "<td>1.3515404</td>\n",
       "<td>0.4599802</td>\n",
       "<td>0.4681700</td>\n",
       "<td>0.6668587</td>\n",
       "<td>0.6628490</td>\n",
       "<td>0.0931932</td>\n",
       "<td>0.8109109</td>\n",
       "<td>-6.7745760</td>\n",
       "<td>35.1540436</td></tr>\n",
       "<tr><td></td>\n",
       "<td>13</td>\n",
       "<td>0.7000049</td>\n",
       "<td>0.3495107</td>\n",
       "<td>0.7946770</td>\n",
       "<td>1.2719773</td>\n",
       "<td>0.3920988</td>\n",
       "<td>0.3891870</td>\n",
       "<td>0.6276018</td>\n",
       "<td>0.6237490</td>\n",
       "<td>0.0794795</td>\n",
       "<td>0.8903904</td>\n",
       "<td>-20.5322953</td>\n",
       "<td>27.1977297</td></tr>\n",
       "<tr><td></td>\n",
       "<td>14</td>\n",
       "<td>0.7999704</td>\n",
       "<td>0.2602476</td>\n",
       "<td>0.5667625</td>\n",
       "<td>1.1838527</td>\n",
       "<td>0.2796443</td>\n",
       "<td>0.3059028</td>\n",
       "<td>0.5841205</td>\n",
       "<td>0.5840305</td>\n",
       "<td>0.0566567</td>\n",
       "<td>0.9470470</td>\n",
       "<td>-43.3237486</td>\n",
       "<td>18.3852662</td></tr>\n",
       "<tr><td></td>\n",
       "<td>15</td>\n",
       "<td>0.8999852</td>\n",
       "<td>0.1438124</td>\n",
       "<td>0.3903326</td>\n",
       "<td>1.0956692</td>\n",
       "<td>0.1925926</td>\n",
       "<td>0.2047611</td>\n",
       "<td>0.5406103</td>\n",
       "<td>0.5418825</td>\n",
       "<td>0.0390390</td>\n",
       "<td>0.9860861</td>\n",
       "<td>-60.9667445</td>\n",
       "<td>9.5669245</td></tr>\n",
       "<tr><td></td>\n",
       "<td>16</td>\n",
       "<td>1.0</td>\n",
       "<td>0.0</td>\n",
       "<td>0.1391185</td>\n",
       "<td>1.0</td>\n",
       "<td>0.0686420</td>\n",
       "<td>0.0705020</td>\n",
       "<td>0.4934064</td>\n",
       "<td>0.4947375</td>\n",
       "<td>0.0139139</td>\n",
       "<td>1.0</td>\n",
       "<td>-86.0881474</td>\n",
       "<td>0.0</td></tr></table></div>"
      ],
      "text/plain": [
       "    group    cumulative_data_fraction    lower_threshold    lift      cumulative_lift    response_rate    score     cumulative_response_rate    cumulative_score    capture_rate    cumulative_capture_rate    gain      cumulative_gain\n",
       "--  -------  --------------------------  -----------------  --------  -----------------  ---------------  --------  --------------------------  ------------------  --------------  -------------------------  --------  -----------------\n",
       "    1        0.0100262                   0.974906           1.98679   1.98679            0.980296         0.99109   0.980296                    0.99109             0.0199199       0.0199199                  98.6791   98.6791\n",
       "    2        0.020003                    0.940859           1.91636   1.95166            0.945545         0.95541   0.962963                    0.973294            0.0191191       0.039039                   91.636    95.1663\n",
       "    3        0.0300291                   0.918773           1.82705   1.91006            0.901478         0.929588  0.942434                    0.958701            0.0183183       0.0573574                  82.7049   91.0057\n",
       "    4        0.0400059                   0.900073           1.85616   1.89662            0.915842         0.908925  0.935802                    0.946288            0.0185185       0.0758759                  85.6161   89.6616\n",
       "    5        0.0500321                   0.884364           1.857     1.88868            0.916256         0.892329  0.931885                    0.935475            0.0186186       0.0944945                  85.7001   88.8677\n",
       "    6        0.100015                    0.819034           1.73433   1.81154            0.855731         0.849127  0.893827                    0.892322            0.0866867       0.181181                   73.4333   81.1543\n",
       "    7        0.149998                    0.767415           1.61818   1.74711            0.798419         0.792649  0.862035                    0.859109            0.0808809       0.262062                   61.8177   74.7109\n",
       "    8        0.20003                     0.724357           1.57056   1.70295            0.774926         0.745709  0.840247                    0.830745            0.0785786       0.340641                   57.0563   70.2951\n",
       "    9        0.299995                    0.651163           1.42992   1.61197            0.705534         0.687644  0.795357                    0.78306             0.142943        0.483584                   42.9924   61.1972\n",
       "    10       0.40001                     0.5804             1.26007   1.52399            0.621728         0.616707  0.751945                    0.741467            0.126026        0.60961                    26.0074   52.3986\n",
       "    11       0.500025                    0.504175           1.08092   1.43536            0.533333         0.542999  0.708218                    0.701769            0.108108        0.717718                   8.09209   43.5365\n",
       "    12       0.59999                     0.429492           0.932254  1.35154            0.45998          0.46817   0.666859                    0.662849            0.0931932       0.810911                   -6.77458  35.154\n",
       "    13       0.700005                    0.349511           0.794677  1.27198            0.392099         0.389187  0.627602                    0.623749            0.0794795       0.89039                    -20.5323  27.1977\n",
       "    14       0.79997                     0.260248           0.566763  1.18385            0.279644         0.305903  0.584121                    0.58403             0.0566567       0.947047                   -43.3237  18.3853\n",
       "    15       0.899985                    0.143812           0.390333  1.09567            0.192593         0.204761  0.54061                     0.541882            0.039039        0.986086                   -60.9667  9.56692\n",
       "    16       1                           0                  0.139119  1                  0.068642         0.070502  0.493406                    0.494737            0.0139139       1                          -86.0881  0"
      ]
     },
     "metadata": {},
     "output_type": "display_data"
    },
    {
     "name": "stdout",
     "output_type": "stream",
     "text": [
      "\n"
     ]
    },
    {
     "data": {
      "text/plain": []
     },
     "execution_count": 378,
     "metadata": {},
     "output_type": "execute_result"
    }
   ],
   "source": [
    "perf_cls = model1.model_performance()\n",
    "perf_cls"
   ]
  },
  {
   "cell_type": "code",
   "execution_count": 380,
   "metadata": {},
   "outputs": [
    {
     "data": {
      "image/png": "[encoded data removed]",
      "text/plain": [
       "<Figure size 1008x720 with 1 Axes>"
      ]
     },
     "metadata": {
      "needs_background": "light"
     },
     "output_type": "display_data"
    }
   ],
   "source": [
    "model1.varimp_plot()"
   ]
  },
  {
   "cell_type": "code",
   "execution_count": 381,
   "metadata": {},
   "outputs": [
    {
     "name": "stdout",
     "output_type": "stream",
     "text": [
      "Model Details\n",
      "=============\n",
      "H2ORandomForestEstimator :  Distributed Random Forest\n",
      "Model Key:  DRF_1_AutoML_20191124_002527\n",
      "\n",
      "Model Summary: \n"
     ]
    },
    {
     "data": {
      "text/html": [
       "<div style=\"overflow:auto\"><table style=\"width:50%\"><tr><td><b></b></td>\n",
       "<td><b>number_of_trees</b></td>\n",
       "<td><b>number_of_internal_trees</b></td>\n",
       "<td><b>model_size_in_bytes</b></td>\n",
       "<td><b>min_depth</b></td>\n",
       "<td><b>max_depth</b></td>\n",
       "<td><b>mean_depth</b></td>\n",
       "<td><b>min_leaves</b></td>\n",
       "<td><b>max_leaves</b></td>\n",
       "<td><b>mean_leaves</b></td></tr>\n",
       "<tr><td></td>\n",
       "<td>49.0</td>\n",
       "<td>49.0</td>\n",
       "<td>1660708.0</td>\n",
       "<td>20.0</td>\n",
       "<td>20.0</td>\n",
       "<td>20.0</td>\n",
       "<td>2345.0</td>\n",
       "<td>2997.0</td>\n",
       "<td>2694.0815</td></tr></table></div>"
      ],
      "text/plain": [
       "    number_of_trees    number_of_internal_trees    model_size_in_bytes    min_depth    max_depth    mean_depth    min_leaves    max_leaves    mean_leaves\n",
       "--  -----------------  --------------------------  ---------------------  -----------  -----------  ------------  ------------  ------------  -------------\n",
       "    49                 49                          1.66071e+06            20           20           20            2345          2997          2694.08"
      ]
     },
     "metadata": {},
     "output_type": "display_data"
    },
    {
     "name": "stdout",
     "output_type": "stream",
     "text": [
      "\n",
      "\n",
      "ModelMetricsBinomial: drf\n",
      "** Reported on train data. **\n",
      "\n",
      "MSE: 0.18561399068124107\n",
      "RMSE: 0.43082942179154976\n",
      "LogLoss: 0.5601690791932443\n",
      "Mean Per-Class Error: 0.28392645350820256\n",
      "AUC: 0.7928014833591512\n",
      "pr_auc: 0.7742341341125886\n",
      "Gini: 0.5856029667183025\n",
      "Confusion Matrix (Act/Pred) for max f1 @ threshold = 0.37127196575676547: \n"
     ]
    },
    {
     "data": {
      "text/html": [
       "<div style=\"overflow:auto\"><table style=\"width:50%\"><tr><td><b></b></td>\n",
       "<td><b>Bad</b></td>\n",
       "<td><b>Good</b></td>\n",
       "<td><b>Error</b></td>\n",
       "<td><b>Rate</b></td></tr>\n",
       "<tr><td>Bad</td>\n",
       "<td>5321.0</td>\n",
       "<td>4936.0</td>\n",
       "<td>0.4812</td>\n",
       "<td> (4936.0/10257.0)</td></tr>\n",
       "<tr><td>Good</td>\n",
       "<td>1285.0</td>\n",
       "<td>8705.0</td>\n",
       "<td>0.1286</td>\n",
       "<td> (1285.0/9990.0)</td></tr>\n",
       "<tr><td>Total</td>\n",
       "<td>6606.0</td>\n",
       "<td>13641.0</td>\n",
       "<td>0.3073</td>\n",
       "<td> (6221.0/20247.0)</td></tr></table></div>"
      ],
      "text/plain": [
       "       Bad    Good    Error    Rate\n",
       "-----  -----  ------  -------  ----------------\n",
       "Bad    5321   4936    0.4812   (4936.0/10257.0)\n",
       "Good   1285   8705    0.1286   (1285.0/9990.0)\n",
       "Total  6606   13641   0.3073   (6221.0/20247.0)"
      ]
     },
     "metadata": {},
     "output_type": "display_data"
    },
    {
     "name": "stdout",
     "output_type": "stream",
     "text": [
      "Maximum Metrics: Maximum metrics at their respective thresholds\n",
      "\n"
     ]
    },
    {
     "data": {
      "text/html": [
       "<div style=\"overflow:auto\"><table style=\"width:50%\"><tr><td><b>metric</b></td>\n",
       "<td><b>threshold</b></td>\n",
       "<td><b>value</b></td>\n",
       "<td><b>idx</b></td></tr>\n",
       "<tr><td>max f1</td>\n",
       "<td>0.3712720</td>\n",
       "<td>0.7367441</td>\n",
       "<td>262.0</td></tr>\n",
       "<tr><td>max f2</td>\n",
       "<td>0.1707834</td>\n",
       "<td>0.8472919</td>\n",
       "<td>342.0</td></tr>\n",
       "<tr><td>max f0point5</td>\n",
       "<td>0.5521526</td>\n",
       "<td>0.7196422</td>\n",
       "<td>179.0</td></tr>\n",
       "<tr><td>max accuracy</td>\n",
       "<td>0.4978006</td>\n",
       "<td>0.7158591</td>\n",
       "<td>205.0</td></tr>\n",
       "<tr><td>max precision</td>\n",
       "<td>0.9776760</td>\n",
       "<td>0.9802956</td>\n",
       "<td>7.0</td></tr>\n",
       "<tr><td>max recall</td>\n",
       "<td>0.0000269</td>\n",
       "<td>1.0</td>\n",
       "<td>399.0</td></tr>\n",
       "<tr><td>max specificity</td>\n",
       "<td>0.9997857</td>\n",
       "<td>0.9997075</td>\n",
       "<td>0.0</td></tr>\n",
       "<tr><td>max absolute_mcc</td>\n",
       "<td>0.4978006</td>\n",
       "<td>0.4322650</td>\n",
       "<td>205.0</td></tr>\n",
       "<tr><td>max min_per_class_accuracy</td>\n",
       "<td>0.5077538</td>\n",
       "<td>0.7148148</td>\n",
       "<td>201.0</td></tr>\n",
       "<tr><td>max mean_per_class_accuracy</td>\n",
       "<td>0.4978006</td>\n",
       "<td>0.7160735</td>\n",
       "<td>205.0</td></tr></table></div>"
      ],
      "text/plain": [
       "metric                       threshold    value     idx\n",
       "---------------------------  -----------  --------  -----\n",
       "max f1                       0.371272     0.736744  262\n",
       "max f2                       0.170783     0.847292  342\n",
       "max f0point5                 0.552153     0.719642  179\n",
       "max accuracy                 0.497801     0.715859  205\n",
       "max precision                0.977676     0.980296  7\n",
       "max recall                   2.6876e-05   1         399\n",
       "max specificity              0.999786     0.999708  0\n",
       "max absolute_mcc             0.497801     0.432265  205\n",
       "max min_per_class_accuracy   0.507754     0.714815  201\n",
       "max mean_per_class_accuracy  0.497801     0.716074  205"
      ]
     },
     "metadata": {},
     "output_type": "display_data"
    },
    {
     "name": "stdout",
     "output_type": "stream",
     "text": [
      "Gains/Lift Table: Avg response rate: 49.34 %, avg score: 49.47 %\n",
      "\n"
     ]
    },
    {
     "data": {
      "text/html": [
       "<div style=\"overflow:auto\"><table style=\"width:50%\"><tr><td><b></b></td>\n",
       "<td><b>group</b></td>\n",
       "<td><b>cumulative_data_fraction</b></td>\n",
       "<td><b>lower_threshold</b></td>\n",
       "<td><b>lift</b></td>\n",
       "<td><b>cumulative_lift</b></td>\n",
       "<td><b>response_rate</b></td>\n",
       "<td><b>score</b></td>\n",
       "<td><b>cumulative_response_rate</b></td>\n",
       "<td><b>cumulative_score</b></td>\n",
       "<td><b>capture_rate</b></td>\n",
       "<td><b>cumulative_capture_rate</b></td>\n",
       "<td><b>gain</b></td>\n",
       "<td><b>cumulative_gain</b></td></tr>\n",
       "<tr><td></td>\n",
       "<td>1</td>\n",
       "<td>0.0100262</td>\n",
       "<td>0.9749057</td>\n",
       "<td>1.9867912</td>\n",
       "<td>1.9867912</td>\n",
       "<td>0.9802956</td>\n",
       "<td>0.9910898</td>\n",
       "<td>0.9802956</td>\n",
       "<td>0.9910898</td>\n",
       "<td>0.0199199</td>\n",
       "<td>0.0199199</td>\n",
       "<td>98.6791225</td>\n",
       "<td>98.6791225</td></tr>\n",
       "<tr><td></td>\n",
       "<td>2</td>\n",
       "<td>0.0200030</td>\n",
       "<td>0.9408590</td>\n",
       "<td>1.9163604</td>\n",
       "<td>1.9516628</td>\n",
       "<td>0.9455446</td>\n",
       "<td>0.9554100</td>\n",
       "<td>0.9629630</td>\n",
       "<td>0.9732940</td>\n",
       "<td>0.0191191</td>\n",
       "<td>0.0390390</td>\n",
       "<td>91.6360420</td>\n",
       "<td>95.1662774</td></tr>\n",
       "<tr><td></td>\n",
       "<td>3</td>\n",
       "<td>0.0300291</td>\n",
       "<td>0.9187726</td>\n",
       "<td>1.8270492</td>\n",
       "<td>1.9100566</td>\n",
       "<td>0.9014778</td>\n",
       "<td>0.9295882</td>\n",
       "<td>0.9424342</td>\n",
       "<td>0.9587014</td>\n",
       "<td>0.0183183</td>\n",
       "<td>0.0573574</td>\n",
       "<td>82.7049217</td>\n",
       "<td>91.0056603</td></tr>\n",
       "<tr><td></td>\n",
       "<td>4</td>\n",
       "<td>0.0400059</td>\n",
       "<td>0.9000735</td>\n",
       "<td>1.8561606</td>\n",
       "<td>1.8966159</td>\n",
       "<td>0.9158416</td>\n",
       "<td>0.9089251</td>\n",
       "<td>0.9358025</td>\n",
       "<td>0.9462881</td>\n",
       "<td>0.0185185</td>\n",
       "<td>0.0758759</td>\n",
       "<td>85.6160616</td>\n",
       "<td>89.6615875</td></tr>\n",
       "<tr><td></td>\n",
       "<td>5</td>\n",
       "<td>0.0500321</td>\n",
       "<td>0.8843638</td>\n",
       "<td>1.8570008</td>\n",
       "<td>1.8886772</td>\n",
       "<td>0.9162562</td>\n",
       "<td>0.8923294</td>\n",
       "<td>0.9318855</td>\n",
       "<td>0.9354750</td>\n",
       "<td>0.0186186</td>\n",
       "<td>0.0944945</td>\n",
       "<td>85.7000843</td>\n",
       "<td>88.8677226</td></tr>\n",
       "<tr><td></td>\n",
       "<td>6</td>\n",
       "<td>0.1000148</td>\n",
       "<td>0.8190338</td>\n",
       "<td>1.7343333</td>\n",
       "<td>1.8115434</td>\n",
       "<td>0.8557312</td>\n",
       "<td>0.8491270</td>\n",
       "<td>0.8938272</td>\n",
       "<td>0.8923223</td>\n",
       "<td>0.0866867</td>\n",
       "<td>0.1811812</td>\n",
       "<td>73.4333345</td>\n",
       "<td>81.1543395</td></tr>\n",
       "<tr><td></td>\n",
       "<td>7</td>\n",
       "<td>0.1499975</td>\n",
       "<td>0.7674148</td>\n",
       "<td>1.6181771</td>\n",
       "<td>1.7471092</td>\n",
       "<td>0.7984190</td>\n",
       "<td>0.7926486</td>\n",
       "<td>0.8620349</td>\n",
       "<td>0.8591087</td>\n",
       "<td>0.0808809</td>\n",
       "<td>0.2620621</td>\n",
       "<td>61.8177070</td>\n",
       "<td>74.7109177</td></tr>\n",
       "<tr><td></td>\n",
       "<td>8</td>\n",
       "<td>0.2000296</td>\n",
       "<td>0.7243566</td>\n",
       "<td>1.5705632</td>\n",
       "<td>1.7029509</td>\n",
       "<td>0.7749260</td>\n",
       "<td>0.7457094</td>\n",
       "<td>0.8402469</td>\n",
       "<td>0.8307449</td>\n",
       "<td>0.0785786</td>\n",
       "<td>0.3406406</td>\n",
       "<td>57.0563159</td>\n",
       "<td>70.2950877</td></tr>\n",
       "<tr><td></td>\n",
       "<td>9</td>\n",
       "<td>0.2999951</td>\n",
       "<td>0.6511634</td>\n",
       "<td>1.4299238</td>\n",
       "<td>1.6119718</td>\n",
       "<td>0.7055336</td>\n",
       "<td>0.6876441</td>\n",
       "<td>0.7953573</td>\n",
       "<td>0.7830603</td>\n",
       "<td>0.1429429</td>\n",
       "<td>0.4835836</td>\n",
       "<td>42.9923797</td>\n",
       "<td>61.1971817</td></tr>\n",
       "<tr><td></td>\n",
       "<td>10</td>\n",
       "<td>0.4000099</td>\n",
       "<td>0.5804001</td>\n",
       "<td>1.2600736</td>\n",
       "<td>1.5239864</td>\n",
       "<td>0.6217284</td>\n",
       "<td>0.6167075</td>\n",
       "<td>0.7519447</td>\n",
       "<td>0.7414670</td>\n",
       "<td>0.1260260</td>\n",
       "<td>0.6096096</td>\n",
       "<td>26.0073555</td>\n",
       "<td>52.3986389</td></tr>\n",
       "<tr><td></td>\n",
       "<td>11</td>\n",
       "<td>0.5000247</td>\n",
       "<td>0.5041754</td>\n",
       "<td>1.0809209</td>\n",
       "<td>1.4353645</td>\n",
       "<td>0.5333333</td>\n",
       "<td>0.5429990</td>\n",
       "<td>0.7082181</td>\n",
       "<td>0.7017695</td>\n",
       "<td>0.1081081</td>\n",
       "<td>0.7177177</td>\n",
       "<td>8.0920921</td>\n",
       "<td>43.5364543</td></tr>\n",
       "<tr><td></td>\n",
       "<td>12</td>\n",
       "<td>0.5999901</td>\n",
       "<td>0.4294915</td>\n",
       "<td>0.9322542</td>\n",
       "<td>1.3515404</td>\n",
       "<td>0.4599802</td>\n",
       "<td>0.4681700</td>\n",
       "<td>0.6668587</td>\n",
       "<td>0.6628490</td>\n",
       "<td>0.0931932</td>\n",
       "<td>0.8109109</td>\n",
       "<td>-6.7745760</td>\n",
       "<td>35.1540436</td></tr>\n",
       "<tr><td></td>\n",
       "<td>13</td>\n",
       "<td>0.7000049</td>\n",
       "<td>0.3495107</td>\n",
       "<td>0.7946770</td>\n",
       "<td>1.2719773</td>\n",
       "<td>0.3920988</td>\n",
       "<td>0.3891870</td>\n",
       "<td>0.6276018</td>\n",
       "<td>0.6237490</td>\n",
       "<td>0.0794795</td>\n",
       "<td>0.8903904</td>\n",
       "<td>-20.5322953</td>\n",
       "<td>27.1977297</td></tr>\n",
       "<tr><td></td>\n",
       "<td>14</td>\n",
       "<td>0.7999704</td>\n",
       "<td>0.2602476</td>\n",
       "<td>0.5667625</td>\n",
       "<td>1.1838527</td>\n",
       "<td>0.2796443</td>\n",
       "<td>0.3059028</td>\n",
       "<td>0.5841205</td>\n",
       "<td>0.5840305</td>\n",
       "<td>0.0566567</td>\n",
       "<td>0.9470470</td>\n",
       "<td>-43.3237486</td>\n",
       "<td>18.3852662</td></tr>\n",
       "<tr><td></td>\n",
       "<td>15</td>\n",
       "<td>0.8999852</td>\n",
       "<td>0.1438124</td>\n",
       "<td>0.3903326</td>\n",
       "<td>1.0956692</td>\n",
       "<td>0.1925926</td>\n",
       "<td>0.2047611</td>\n",
       "<td>0.5406103</td>\n",
       "<td>0.5418825</td>\n",
       "<td>0.0390390</td>\n",
       "<td>0.9860861</td>\n",
       "<td>-60.9667445</td>\n",
       "<td>9.5669245</td></tr>\n",
       "<tr><td></td>\n",
       "<td>16</td>\n",
       "<td>1.0</td>\n",
       "<td>0.0</td>\n",
       "<td>0.1391185</td>\n",
       "<td>1.0</td>\n",
       "<td>0.0686420</td>\n",
       "<td>0.0705020</td>\n",
       "<td>0.4934064</td>\n",
       "<td>0.4947375</td>\n",
       "<td>0.0139139</td>\n",
       "<td>1.0</td>\n",
       "<td>-86.0881474</td>\n",
       "<td>0.0</td></tr></table></div>"
      ],
      "text/plain": [
       "    group    cumulative_data_fraction    lower_threshold    lift      cumulative_lift    response_rate    score     cumulative_response_rate    cumulative_score    capture_rate    cumulative_capture_rate    gain      cumulative_gain\n",
       "--  -------  --------------------------  -----------------  --------  -----------------  ---------------  --------  --------------------------  ------------------  --------------  -------------------------  --------  -----------------\n",
       "    1        0.0100262                   0.974906           1.98679   1.98679            0.980296         0.99109   0.980296                    0.99109             0.0199199       0.0199199                  98.6791   98.6791\n",
       "    2        0.020003                    0.940859           1.91636   1.95166            0.945545         0.95541   0.962963                    0.973294            0.0191191       0.039039                   91.636    95.1663\n",
       "    3        0.0300291                   0.918773           1.82705   1.91006            0.901478         0.929588  0.942434                    0.958701            0.0183183       0.0573574                  82.7049   91.0057\n",
       "    4        0.0400059                   0.900073           1.85616   1.89662            0.915842         0.908925  0.935802                    0.946288            0.0185185       0.0758759                  85.6161   89.6616\n",
       "    5        0.0500321                   0.884364           1.857     1.88868            0.916256         0.892329  0.931885                    0.935475            0.0186186       0.0944945                  85.7001   88.8677\n",
       "    6        0.100015                    0.819034           1.73433   1.81154            0.855731         0.849127  0.893827                    0.892322            0.0866867       0.181181                   73.4333   81.1543\n",
       "    7        0.149998                    0.767415           1.61818   1.74711            0.798419         0.792649  0.862035                    0.859109            0.0808809       0.262062                   61.8177   74.7109\n",
       "    8        0.20003                     0.724357           1.57056   1.70295            0.774926         0.745709  0.840247                    0.830745            0.0785786       0.340641                   57.0563   70.2951\n",
       "    9        0.299995                    0.651163           1.42992   1.61197            0.705534         0.687644  0.795357                    0.78306             0.142943        0.483584                   42.9924   61.1972\n",
       "    10       0.40001                     0.5804             1.26007   1.52399            0.621728         0.616707  0.751945                    0.741467            0.126026        0.60961                    26.0074   52.3986\n",
       "    11       0.500025                    0.504175           1.08092   1.43536            0.533333         0.542999  0.708218                    0.701769            0.108108        0.717718                   8.09209   43.5365\n",
       "    12       0.59999                     0.429492           0.932254  1.35154            0.45998          0.46817   0.666859                    0.662849            0.0931932       0.810911                   -6.77458  35.154\n",
       "    13       0.700005                    0.349511           0.794677  1.27198            0.392099         0.389187  0.627602                    0.623749            0.0794795       0.89039                    -20.5323  27.1977\n",
       "    14       0.79997                     0.260248           0.566763  1.18385            0.279644         0.305903  0.584121                    0.58403             0.0566567       0.947047                   -43.3237  18.3853\n",
       "    15       0.899985                    0.143812           0.390333  1.09567            0.192593         0.204761  0.54061                     0.541882            0.039039        0.986086                   -60.9667  9.56692\n",
       "    16       1                           0                  0.139119  1                  0.068642         0.070502  0.493406                    0.494737            0.0139139       1                          -86.0881  0"
      ]
     },
     "metadata": {},
     "output_type": "display_data"
    },
    {
     "name": "stdout",
     "output_type": "stream",
     "text": [
      "\n",
      "\n",
      "ModelMetricsBinomial: drf\n",
      "** Reported on cross-validation data. **\n",
      "\n",
      "MSE: 0.18076745716248843\n",
      "RMSE: 0.42516756362931596\n",
      "LogLoss: 0.536337168645659\n",
      "Mean Per-Class Error: 0.2723762955702119\n",
      "AUC: 0.805291335012501\n",
      "pr_auc: 0.7937552226500023\n",
      "Gini: 0.6105826700250021\n",
      "Confusion Matrix (Act/Pred) for max f1 @ threshold = 0.38420794252912666: \n"
     ]
    },
    {
     "data": {
      "text/html": [
       "<div style=\"overflow:auto\"><table style=\"width:50%\"><tr><td><b></b></td>\n",
       "<td><b>Bad</b></td>\n",
       "<td><b>Good</b></td>\n",
       "<td><b>Error</b></td>\n",
       "<td><b>Rate</b></td></tr>\n",
       "<tr><td>Bad</td>\n",
       "<td>5539.0</td>\n",
       "<td>4718.0</td>\n",
       "<td>0.46</td>\n",
       "<td> (4718.0/10257.0)</td></tr>\n",
       "<tr><td>Good</td>\n",
       "<td>1278.0</td>\n",
       "<td>8712.0</td>\n",
       "<td>0.1279</td>\n",
       "<td> (1278.0/9990.0)</td></tr>\n",
       "<tr><td>Total</td>\n",
       "<td>6817.0</td>\n",
       "<td>13430.0</td>\n",
       "<td>0.2961</td>\n",
       "<td> (5996.0/20247.0)</td></tr></table></div>"
      ],
      "text/plain": [
       "       Bad    Good    Error    Rate\n",
       "-----  -----  ------  -------  ----------------\n",
       "Bad    5539   4718    0.46     (4718.0/10257.0)\n",
       "Good   1278   8712    0.1279   (1278.0/9990.0)\n",
       "Total  6817   13430   0.2961   (5996.0/20247.0)"
      ]
     },
     "metadata": {},
     "output_type": "display_data"
    },
    {
     "name": "stdout",
     "output_type": "stream",
     "text": [
      "Maximum Metrics: Maximum metrics at their respective thresholds\n",
      "\n"
     ]
    },
    {
     "data": {
      "text/html": [
       "<div style=\"overflow:auto\"><table style=\"width:50%\"><tr><td><b>metric</b></td>\n",
       "<td><b>threshold</b></td>\n",
       "<td><b>value</b></td>\n",
       "<td><b>idx</b></td></tr>\n",
       "<tr><td>max f1</td>\n",
       "<td>0.3842079</td>\n",
       "<td>0.7439795</td>\n",
       "<td>258.0</td></tr>\n",
       "<tr><td>max f2</td>\n",
       "<td>0.2375808</td>\n",
       "<td>0.8527466</td>\n",
       "<td>319.0</td></tr>\n",
       "<tr><td>max f0point5</td>\n",
       "<td>0.5645368</td>\n",
       "<td>0.7283482</td>\n",
       "<td>173.0</td></tr>\n",
       "<tr><td>max accuracy</td>\n",
       "<td>0.4979156</td>\n",
       "<td>0.7274164</td>\n",
       "<td>205.0</td></tr>\n",
       "<tr><td>max precision</td>\n",
       "<td>0.9983647</td>\n",
       "<td>1.0</td>\n",
       "<td>0.0</td></tr>\n",
       "<tr><td>max recall</td>\n",
       "<td>0.0076657</td>\n",
       "<td>1.0</td>\n",
       "<td>397.0</td></tr>\n",
       "<tr><td>max specificity</td>\n",
       "<td>0.9983647</td>\n",
       "<td>1.0</td>\n",
       "<td>0.0</td></tr>\n",
       "<tr><td>max absolute_mcc</td>\n",
       "<td>0.4957914</td>\n",
       "<td>0.4554031</td>\n",
       "<td>206.0</td></tr>\n",
       "<tr><td>max min_per_class_accuracy</td>\n",
       "<td>0.5099119</td>\n",
       "<td>0.7266266</td>\n",
       "<td>199.0</td></tr>\n",
       "<tr><td>max mean_per_class_accuracy</td>\n",
       "<td>0.4979156</td>\n",
       "<td>0.7276237</td>\n",
       "<td>205.0</td></tr></table></div>"
      ],
      "text/plain": [
       "metric                       threshold    value     idx\n",
       "---------------------------  -----------  --------  -----\n",
       "max f1                       0.384208     0.74398   258\n",
       "max f2                       0.237581     0.852747  319\n",
       "max f0point5                 0.564537     0.728348  173\n",
       "max accuracy                 0.497916     0.727416  205\n",
       "max precision                0.998365     1         0\n",
       "max recall                   0.00766569   1         397\n",
       "max specificity              0.998365     1         0\n",
       "max absolute_mcc             0.495791     0.455403  206\n",
       "max min_per_class_accuracy   0.509912     0.726627  199\n",
       "max mean_per_class_accuracy  0.497916     0.727624  205"
      ]
     },
     "metadata": {},
     "output_type": "display_data"
    },
    {
     "name": "stdout",
     "output_type": "stream",
     "text": [
      "Gains/Lift Table: Avg response rate: 49.34 %, avg score: 49.51 %\n",
      "\n"
     ]
    },
    {
     "data": {
      "text/html": [
       "<div style=\"overflow:auto\"><table style=\"width:50%\"><tr><td><b></b></td>\n",
       "<td><b>group</b></td>\n",
       "<td><b>cumulative_data_fraction</b></td>\n",
       "<td><b>lower_threshold</b></td>\n",
       "<td><b>lift</b></td>\n",
       "<td><b>cumulative_lift</b></td>\n",
       "<td><b>response_rate</b></td>\n",
       "<td><b>score</b></td>\n",
       "<td><b>cumulative_response_rate</b></td>\n",
       "<td><b>cumulative_score</b></td>\n",
       "<td><b>capture_rate</b></td>\n",
       "<td><b>cumulative_capture_rate</b></td>\n",
       "<td><b>gain</b></td>\n",
       "<td><b>cumulative_gain</b></td></tr>\n",
       "<tr><td></td>\n",
       "<td>1</td>\n",
       "<td>0.0100262</td>\n",
       "<td>0.9506803</td>\n",
       "<td>2.0067590</td>\n",
       "<td>2.0067590</td>\n",
       "<td>0.9901478</td>\n",
       "<td>0.9707520</td>\n",
       "<td>0.9901478</td>\n",
       "<td>0.9707520</td>\n",
       "<td>0.0201201</td>\n",
       "<td>0.0201201</td>\n",
       "<td>100.6758976</td>\n",
       "<td>100.6758976</td></tr>\n",
       "<tr><td></td>\n",
       "<td>2</td>\n",
       "<td>0.0200030</td>\n",
       "<td>0.9203144</td>\n",
       "<td>1.9163604</td>\n",
       "<td>1.9616713</td>\n",
       "<td>0.9455446</td>\n",
       "<td>0.9340720</td>\n",
       "<td>0.9679012</td>\n",
       "<td>0.9524573</td>\n",
       "<td>0.0191191</td>\n",
       "<td>0.0392392</td>\n",
       "<td>91.6360420</td>\n",
       "<td>96.1671301</td></tr>\n",
       "<tr><td></td>\n",
       "<td>3</td>\n",
       "<td>0.0300291</td>\n",
       "<td>0.8988639</td>\n",
       "<td>1.8769686</td>\n",
       "<td>1.9333906</td>\n",
       "<td>0.9261084</td>\n",
       "<td>0.9091436</td>\n",
       "<td>0.9539474</td>\n",
       "<td>0.9379956</td>\n",
       "<td>0.0188188</td>\n",
       "<td>0.0580581</td>\n",
       "<td>87.6968594</td>\n",
       "<td>93.3390627</td></tr>\n",
       "<tr><td></td>\n",
       "<td>4</td>\n",
       "<td>0.0400059</td>\n",
       "<td>0.8814778</td>\n",
       "<td>1.8962938</td>\n",
       "<td>1.9241393</td>\n",
       "<td>0.9356436</td>\n",
       "<td>0.8895751</td>\n",
       "<td>0.9493827</td>\n",
       "<td>0.9259204</td>\n",
       "<td>0.0189189</td>\n",
       "<td>0.0769770</td>\n",
       "<td>89.6293819</td>\n",
       "<td>92.4139325</td></tr>\n",
       "<tr><td></td>\n",
       "<td>5</td>\n",
       "<td>0.0500321</td>\n",
       "<td>0.8654310</td>\n",
       "<td>1.8869525</td>\n",
       "<td>1.9166873</td>\n",
       "<td>0.9310345</td>\n",
       "<td>0.8730621</td>\n",
       "<td>0.9457058</td>\n",
       "<td>0.9153278</td>\n",
       "<td>0.0189189</td>\n",
       "<td>0.0958959</td>\n",
       "<td>88.6952470</td>\n",
       "<td>91.6687270</td></tr>\n",
       "<tr><td></td>\n",
       "<td>6</td>\n",
       "<td>0.1000148</td>\n",
       "<td>0.8074512</td>\n",
       "<td>1.7803953</td>\n",
       "<td>1.8485749</td>\n",
       "<td>0.8784585</td>\n",
       "<td>0.8347356</td>\n",
       "<td>0.9120988</td>\n",
       "<td>0.8750516</td>\n",
       "<td>0.0889890</td>\n",
       "<td>0.1848849</td>\n",
       "<td>78.0395316</td>\n",
       "<td>84.8574945</td></tr>\n",
       "<tr><td></td>\n",
       "<td>7</td>\n",
       "<td>0.1499975</td>\n",
       "<td>0.7582169</td>\n",
       "<td>1.6802606</td>\n",
       "<td>1.7924886</td>\n",
       "<td>0.8290514</td>\n",
       "<td>0.7818539</td>\n",
       "<td>0.8844254</td>\n",
       "<td>0.8439960</td>\n",
       "<td>0.0839840</td>\n",
       "<td>0.2688689</td>\n",
       "<td>68.0260597</td>\n",
       "<td>79.2488636</td></tr>\n",
       "<tr><td></td>\n",
       "<td>8</td>\n",
       "<td>0.2000296</td>\n",
       "<td>0.7174813</td>\n",
       "<td>1.5585589</td>\n",
       "<td>1.7339773</td>\n",
       "<td>0.7690030</td>\n",
       "<td>0.7374188</td>\n",
       "<td>0.8555556</td>\n",
       "<td>0.8173385</td>\n",
       "<td>0.0779780</td>\n",
       "<td>0.3468468</td>\n",
       "<td>55.8558855</td>\n",
       "<td>73.3977311</td></tr>\n",
       "<tr><td></td>\n",
       "<td>9</td>\n",
       "<td>0.2999951</td>\n",
       "<td>0.6477744</td>\n",
       "<td>1.4279211</td>\n",
       "<td>1.6319922</td>\n",
       "<td>0.7045455</td>\n",
       "<td>0.6825885</td>\n",
       "<td>0.8052354</td>\n",
       "<td>0.7724366</td>\n",
       "<td>0.1427427</td>\n",
       "<td>0.4895896</td>\n",
       "<td>42.7921103</td>\n",
       "<td>63.1992167</td></tr>\n",
       "<tr><td></td>\n",
       "<td>10</td>\n",
       "<td>0.4000099</td>\n",
       "<td>0.5782739</td>\n",
       "<td>1.2830932</td>\n",
       "<td>1.5447566</td>\n",
       "<td>0.6330864</td>\n",
       "<td>0.6129972</td>\n",
       "<td>0.7621929</td>\n",
       "<td>0.7325718</td>\n",
       "<td>0.1283283</td>\n",
       "<td>0.6179179</td>\n",
       "<td>28.3093167</td>\n",
       "<td>54.4756647</td></tr>\n",
       "<tr><td></td>\n",
       "<td>11</td>\n",
       "<td>0.5000247</td>\n",
       "<td>0.5063158</td>\n",
       "<td>1.1199542</td>\n",
       "<td>1.4597878</td>\n",
       "<td>0.5525926</td>\n",
       "<td>0.5422061</td>\n",
       "<td>0.7202687</td>\n",
       "<td>0.6944949</td>\n",
       "<td>0.1120120</td>\n",
       "<td>0.7299299</td>\n",
       "<td>11.9954176</td>\n",
       "<td>45.9787761</td></tr>\n",
       "<tr><td></td>\n",
       "<td>12</td>\n",
       "<td>0.5999901</td>\n",
       "<td>0.4325604</td>\n",
       "<td>0.9132286</td>\n",
       "<td>1.3687246</td>\n",
       "<td>0.4505929</td>\n",
       "<td>0.4694724</td>\n",
       "<td>0.6753375</td>\n",
       "<td>0.6570035</td>\n",
       "<td>0.0912913</td>\n",
       "<td>0.8212212</td>\n",
       "<td>-8.6771356</td>\n",
       "<td>36.8724569</td></tr>\n",
       "<tr><td></td>\n",
       "<td>13</td>\n",
       "<td>0.7000049</td>\n",
       "<td>0.3552882</td>\n",
       "<td>0.7546429</td>\n",
       "<td>1.2809862</td>\n",
       "<td>0.3723457</td>\n",
       "<td>0.3935606</td>\n",
       "<td>0.6320468</td>\n",
       "<td>0.6193635</td>\n",
       "<td>0.0754755</td>\n",
       "<td>0.8966967</td>\n",
       "<td>-24.5357061</td>\n",
       "<td>28.0986243</td></tr>\n",
       "<tr><td></td>\n",
       "<td>14</td>\n",
       "<td>0.7999704</td>\n",
       "<td>0.2674918</td>\n",
       "<td>0.5727706</td>\n",
       "<td>1.1924866</td>\n",
       "<td>0.2826087</td>\n",
       "<td>0.3122958</td>\n",
       "<td>0.5883806</td>\n",
       "<td>0.5809919</td>\n",
       "<td>0.0572573</td>\n",
       "<td>0.9539540</td>\n",
       "<td>-42.7229403</td>\n",
       "<td>19.2486615</td></tr>\n",
       "<tr><td></td>\n",
       "<td>15</td>\n",
       "<td>0.9024547</td>\n",
       "<td>0.1600000</td>\n",
       "<td>0.3408808</td>\n",
       "<td>1.0957768</td>\n",
       "<td>0.1681928</td>\n",
       "<td>0.2156029</td>\n",
       "<td>0.5406633</td>\n",
       "<td>0.5394977</td>\n",
       "<td>0.0349349</td>\n",
       "<td>0.9888889</td>\n",
       "<td>-65.9119216</td>\n",
       "<td>9.5776781</td></tr>\n",
       "<tr><td></td>\n",
       "<td>16</td>\n",
       "<td>1.0</td>\n",
       "<td>0.0</td>\n",
       "<td>0.1139072</td>\n",
       "<td>1.0</td>\n",
       "<td>0.0562025</td>\n",
       "<td>0.0839422</td>\n",
       "<td>0.4934064</td>\n",
       "<td>0.4950604</td>\n",
       "<td>0.0111111</td>\n",
       "<td>1.0</td>\n",
       "<td>-88.6092827</td>\n",
       "<td>0.0</td></tr></table></div>"
      ],
      "text/plain": [
       "    group    cumulative_data_fraction    lower_threshold    lift      cumulative_lift    response_rate    score      cumulative_response_rate    cumulative_score    capture_rate    cumulative_capture_rate    gain      cumulative_gain\n",
       "--  -------  --------------------------  -----------------  --------  -----------------  ---------------  ---------  --------------------------  ------------------  --------------  -------------------------  --------  -----------------\n",
       "    1        0.0100262                   0.95068            2.00676   2.00676            0.990148         0.970752   0.990148                    0.970752            0.0201201       0.0201201                  100.676   100.676\n",
       "    2        0.020003                    0.920314           1.91636   1.96167            0.945545         0.934072   0.967901                    0.952457            0.0191191       0.0392392                  91.636    96.1671\n",
       "    3        0.0300291                   0.898864           1.87697   1.93339            0.926108         0.909144   0.953947                    0.937996            0.0188188       0.0580581                  87.6969   93.3391\n",
       "    4        0.0400059                   0.881478           1.89629   1.92414            0.935644         0.889575   0.949383                    0.92592             0.0189189       0.076977                   89.6294   92.4139\n",
       "    5        0.0500321                   0.865431           1.88695   1.91669            0.931034         0.873062   0.945706                    0.915328            0.0189189       0.0958959                  88.6952   91.6687\n",
       "    6        0.100015                    0.807451           1.7804    1.84857            0.878458         0.834736   0.912099                    0.875052            0.088989        0.184885                   78.0395   84.8575\n",
       "    7        0.149998                    0.758217           1.68026   1.79249            0.829051         0.781854   0.884425                    0.843996            0.083984        0.268869                   68.0261   79.2489\n",
       "    8        0.20003                     0.717481           1.55856   1.73398            0.769003         0.737419   0.855556                    0.817339            0.077978        0.346847                   55.8559   73.3977\n",
       "    9        0.299995                    0.647774           1.42792   1.63199            0.704545         0.682589   0.805235                    0.772437            0.142743        0.48959                    42.7921   63.1992\n",
       "    10       0.40001                     0.578274           1.28309   1.54476            0.633086         0.612997   0.762193                    0.732572            0.128328        0.617918                   28.3093   54.4757\n",
       "    11       0.500025                    0.506316           1.11995   1.45979            0.552593         0.542206   0.720269                    0.694495            0.112012        0.72993                    11.9954   45.9788\n",
       "    12       0.59999                     0.43256            0.913229  1.36872            0.450593         0.469472   0.675338                    0.657004            0.0912913       0.821221                   -8.67714  36.8725\n",
       "    13       0.700005                    0.355288           0.754643  1.28099            0.372346         0.393561   0.632047                    0.619364            0.0754755       0.896697                   -24.5357  28.0986\n",
       "    14       0.79997                     0.267492           0.572771  1.19249            0.282609         0.312296   0.588381                    0.580992            0.0572573       0.953954                   -42.7229  19.2487\n",
       "    15       0.902455                    0.16               0.340881  1.09578            0.168193         0.215603   0.540663                    0.539498            0.0349349       0.988889                   -65.9119  9.57768\n",
       "    16       1                           0                  0.113907  1                  0.0562025        0.0839422  0.493406                    0.49506             0.0111111       1                          -88.6093  0"
      ]
     },
     "metadata": {},
     "output_type": "display_data"
    },
    {
     "name": "stdout",
     "output_type": "stream",
     "text": [
      "\n",
      "Cross-Validation Metrics Summary: \n"
     ]
    },
    {
     "data": {
      "text/html": [
       "<div style=\"overflow:auto\"><table style=\"width:50%\"><tr><td><b></b></td>\n",
       "<td><b>mean</b></td>\n",
       "<td><b>sd</b></td>\n",
       "<td><b>cv_1_valid</b></td>\n",
       "<td><b>cv_2_valid</b></td>\n",
       "<td><b>cv_3_valid</b></td>\n",
       "<td><b>cv_4_valid</b></td>\n",
       "<td><b>cv_5_valid</b></td></tr>\n",
       "<tr><td>accuracy</td>\n",
       "<td>0.708648</td>\n",
       "<td>0.0053037</td>\n",
       "<td>0.7185185</td>\n",
       "<td>0.7022222</td>\n",
       "<td>0.70857</td>\n",
       "<td>0.698691</td>\n",
       "<td>0.7152383</td></tr>\n",
       "<tr><td>auc</td>\n",
       "<td>0.805364</td>\n",
       "<td>0.0037153</td>\n",
       "<td>0.8025261</td>\n",
       "<td>0.7971551</td>\n",
       "<td>0.8098322</td>\n",
       "<td>0.8118931</td>\n",
       "<td>0.8054137</td></tr>\n",
       "<tr><td>err</td>\n",
       "<td>0.2913520</td>\n",
       "<td>0.0053037</td>\n",
       "<td>0.2814815</td>\n",
       "<td>0.2977778</td>\n",
       "<td>0.29143</td>\n",
       "<td>0.3013090</td>\n",
       "<td>0.2847617</td></tr>\n",
       "<tr><td>err_count</td>\n",
       "<td>1179.8</td>\n",
       "<td>21.458797</td>\n",
       "<td>1140.0</td>\n",
       "<td>1206.0</td>\n",
       "<td>1180.0</td>\n",
       "<td>1220.0</td>\n",
       "<td>1153.0</td></tr>\n",
       "<tr><td>f0point5</td>\n",
       "<td>0.6888585</td>\n",
       "<td>0.0054856</td>\n",
       "<td>0.7019028</td>\n",
       "<td>0.6845001</td>\n",
       "<td>0.6892058</td>\n",
       "<td>0.6783901</td>\n",
       "<td>0.6902938</td></tr>\n",
       "<tr><td>f1</td>\n",
       "<td>0.7451957</td>\n",
       "<td>0.0035579</td>\n",
       "<td>0.7443946</td>\n",
       "<td>0.7400862</td>\n",
       "<td>0.7529313</td>\n",
       "<td>0.7486609</td>\n",
       "<td>0.7399052</td></tr>\n",
       "<tr><td>f2</td>\n",
       "<td>0.811975</td>\n",
       "<td>0.0122274</td>\n",
       "<td>0.7923628</td>\n",
       "<td>0.8054982</td>\n",
       "<td>0.8296419</td>\n",
       "<td>0.8351719</td>\n",
       "<td>0.7972001</td></tr>\n",
       "<tr><td>lift_top_group</td>\n",
       "<td>2.0171895</td>\n",
       "<td>0.0245941</td>\n",
       "<td>2.0199502</td>\n",
       "<td>2.018943</td>\n",
       "<td>2.0044553</td>\n",
       "<td>1.967253</td>\n",
       "<td>2.075346</td></tr>\n",
       "<tr><td>logloss</td>\n",
       "<td>0.5363367</td>\n",
       "<td>0.0030037</td>\n",
       "<td>0.5399338</td>\n",
       "<td>0.5425504</td>\n",
       "<td>0.5335148</td>\n",
       "<td>0.531069</td>\n",
       "<td>0.5346154</td></tr>\n",
       "<tr><td>max_per_class_error</td>\n",
       "<td>0.4430072</td>\n",
       "<td>0.0304983</td>\n",
       "<td>0.3887531</td>\n",
       "<td>0.4486301</td>\n",
       "<td>0.4721538</td>\n",
       "<td>0.5041646</td>\n",
       "<td>0.4013346</td></tr>\n",
       "<tr><td>mcc</td>\n",
       "<td>0.4427463</td>\n",
       "<td>0.0063359</td>\n",
       "<td>0.4494045</td>\n",
       "<td>0.4270542</td>\n",
       "<td>0.4482262</td>\n",
       "<td>0.4384192</td>\n",
       "<td>0.4506274</td></tr>\n",
       "<tr><td>mean_per_class_accuracy</td>\n",
       "<td>0.7104400</td>\n",
       "<td>0.0056395</td>\n",
       "<td>0.7195886</td>\n",
       "<td>0.703651</td>\n",
       "<td>0.7089726</td>\n",
       "<td>0.7003579</td>\n",
       "<td>0.71963</td></tr>\n",
       "<tr><td>mean_per_class_error</td>\n",
       "<td>0.28956</td>\n",
       "<td>0.0056395</td>\n",
       "<td>0.2804115</td>\n",
       "<td>0.2963490</td>\n",
       "<td>0.2910274</td>\n",
       "<td>0.2996421</td>\n",
       "<td>0.2803700</td></tr>\n",
       "<tr><td>mse</td>\n",
       "<td>0.1807672</td>\n",
       "<td>0.0014004</td>\n",
       "<td>0.1819130</td>\n",
       "<td>0.1839043</td>\n",
       "<td>0.1792916</td>\n",
       "<td>0.1782823</td>\n",
       "<td>0.1804450</td></tr>\n",
       "<tr><td>precision</td>\n",
       "<td>0.6559247</td>\n",
       "<td>0.0087634</td>\n",
       "<td>0.6761711</td>\n",
       "<td>0.6518603</td>\n",
       "<td>0.6523948</td>\n",
       "<td>0.6384399</td>\n",
       "<td>0.6607575</td></tr>\n",
       "<tr><td>r2</td>\n",
       "<td>0.2767032</td>\n",
       "<td>0.0055970</td>\n",
       "<td>0.2722768</td>\n",
       "<td>0.2643180</td>\n",
       "<td>0.2828300</td>\n",
       "<td>0.2868235</td>\n",
       "<td>0.2772675</td></tr>\n",
       "<tr><td>recall</td>\n",
       "<td>0.8638873</td>\n",
       "<td>0.0206549</td>\n",
       "<td>0.8279302</td>\n",
       "<td>0.8559322</td>\n",
       "<td>0.890099</td>\n",
       "<td>0.9048805</td>\n",
       "<td>0.8405946</td></tr>\n",
       "<tr><td>rmse</td>\n",
       "<td>0.4251609</td>\n",
       "<td>0.0016453</td>\n",
       "<td>0.4265127</td>\n",
       "<td>0.4288407</td>\n",
       "<td>0.4234284</td>\n",
       "<td>0.4222349</td>\n",
       "<td>0.4247881</td></tr>\n",
       "<tr><td>specificity</td>\n",
       "<td>0.5569928</td>\n",
       "<td>0.0304983</td>\n",
       "<td>0.6112469</td>\n",
       "<td>0.5513699</td>\n",
       "<td>0.5278462</td>\n",
       "<td>0.4958354</td>\n",
       "<td>0.5986654</td></tr></table></div>"
      ],
      "text/plain": [
       "                         mean      sd          cv_1_valid    cv_2_valid    cv_3_valid    cv_4_valid    cv_5_valid\n",
       "-----------------------  --------  ----------  ------------  ------------  ------------  ------------  ------------\n",
       "accuracy                 0.708648  0.00530375  0.718518      0.702222      0.70857       0.698691      0.715238\n",
       "auc                      0.805364  0.0037153   0.802526      0.797155      0.809832      0.811893      0.805414\n",
       "err                      0.291352  0.00530375  0.281481      0.297778      0.29143       0.301309      0.284762\n",
       "err_count                1179.8    21.4588     1140          1206          1180          1220          1153\n",
       "f0point5                 0.688859  0.00548559  0.701903      0.6845        0.689206      0.67839       0.690294\n",
       "f1                       0.745196  0.00355788  0.744395      0.740086      0.752931      0.748661      0.739905\n",
       "f2                       0.811975  0.0122274   0.792363      0.805498      0.829642      0.835172      0.7972\n",
       "lift_top_group           2.01719   0.0245941   2.01995       2.01894       2.00446       1.96725       2.07535\n",
       "logloss                  0.536337  0.00300374  0.539934      0.54255       0.533515      0.531069      0.534615\n",
       "max_per_class_error      0.443007  0.0304983   0.388753      0.44863       0.472154      0.504165      0.401335\n",
       "mcc                      0.442746  0.00633592  0.449405      0.427054      0.448226      0.438419      0.450627\n",
       "mean_per_class_accuracy  0.71044   0.00563953  0.719589      0.703651      0.708973      0.700358      0.71963\n",
       "mean_per_class_error     0.28956   0.00563953  0.280411      0.296349      0.291027      0.299642      0.28037\n",
       "mse                      0.180767  0.00140037  0.181913      0.183904      0.179292      0.178282      0.180445\n",
       "precision                0.655925  0.00876338  0.676171      0.65186       0.652395      0.63844       0.660757\n",
       "r2                       0.276703  0.00559698  0.272277      0.264318      0.28283       0.286824      0.277268\n",
       "recall                   0.863887  0.0206549   0.82793       0.855932      0.890099      0.90488       0.840595\n",
       "rmse                     0.425161  0.0016453   0.426513      0.428841      0.423428      0.422235      0.424788\n",
       "specificity              0.556993  0.0304983   0.611247      0.55137       0.527846      0.495835      0.598665"
      ]
     },
     "metadata": {},
     "output_type": "display_data"
    },
    {
     "name": "stdout",
     "output_type": "stream",
     "text": [
      "Scoring History: \n"
     ]
    },
    {
     "data": {
      "text/html": [
       "<div style=\"overflow:auto\"><table style=\"width:50%\"><tr><td><b></b></td>\n",
       "<td><b>timestamp</b></td>\n",
       "<td><b>duration</b></td>\n",
       "<td><b>number_of_trees</b></td>\n",
       "<td><b>training_rmse</b></td>\n",
       "<td><b>training_logloss</b></td>\n",
       "<td><b>training_auc</b></td>\n",
       "<td><b>training_pr_auc</b></td>\n",
       "<td><b>training_lift</b></td>\n",
       "<td><b>training_classification_error</b></td></tr>\n",
       "<tr><td></td>\n",
       "<td>2019-11-24 00:28:53</td>\n",
       "<td>22.243 sec</td>\n",
       "<td>0.0</td>\n",
       "<td>nan</td>\n",
       "<td>nan</td>\n",
       "<td>nan</td>\n",
       "<td>nan</td>\n",
       "<td>nan</td>\n",
       "<td>nan</td></tr>\n",
       "<tr><td></td>\n",
       "<td>2019-11-24 00:28:54</td>\n",
       "<td>22.679 sec</td>\n",
       "<td>5.0</td>\n",
       "<td>0.5172048</td>\n",
       "<td>5.0698474</td>\n",
       "<td>0.6848537</td>\n",
       "<td>0.4825530</td>\n",
       "<td>1.3127453</td>\n",
       "<td>0.3771930</td></tr>\n",
       "<tr><td></td>\n",
       "<td>2019-11-24 00:28:54</td>\n",
       "<td>23.143 sec</td>\n",
       "<td>10.0</td>\n",
       "<td>0.4762516</td>\n",
       "<td>2.3376235</td>\n",
       "<td>0.7261786</td>\n",
       "<td>0.6002926</td>\n",
       "<td>1.4601282</td>\n",
       "<td>0.3601376</td></tr>\n",
       "<tr><td></td>\n",
       "<td>2019-11-24 00:28:54</td>\n",
       "<td>23.552 sec</td>\n",
       "<td>15.0</td>\n",
       "<td>0.4548624</td>\n",
       "<td>1.2076214</td>\n",
       "<td>0.7531205</td>\n",
       "<td>0.6795574</td>\n",
       "<td>1.5858850</td>\n",
       "<td>0.3455130</td></tr>\n",
       "<tr><td></td>\n",
       "<td>2019-11-24 00:28:55</td>\n",
       "<td>23.973 sec</td>\n",
       "<td>20.0</td>\n",
       "<td>0.4459158</td>\n",
       "<td>0.8414366</td>\n",
       "<td>0.7657744</td>\n",
       "<td>0.7163848</td>\n",
       "<td>1.6661770</td>\n",
       "<td>0.3252828</td></tr>\n",
       "<tr><td></td>\n",
       "<td>2019-11-24 00:28:55</td>\n",
       "<td>24.402 sec</td>\n",
       "<td>25.0</td>\n",
       "<td>0.4397963</td>\n",
       "<td>0.6921543</td>\n",
       "<td>0.7756907</td>\n",
       "<td>0.7411804</td>\n",
       "<td>1.8183716</td>\n",
       "<td>0.3216279</td></tr>\n",
       "<tr><td></td>\n",
       "<td>2019-11-24 00:28:56</td>\n",
       "<td>24.841 sec</td>\n",
       "<td>30.0</td>\n",
       "<td>0.4372197</td>\n",
       "<td>0.6346843</td>\n",
       "<td>0.7802936</td>\n",
       "<td>0.7516531</td>\n",
       "<td>1.8969363</td>\n",
       "<td>0.3176767</td></tr>\n",
       "<tr><td></td>\n",
       "<td>2019-11-24 00:28:56</td>\n",
       "<td>25.264 sec</td>\n",
       "<td>35.0</td>\n",
       "<td>0.4348073</td>\n",
       "<td>0.5967972</td>\n",
       "<td>0.7847641</td>\n",
       "<td>0.7610293</td>\n",
       "<td>1.9468557</td>\n",
       "<td>0.3121944</td></tr>\n",
       "<tr><td></td>\n",
       "<td>2019-11-24 00:28:57</td>\n",
       "<td>25.681 sec</td>\n",
       "<td>40.0</td>\n",
       "<td>0.4332555</td>\n",
       "<td>0.5796614</td>\n",
       "<td>0.7879405</td>\n",
       "<td>0.7662356</td>\n",
       "<td>1.9568396</td>\n",
       "<td>0.3115029</td></tr>\n",
       "<tr><td></td>\n",
       "<td>2019-11-24 00:28:57</td>\n",
       "<td>26.120 sec</td>\n",
       "<td>45.0</td>\n",
       "<td>0.4318122</td>\n",
       "<td>0.5653994</td>\n",
       "<td>0.7907660</td>\n",
       "<td>0.7714558</td>\n",
       "<td>1.9668235</td>\n",
       "<td>0.3167383</td></tr>\n",
       "<tr><td></td>\n",
       "<td>2019-11-24 00:28:57</td>\n",
       "<td>26.569 sec</td>\n",
       "<td>49.0</td>\n",
       "<td>0.4308294</td>\n",
       "<td>0.5601691</td>\n",
       "<td>0.7928015</td>\n",
       "<td>0.7742341</td>\n",
       "<td>1.9867912</td>\n",
       "<td>0.3072554</td></tr></table></div>"
      ],
      "text/plain": [
       "    timestamp            duration    number_of_trees    training_rmse    training_logloss    training_auc    training_pr_auc    training_lift    training_classification_error\n",
       "--  -------------------  ----------  -----------------  ---------------  ------------------  --------------  -----------------  ---------------  -------------------------------\n",
       "    2019-11-24 00:28:53  22.243 sec  0                  nan              nan                 nan             nan                nan              nan\n",
       "    2019-11-24 00:28:54  22.679 sec  5                  0.517205         5.06985             0.684854        0.482553           1.31275          0.377193\n",
       "    2019-11-24 00:28:54  23.143 sec  10                 0.476252         2.33762             0.726179        0.600293           1.46013          0.360138\n",
       "    2019-11-24 00:28:54  23.552 sec  15                 0.454862         1.20762             0.75312         0.679557           1.58589          0.345513\n",
       "    2019-11-24 00:28:55  23.973 sec  20                 0.445916         0.841437            0.765774        0.716385           1.66618          0.325283\n",
       "    2019-11-24 00:28:55  24.402 sec  25                 0.439796         0.692154            0.775691        0.74118            1.81837          0.321628\n",
       "    2019-11-24 00:28:56  24.841 sec  30                 0.43722          0.634684            0.780294        0.751653           1.89694          0.317677\n",
       "    2019-11-24 00:28:56  25.264 sec  35                 0.434807         0.596797            0.784764        0.761029           1.94686          0.312194\n",
       "    2019-11-24 00:28:57  25.681 sec  40                 0.433256         0.579661            0.78794         0.766236           1.95684          0.311503\n",
       "    2019-11-24 00:28:57  26.120 sec  45                 0.431812         0.565399            0.790766        0.771456           1.96682          0.316738\n",
       "    2019-11-24 00:28:57  26.569 sec  49                 0.430829         0.560169            0.792801        0.774234           1.98679          0.307255"
      ]
     },
     "metadata": {},
     "output_type": "display_data"
    },
    {
     "name": "stdout",
     "output_type": "stream",
     "text": [
      "Variable Importances: \n"
     ]
    },
    {
     "data": {
      "text/html": [
       "<div style=\"overflow:auto\"><table style=\"width:50%\"><tr><td><b>variable</b></td>\n",
       "<td><b>relative_importance</b></td>\n",
       "<td><b>scaled_importance</b></td>\n",
       "<td><b>percentage</b></td></tr>\n",
       "<tr><td>rol_bedtime_start_delta_7d</td>\n",
       "<td>15845.2607422</td>\n",
       "<td>1.0</td>\n",
       "<td>0.1191766</td></tr>\n",
       "<tr><td>onset_latency_norm</td>\n",
       "<td>13015.3701172</td>\n",
       "<td>0.8214046</td>\n",
       "<td>0.0978922</td></tr>\n",
       "<tr><td>rol_sleep_afterMidnight_7d</td>\n",
       "<td>8937.6201172</td>\n",
       "<td>0.5640564</td>\n",
       "<td>0.0672223</td></tr>\n",
       "<tr><td>rol_score_stay_active_7d</td>\n",
       "<td>8217.2060547</td>\n",
       "<td>0.5185908</td>\n",
       "<td>0.0618039</td></tr>\n",
       "<tr><td>score_stay_active</td>\n",
       "<td>8147.2011719</td>\n",
       "<td>0.5141727</td>\n",
       "<td>0.0612774</td></tr>\n",
       "<tr><td>rol_beforesleep_exercise_min_7d</td>\n",
       "<td>7669.7568359</td>\n",
       "<td>0.4840411</td>\n",
       "<td>0.0576864</td></tr>\n",
       "<tr><td>rol_activity_score_7d</td>\n",
       "<td>7649.4941406</td>\n",
       "<td>0.4827623</td>\n",
       "<td>0.0575340</td></tr>\n",
       "<tr><td>rol_afterwake_exercise_min_7d</td>\n",
       "<td>7531.9301758</td>\n",
       "<td>0.4753428</td>\n",
       "<td>0.0566497</td></tr>\n",
       "<tr><td>steps</td>\n",
       "<td>7481.1323242</td>\n",
       "<td>0.4721369</td>\n",
       "<td>0.0562677</td></tr>\n",
       "<tr><td>rol_noon_exercise_min_7d</td>\n",
       "<td>7397.4619141</td>\n",
       "<td>0.4668564</td>\n",
       "<td>0.0556384</td></tr>\n",
       "<tr><td>rol_eve_exercise_min_7d</td>\n",
       "<td>7126.5795898</td>\n",
       "<td>0.4497610</td>\n",
       "<td>0.0536010</td></tr>\n",
       "<tr><td>rol_met_min_medium_plus_7d</td>\n",
       "<td>6380.2377930</td>\n",
       "<td>0.4026591</td>\n",
       "<td>0.0479875</td></tr>\n",
       "<tr><td>rol_met_min_medium_7d</td>\n",
       "<td>6320.3159180</td>\n",
       "<td>0.3988774</td>\n",
       "<td>0.0475368</td></tr>\n",
       "<tr><td>rol_score_move_every_hour_7d</td>\n",
       "<td>5545.6884766</td>\n",
       "<td>0.3499904</td>\n",
       "<td>0.0417107</td></tr>\n",
       "<tr><td>rol_met_min_high_7d</td>\n",
       "<td>5007.3193359</td>\n",
       "<td>0.3160137</td>\n",
       "<td>0.0376614</td></tr>\n",
       "<tr><td>score_training_volume</td>\n",
       "<td>4697.4707031</td>\n",
       "<td>0.2964590</td>\n",
       "<td>0.0353310</td></tr>\n",
       "<tr><td>score_training_frequency</td>\n",
       "<td>2128.1567383</td>\n",
       "<td>0.1343087</td>\n",
       "<td>0.0160065</td></tr>\n",
       "<tr><td>score_move_every_hour</td>\n",
       "<td>2110.3955078</td>\n",
       "<td>0.1331878</td>\n",
       "<td>0.0158729</td></tr>\n",
       "<tr><td>score_recovery_time</td>\n",
       "<td>1747.5426025</td>\n",
       "<td>0.1102880</td>\n",
       "<td>0.0131438</td></tr></table></div>"
      ],
      "text/plain": [
       "variable                         relative_importance    scaled_importance    percentage\n",
       "-------------------------------  ---------------------  -------------------  ------------\n",
       "rol_bedtime_start_delta_7d       15845.3                1                    0.119177\n",
       "onset_latency_norm               13015.4                0.821405             0.0978922\n",
       "rol_sleep_afterMidnight_7d       8937.62                0.564056             0.0672223\n",
       "rol_score_stay_active_7d         8217.21                0.518591             0.0618039\n",
       "score_stay_active                8147.2                 0.514173             0.0612774\n",
       "rol_beforesleep_exercise_min_7d  7669.76                0.484041             0.0576864\n",
       "rol_activity_score_7d            7649.49                0.482762             0.057534\n",
       "rol_afterwake_exercise_min_7d    7531.93                0.475343             0.0566497\n",
       "steps                            7481.13                0.472137             0.0562677\n",
       "rol_noon_exercise_min_7d         7397.46                0.466856             0.0556384\n",
       "rol_eve_exercise_min_7d          7126.58                0.449761             0.053601\n",
       "rol_met_min_medium_plus_7d       6380.24                0.402659             0.0479875\n",
       "rol_met_min_medium_7d            6320.32                0.398877             0.0475368\n",
       "rol_score_move_every_hour_7d     5545.69                0.34999              0.0417107\n",
       "rol_met_min_high_7d              5007.32                0.316014             0.0376614\n",
       "score_training_volume            4697.47                0.296459             0.035331\n",
       "score_training_frequency         2128.16                0.134309             0.0160065\n",
       "score_move_every_hour            2110.4                 0.133188             0.0158729\n",
       "score_recovery_time              1747.54                0.110288             0.0131438"
      ]
     },
     "metadata": {},
     "output_type": "display_data"
    },
    {
     "name": "stdout",
     "output_type": "stream",
     "text": [
      "\n",
      "Generate predictions…\n",
      "drf prediction progress: |████████████████████████████████████████████████| 100%\n",
      "     predict    Bad   Good\n",
      "0        Bad  0.818  0.182\n",
      "1        Bad  0.826  0.174\n",
      "2        Bad  0.901  0.099\n",
      "3        Bad  0.939  0.061\n",
      "4        Bad  0.753  0.247\n",
      "5        Bad  0.809  0.191\n",
      "6       Good  0.523  0.477\n",
      "7        Bad  0.816  0.184\n",
      "8        Bad  0.676  0.324\n",
      "9        Bad  0.693  0.307\n",
      "10       Bad  0.672  0.328\n",
      "11      Good  0.510  0.490\n",
      "12      Good  0.499  0.501\n",
      "13      Good  0.605  0.395\n",
      "14      Good  0.327  0.673\n",
      "15      Good  0.611  0.389\n",
      "16      Good  0.564  0.436\n",
      "17      Good  0.603  0.397\n",
      "18      Good  0.507  0.493\n",
      "19       Bad  0.872  0.128\n",
      "20      Good  0.487  0.513\n",
      "21       Bad  0.803  0.197\n",
      "22      Good  0.522  0.478\n",
      "23       Bad  0.664  0.336\n",
      "24       Bad  0.903  0.097\n",
      "25       Bad  0.781  0.219\n",
      "26      Good  0.581  0.419\n",
      "27       Bad  0.891  0.109\n",
      "28       Bad  0.857  0.143\n",
      "29       Bad  0.756  0.244\n",
      "30       Bad  0.783  0.217\n",
      "31       Bad  0.841  0.159\n",
      "32       Bad  0.715  0.285\n",
      "33       Bad  0.838  0.162\n",
      "34       Bad  0.828  0.172\n",
      "35       Bad  0.720  0.280\n",
      "36       Bad  0.699  0.301\n",
      "37       Bad  0.834  0.166\n",
      "38       Bad  0.865  0.135\n",
      "39       Bad  0.952  0.048\n",
      "40       Bad  0.888  0.112\n",
      "41       Bad  0.821  0.179\n",
      "42       Bad  0.767  0.233\n",
      "43       Bad  0.880  0.120\n",
      "44       Bad  0.972  0.028\n",
      "45       Bad  0.932  0.068\n",
      "46       Bad  0.871  0.129\n",
      "47      Good  0.520  0.480\n",
      "48       Bad  0.755  0.245\n",
      "49       Bad  0.707  0.293\n",
      "50       Bad  0.745  0.255\n",
      "51       Bad  0.776  0.224\n",
      "52       Bad  0.878  0.122\n",
      "53       Bad  0.757  0.243\n",
      "54       Bad  0.752  0.248\n",
      "55       Bad  0.911  0.089\n",
      "56       Bad  0.857  0.143\n",
      "57       Bad  0.883  0.117\n",
      "58       Bad  0.996  0.004\n",
      "59       Bad  0.859  0.141\n",
      "60       Bad  0.878  0.122\n",
      "61       Bad  0.912  0.088\n",
      "62       Bad  0.796  0.204\n",
      "63       Bad  0.849  0.151\n",
      "64       Bad  0.735  0.265\n",
      "65       Bad  0.872  0.128\n",
      "66       Bad  0.631  0.369\n",
      "67       Bad  0.918  0.082\n",
      "68       Bad  0.918  0.082\n",
      "69       Bad  0.835  0.165\n",
      "70       Bad  0.896  0.104\n",
      "71       Bad  0.980  0.020\n",
      "72       Bad  0.932  0.068\n",
      "73       Bad  0.946  0.054\n",
      "74       Bad  0.856  0.144\n",
      "75       Bad  0.856  0.144\n",
      "76       Bad  0.878  0.122\n",
      "77       Bad  0.905  0.095\n",
      "78       Bad  0.891  0.109\n",
      "79       Bad  0.924  0.076\n",
      "80       Bad  0.918  0.082\n",
      "81       Bad  0.910  0.090\n",
      "82       Bad  0.796  0.204\n",
      "83       Bad  0.843  0.157\n",
      "84       Bad  0.898  0.102\n",
      "85       Bad  0.933  0.067\n",
      "86       Bad  0.907  0.093\n",
      "87       Bad  0.872  0.128\n",
      "88       Bad  0.957  0.043\n",
      "89       Bad  0.928  0.072\n",
      "90       Bad  0.930  0.070\n",
      "91      Good  0.408  0.592\n",
      "92      Good  0.238  0.762\n",
      "93       Bad  0.654  0.346\n",
      "94       Bad  0.852  0.148\n",
      "95      Good  0.589  0.411\n",
      "96      Good  0.552  0.448\n",
      "97       Bad  0.757  0.243\n",
      "98       Bad  0.658  0.342\n",
      "99       Bad  0.782  0.218\n",
      "100     Good  0.527  0.473\n",
      "101     Good  0.478  0.522\n",
      "102      Bad  0.651  0.349\n",
      "103     Good  0.512  0.488\n",
      "104     Good  0.503  0.497\n",
      "105     Good  0.375  0.625\n",
      "106     Good  0.551  0.449\n",
      "107     Good  0.525  0.475\n",
      "108     Good  0.594  0.406\n",
      "109     Good  0.569  0.431\n",
      "110     Good  0.564  0.436\n",
      "111      Bad  0.706  0.294\n",
      "112      Bad  0.742  0.258\n",
      "113     Good  0.463  0.537\n",
      "114     Good  0.612  0.388\n",
      "115     Good  0.594  0.406\n",
      "116      Bad  0.639  0.361\n",
      "117      Bad  0.678  0.322\n",
      "118      Bad  0.764  0.236\n",
      "119      Bad  0.672  0.328\n",
      "120      Bad  0.785  0.215\n",
      "121      Bad  0.688  0.312\n",
      "122      Bad  0.837  0.163\n",
      "123     Good  0.336  0.664\n",
      "124     Good  0.336  0.664\n",
      "125     Good  0.310  0.690\n",
      "126     Good  0.368  0.632\n",
      "127     Good  0.384  0.616\n",
      "128      Bad  0.691  0.309\n",
      "129     Good  0.149  0.851\n",
      "130     Good  0.211  0.789\n",
      "131     Good  0.301  0.699\n",
      "132     Good  0.356  0.644\n",
      "133     Good  0.415  0.585\n",
      "134     Good  0.252  0.748\n",
      "135      Bad  0.816  0.184\n",
      "136     Good  0.061  0.939\n",
      "137     Good  0.126  0.874\n",
      "138     Good  0.240  0.760\n",
      "139     Good  0.255  0.745\n",
      "140     Good  0.155  0.845\n",
      "141      Bad  0.714  0.286\n",
      "142     Good  0.296  0.704\n",
      "143     Good  0.317  0.683\n",
      "144     Good  0.367  0.633\n",
      "145     Good  0.147  0.853\n",
      "146     Good  0.249  0.751\n",
      "147     Good  0.306  0.694\n",
      "148     Good  0.335  0.665\n",
      "149     Good  0.364  0.636\n",
      "150      Bad  0.629  0.371\n",
      "151     Good  0.401  0.599\n",
      "152     Good  0.394  0.606\n",
      "153     Good  0.149  0.851\n",
      "154     Good  0.240  0.760\n",
      "155     Good  0.245  0.755\n",
      "156     Good  0.138  0.862\n",
      "157     Good  0.460  0.540\n",
      "158     Good  0.232  0.768\n",
      "159      Bad  0.814  0.186\n",
      "160     Good  0.599  0.401\n",
      "161     Good  0.219  0.781\n",
      "162     Good  0.177  0.823\n",
      "163     Good  0.313  0.687\n",
      "164     Good  0.596  0.404\n",
      "165     Good  0.072  0.928\n",
      "166     Good  0.229  0.771\n",
      "167     Good  0.229  0.771\n",
      "168     Good  0.186  0.814\n",
      "169     Good  0.162  0.838\n",
      "170     Good  0.552  0.448\n",
      "171     Good  0.113  0.887\n",
      "172     Good  0.096  0.904\n",
      "173     Good  0.287  0.713\n",
      "174     Good  0.324  0.676\n",
      "175     Good  0.197  0.803\n",
      "176     Good  0.127  0.873\n",
      "177      Bad  0.816  0.184\n",
      "178     Good  0.058  0.942\n",
      "179     Good  0.174  0.826\n",
      "180     Good  0.104  0.896\n",
      "181     Good  0.130  0.870\n",
      "182     Good  0.364  0.636\n",
      "183     Good  0.543  0.457\n",
      "184      Bad  0.629  0.371\n",
      "185     Good  0.424  0.576\n",
      "186     Good  0.074  0.926\n",
      "187     Good  0.531  0.469\n",
      "188     Good  0.325  0.675\n",
      "189     Good  0.627  0.373\n",
      "190     Good  0.166  0.834\n",
      "191     Good  0.228  0.772\n",
      "192     Good  0.335  0.665\n",
      "193     Good  0.334  0.666\n",
      "194     Good  0.287  0.713\n",
      "195     Good  0.361  0.639\n",
      "196     Good  0.378  0.622\n",
      "197     Good  0.324  0.676\n",
      "198     Good  0.332  0.668\n",
      "199     Good  0.263  0.737\n",
      "200     Good  0.290  0.710\n",
      "201     Good  0.216  0.784\n",
      "202     Good  0.114  0.886\n",
      "203     Good  0.232  0.768\n",
      "204     Good  0.123  0.877\n",
      "205     Good  0.104  0.896\n",
      "206     Good  0.138  0.862\n",
      "207     Good  0.267  0.733\n",
      "208     Good  0.286  0.714\n",
      "209     Good  0.143  0.857\n",
      "210     Good  0.248  0.752\n",
      "211     Good  0.276  0.724\n",
      "212     Good  0.342  0.658\n",
      "213     Good  0.234  0.766\n",
      "214     Good  0.265  0.735\n",
      "215     Good  0.107  0.893\n",
      "216     Good  0.070  0.930\n",
      "217     Good  0.305  0.695\n",
      "218     Good  0.163  0.837\n",
      "219     Good  0.190  0.810\n",
      "220      Bad  0.645  0.355\n",
      "221     Good  0.219  0.781\n",
      "222     Good  0.293  0.707\n",
      "223     Good  0.354  0.646\n",
      "224     Good  0.358  0.642\n",
      "225     Good  0.536  0.464\n",
      "226     Good  0.312  0.688\n",
      "227     Good  0.160  0.840\n",
      "228     Good  0.507  0.493\n",
      "229     Good  0.268  0.732\n",
      "230     Good  0.119  0.881\n",
      "231     Good  0.203  0.797\n",
      "232     Good  0.275  0.725\n",
      "233     Good  0.298  0.702\n",
      "234     Good  0.332  0.668\n",
      "235     Good  0.238  0.762\n",
      "236     Good  0.238  0.762\n",
      "237     Good  0.303  0.697\n",
      "238     Good  0.347  0.653\n",
      "239     Good  0.433  0.567\n",
      "240     Good  0.292  0.708\n",
      "241     Good  0.370  0.630\n",
      "242     Good  0.223  0.777\n",
      "243     Good  0.524  0.476\n",
      "244     Good  0.203  0.797\n",
      "245     Good  0.247  0.753\n",
      "246      Bad  0.797  0.203\n",
      "247     Good  0.322  0.678\n",
      "248     Good  0.241  0.759\n",
      "249     Good  0.171  0.829\n",
      "...      ...    ...    ...\n",
      "6409     Bad  0.780  0.220\n",
      "6410     Bad  0.898  0.102\n",
      "6411     Bad  0.857  0.143\n",
      "6412     Bad  0.657  0.343\n",
      "6413     Bad  0.878  0.122\n",
      "6414     Bad  0.740  0.260\n",
      "6415     Bad  0.774  0.226\n",
      "6416     Bad  0.749  0.251\n",
      "6417     Bad  0.802  0.198\n",
      "6418     Bad  0.678  0.322\n",
      "6419     Bad  0.801  0.199\n",
      "6420     Bad  0.778  0.222\n",
      "6421     Bad  0.806  0.194\n",
      "6422     Bad  0.808  0.192\n",
      "6423     Bad  0.868  0.132\n",
      "6424     Bad  0.975  0.025\n",
      "6425     Bad  0.937  0.063\n",
      "6426     Bad  0.738  0.262\n",
      "6427     Bad  0.855  0.145\n",
      "6428     Bad  0.898  0.102\n",
      "6429     Bad  0.802  0.198\n",
      "6430     Bad  0.736  0.264\n",
      "6431     Bad  0.820  0.180\n",
      "6432     Bad  0.703  0.297\n",
      "6433     Bad  0.768  0.232\n",
      "6434     Bad  0.778  0.222\n",
      "6435     Bad  0.908  0.092\n",
      "6436     Bad  0.748  0.252\n",
      "6437     Bad  0.735  0.265\n",
      "6438    Good  0.595  0.405\n",
      "6439     Bad  0.673  0.327\n",
      "6440    Good  0.191  0.809\n",
      "6441     Bad  0.878  0.122\n",
      "6442    Good  0.222  0.778\n",
      "6443    Good  0.540  0.460\n",
      "6444    Good  0.322  0.678\n",
      "6445    Good  0.516  0.484\n",
      "6446     Bad  0.837  0.163\n",
      "6447     Bad  0.794  0.206\n",
      "6448    Good  0.621  0.379\n",
      "6449    Good  0.603  0.397\n",
      "6450     Bad  0.786  0.214\n",
      "6451     Bad  0.918  0.082\n",
      "6452     Bad  0.707  0.293\n",
      "6453     Bad  0.735  0.265\n",
      "6454     Bad  0.714  0.286\n",
      "6455    Good  0.337  0.663\n",
      "6456    Good  0.470  0.530\n",
      "6457    Good  0.576  0.424\n",
      "6458    Good  0.368  0.632\n",
      "6459    Good  0.417  0.583\n",
      "6460    Good  0.557  0.443\n",
      "6461    Good  0.407  0.593\n",
      "6462    Good  0.565  0.435\n",
      "6463    Good  0.489  0.511\n",
      "6464    Good  0.458  0.542\n",
      "6465    Good  0.351  0.649\n",
      "6466    Good  0.457  0.543\n",
      "6467     Bad  0.728  0.272\n",
      "6468    Good  0.560  0.440\n",
      "6469    Good  0.548  0.452\n",
      "6470    Good  0.494  0.506\n",
      "6471    Good  0.423  0.577\n",
      "6472     Bad  0.648  0.352\n",
      "6473    Good  0.126  0.874\n",
      "6474    Good  0.148  0.852\n",
      "6475    Good  0.327  0.673\n",
      "6476    Good  0.346  0.654\n",
      "6477     Bad  0.685  0.315\n",
      "6478     Bad  0.776  0.224\n",
      "6479    Good  0.307  0.693\n",
      "6480     Bad  0.857  0.143\n",
      "6481    Good  0.528  0.472\n",
      "6482    Good  0.405  0.595\n",
      "6483    Good  0.445  0.555\n",
      "6484     Bad  0.781  0.219\n",
      "6485    Good  0.524  0.476\n",
      "6486    Good  0.555  0.445\n",
      "6487     Bad  0.700  0.300\n",
      "6488    Good  0.471  0.529\n",
      "6489    Good  0.455  0.545\n",
      "6490    Good  0.341  0.659\n",
      "6491     Bad  0.755  0.245\n",
      "6492    Good  0.467  0.533\n",
      "6493     Bad  0.837  0.163\n",
      "6494     Bad  0.668  0.332\n",
      "6495    Good  0.427  0.573\n",
      "6496    Good  0.444  0.556\n",
      "6497    Good  0.571  0.429\n",
      "6498    Good  0.284  0.716\n",
      "6499    Good  0.592  0.408\n",
      "6500    Good  0.371  0.629\n",
      "6501     Bad  0.838  0.162\n",
      "6502    Good  0.350  0.650\n",
      "6503    Good  0.545  0.455\n",
      "6504     Bad  0.828  0.172\n",
      "6505    Good  0.610  0.390\n",
      "6506    Good  0.539  0.461\n",
      "6507    Good  0.513  0.487\n",
      "6508    Good  0.472  0.528\n",
      "6509    Good  0.535  0.465\n",
      "6510    Good  0.528  0.472\n",
      "6511     Bad  0.723  0.277\n",
      "6512    Good  0.352  0.648\n",
      "6513    Good  0.349  0.651\n",
      "6514    Good  0.273  0.727\n",
      "6515    Good  0.298  0.702\n",
      "6516    Good  0.558  0.442\n",
      "6517    Good  0.269  0.731\n",
      "6518    Good  0.254  0.746\n",
      "6519    Good  0.495  0.505\n",
      "6520    Good  0.331  0.669\n",
      "6521    Good  0.382  0.618\n",
      "6522    Good  0.419  0.581\n",
      "6523    Good  0.365  0.635\n",
      "6524     Bad  0.694  0.306\n",
      "6525    Good  0.542  0.458\n",
      "6526     Bad  0.666  0.334\n",
      "6527     Bad  0.633  0.367\n",
      "6528    Good  0.460  0.540\n",
      "6529    Good  0.453  0.547\n",
      "6530    Good  0.221  0.779\n",
      "6531    Good  0.200  0.800\n",
      "6532    Good  0.362  0.638\n",
      "6533     Bad  0.633  0.367\n",
      "6534    Good  0.476  0.524\n",
      "6535     Bad  0.684  0.316\n",
      "6536    Good  0.329  0.671\n",
      "6537     Bad  0.796  0.204\n",
      "6538    Good  0.507  0.493\n",
      "6539    Good  0.336  0.664\n",
      "6540    Good  0.592  0.408\n",
      "6541    Good  0.535  0.465\n",
      "6542     Bad  0.796  0.204\n",
      "6543    Good  0.460  0.540\n",
      "6544    Good  0.557  0.443\n",
      "6545    Good  0.343  0.657\n",
      "6546    Good  0.252  0.748\n",
      "6547    Good  0.360  0.640\n",
      "6548    Good  0.377  0.623\n",
      "6549     Bad  0.745  0.255\n",
      "6550    Good  0.383  0.617\n",
      "6551    Good  0.475  0.525\n",
      "6552     Bad  0.653  0.347\n",
      "6553     Bad  0.755  0.245\n",
      "6554     Bad  0.893  0.107\n",
      "6555    Good  0.499  0.501\n",
      "6556     Bad  0.668  0.332\n",
      "6557    Good  0.581  0.419\n",
      "6558    Good  0.376  0.624\n",
      "6559    Good  0.529  0.471\n",
      "6560    Good  0.204  0.796\n",
      "6561    Good  0.407  0.593\n",
      "6562    Good  0.303  0.697\n",
      "6563    Good  0.288  0.712\n",
      "6564    Good  0.595  0.405\n",
      "6565    Good  0.279  0.721\n",
      "6566    Good  0.376  0.624\n",
      "6567    Good  0.314  0.686\n",
      "6568     Bad  0.771  0.229\n",
      "6569    Good  0.472  0.528\n",
      "6570    Good  0.432  0.568\n",
      "6571    Good  0.572  0.428\n",
      "6572    Good  0.330  0.670\n",
      "6573     Bad  0.771  0.229\n",
      "6574    Good  0.551  0.449\n",
      "6575     Bad  0.700  0.300\n",
      "6576     Bad  0.653  0.347\n",
      "6577     Bad  0.651  0.349\n",
      "6578    Good  0.432  0.568\n",
      "6579    Good  0.612  0.388\n",
      "6580     Bad  0.776  0.224\n",
      "6581    Good  0.496  0.504\n",
      "6582     Bad  0.829  0.171\n",
      "6583     Bad  0.791  0.209\n",
      "6584    Good  0.383  0.617\n",
      "6585    Good  0.486  0.514\n",
      "6586    Good  0.425  0.575\n",
      "6587    Good  0.161  0.839\n",
      "6588    Good  0.490  0.510\n",
      "6589    Good  0.432  0.568\n",
      "6590    Good  0.481  0.519\n",
      "6591    Good  0.359  0.641\n",
      "6592     Bad  0.939  0.061\n",
      "6593    Good  0.592  0.408\n",
      "6594    Good  0.592  0.408\n",
      "6595     Bad  0.776  0.224\n",
      "6596     Bad  0.691  0.309\n",
      "6597     Bad  0.783  0.217\n",
      "6598     Bad  0.716  0.284\n",
      "6599    Good  0.299  0.701\n",
      "6600    Good  0.368  0.632\n",
      "6601    Good  0.384  0.616\n",
      "6602    Good  0.229  0.771\n",
      "6603    Good  0.480  0.520\n",
      "6604    Good  0.518  0.482\n",
      "6605    Good  0.489  0.511\n",
      "6606    Good  0.413  0.587\n",
      "6607    Good  0.370  0.630\n",
      "6608    Good  0.307  0.693\n",
      "6609    Good  0.293  0.707\n",
      "6610    Good  0.545  0.455\n",
      "6611    Good  0.429  0.571\n",
      "6612     Bad  0.707  0.293\n",
      "6613    Good  0.579  0.421\n",
      "6614     Bad  0.708  0.292\n",
      "6615    Good  0.445  0.555\n",
      "6616     Bad  0.747  0.253\n",
      "6617    Good  0.507  0.493\n",
      "6618    Good  0.210  0.790\n",
      "6619    Good  0.142  0.858\n",
      "6620    Good  0.156  0.844\n",
      "6621    Good  0.180  0.820\n",
      "6622    Good  0.207  0.793\n",
      "6623    Good  0.271  0.729\n",
      "6624    Good  0.340  0.660\n",
      "6625    Good  0.476  0.524\n",
      "6626    Good  0.445  0.555\n",
      "6627    Good  0.198  0.802\n",
      "6628    Good  0.119  0.881\n",
      "6629     Bad  0.795  0.205\n",
      "6630    Good  0.401  0.599\n",
      "6631    Good  0.554  0.446\n",
      "6632    Good  0.494  0.506\n",
      "6633    Good  0.308  0.692\n",
      "6634    Good  0.493  0.507\n",
      "6635    Good  0.414  0.586\n",
      "6636    Good  0.274  0.726\n",
      "6637    Good  0.309  0.691\n",
      "6638    Good  0.408  0.592\n",
      "6639    Good  0.447  0.553\n",
      "6640    Good  0.458  0.542\n",
      "6641    Good  0.314  0.686\n",
      "6642    Good  0.515  0.485\n",
      "6643     Bad  0.630  0.370\n",
      "6644    Good  0.573  0.427\n",
      "6645    Good  0.399  0.601\n",
      "6646    Good  0.239  0.761\n",
      "6647    Good  0.204  0.796\n",
      "6648    Good  0.479  0.521\n",
      "6649    Good  0.462  0.538\n",
      "6650    Good  0.214  0.786\n",
      "6651    Good  0.547  0.453\n",
      "6652     Bad  0.660  0.340\n",
      "6653    Good  0.324  0.676\n",
      "6654    Good  0.271  0.729\n",
      "6655    Good  0.566  0.434\n",
      "6656    Good  0.469  0.531\n",
      "6657    Good  0.335  0.665\n",
      "6658    Good  0.625  0.375\n",
      "\n"
     ]
    },
    {
     "name": "stdout",
     "output_type": "stream",
     "text": [
      "[6659 rows x 3 columns]\n"
     ]
    }
   ],
   "source": [
    "print(model1)\n",
    "print('Generate predictions…')\n",
    "test_y = model1.predict(test)\n",
    "test_y = test_y.as_data_frame()\n",
    "print(test_y)"
   ]
  },
  {
   "cell_type": "code",
   "execution_count": 382,
   "metadata": {},
   "outputs": [],
   "source": [
    "sh = model1.score_history()\n",
    "sh = pd.DataFrame(sh)\n"
   ]
  },
  {
   "cell_type": "code",
   "execution_count": 383,
   "metadata": {},
   "outputs": [
    {
     "data": {
      "text/plain": [
       "Index(['', 'timestamp', 'duration', 'number_of_trees', 'training_rmse', 'training_logloss',\n",
       "       'training_auc', 'training_pr_auc', 'training_lift', 'training_classification_error'],\n",
       "      dtype='object')"
      ]
     },
     "execution_count": 383,
     "metadata": {},
     "output_type": "execute_result"
    }
   ],
   "source": [
    "sh.columns"
   ]
  },
  {
   "cell_type": "code",
   "execution_count": 385,
   "metadata": {},
   "outputs": [
    {
     "data": {
      "text/plain": [
       "<matplotlib.axes._subplots.AxesSubplot at 0x7fa26ba989e8>"
      ]
     },
     "execution_count": 385,
     "metadata": {},
     "output_type": "execute_result"
    },
    {
     "data": {
      "image/png": "[encoded data removed]",
      "text/plain": [
       "<Figure size 432x288 with 1 Axes>"
      ]
     },
     "metadata": {
      "needs_background": "light"
     },
     "output_type": "display_data"
    }
   ],
   "source": [
    "import matplotlib.pyplot as plt\n",
    "%matplotlib inline \n",
    "# plot training training_rmse and training_mae\n",
    "sh.plot(x='number_of_trees', y = ['training_logloss'])"
   ]
  },
  {
   "cell_type": "code",
   "execution_count": 387,
   "metadata": {},
   "outputs": [
    {
     "data": {
      "text/plain": [
       "<matplotlib.axes._subplots.AxesSubplot at 0x7fa26fb7c550>"
      ]
     },
     "execution_count": 387,
     "metadata": {},
     "output_type": "execute_result"
    },
    {
     "data": {
      "image/png": "[encoded data removed]",
      "text/plain": [
       "<Figure size 432x288 with 1 Axes>"
      ]
     },
     "metadata": {
      "needs_background": "light"
     },
     "output_type": "display_data"
    }
   ],
   "source": [
    "import matplotlib.pyplot as plt\n",
    "%matplotlib inline \n",
    "# plot training training_rmse and training_mae\n",
    "sh.plot(x='number_of_trees', y = ['training_auc'])"
   ]
  },
  {
   "cell_type": "markdown",
   "metadata": {},
   "source": [
    "#### Explain  Predictive Models to Business Stakeholders using LIME with Python and H2O\n",
    "#### Describing complex models and generating reason codes with Local Interpretable Model-agnostic Explanations (LIME) and LIME-variants\n",
    "\n",
    "Local Interpretable Model-agnostic Explanations (LIME) shed light on how almost any machine learning model makes decisions for specific rows of data. LIME builds local linear surrogate models around observations of interest and leverages the highly interpretable properties of linear models to increase transparency and accountability for the corresponding model predictions. In this notebook, an h2o GBM is trained on the UCI credit card default data and then predictions for a highly risky customer are explained using linear model coefficients and LIME-derived reason codes. The notebook concludes by introducing a variant of LIME that is easier to execute on new data and that can be analyzed alongside observed (i.e., not simulated) data.\n",
    "\n",
    "**Note**: As of the h2o 3.24 \"Yates\" release, Shapley values are supported in h2o. Shapley values can be used in place of or along with LIME. To see Shapley values for an h2o GBM in action please see: https://github.com/jphall663/interpretable_machine_learning_with_python/blob/master/dia.ipynb.\n"
   ]
  },
  {
   "cell_type": "markdown",
   "metadata": {},
   "source": [
    "### LIME to generate descriptions for a local region with a perturbed sample\n",
    "\n",
    "LIME was originally described in the context of explaining image or text classification decisions here: http://www.kdd.org/kdd2016/papers/files/rfp0573-ribeiroA.pdf. It can certainly also be applied to business or customer data, as will be done in the remaining sections of this notebook. Multiple Python implementations of LIME are available from the original authors of LIME, from the eli5 package, from the skater package, and probably others. However, this notebook uses a simple, step-by-step implementation of LIME for instructional purposes. \n",
    "\n",
    "A linear model cannot be built on a single observation, so LIME typically requires that a set of rows similar to the row of interest be simulated. This set of records are scored using the complex model to be explained. Then the records are weighted by their closeness to the record of interest, and a regularized linear model is trained on this weighted explanatory set. The parameters of the linear model and LIME-derived reason codes are then used to explain the prediction for the selected record. Because simulation of new points can seem abstract to some practicioners and simulation and distance calculations can be somewhat burdensome for creating explanations quickly in mission-critical applications, this notebook also presents a variation of LIME in which a more practical sample, instead of a perturbed, simulated sample, is used to create a local region in which to fit a linear model.\n"
   ]
  },
  {
   "cell_type": "code",
   "execution_count": 389,
   "metadata": {},
   "outputs": [
    {
     "data": {
      "text/html": [
       "<table>\n",
       "<thead>\n",
       "<tr><th style=\"text-align: right;\">  onset_latency_norm</th><th style=\"text-align: right;\">  rol_bedtime_start_delta_7d</th><th style=\"text-align: right;\">  score_move_every_hour</th><th style=\"text-align: right;\">  score_recovery_time</th><th style=\"text-align: right;\">  score_stay_active</th><th style=\"text-align: right;\">  score_training_frequency</th><th style=\"text-align: right;\">  score_training_volume</th><th style=\"text-align: right;\">  rol_activity_score_7d</th><th style=\"text-align: right;\">  rol_met_min_medium_7d</th><th style=\"text-align: right;\">  rol_sleep_afterMidnight_7d</th><th style=\"text-align: right;\">  rol_met_min_high_7d</th><th style=\"text-align: right;\">  rol_met_min_medium_plus_7d</th><th style=\"text-align: right;\">  rol_score_move_every_hour_7d</th><th style=\"text-align: right;\">  rol_score_stay_active_7d</th><th style=\"text-align: right;\">  rol_beforesleep_exercise_min_7d</th><th style=\"text-align: right;\">  rol_afterwake_exercise_min_7d</th><th style=\"text-align: right;\">  rol_noon_exercise_min_7d</th><th style=\"text-align: right;\">  rol_eve_exercise_min_7d</th><th style=\"text-align: right;\">  steps</th><th>Quality  </th></tr>\n",
       "</thead>\n",
       "<tbody>\n",
       "<tr><td style=\"text-align: right;\">           0.0166052</td><td style=\"text-align: right;\">                     12447.6</td><td style=\"text-align: right;\">                     95</td><td style=\"text-align: right;\">                  100</td><td style=\"text-align: right;\">                 87</td><td style=\"text-align: right;\">                        71</td><td style=\"text-align: right;\">                     96</td><td style=\"text-align: right;\">                71     </td><td style=\"text-align: right;\">                144.857</td><td style=\"text-align: right;\">                    1       </td><td style=\"text-align: right;\">              2.14286</td><td style=\"text-align: right;\">                     147    </td><td style=\"text-align: right;\">                       97.8571</td><td style=\"text-align: right;\">                   69.4286</td><td style=\"text-align: right;\">                          34     </td><td style=\"text-align: right;\">                        35     </td><td style=\"text-align: right;\">                   16.4286</td><td style=\"text-align: right;\">                  42.1429</td><td style=\"text-align: right;\">  12704</td><td>Good     </td></tr>\n",
       "<tr><td style=\"text-align: right;\">           0.0184109</td><td style=\"text-align: right;\">                     13882.4</td><td style=\"text-align: right;\">                    100</td><td style=\"text-align: right;\">                  100</td><td style=\"text-align: right;\">                 85</td><td style=\"text-align: right;\">                        96</td><td style=\"text-align: right;\">                     96</td><td style=\"text-align: right;\">                70.2857</td><td style=\"text-align: right;\">                137    </td><td style=\"text-align: right;\">                    1       </td><td style=\"text-align: right;\">              3.14286</td><td style=\"text-align: right;\">                     140.143</td><td style=\"text-align: right;\">                       97.8571</td><td style=\"text-align: right;\">                   71     </td><td style=\"text-align: right;\">                          20.8333</td><td style=\"text-align: right;\">                        49.1667</td><td style=\"text-align: right;\">                   17.8571</td><td style=\"text-align: right;\">                  40     </td><td style=\"text-align: right;\">  11752</td><td>Bad      </td></tr>\n",
       "<tr><td style=\"text-align: right;\">           0.0291667</td><td style=\"text-align: right;\">                     14215.7</td><td style=\"text-align: right;\">                    100</td><td style=\"text-align: right;\">                  100</td><td style=\"text-align: right;\">                 78</td><td style=\"text-align: right;\">                        71</td><td style=\"text-align: right;\">                     77</td><td style=\"text-align: right;\">                78.2857</td><td style=\"text-align: right;\">                129.286</td><td style=\"text-align: right;\">                    1       </td><td style=\"text-align: right;\">              3      </td><td style=\"text-align: right;\">                     132.286</td><td style=\"text-align: right;\">                       97.1429</td><td style=\"text-align: right;\">                   70.1429</td><td style=\"text-align: right;\">                          22.5   </td><td style=\"text-align: right;\">                        44.1667</td><td style=\"text-align: right;\">                   26.4286</td><td style=\"text-align: right;\">                  35.7143</td><td style=\"text-align: right;\">   4450</td><td>Bad      </td></tr>\n",
       "<tr><td style=\"text-align: right;\">           0.0832084</td><td style=\"text-align: right;\">                     16324.9</td><td style=\"text-align: right;\">                     95</td><td style=\"text-align: right;\">                  100</td><td style=\"text-align: right;\">                 66</td><td style=\"text-align: right;\">                        40</td><td style=\"text-align: right;\">                     95</td><td style=\"text-align: right;\">                80.4286</td><td style=\"text-align: right;\">                144.143</td><td style=\"text-align: right;\">                    0.833333</td><td style=\"text-align: right;\">              4      </td><td style=\"text-align: right;\">                     148.143</td><td style=\"text-align: right;\">                       96.4286</td><td style=\"text-align: right;\">                   71.5714</td><td style=\"text-align: right;\">                          18.3333</td><td style=\"text-align: right;\">                        47.5   </td><td style=\"text-align: right;\">                   22.8571</td><td style=\"text-align: right;\">                  31.4286</td><td style=\"text-align: right;\">   6331</td><td>Bad      </td></tr>\n",
       "<tr><td style=\"text-align: right;\">           0.0262712</td><td style=\"text-align: right;\">                     15050.1</td><td style=\"text-align: right;\">                     95</td><td style=\"text-align: right;\">                  100</td><td style=\"text-align: right;\">                 61</td><td style=\"text-align: right;\">                        40</td><td style=\"text-align: right;\">                     89</td><td style=\"text-align: right;\">                79.7143</td><td style=\"text-align: right;\">                119.429</td><td style=\"text-align: right;\">                    0.857143</td><td style=\"text-align: right;\">              3      </td><td style=\"text-align: right;\">                     122.429</td><td style=\"text-align: right;\">                       95.7143</td><td style=\"text-align: right;\">                   70     </td><td style=\"text-align: right;\">                          30     </td><td style=\"text-align: right;\">                        49.2857</td><td style=\"text-align: right;\">                   20.7143</td><td style=\"text-align: right;\">                  29.2857</td><td style=\"text-align: right;\">   5455</td><td>Good     </td></tr>\n",
       "<tr><td style=\"text-align: right;\">           0.0513245</td><td style=\"text-align: right;\">                     15322.4</td><td style=\"text-align: right;\">                    100</td><td style=\"text-align: right;\">                  100</td><td style=\"text-align: right;\">                 67</td><td style=\"text-align: right;\">                        40</td><td style=\"text-align: right;\">                     83</td><td style=\"text-align: right;\">                79.4286</td><td style=\"text-align: right;\">                116.857</td><td style=\"text-align: right;\">                    0.857143</td><td style=\"text-align: right;\">              4      </td><td style=\"text-align: right;\">                     120.857</td><td style=\"text-align: right;\">                       95.7143</td><td style=\"text-align: right;\">                   67.8571</td><td style=\"text-align: right;\">                          32.8571</td><td style=\"text-align: right;\">                        58.5714</td><td style=\"text-align: right;\">                   22.8571</td><td style=\"text-align: right;\">                  32.1429</td><td style=\"text-align: right;\">   4999</td><td>Bad      </td></tr>\n",
       "<tr><td style=\"text-align: right;\">           0.0200334</td><td style=\"text-align: right;\">                     -1719  </td><td style=\"text-align: right;\">                    100</td><td style=\"text-align: right;\">                  100</td><td style=\"text-align: right;\">                 99</td><td style=\"text-align: right;\">                        96</td><td style=\"text-align: right;\">                     81</td><td style=\"text-align: right;\">                76.4718</td><td style=\"text-align: right;\">                128.145</td><td style=\"text-align: right;\">                    0.303797</td><td style=\"text-align: right;\">             51.0159 </td><td style=\"text-align: right;\">                     179.161</td><td style=\"text-align: right;\">                       95.7754</td><td style=\"text-align: right;\">                   81.0641</td><td style=\"text-align: right;\">                          43.9061</td><td style=\"text-align: right;\">                        48.6878</td><td style=\"text-align: right;\">                   38.7809</td><td style=\"text-align: right;\">                  42.5428</td><td style=\"text-align: right;\">  12722</td><td>Good     </td></tr>\n",
       "<tr><td style=\"text-align: right;\">           0.0630631</td><td style=\"text-align: right;\">                     15020.4</td><td style=\"text-align: right;\">                    100</td><td style=\"text-align: right;\">                  100</td><td style=\"text-align: right;\">                 87</td><td style=\"text-align: right;\">                        96</td><td style=\"text-align: right;\">                     83</td><td style=\"text-align: right;\">                91.4286</td><td style=\"text-align: right;\">                177    </td><td style=\"text-align: right;\">                    1       </td><td style=\"text-align: right;\">              3.14286</td><td style=\"text-align: right;\">                     180.143</td><td style=\"text-align: right;\">                       98.5714</td><td style=\"text-align: right;\">                   89.7143</td><td style=\"text-align: right;\">                          68.75  </td><td style=\"text-align: right;\">                        46.25  </td><td style=\"text-align: right;\">                   31.4286</td><td style=\"text-align: right;\">                  47.1429</td><td style=\"text-align: right;\">  11968</td><td>Bad      </td></tr>\n",
       "<tr><td style=\"text-align: right;\">           0.0285714</td><td style=\"text-align: right;\">                     10521.4</td><td style=\"text-align: right;\">                    100</td><td style=\"text-align: right;\">                  100</td><td style=\"text-align: right;\">                 96</td><td style=\"text-align: right;\">                        71</td><td style=\"text-align: right;\">                     96</td><td style=\"text-align: right;\">                93.4286</td><td style=\"text-align: right;\">                129    </td><td style=\"text-align: right;\">                    1       </td><td style=\"text-align: right;\">              1      </td><td style=\"text-align: right;\">                     130    </td><td style=\"text-align: right;\">                       98.5714</td><td style=\"text-align: right;\">                   84.1429</td><td style=\"text-align: right;\">                          75     </td><td style=\"text-align: right;\">                        42     </td><td style=\"text-align: right;\">                   19.2857</td><td style=\"text-align: right;\">                  57.1429</td><td style=\"text-align: right;\">  15589</td><td>Bad      </td></tr>\n",
       "<tr><td style=\"text-align: right;\">           0.0010352</td><td style=\"text-align: right;\">                     -1719  </td><td style=\"text-align: right;\">                     78</td><td style=\"text-align: right;\">                  100</td><td style=\"text-align: right;\">                 45</td><td style=\"text-align: right;\">                        96</td><td style=\"text-align: right;\">                     96</td><td style=\"text-align: right;\">                93.1429</td><td style=\"text-align: right;\">                183    </td><td style=\"text-align: right;\">                    1       </td><td style=\"text-align: right;\">              4.14286</td><td style=\"text-align: right;\">                     187.143</td><td style=\"text-align: right;\">                       98.5714</td><td style=\"text-align: right;\">                   79.1429</td><td style=\"text-align: right;\">                          84     </td><td style=\"text-align: right;\">                        54     </td><td style=\"text-align: right;\">                   32.8571</td><td style=\"text-align: right;\">                  63.5714</td><td style=\"text-align: right;\">   7921</td><td>Bad      </td></tr>\n",
       "</tbody>\n",
       "</table>"
      ]
     },
     "metadata": {},
     "output_type": "display_data"
    },
    {
     "data": {
      "text/plain": [
       "<bound method H2OFrame.head of >"
      ]
     },
     "execution_count": 389,
     "metadata": {},
     "output_type": "execute_result"
    }
   ],
   "source": [
    "test.head"
   ]
  },
  {
   "cell_type": "markdown",
   "metadata": {},
   "source": [
    "#### Lime\n",
    "\n",
    "Lime is available on PyPI python package index. We can install it by calling the command `!pip install lime`. Then, we can import lime in our project."
   ]
  },
  {
   "cell_type": "code",
   "execution_count": 390,
   "metadata": {},
   "outputs": [
    {
     "data": {
      "text/html": [
       "<table>\n",
       "<thead>\n",
       "<tr><th style=\"text-align: right;\">  onset_latency_norm</th><th style=\"text-align: right;\">  rol_bedtime_start_delta_7d</th><th style=\"text-align: right;\">  score_move_every_hour</th><th style=\"text-align: right;\">  score_recovery_time</th><th style=\"text-align: right;\">  score_stay_active</th><th style=\"text-align: right;\">  score_training_frequency</th><th style=\"text-align: right;\">  score_training_volume</th><th style=\"text-align: right;\">  rol_activity_score_7d</th><th style=\"text-align: right;\">  rol_met_min_medium_7d</th><th style=\"text-align: right;\">  rol_sleep_afterMidnight_7d</th><th style=\"text-align: right;\">  rol_met_min_high_7d</th><th style=\"text-align: right;\">  rol_met_min_medium_plus_7d</th><th style=\"text-align: right;\">  rol_score_move_every_hour_7d</th><th style=\"text-align: right;\">  rol_score_stay_active_7d</th><th style=\"text-align: right;\">  rol_beforesleep_exercise_min_7d</th><th style=\"text-align: right;\">  rol_afterwake_exercise_min_7d</th><th style=\"text-align: right;\">  rol_noon_exercise_min_7d</th><th style=\"text-align: right;\">  rol_eve_exercise_min_7d</th><th style=\"text-align: right;\">  steps</th><th>Quality  </th></tr>\n",
       "</thead>\n",
       "<tbody>\n",
       "<tr><td style=\"text-align: right;\">           0.0166052</td><td style=\"text-align: right;\">                     12447.6</td><td style=\"text-align: right;\">                     95</td><td style=\"text-align: right;\">                  100</td><td style=\"text-align: right;\">                 87</td><td style=\"text-align: right;\">                        71</td><td style=\"text-align: right;\">                     96</td><td style=\"text-align: right;\">                     71</td><td style=\"text-align: right;\">                144.857</td><td style=\"text-align: right;\">                           1</td><td style=\"text-align: right;\">              2.14286</td><td style=\"text-align: right;\">                         147</td><td style=\"text-align: right;\">                       97.8571</td><td style=\"text-align: right;\">                   69.4286</td><td style=\"text-align: right;\">                               34</td><td style=\"text-align: right;\">                             35</td><td style=\"text-align: right;\">                   16.4286</td><td style=\"text-align: right;\">                  42.1429</td><td style=\"text-align: right;\">  12704</td><td>Good     </td></tr>\n",
       "</tbody>\n",
       "</table>"
      ]
     },
     "metadata": {},
     "output_type": "display_data"
    },
    {
     "data": {
      "text/plain": []
     },
     "execution_count": 390,
     "metadata": {},
     "output_type": "execute_result"
    }
   ],
   "source": [
    "row = test[test['steps'] == 12704]\n",
    "row"
   ]
  },
  {
   "cell_type": "code",
   "execution_count": 392,
   "metadata": {},
   "outputs": [
    {
     "name": "stdout",
     "output_type": "stream",
     "text": [
      "Train data rows = 20247, columns = 20\n",
      "Test data rows = 6659, columns = 20\n"
     ]
    }
   ],
   "source": [
    "# summarize split\n",
    "print('Train data rows = %d, columns = %d' % (train.shape[0], train.shape[1]))\n",
    "print('Test data rows = %d, columns = %d' % (test.shape[0], test.shape[1]))"
   ]
  },
  {
   "cell_type": "markdown",
   "metadata": {},
   "source": [
    "It expects train set features in numpy format and feature names list. Optionally, we can pass the label class names but this is not a must. Probability index values will be assigned if class names would not be set. Label classes are already 0 and 1 in our data set. That’s why, I would not set class names.\n",
    "\n",
    "Firstly, we need to find feature names. Columns function of h2o frame will return column names. Target label is on the right of the data set. We can discard the target label with passing index from 0 to -1."
   ]
  },
  {
   "cell_type": "code",
   "execution_count": 394,
   "metadata": {},
   "outputs": [],
   "source": [
    "import lime\n",
    "import lime.lime_tabular"
   ]
  },
  {
   "cell_type": "code",
   "execution_count": 399,
   "metadata": {},
   "outputs": [],
   "source": [
    "feature_names = train.columns[0: -1]"
   ]
  },
  {
   "cell_type": "code",
   "execution_count": 400,
   "metadata": {},
   "outputs": [],
   "source": [
    "train_features_numpy = train[feature_names].as_data_frame().values"
   ]
  },
  {
   "cell_type": "markdown",
   "metadata": {},
   "source": [
    "#### Explaining instance\n",
    "\n",
    "We’ve already created the explainer. It has an explain instance function. It expects the features of an instance in numpy format, prediction function and total number of features to show."
   ]
  },
  {
   "cell_type": "code",
   "execution_count": 401,
   "metadata": {},
   "outputs": [],
   "source": [
    "explainer = lime.lime_tabular.LimeTabularExplainer(train_features_numpy, feature_names = feature_names)"
   ]
  },
  {
   "cell_type": "code",
   "execution_count": 403,
   "metadata": {},
   "outputs": [],
   "source": [
    "idx = 17\n",
    "validation_df = test.as_data_frame()\n",
    "instance_numpy = validation_df.iloc[idx].values[0:-1]"
   ]
  },
  {
   "cell_type": "markdown",
   "metadata": {},
   "source": [
    "We’ve loaded the pre-trained model in model variable. Prediction function is depended on that object but here we need to create a mediator function. This function expects the features of an instance in numpy format. We can convert that numpy formatted instance to pandas data frame and h2o frame. Model expects input features in h2o frame format. Prediction function will return 3 columned frame. Its first column is prediction class whereas others are prediction class probabilities. Herein, we just need these probabilities. That’s why, we will filter predictions 1 index to end (ignored 0 index column)."
   ]
  },
  {
   "cell_type": "code",
   "execution_count": 405,
   "metadata": {},
   "outputs": [],
   "source": [
    "def findPrediction(instance):\n",
    " #instance will be in type of numpy\n",
    " df = pd.DataFrame(data = instance, columns = feature_names)\n",
    " hf = h2o.H2OFrame(df)\n",
    " predictions = model.predict(hf).as_data_frame()\n",
    " \n",
    " #here predictions object is 3 columned data frame. 1st column is class prediction and others are probabilities\n",
    " #lime needs just prediction probabilities\n",
    " \n",
    " predictions = predictions.iloc[:,1:].values\n",
    " return predictions"
   ]
  },
  {
   "cell_type": "code",
   "execution_count": 406,
   "metadata": {},
   "outputs": [
    {
     "name": "stdout",
     "output_type": "stream",
     "text": [
      "Parse progress: |█████████████████████████████████████████████████████████| 100%\n",
      "gbm prediction progress: |████████████████████████████████████████████████| 100%\n"
     ]
    }
   ],
   "source": [
    "exp = explainer.explain_instance(\n",
    "        instance_numpy\n",
    "        , findPrediction\n",
    "        , num_features = len(feature_names))"
   ]
  },
  {
   "cell_type": "markdown",
   "metadata": {},
   "source": []
  }
 ],
 "metadata": {
  "kernelspec": {
   "display_name": "Python 3",
   "language": "python",
   "name": "python3"
  },
  "language_info": {
   "codemirror_mode": {
    "name": "ipython",
    "version": 3
   },
   "file_extension": ".py",
   "mimetype": "text/x-python",
   "name": "python",
   "nbconvert_exporter": "python",
   "pygments_lexer": "ipython3",
   "version": "3.7.3"
  }
 },
 "nbformat": 4,
 "nbformat_minor": 2
}
