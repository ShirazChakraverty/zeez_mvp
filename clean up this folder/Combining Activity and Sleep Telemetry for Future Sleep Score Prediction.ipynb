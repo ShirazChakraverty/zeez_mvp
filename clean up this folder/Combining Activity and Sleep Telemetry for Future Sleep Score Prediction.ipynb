{
 "cells": [
  {
   "cell_type": "markdown",
   "metadata": {},
   "source": [
    "<h2>\n",
    "    <center>Modeling Some Future Date Sleep Score <br> \n",
    "    Based on the Last 7 Days of Data\n",
    "    </center>\n",
    "</h2> \n"
   ]
  },
  {
   "cell_type": "code",
   "execution_count": 1,
   "metadata": {},
   "outputs": [],
   "source": [
    "%load_ext autoreload\n",
    "%autoreload 2"
   ]
  },
  {
   "cell_type": "code",
   "execution_count": 2,
   "metadata": {},
   "outputs": [],
   "source": [
    "import requests\n",
    "import json\n",
    "import numpy as np\n",
    "import pandas as pd\n",
    "import pprint as pp\n",
    "import os\n",
    "from os import mkdir\n",
    "from os import chdir\n",
    "from zipfile import ZipFile\n",
    "from datetime import datetime,date\n",
    "import time\n",
    "from pandas.io.json import json_normalize"
   ]
  },
  {
   "cell_type": "code",
   "execution_count": 3,
   "metadata": {},
   "outputs": [],
   "source": [
    "# We'll also import seaborn, a Python graphing library\n",
    "import warnings # current version of seaborn generates a bunch of warnings that we'll ignore\n",
    "warnings.filterwarnings(\"ignore\")\n",
    "import seaborn as sns\n",
    "import matplotlib.pyplot as plt\n",
    "sns.set(style=\"white\", color_codes=True)"
   ]
  },
  {
   "cell_type": "code",
   "execution_count": 4,
   "metadata": {},
   "outputs": [],
   "source": [
    "# Create a ZipFile Object and load dataset.zip in it\n",
    "# with ZipFile('dataset_10-14-2019.zip', 'r') as zipObj:\n",
    "#    # Extract all the contents of zip file in current directory\n",
    "#    zipObj.extractall()"
   ]
  },
  {
   "cell_type": "code",
   "execution_count": 22,
   "metadata": {},
   "outputs": [],
   "source": [
    "sleep_file_path = 'sleep_data.csv'\n",
    "activity_file_path = 'activity_data.csv'\n",
    "\n",
    "sleep = pd.read_csv(sleep_file_path)\n",
    "activity = pd.read_csv(activity_file_path)\n",
    "\n",
    "# drop duplicate values\n",
    "sleep = sleep.drop_duplicates()\n",
    "activity = activity.drop_duplicates()\n",
    "\n",
    "\n",
    "# adding column name prefixes since the sleep and activity data sets share common names\n",
    "sleep = sleep.add_prefix('sleep_')\n",
    "activity = activity.add_prefix('activity_')\n",
    "#set up join key to merge the two dataframes\n",
    "sleep['user_date_key'] = sleep['sleep_user_id'] + '|' + sleep['sleep_summary_date']\n",
    "activity['user_date_key'] = activity['activity_user_id'] + '|' + activity['activity_summary_date']\n",
    "#join activity observations with sleep observations\n",
    "df = pd.merge(sleep,activity, on = 'user_date_key',how ='left')"
   ]
  },
  {
   "cell_type": "code",
   "execution_count": 23,
   "metadata": {},
   "outputs": [],
   "source": [
    "df['sleep_summary_date'] = pd.to_datetime(df['sleep_summary_date'])"
   ]
  },
  {
   "cell_type": "code",
   "execution_count": 24,
   "metadata": {},
   "outputs": [],
   "source": [
    "def isTraveling(df):\n",
    "    '''flags whether or not the user is in the same timezone as the time zone they are \n",
    "    most frequently in'''\n",
    "    user_istraveling_list = []\n",
    "    for user in df['sleep_user_id'].unique():\n",
    "        single_user_df = df[df['sleep_user_id'] == user].filter(['sleep_timezone','user_date_key'])\n",
    "        single_user_df['is_traveling'] = np.where(single_user_df['sleep_timezone'] == \n",
    "                                                    single_user_df['sleep_timezone'].value_counts().idxmax(), False, True)\n",
    "        usr_datekey = single_user_df.filter(['is_traveling','user_date_key']).values\n",
    "        \n",
    "        for i in usr_datekey:\n",
    "            user_istraveling_list.append(i)\n",
    "            \n",
    "    return pd.DataFrame(columns = ['is_traveling','user_date_key'],data = user_istraveling_list)"
   ]
  },
  {
   "cell_type": "code",
   "execution_count": 25,
   "metadata": {},
   "outputs": [],
   "source": [
    "df = pd.merge(df,isTraveling(df), on = 'user_date_key',how ='left')"
   ]
  },
  {
   "cell_type": "code",
   "execution_count": 26,
   "metadata": {},
   "outputs": [],
   "source": [
    "def AfterWakeExcercise(class_5min,bedtime_end):\n",
    "    '''returns the number of minutes with medium to high MET scores \n",
    "    within the first 3 hours of waketime as a proxy for whether or not exercise \n",
    "    occurs after waking up'''\n",
    "    if isinstance(class_5min,float):\n",
    "        return np.nan\n",
    "    else:\n",
    "        #convert the str integer into a list of integers\n",
    "        class_5min_list = list(map(int, class_5min))\n",
    "        #--take the timestamp from the datetime string, extracts hh:mm data, and converts to a number--#\n",
    "        wake_hr_min = int(''.join(bedtime_end.split('T')[1][0:5].split(':')))\n",
    "        #---calculate minutes lapsed since 4am and wake up time---#\n",
    "        #---rescale minutes into 5 minute intervals to find the number of elements at which to offset class_5min--#\n",
    "        offset = int(((wake_hr_min - 400)/100)*(60/5))\n",
    "\n",
    "        #subset observations between wake up and 3 hrs post wake up (24*5=120 min)\n",
    "        morning_obs = class_5min_list[offset:offset+36]\n",
    "\n",
    "        #tally total minutes spent in medium to high intensity exercise (3-4)\n",
    "        total_min = sum([1 for obs in morning_obs if obs >=3])*5\n",
    "        return total_min\n",
    "\n",
    "\n",
    "def BeforeSleepExcercise(class_5min,bedtime_start):\n",
    "    '''returns the number of minutes with medium to high MET scores \n",
    "    within the last 3 hours of waketime as a proxy for whether or not exercise \n",
    "    occurs in the evening close to bedtime'''\n",
    "    if isinstance(class_5min,float):\n",
    "        return np.nan\n",
    "    else:\n",
    "        #convert the str integer into a list of integers\n",
    "        class_5min_list = list(map(int, class_5min))\n",
    "        #--take the timestamp from the datetime string, extracts hh:mm data, and converts to a number--#\n",
    "        sleep_hr_min = int(''.join(bedtime_start.split('T')[1][0:5].split(':')))\n",
    "        #---calculate minutes lapsed since 4am and wake up time---#\n",
    "        #---rescale minutes into 5 minute intervals to find the number of elements at which to offset class_5min--#\n",
    "        offset = int(((sleep_hr_min - 400)/100)*(60/5))\n",
    "\n",
    "        #subset observations 3 hours before sleep time\n",
    "        evening_obs = class_5min_list[offset-36:offset]\n",
    "\n",
    "        #tally total minutes spent in medium to high intensity exercise (3-4)\n",
    "        total_min = sum([1 for obs in evening_obs if obs >=3])*5\n",
    "        return total_min\n",
    "\n",
    "def NoonExcercise(class_5min):\n",
    "    '''returns the number of minutes with medium to high MET scores \n",
    "    between noon and two local time'''\n",
    "    if isinstance(class_5min,float):\n",
    "        return np.nan\n",
    "    else:\n",
    "        #convert the str integer into a list of integers\n",
    "        class_5min_list = list(map(int, class_5min))\n",
    "\n",
    "        #---calculate minutes lapsed since 4am and 12 (8*12 (5min intervasl in an hr)---#\n",
    "\n",
    "        offset = 96\n",
    "\n",
    "        #subset observations between noon and 2 pm\n",
    "        noon_obs = class_5min_list[offset:offset+24]\n",
    "\n",
    "        #tally total minutes spent in medium to high intensity exercise (3-4)\n",
    "        total_min = sum([1 for obs in noon_obs if obs >=3])*5\n",
    "        return total_min\n",
    "    \n",
    "\n",
    "def EveningExcercise(class_5min):\n",
    "    '''returns the number of minutes with medium to high MET scores \n",
    "    between noon and two local time'''\n",
    "    if isinstance(class_5min,float):\n",
    "        return np.nan\n",
    "    else:\n",
    "        #convert the str integer into a list of integers\n",
    "        class_5min_list = list(map(int, class_5min))\n",
    "\n",
    "        #---calculate minutes lapsed since 4am and 5pm (13*12) --there are 12 5min intervasl in an hr---#\n",
    "\n",
    "        offset = 156\n",
    "\n",
    "        #subset observations between 5pm and 7 pm post wake up\n",
    "        eve_obs = class_5min_list[offset:offset+24]\n",
    "\n",
    "        #tally total minutes spent in medium to high intensity exercise (3-4)\n",
    "        total_min = sum([1 for obs in eve_obs if obs >=3])*5\n",
    "        return total_min"
   ]
  },
  {
   "cell_type": "code",
   "execution_count": 27,
   "metadata": {},
   "outputs": [],
   "source": [
    "#helper functions to flag weekend and instances where bedtime started at or after midnight\n",
    "def after_midnight(timestamp_str):\n",
    "    '''indicator for whether or not bedtime started after midnight (in early am hours)'''\n",
    "    d,t = timestamp_str.split('T')\n",
    "    hr = int(t[0:2]) #extract hr from timestamp\n",
    "    if hr >= 0 and hr < 6:\n",
    "        return 1\n",
    "    else:\n",
    "        return 0\n",
    "\n",
    "def isWeekend(timestamp_str):\n",
    "    '''indicator for whether or not local day falls on a friday or saturday\n",
    "    note: dayofweek attribute returns integers (0-6) with 0 being monday and \n",
    "    6 being sunday'''\n",
    "    day = pd.Timestamp(timestamp_str).dayofweek\n",
    "    if day in (5,6):\n",
    "        return 1\n",
    "    else:\n",
    "        return 0"
   ]
  },
  {
   "cell_type": "code",
   "execution_count": 28,
   "metadata": {},
   "outputs": [],
   "source": [
    "#functions for binning demo data\n",
    "\n",
    "def age_bin(e):\n",
    "    if  e >= 20 and e < 30:\n",
    "        return \"20s\"\n",
    "    elif e >= 30 and e < 40:\n",
    "        return \"30s\"\n",
    "    elif e >= 40 and e < 50:\n",
    "        return \"40s\"\n",
    "    else:\n",
    "        return \"50s plus\"\n",
    "    \n",
    "def height_bin(e):\n",
    "    if  e > 0 and e < 170:\n",
    "        return \"less than 170 cm\"\n",
    "    elif e >= 170 and e <= 180:\n",
    "        return \"170 to 180 cm\"\n",
    "    else:\n",
    "        return \"greater than 180 cm\"\n",
    "    \n",
    "def weight_bin(e):\n",
    "    if  e > 0 and e <= 69:\n",
    "        return \"less than 70 kg\"\n",
    "    elif e >= 70 and e <= 80:\n",
    "        return \"70 to 80 kg\"\n",
    "    else:\n",
    "        return \"greater than 80 kg\""
   ]
  },
  {
   "cell_type": "markdown",
   "metadata": {},
   "source": [
    "Note: the measurments aren't perfectly calibrated. For instance, we can see situations where activity_class_5min shows intervals of high activity, but the activity.high measure shows 0 MET minutes of high activity.\n",
    "* so we might want to look at both medium and high activity as well as the activity class_5min\n",
    "* (see example below)"
   ]
  },
  {
   "cell_type": "code",
   "execution_count": 29,
   "metadata": {},
   "outputs": [],
   "source": [
    "#note: this must be missing from the api calls; it's not showing up in our data\n",
    "df['activity_met_min_medium_plus'] = df['activity_met_min_medium'] + df['activity_met_min_high']"
   ]
  },
  {
   "cell_type": "code",
   "execution_count": 30,
   "metadata": {},
   "outputs": [],
   "source": [
    "#----adding additional features----#\n",
    "# df['age_bin'] = df['age'].apply(age_bin)\n",
    "# df['height_bin'] = df['height'].apply(height_bin)\n",
    "# df['weight_bin'] = df['weight'].apply(weight_bin)\n",
    "df['sleep_afterMidnight'] = df['sleep_bedtime_start'].apply(after_midnight)\n",
    "df['sleep_isWeekend'] = df['sleep_bedtime_start'].apply(isWeekend)\n",
    "df['afterwake_exercise_min'] = [AfterWakeExcercise(c,b) for c,b in zip(df['activity_class_5min'],df['sleep_bedtime_end'])]\n",
    "df['beforesleep_exercise_min'] = [BeforeSleepExcercise(c,b) for c,b in zip(df['activity_class_5min'],df['sleep_bedtime_start'])]\n",
    "df['noon_exercise_min'] = df['activity_class_5min'].apply(NoonExcercise)\n",
    "df['eve_exercise_min'] = df['activity_class_5min'].apply(EveningExcercise)"
   ]
  },
  {
   "cell_type": "markdown",
   "metadata": {},
   "source": [
    "## Start Here Before Rolling Data"
   ]
  },
  {
   "cell_type": "markdown",
   "metadata": {},
   "source": [
    "the following are measurements that are already on a 7 day window (or 14 day window as with the deviation scores) per the api documentation so I didn't roll them since they're already computed as averages\n",
    "\n",
    "\n"
   ]
  },
  {
   "cell_type": "code",
   "execution_count": null,
   "metadata": {},
   "outputs": [],
   "source": [
    "deviation_columns = list(df.columns[df.columns.str.contains('_deviation')].values)\n",
    "\n",
    "# note i include user_id and summary date to map back to 7 day rolled dataframe\n",
    "seven_day_vars = ['sleep_user_id','sleep_summary_date','activity_score_meet_daily_targets',\n",
    "                  'activity_score_training_frequency','activity_score_training_volume',\n",
    "                  'activity_score_recovery_time'] + deviation_columns"
   ]
  },
  {
   "cell_type": "code",
   "execution_count": 31,
   "metadata": {},
   "outputs": [],
   "source": [
    "#variables of interest to roll on an n day window\n",
    "\n",
    "'''the below are the variables i rolled (you can include more if need be)'''\n",
    "\n",
    "activity_vars_to_roll = [\n",
    "    'activity_cal_total','activity_high','activity_medium','activity_steps','activity_inactive',\n",
    "    'activity_non_wear','activity_score','activity_met_min_medium', 'activity_met_min_high',\n",
    "    'activity_met_min_medium_plus','activity_score_move_every_hour','activity_score_stay_active',\n",
    "    'beforesleep_exercise_min','afterwake_exercise_min','noon_exercise_min', 'eve_exercise_min'\n",
    "]\n",
    "\n",
    "sleep_vars_to_roll = [\n",
    "    'sleep_user_id','sleep_bedtime_start', 'sleep_bedtime_end','sleep_summary_date','sleep_score',\n",
    "    'sleep_bedtime_start_delta','sleep_isWeekend','sleep_afterMidnight','sleep_onset_latency','sleep_duration',\n",
    "    'sleep_breath_average','is_traveling','sleep_score_disturbances']\n"
   ]
  },
  {
   "cell_type": "code",
   "execution_count": 32,
   "metadata": {},
   "outputs": [],
   "source": [
    "#-----collecting all variables to roll on an n day window------#\n",
    "vars_to_roll = activity_vars_to_roll + sleep_vars_to_roll"
   ]
  },
  {
   "cell_type": "code",
   "execution_count": 33,
   "metadata": {},
   "outputs": [],
   "source": [
    "#splitting the pre-computed 7 day average variables into their own dataframe \n",
    "df_to_roll = df.filter(vars_to_roll)\n",
    "df_7Day_vars = df.filter(seven_day_vars)\n",
    "df_7Day_vars['sleep_summary_date'] = pd.to_datetime(df_7Day_vars['sleep_summary_date'])\n",
    "df_to_roll['sleep_summary_date'] = pd.to_datetime(df_to_roll['sleep_summary_date'])"
   ]
  },
  {
   "cell_type": "code",
   "execution_count": 34,
   "metadata": {},
   "outputs": [],
   "source": [
    "#----function to compute some statistic on the dataset based on an n day window-----#\n",
    "def mean_roll (dataframe,window):\n",
    "    '''compute the statistic on an n day window and return the \n",
    "    resulting dataframe'''\n",
    "    df_collect = []\n",
    "    \n",
    "    for usr in set(dataframe['sleep_user_id']):\n",
    "        usr_df = dataframe[dataframe['sleep_user_id']==usr]\\\n",
    "        .rolling(on ='sleep_summary_date',window=window)\\\n",
    "        .mean()\n",
    "        \n",
    "        df_collect.append(usr_df)\n",
    "    \n",
    "    return pd.concat(df_collect)"
   ]
  },
  {
   "cell_type": "markdown",
   "metadata": {},
   "source": [
    "### Now Rolling Dataframe of variables that don't include those 7 day variables"
   ]
  },
  {
   "cell_type": "code",
   "execution_count": 35,
   "metadata": {},
   "outputs": [],
   "source": [
    "#building a 7 day rolling average dataframe\n",
    "df_7_mean  = mean_roll(df_to_roll,7)\n"
   ]
  },
  {
   "cell_type": "markdown",
   "metadata": {},
   "source": [
    "The below is the period-over-period function i use"
   ]
  },
  {
   "cell_type": "code",
   "execution_count": 36,
   "metadata": {},
   "outputs": [],
   "source": [
    "def PoP(dataframe,usrid,date_col, metric_cols,days_offset):\n",
    "    '''for each datetime in the dataframe's date column, computes the metric column's\n",
    "    difference from the period days prior:\n",
    "    returns WoW differences with the corresponding userid and datetime as a tuple'''\n",
    "    #--first recorded observation date + days_offset\n",
    "    init_date = min(dataframe[date_col]) + pd.DateOffset(days_offset)\n",
    "    pop_list = []\n",
    "    for dt in dataframe[date_col]:\n",
    "        if dt < init_date: # won't have 7 days prior for the first 7 observations so flag as np.nan\n",
    "            pop_list.append([usrid,dt]+[np.nan for i in np.arange(len(metric_cols))])\n",
    "        else:\n",
    "            try: #---need to account for missing dates\n",
    "                pop_diff_list = []\n",
    "                for metric in metric_cols:\n",
    "                    #grab the value from the prior 7(or n) days -- need to index on 0 since values returns array of array\n",
    "                    prd_prior = dataframe[dataframe[date_col] == dt + pd.DateOffset(-days_offset)][metric].values[0]\n",
    "                    #grab the current value\n",
    "                    prd_current = dataframe[dataframe[date_col] == dt][metric].values[0]\n",
    "                    #take the diff - list of differences\n",
    "                    try:\n",
    "                        pop_diff = (prd_current/prd_prior)-1\n",
    "                    except ZeroDivisionError: #1 if prior period was 0 (basically capping at 100% increase)\n",
    "                        pop_diff = 1\n",
    "                   \n",
    "                    pop_diff_list.append(pop_diff)\n",
    "                    \n",
    "                pop_list.append([usrid,dt]+[i for i in pop_diff_list])\n",
    "            except:\n",
    "                #---if missing dates then use nan values\n",
    "                pop_list.append([usrid,dt]+[np.nan for i in np.arange(len(metric_cols))])\n",
    "\n",
    "    return pop_list"
   ]
  },
  {
   "cell_type": "markdown",
   "metadata": {},
   "source": [
    "The following metrics incorporate a measure based on the last seven days and, together, make up 75% of the activity score. A WoW delta in this metrics can help us determine if the user demonstrates a consistency from one week to the next whereby the most consistency would be a delta of zero. We could use this as a proxy for routine, meaning that the frequency and amount of exercise doesn't change much from one week to the next and the person's goals and rest doesn't change much from one week to the next:\n",
    "- activity.score_training_frequency\n",
    "- activity.score_training_volume\n",
    "- activity.score_recovery_time\n",
    "- activity.score_meet_daily_targets"
   ]
  },
  {
   "cell_type": "code",
   "execution_count": 37,
   "metadata": {},
   "outputs": [],
   "source": [
    "#variables for computing % change WoW to capture consistency/routine in sleep'''\n",
    "activity_metric_cols = ['activity_score_training_frequency','activity_score_training_volume','activity_score_recovery_time',\n",
    "               'activity_score_meet_daily_targets']\n",
    "\n",
    "sleep_metric_cols = ['sleep_onset_latency','sleep_duration','sleep_bedtime_start_delta','sleep_score_disturbances']"
   ]
  },
  {
   "cell_type": "code",
   "execution_count": 38,
   "metadata": {},
   "outputs": [],
   "source": [
    "#---will take a few minutes to run since it's calling the PoP function for each user-----#\n",
    "'''calculating WoW % changes for the weekly target variables to attempt to capture consistency/routine'''\n",
    "activity_wow_list = []\n",
    "for usr in set(df_7Day_vars['sleep_user_id']):\n",
    "    temp_df = df_7Day_vars[df_7Day_vars['sleep_user_id']==usr]\n",
    "    activity_wow_list.append(PoP(temp_df,usr,'sleep_summary_date',metric_cols = activity_metric_cols,days_offset = 7))\n",
    "    \n",
    "sleep_wow_list = []\n",
    "for usr in set(df_7_mean['sleep_user_id']):\n",
    "    temp_df = df_7_mean[df_7_mean['sleep_user_id']==usr]\n",
    "    sleep_wow_list.append(PoP(temp_df,usr,'sleep_summary_date',metric_cols = sleep_metric_cols,days_offset = 7))"
   ]
  },
  {
   "cell_type": "code",
   "execution_count": 39,
   "metadata": {},
   "outputs": [],
   "source": [
    "#need to figure out a better way to do this, but this basically makes a dataframe of the wow metrics\n",
    "activity_d = []\n",
    "for usr in activity_wow_list:\n",
    "    for i in usr:\n",
    "        activity_d.append(\n",
    "            {'sleep_user_id': i[0], 'sleep_summary_date': i[1], 'activity_score_training_frequency_wow':i[2],\n",
    "                  'activity_score_training_volume_wow':i[3],'activity_score_recovery_time_wow':i[4],\n",
    "                 'activity_score_meet_daily_targets_wow':i[5]}\n",
    "        )\n",
    "\n",
    "        \n",
    "sleep_d = []\n",
    "for usr in sleep_wow_list:\n",
    "    for i in usr:\n",
    "        sleep_d.append(\n",
    "            {'sleep_user_id': i[0], 'sleep_summary_date': i[1], 'sleep_onset_latency_wow':i[2],\n",
    "                  'sleep_duration_wow':i[3],'sleep_bedtime_start_delta_wow':i[4],'sleep_score_disturbances_wow':i[5]\n",
    "            }\n",
    "        )\n",
    "    \n",
    "\n",
    "#dataframe with WoW %change for each day  \n",
    "activity_wow_df = pd.DataFrame(activity_d).replace(np.inf, 1)\n",
    "sleep_wow_df = pd.DataFrame(sleep_d).replace(np.inf, 1)        \n",
    "\n",
    "wow_df = pd.merge(activity_wow_df,sleep_wow_df, on = ['sleep_user_id','sleep_summary_date'],how ='left')"
   ]
  },
  {
   "cell_type": "code",
   "execution_count": 41,
   "metadata": {},
   "outputs": [],
   "source": [
    "#---combining the PoP metrics (week-over-week) with the pre-computed weekly metrics\n",
    "df_7Day_WoW = pd.merge(wow_df,df_7Day_vars, on = ['sleep_user_id','sleep_summary_date'],how ='left')"
   ]
  },
  {
   "cell_type": "code",
   "execution_count": 45,
   "metadata": {},
   "outputs": [],
   "source": [
    "#modeling 7 day averages and combining the 7-day based metrics + wow data\n",
    "#---this is the consolidated dataframe that i'll use for further modeling---#\n",
    "mod_df = pd.merge(df_7_mean,df_7Day_WoW, on = ['sleep_user_id','sleep_summary_date'],how ='left')"
   ]
  },
  {
   "cell_type": "code",
   "execution_count": 46,
   "metadata": {},
   "outputs": [],
   "source": [
    "#setting routine variable based on how often and how much exercise changes week-to-week\n",
    "mod_df['activity_routine_score'] = (\n",
    "    np.absolute(mod_df['activity_score_training_volume_wow']) + \n",
    "    np.absolute(mod_df['activity_score_training_frequency_wow'])+\n",
    "    np.absolute(mod_df['activity_score_meet_daily_targets_wow'])+\n",
    "    np.absolute(mod_df['activity_score_recovery_time_wow']))/4\n",
    "\n",
    "#setting sleep routine variable based on how often and how much sleep habits change week-to-week\n",
    "mod_df['sleep_routine_score'] = (\n",
    "    np.absolute(mod_df['sleep_onset_latency_wow']) + \n",
    "    np.absolute(mod_df['sleep_duration_wow']) +\n",
    "    np.absolute(mod_df['sleep_bedtime_start_delta_wow'])+\n",
    "    np.absolute(mod_df['sleep_score_disturbances_wow']))/4"
   ]
  },
  {
   "cell_type": "code",
   "execution_count": 48,
   "metadata": {},
   "outputs": [],
   "source": [
    "mod_df = mod_df.drop_duplicates()"
   ]
  },
  {
   "cell_type": "code",
   "execution_count": 49,
   "metadata": {},
   "outputs": [],
   "source": [
    "# mod_df.to_csv('mod_df.csv',index = False)"
   ]
  },
  {
   "cell_type": "code",
   "execution_count": 53,
   "metadata": {},
   "outputs": [],
   "source": [
    "mod_df = pd.read_csv('mod_df.csv',parse_dates = ['sleep_summary_date'])"
   ]
  },
  {
   "cell_type": "markdown",
   "metadata": {},
   "source": [
    "The function below basically consolidates modeling features and targets into a single dataframe that can be used for training and cross validating models - it doesn't include the userID, but perhaps we can include it"
   ]
  },
  {
   "cell_type": "code",
   "execution_count": 31,
   "metadata": {},
   "outputs": [],
   "source": [
    "def process_data_frame(mod_df,target_df,base_n_days,next_n_days,features):\n",
    "\n",
    "    '''builds a dataframe of feature values and target values for each person-day in the dataset\n",
    "    based on the features passed and the dataframes used as the model feature and target values'''\n",
    "    feature_space = []\n",
    "    targets = []\n",
    "\n",
    "    cap_date = max(mod_df['sleep_summary_date']) - pd.DateOffset(base_n_days)\n",
    "    # need at least n days of data to compute target value\n",
    "    target_period_start = min(mod_df['sleep_summary_date']) + pd.DateOffset(base_n_days) #7\n",
    "\n",
    "\n",
    "    #iteratively build feature to target observations for training/test data\n",
    "    while target_period_start <= cap_date:\n",
    "\n",
    "        baseline_period = target_period_start - pd.DateOffset(base_n_days) #n day prior to target sleep score\n",
    "        baseline_data = mod_df[mod_df['sleep_summary_date'] == baseline_period]\n",
    "        #corresponds to sleep score n days ahead -- target data as avg score 3 days from now = target_period_start - pd.DateOffset(4)\n",
    "        target_data = target_df[target_df['sleep_summary_date'] == (target_period_start - pd.DateOffset(base_n_days-next_n_days))]\\\n",
    "        .filter(['sleep_user_id','sleep_score'])\\\n",
    "        .rename(columns={'sleep_score': 'target_score'})\n",
    "\n",
    "        temp_df = pd.merge(baseline_data,target_data, on = 'sleep_user_id',how ='left')\n",
    "        #binarizing outcome - if score increases or remains the same then 1, else 0\n",
    "        temp_df['target_binary'] = (temp_df['target_score'] >= temp_df['sleep_score']).astype(int)\n",
    "\n",
    "\n",
    "        feature_vals = temp_df[temp_df['sleep_summary_date'] == baseline_period]\\\n",
    "        .filter(features)\\\n",
    "        .values\n",
    "\n",
    "        target_vals = temp_df[temp_df['sleep_summary_date'] == baseline_period]\\\n",
    "        .filter(['target_binary','target_score'])\\\n",
    "        .values\n",
    "\n",
    "        feature_space.append(feature_vals)\n",
    "        targets.append(target_vals)\n",
    "        # move forward 1 day\n",
    "        target_period_start = target_period_start + pd.DateOffset(+1)\n",
    "\n",
    "\n",
    "    features_block = []\n",
    "    target_block = []\n",
    "\n",
    "    for f in feature_space:\n",
    "        for array in f:\n",
    "            features_block.append(array)\n",
    "\n",
    "    for t in targets:\n",
    "        for array in t:\n",
    "            target_block.append(array)\n",
    "\n",
    "    data_set = pd.concat([pd.DataFrame(features_block,columns = features),\n",
    "           pd.DataFrame(target_block,columns = ['target_binary','target_score'])],axis = 1)\n",
    "    \n",
    "    return data_set\n",
    "    \n",
    "    "
   ]
  },
  {
   "cell_type": "code",
   "execution_count": 11,
   "metadata": {},
   "outputs": [],
   "source": [
    "#these are the variables that i chose for modeling\n",
    "my_variables = ['sleep_summary_date','sleep_score','sleep_afterMidnight','sleep_onset_latency','sleep_duration',\n",
    "            'sleep_score_disturbances','sleep_temperature_deviation','sleep_bedtime_start_delta','sleep_routine_score',\n",
    "            'activity_cal_total','activity_steps','activity_score_meet_daily_targets','activity_met_min_medium_plus',\n",
    "            'activity_score_training_frequency','activity_score_training_volume','activity_routine_score','activity_score_move_every_hour',\n",
    "            'activity_score_stay_active','afterwake_exercise_min','beforesleep_exercise_min','is_traveling']"
   ]
  },
  {
   "cell_type": "code",
   "execution_count": 67,
   "metadata": {},
   "outputs": [],
   "source": [
    "data_set = process_data_frame(mod_df = mod_df,target_df = mod_df,base_n_days = 7,next_n_days = 7,features=my_variables)"
   ]
  },
  {
   "cell_type": "code",
   "execution_count": 68,
   "metadata": {},
   "outputs": [],
   "source": [
    "#writing the above to file\n",
    "data_set.to_csv('my_dataset.csv',index = False)"
   ]
  },
  {
   "cell_type": "code",
   "execution_count": 4,
   "metadata": {},
   "outputs": [],
   "source": [
    "data_set = pd.read_csv('my_dataset.csv',parse_dates = ['sleep_summary_date'])"
   ]
  },
  {
   "cell_type": "markdown",
   "metadata": {},
   "source": [
    "## You can end here, the rest is just modeling"
   ]
  },
  {
   "cell_type": "markdown",
   "metadata": {},
   "source": [
    "### Modeling Future Avg Sleep Scores with Random Forest"
   ]
  },
  {
   "cell_type": "code",
   "execution_count": 6,
   "metadata": {},
   "outputs": [],
   "source": [
    "from sklearn.model_selection import train_test_split\n",
    "from sklearn.ensemble import RandomForestClassifier,GradientBoostingRegressor\n",
    "from sklearn.linear_model import LogisticRegression\n",
    "from sklearn.preprocessing import StandardScaler\n",
    "from sklearn.pipeline import Pipeline,make_pipeline\n",
    "from sklearn.ensemble import RandomForestRegressor,AdaBoostRegressor"
   ]
  },
  {
   "cell_type": "code",
   "execution_count": 7,
   "metadata": {},
   "outputs": [],
   "source": [
    "# splitting training and test set by recency\n",
    "train = data_set[data_set['sleep_summary_date'] <= pd.Timestamp(2019, 9, 1, 12)]\n",
    "test = data_set[data_set['sleep_summary_date'] > pd.Timestamp(2019, 9, 1, 12)]\n",
    "#-dropping summary date since its not needed\n",
    "train = train.drop(['sleep_summary_date'],axis=1)\n",
    "test = test.drop(['sleep_summary_date'],axis=1)"
   ]
  },
  {
   "cell_type": "code",
   "execution_count": 8,
   "metadata": {},
   "outputs": [],
   "source": [
    "#dropping NaNs - still need to resolve how we want to handle NAs\n",
    "train = train.dropna()\n",
    "test = test.dropna()"
   ]
  },
  {
   "cell_type": "markdown",
   "metadata": {},
   "source": [
    "<h4>\n",
    "    <center>Random Forest Results<br> \n",
    "    Next Week's Avg Sleep Score Based on the Last 7 Days of Data (with Sleep Score as a Feature)\n",
    "    </center>\n",
    "</h4> "
   ]
  },
  {
   "cell_type": "markdown",
   "metadata": {},
   "source": [
    "The below is intended to help us predict the last 7 day's avg sleep score 7 days from now"
   ]
  },
  {
   "cell_type": "code",
   "execution_count": 15,
   "metadata": {},
   "outputs": [],
   "source": [
    "#drop summary date from features\n",
    "features = [f for f in my_variables if f != 'sleep_summary_date']\n",
    "rf_regr = RandomForestRegressor()\n",
    "rf_regr.fit(train[features],train['target_score'])\n",
    "rf_reg_pred = rf_regr.predict(test[features])"
   ]
  },
  {
   "cell_type": "code",
   "execution_count": 16,
   "metadata": {},
   "outputs": [
    {
     "name": "stdout",
     "output_type": "stream",
     "text": [
      "R2 of:  0.7053442164676733\n",
      "MSE of:  17.19840780099022\n",
      "MAE of:  3.1907100591715984\n",
      "Explained Variance: 0.7062093142937167\n",
      "Median Absolute Error 2.6000000000000014\n"
     ]
    }
   ],
   "source": [
    "#-----RESULTS of Predicting Avg Sleep Score Over Next 7 Days Based on Prior 7 Days--------#\n",
    "from sklearn.metrics import r2_score, mean_squared_error,mean_absolute_error,explained_variance_score,median_absolute_error\n",
    "print('R2 of: ',r2_score(test['target_score'], rf_reg_pred))\n",
    "print('MSE of: ', mean_squared_error(test['target_score'], rf_reg_pred))\n",
    "print('MAE of: ', mean_absolute_error(test['target_score'], rf_reg_pred))\n",
    "print('Explained Variance:', explained_variance_score(test['target_score'], rf_reg_pred))\n",
    "print('Median Absolute Error',median_absolute_error(test['target_score'], rf_reg_pred))"
   ]
  },
  {
   "cell_type": "code",
   "execution_count": 17,
   "metadata": {},
   "outputs": [
    {
     "name": "stdout",
     "output_type": "stream",
     "text": [
      "sleep_score 0.72\n",
      "sleep_afterMidnight 0.01\n",
      "sleep_onset_latency 0.02\n",
      "sleep_duration 0.02\n",
      "sleep_score_disturbances 0.03\n",
      "sleep_temperature_deviation 0.01\n",
      "sleep_bedtime_start_delta 0.03\n",
      "sleep_routine_score 0.01\n",
      "activity_cal_total 0.02\n",
      "activity_steps 0.02\n",
      "activity_score_meet_daily_targets 0.01\n",
      "activity_met_min_medium_plus 0.01\n",
      "activity_score_training_frequency 0.0\n",
      "activity_score_training_volume 0.01\n",
      "activity_routine_score 0.01\n",
      "activity_score_move_every_hour 0.01\n",
      "activity_score_stay_active 0.02\n",
      "afterwake_exercise_min 0.02\n",
      "beforesleep_exercise_min 0.02\n",
      "is_traveling 0.01\n"
     ]
    }
   ],
   "source": [
    "#----feature importance----#\n",
    "for f,i in zip(features,rf_regr.feature_importances_):\n",
    "    print(f,round(i,2))"
   ]
  },
  {
   "cell_type": "code",
   "execution_count": 18,
   "metadata": {},
   "outputs": [
    {
     "data": {
      "text/html": [
       "\n",
       "    <style>\n",
       "    table.eli5-weights tr:hover {\n",
       "        filter: brightness(85%);\n",
       "    }\n",
       "</style>\n",
       "\n",
       "\n",
       "\n",
       "    \n",
       "\n",
       "    \n",
       "\n",
       "    \n",
       "\n",
       "    \n",
       "\n",
       "    \n",
       "\n",
       "    \n",
       "\n",
       "\n",
       "    \n",
       "\n",
       "    \n",
       "\n",
       "    \n",
       "\n",
       "    \n",
       "\n",
       "    \n",
       "\n",
       "    \n",
       "\n",
       "\n",
       "    \n",
       "\n",
       "    \n",
       "\n",
       "    \n",
       "\n",
       "    \n",
       "\n",
       "    \n",
       "        <table class=\"eli5-weights eli5-feature-importances\" style=\"border-collapse: collapse; border: none; margin-top: 0em; table-layout: auto;\">\n",
       "    <thead>\n",
       "    <tr style=\"border: none;\">\n",
       "        <th style=\"padding: 0 1em 0 0.5em; text-align: right; border: none;\">Weight</th>\n",
       "        <th style=\"padding: 0 0.5em 0 0.5em; text-align: left; border: none;\">Feature</th>\n",
       "    </tr>\n",
       "    </thead>\n",
       "    <tbody>\n",
       "    \n",
       "        <tr style=\"background-color: hsl(120, 100.00%, 80.00%); border: none;\">\n",
       "            <td style=\"padding: 0 1em 0 0.5em; text-align: right; border: none;\">\n",
       "                1.0937\n",
       "                \n",
       "                    &plusmn; 0.0906\n",
       "                \n",
       "            </td>\n",
       "            <td style=\"padding: 0 0.5em 0 0.5em; text-align: left; border: none;\">\n",
       "                sleep_score\n",
       "            </td>\n",
       "        </tr>\n",
       "    \n",
       "        <tr style=\"background-color: hsl(120, 100.00%, 97.06%); border: none;\">\n",
       "            <td style=\"padding: 0 1em 0 0.5em; text-align: right; border: none;\">\n",
       "                0.0708\n",
       "                \n",
       "                    &plusmn; 0.0096\n",
       "                \n",
       "            </td>\n",
       "            <td style=\"padding: 0 0.5em 0 0.5em; text-align: left; border: none;\">\n",
       "                sleep_score_disturbances\n",
       "            </td>\n",
       "        </tr>\n",
       "    \n",
       "        <tr style=\"background-color: hsl(120, 100.00%, 98.39%); border: none;\">\n",
       "            <td style=\"padding: 0 1em 0 0.5em; text-align: right; border: none;\">\n",
       "                0.0300\n",
       "                \n",
       "                    &plusmn; 0.0054\n",
       "                \n",
       "            </td>\n",
       "            <td style=\"padding: 0 0.5em 0 0.5em; text-align: left; border: none;\">\n",
       "                sleep_bedtime_start_delta\n",
       "            </td>\n",
       "        </tr>\n",
       "    \n",
       "        <tr style=\"background-color: hsl(120, 100.00%, 99.00%); border: none;\">\n",
       "            <td style=\"padding: 0 1em 0 0.5em; text-align: right; border: none;\">\n",
       "                0.0152\n",
       "                \n",
       "                    &plusmn; 0.0054\n",
       "                \n",
       "            </td>\n",
       "            <td style=\"padding: 0 0.5em 0 0.5em; text-align: left; border: none;\">\n",
       "                activity_cal_total\n",
       "            </td>\n",
       "        </tr>\n",
       "    \n",
       "        <tr style=\"background-color: hsl(120, 100.00%, 99.04%); border: none;\">\n",
       "            <td style=\"padding: 0 1em 0 0.5em; text-align: right; border: none;\">\n",
       "                0.0142\n",
       "                \n",
       "                    &plusmn; 0.0033\n",
       "                \n",
       "            </td>\n",
       "            <td style=\"padding: 0 0.5em 0 0.5em; text-align: left; border: none;\">\n",
       "                sleep_duration\n",
       "            </td>\n",
       "        </tr>\n",
       "    \n",
       "        <tr style=\"background-color: hsl(120, 100.00%, 99.04%); border: none;\">\n",
       "            <td style=\"padding: 0 1em 0 0.5em; text-align: right; border: none;\">\n",
       "                0.0142\n",
       "                \n",
       "                    &plusmn; 0.0012\n",
       "                \n",
       "            </td>\n",
       "            <td style=\"padding: 0 0.5em 0 0.5em; text-align: left; border: none;\">\n",
       "                sleep_afterMidnight\n",
       "            </td>\n",
       "        </tr>\n",
       "    \n",
       "        <tr style=\"background-color: hsl(120, 100.00%, 99.13%); border: none;\">\n",
       "            <td style=\"padding: 0 1em 0 0.5em; text-align: right; border: none;\">\n",
       "                0.0124\n",
       "                \n",
       "                    &plusmn; 0.0055\n",
       "                \n",
       "            </td>\n",
       "            <td style=\"padding: 0 0.5em 0 0.5em; text-align: left; border: none;\">\n",
       "                activity_score_meet_daily_targets\n",
       "            </td>\n",
       "        </tr>\n",
       "    \n",
       "        <tr style=\"background-color: hsl(120, 100.00%, 99.23%); border: none;\">\n",
       "            <td style=\"padding: 0 1em 0 0.5em; text-align: right; border: none;\">\n",
       "                0.0104\n",
       "                \n",
       "                    &plusmn; 0.0056\n",
       "                \n",
       "            </td>\n",
       "            <td style=\"padding: 0 0.5em 0 0.5em; text-align: left; border: none;\">\n",
       "                activity_steps\n",
       "            </td>\n",
       "        </tr>\n",
       "    \n",
       "        <tr style=\"background-color: hsl(120, 100.00%, 99.37%); border: none;\">\n",
       "            <td style=\"padding: 0 1em 0 0.5em; text-align: right; border: none;\">\n",
       "                0.0078\n",
       "                \n",
       "                    &plusmn; 0.0018\n",
       "                \n",
       "            </td>\n",
       "            <td style=\"padding: 0 0.5em 0 0.5em; text-align: left; border: none;\">\n",
       "                sleep_onset_latency\n",
       "            </td>\n",
       "        </tr>\n",
       "    \n",
       "        <tr style=\"background-color: hsl(120, 100.00%, 99.65%); border: none;\">\n",
       "            <td style=\"padding: 0 1em 0 0.5em; text-align: right; border: none;\">\n",
       "                0.0034\n",
       "                \n",
       "                    &plusmn; 0.0024\n",
       "                \n",
       "            </td>\n",
       "            <td style=\"padding: 0 0.5em 0 0.5em; text-align: left; border: none;\">\n",
       "                activity_score_training_volume\n",
       "            </td>\n",
       "        </tr>\n",
       "    \n",
       "        <tr style=\"background-color: hsl(120, 100.00%, 99.66%); border: none;\">\n",
       "            <td style=\"padding: 0 1em 0 0.5em; text-align: right; border: none;\">\n",
       "                0.0033\n",
       "                \n",
       "                    &plusmn; 0.0018\n",
       "                \n",
       "            </td>\n",
       "            <td style=\"padding: 0 0.5em 0 0.5em; text-align: left; border: none;\">\n",
       "                sleep_routine_score\n",
       "            </td>\n",
       "        </tr>\n",
       "    \n",
       "        <tr style=\"background-color: hsl(120, 100.00%, 99.67%); border: none;\">\n",
       "            <td style=\"padding: 0 1em 0 0.5em; text-align: right; border: none;\">\n",
       "                0.0031\n",
       "                \n",
       "                    &plusmn; 0.0021\n",
       "                \n",
       "            </td>\n",
       "            <td style=\"padding: 0 0.5em 0 0.5em; text-align: left; border: none;\">\n",
       "                beforesleep_exercise_min\n",
       "            </td>\n",
       "        </tr>\n",
       "    \n",
       "        <tr style=\"background-color: hsl(120, 100.00%, 99.68%); border: none;\">\n",
       "            <td style=\"padding: 0 1em 0 0.5em; text-align: right; border: none;\">\n",
       "                0.0029\n",
       "                \n",
       "                    &plusmn; 0.0028\n",
       "                \n",
       "            </td>\n",
       "            <td style=\"padding: 0 0.5em 0 0.5em; text-align: left; border: none;\">\n",
       "                activity_score_stay_active\n",
       "            </td>\n",
       "        </tr>\n",
       "    \n",
       "        <tr style=\"background-color: hsl(120, 100.00%, 99.70%); border: none;\">\n",
       "            <td style=\"padding: 0 1em 0 0.5em; text-align: right; border: none;\">\n",
       "                0.0027\n",
       "                \n",
       "                    &plusmn; 0.0027\n",
       "                \n",
       "            </td>\n",
       "            <td style=\"padding: 0 0.5em 0 0.5em; text-align: left; border: none;\">\n",
       "                activity_score_training_frequency\n",
       "            </td>\n",
       "        </tr>\n",
       "    \n",
       "        <tr style=\"background-color: hsl(120, 100.00%, 99.79%); border: none;\">\n",
       "            <td style=\"padding: 0 1em 0 0.5em; text-align: right; border: none;\">\n",
       "                0.0016\n",
       "                \n",
       "                    &plusmn; 0.0027\n",
       "                \n",
       "            </td>\n",
       "            <td style=\"padding: 0 0.5em 0 0.5em; text-align: left; border: none;\">\n",
       "                activity_routine_score\n",
       "            </td>\n",
       "        </tr>\n",
       "    \n",
       "        <tr style=\"background-color: hsl(120, 100.00%, 99.94%); border: none;\">\n",
       "            <td style=\"padding: 0 1em 0 0.5em; text-align: right; border: none;\">\n",
       "                0.0003\n",
       "                \n",
       "                    &plusmn; 0.0026\n",
       "                \n",
       "            </td>\n",
       "            <td style=\"padding: 0 0.5em 0 0.5em; text-align: left; border: none;\">\n",
       "                is_traveling\n",
       "            </td>\n",
       "        </tr>\n",
       "    \n",
       "        <tr style=\"background-color: hsl(0, 100.00%, 99.85%); border: none;\">\n",
       "            <td style=\"padding: 0 1em 0 0.5em; text-align: right; border: none;\">\n",
       "                -0.0010\n",
       "                \n",
       "                    &plusmn; 0.0050\n",
       "                \n",
       "            </td>\n",
       "            <td style=\"padding: 0 0.5em 0 0.5em; text-align: left; border: none;\">\n",
       "                activity_met_min_medium_plus\n",
       "            </td>\n",
       "        </tr>\n",
       "    \n",
       "        <tr style=\"background-color: hsl(0, 100.00%, 99.82%); border: none;\">\n",
       "            <td style=\"padding: 0 1em 0 0.5em; text-align: right; border: none;\">\n",
       "                -0.0013\n",
       "                \n",
       "                    &plusmn; 0.0023\n",
       "                \n",
       "            </td>\n",
       "            <td style=\"padding: 0 0.5em 0 0.5em; text-align: left; border: none;\">\n",
       "                afterwake_exercise_min\n",
       "            </td>\n",
       "        </tr>\n",
       "    \n",
       "        <tr style=\"background-color: hsl(0, 100.00%, 99.81%); border: none;\">\n",
       "            <td style=\"padding: 0 1em 0 0.5em; text-align: right; border: none;\">\n",
       "                -0.0014\n",
       "                \n",
       "                    &plusmn; 0.0037\n",
       "                \n",
       "            </td>\n",
       "            <td style=\"padding: 0 0.5em 0 0.5em; text-align: left; border: none;\">\n",
       "                sleep_temperature_deviation\n",
       "            </td>\n",
       "        </tr>\n",
       "    \n",
       "        <tr style=\"background-color: hsl(0, 100.00%, 99.78%); border: none;\">\n",
       "            <td style=\"padding: 0 1em 0 0.5em; text-align: right; border: none;\">\n",
       "                -0.0018\n",
       "                \n",
       "                    &plusmn; 0.0022\n",
       "                \n",
       "            </td>\n",
       "            <td style=\"padding: 0 0.5em 0 0.5em; text-align: left; border: none;\">\n",
       "                activity_score_move_every_hour\n",
       "            </td>\n",
       "        </tr>\n",
       "    \n",
       "    \n",
       "    </tbody>\n",
       "</table>\n",
       "    \n",
       "\n",
       "    \n",
       "\n",
       "\n",
       "    \n",
       "\n",
       "    \n",
       "\n",
       "    \n",
       "\n",
       "    \n",
       "\n",
       "    \n",
       "\n",
       "    \n",
       "\n",
       "\n",
       "\n"
      ],
      "text/plain": [
       "<IPython.core.display.HTML object>"
      ]
     },
     "execution_count": 18,
     "metadata": {},
     "output_type": "execute_result"
    }
   ],
   "source": [
    "perm = PermutationImportance(rf_regr, random_state=1).fit(test[features], test['target_score'])\n",
    "eli5.show_weights(perm, feature_names = test[features].columns.tolist())"
   ]
  },
  {
   "cell_type": "code",
   "execution_count": 90,
   "metadata": {},
   "outputs": [
    {
     "name": "stdout",
     "output_type": "stream",
     "text": [
      "R2 of:  0.6590830785058923\n",
      "MSE of:  19.898568328866954\n",
      "MAE of:  3.5269448968944963\n",
      "Explained Variance: 0.6657254453864163\n",
      "Median Absolute Error 2.954186592900541\n"
     ]
    }
   ],
   "source": [
    "ab_reg = AdaBoostRegressor()\n",
    "ab_reg.fit(train[features],train['target_score'])\n",
    "ab_reg_pred = ab_reg.predict(test[features])\n",
    "#-----RESULTS of Predicting Avg Sleep Score Over Next 7 Days Based on Prior 7 Days with AdaBoost--------#\n",
    "print('R2 of: ',r2_score(test['target_score'], ab_reg_pred))\n",
    "print('MSE of: ', mean_squared_error(test['target_score'], ab_reg_pred))\n",
    "print('MAE of: ', mean_absolute_error(test['target_score'], ab_reg_pred))\n",
    "print('Explained Variance:', explained_variance_score(test['target_score'], ab_reg_pred))\n",
    "print('Median Absolute Error',median_absolute_error(test['target_score'], ab_reg_pred))"
   ]
  },
  {
   "cell_type": "code",
   "execution_count": 88,
   "metadata": {},
   "outputs": [
    {
     "name": "stdout",
     "output_type": "stream",
     "text": [
      "R2 of:  0.684785500120024\n",
      "MSE of:  18.3983747026172\n",
      "MAE of:  3.2738942466911705\n",
      "Explained Variance: 0.6854244872933202\n",
      "Median Absolute Error 2.5480272199110985\n"
     ]
    }
   ],
   "source": [
    "benchmark_feature = ['sleep_summary_date','sleep_score']\n",
    "\n",
    "benchmark_data_set = process_data_frame(mod_df = mod_df,target_df = mod_df,base_n_days = 7,next_n_days = 7,features=benchmark_feature)\n",
    "# splitting training and test set by recency\n",
    "benchmark_train = benchmark_data_set[data_set['sleep_summary_date'] <= pd.Timestamp(2019, 9, 1, 12)]\n",
    "benchmark_test = benchmark_data_set[data_set['sleep_summary_date'] > pd.Timestamp(2019, 9, 1, 12)]\n",
    "#-dropping summary date since its not needed\n",
    "benchmark_train = benchmark_train.drop(['sleep_summary_date'],axis=1)\n",
    "benchmark_test = benchmark_test.drop(['sleep_summary_date'],axis=1)\n",
    "#dropping NaNs\n",
    "benchmark_train = benchmark_train.dropna()\n",
    "benchmark_test = benchmark_test.dropna()\n",
    "\n",
    "#drop summary date from features\n",
    "features = [f for f in benchmark_feature if f != 'sleep_summary_date']\n",
    "bmrf_reg = RandomForestRegressor()\n",
    "bmrf_reg.fit(train[features],train['target_score'])\n",
    "bmrf_reg_pred = bmrf_reg.predict(test[features])\n",
    "\n",
    "#-----RESULTS of Predicting Avg Sleep Score Over Next 7 Days Based on Prior 7 Days Avg Sleep Score--------#\n",
    "from sklearn.metrics import r2_score, mean_squared_error,mean_absolute_error,explained_variance_score,median_absolute_error\n",
    "print('R2 of: ',r2_score(test['target_score'], bmrf_reg_pred))\n",
    "print('MSE of: ', mean_squared_error(test['target_score'], bmrf_reg_pred))\n",
    "print('MAE of: ', mean_absolute_error(test['target_score'], bmrf_reg_pred))\n",
    "print('Explained Variance:', explained_variance_score(test['target_score'], bmrf_reg_pred))\n",
    "print('Median Absolute Error',median_absolute_error(test['target_score'], bmrf_reg_pred))"
   ]
  },
  {
   "cell_type": "markdown",
   "metadata": {},
   "source": [
    "### Modeling Future Avg Sleep Score Direction with Logistic Regression"
   ]
  },
  {
   "cell_type": "markdown",
   "metadata": {},
   "source": [
    "<h4>\n",
    "    <center>Logistic Regression Results<br> \n",
    "    Accuracy of Predicting the direction of next week's avg sleep score based on the last 7 days\n",
    "    </center>\n",
    "</h4> "
   ]
  },
  {
   "cell_type": "code",
   "execution_count": 43,
   "metadata": {},
   "outputs": [
    {
     "name": "stdout",
     "output_type": "stream",
     "text": [
      "logistic regression accuracy 0.6248520710059171\n"
     ]
    }
   ],
   "source": [
    "# Fit to data and predict using pipeline with standard scaling.\n",
    "features = [f for f in my_variables if f != 'sleep_summary_date']\n",
    "\n",
    "std_lr_clf = make_pipeline(StandardScaler(),\n",
    "                        LogisticRegression(solver='lbfgs', multi_class='ovr'))\n",
    "\n",
    "std_lr_clf.fit(train[features],train['target_binary'])\n",
    "pred_test_lr_std = std_lr_clf.predict(test[features])\n",
    "\n",
    "from sklearn.metrics import accuracy_score\n",
    "print('logistic regression accuracy', str(accuracy_score(test['target_binary'], pred_test_lr_std)))"
   ]
  },
  {
   "cell_type": "code",
   "execution_count": 44,
   "metadata": {},
   "outputs": [
    {
     "name": "stdout",
     "output_type": "stream",
     "text": [
      "logistic regression accuracy 0.5816568047337278\n"
     ]
    }
   ],
   "source": [
    "#based on prior sleep score only\n",
    "\n",
    "features = ['sleep_score']\n",
    "\n",
    "std_lr_clf = make_pipeline(StandardScaler(),\n",
    "                        LogisticRegression(solver='lbfgs', multi_class='ovr'))\n",
    "\n",
    "std_lr_clf.fit(train[features],train['target_binary'])\n",
    "pred_test_lr_std = std_lr_clf.predict(test[features])\n",
    "\n",
    "from sklearn.metrics import accuracy_score\n",
    "print('logistic regression accuracy', str(accuracy_score(test['target_binary'], pred_test_lr_std)))"
   ]
  },
  {
   "cell_type": "markdown",
   "metadata": {},
   "source": [
    "### Gradient Boosting"
   ]
  },
  {
   "cell_type": "code",
   "execution_count": 72,
   "metadata": {},
   "outputs": [
    {
     "name": "stdout",
     "output_type": "stream",
     "text": [
      "R2 of:  0.7242085478013509\n",
      "MSE of:  16.09733841324481\n",
      "MAE of:  3.0702702549892513\n",
      "Explained Variance: 0.724270974657712\n",
      "Median Absolute Error 2.4635413900253624\n"
     ]
    }
   ],
   "source": [
    "features = [f for f in my_variables if f not in ('sleep_summary_date')]\n",
    "gb_regr = GradientBoostingRegressor()\n",
    "gb_regr.fit(train[features],train['target_score'])\n",
    "gb_reg_pred = gb_regr.predict(test[features])\n",
    "\n",
    "#-----RESULTS of Predicting Avg Sleep Score Over Next 7 Days Based on Prior 7 Days--------#\n",
    "from sklearn.metrics import r2_score, mean_squared_error,mean_absolute_error,explained_variance_score,median_absolute_error\n",
    "print('R2 of: ',r2_score(test['target_score'], gb_reg_pred))\n",
    "print('MSE of: ', mean_squared_error(test['target_score'], gb_reg_pred))\n",
    "print('MAE of: ', mean_absolute_error(test['target_score'], gb_reg_pred))\n",
    "print('Explained Variance:', explained_variance_score(test['target_score'], gb_reg_pred))\n",
    "print('Median Absolute Error',median_absolute_error(test['target_score'], gb_reg_pred))"
   ]
  },
  {
   "cell_type": "code",
   "execution_count": 73,
   "metadata": {},
   "outputs": [
    {
     "name": "stdout",
     "output_type": "stream",
     "text": [
      "sleep_score 0.92\n",
      "sleep_afterMidnight 0.01\n",
      "sleep_onset_latency 0.0\n",
      "sleep_duration 0.01\n",
      "sleep_score_disturbances 0.02\n",
      "sleep_temperature_deviation 0.0\n",
      "sleep_bedtime_start_delta 0.01\n",
      "sleep_routine_score 0.0\n",
      "activity_cal_total 0.0\n",
      "activity_steps 0.01\n",
      "activity_score_meet_daily_targets 0.01\n",
      "activity_met_min_medium_plus 0.0\n",
      "activity_score_training_frequency 0.0\n",
      "activity_score_training_volume 0.0\n",
      "activity_routine_score 0.0\n",
      "activity_score_move_every_hour 0.0\n",
      "activity_score_stay_active 0.0\n",
      "afterwake_exercise_min 0.0\n",
      "beforesleep_exercise_min 0.0\n",
      "is_traveling 0.0\n"
     ]
    }
   ],
   "source": [
    "for f,i in zip(features,gb_regr.feature_importances_):\n",
    "    print(f,round(i,2))"
   ]
  },
  {
   "cell_type": "markdown",
   "metadata": {},
   "source": [
    "### Messing around with Coefficient Adjustments "
   ]
  },
  {
   "cell_type": "markdown",
   "metadata": {},
   "source": [
    "to make this work, you're gonna need to iterate through each feature and make an adjustment and then test it against the original prediction to see if it actually increases from the original prediction. you can then select all adjustments that result in a predicted increase\n",
    " - things to keep in mind is that this is all relative to the user. for instance, Ed had a week where he fell asleep before midnight each night so we wouldn't adjust sleep_isMidnight. same with isTraveling. and sleep_bedtime_start_delta. his numbers may be low relative to the larger population so we'll need a way to check against this to decide if we should adjust those variables (or we just iterate and adjust through all)"
   ]
  },
  {
   "cell_type": "code",
   "execution_count": 55,
   "metadata": {},
   "outputs": [],
   "source": [
    "#Ed's userID is TE2CPSSWP4QUGFAJQZ5FHITIKPNCCICX\n",
    "ed_data = mod_df[mod_df['sleep_user_id'] == 'TE2CPSSWP4QUGFAJQZ5FHITIKPNCCICX']\n",
    "#ed_test = ed_data[ed_data['sleep_summary_date'] == max(ed_data['sleep_summary_date'])].filter(my_features)"
   ]
  },
  {
   "cell_type": "code",
   "execution_count": 56,
   "metadata": {},
   "outputs": [],
   "source": [
    "features = [f for f in my_variables if f != 'sleep_summary_date']\n",
    "ed_test = ed_data[ed_data['sleep_summary_date'] == '2019-10-03'].filter(features)"
   ]
  },
  {
   "cell_type": "code",
   "execution_count": 57,
   "metadata": {},
   "outputs": [
    {
     "data": {
      "text/plain": [
       "array([72.1])"
      ]
     },
     "execution_count": 57,
     "metadata": {},
     "output_type": "execute_result"
    }
   ],
   "source": [
    "#--predicting Ed's score\n",
    "features = [f for f in my_variables if f != 'sleep_summary_date']\n",
    "rf_regr = RandomForestRegressor()\n",
    "rf_regr.fit(train[features],train['target_score'])\n",
    "rf_reg_pred = rf_regr.predict(test[features])\n",
    "rf_regr.predict(ed_test)"
   ]
  },
  {
   "cell_type": "code",
   "execution_count": 58,
   "metadata": {},
   "outputs": [
    {
     "data": {
      "text/html": [
       "<div>\n",
       "<style scoped>\n",
       "    .dataframe tbody tr th:only-of-type {\n",
       "        vertical-align: middle;\n",
       "    }\n",
       "\n",
       "    .dataframe tbody tr th {\n",
       "        vertical-align: top;\n",
       "    }\n",
       "\n",
       "    .dataframe thead th {\n",
       "        text-align: right;\n",
       "    }\n",
       "</style>\n",
       "<table border=\"1\" class=\"dataframe\">\n",
       "  <thead>\n",
       "    <tr style=\"text-align: right;\">\n",
       "      <th></th>\n",
       "      <th>sleep_score</th>\n",
       "    </tr>\n",
       "  </thead>\n",
       "  <tbody>\n",
       "    <tr>\n",
       "      <th>15667</th>\n",
       "      <td>73.714286</td>\n",
       "    </tr>\n",
       "  </tbody>\n",
       "</table>\n",
       "</div>"
      ],
      "text/plain": [
       "       sleep_score\n",
       "15667    73.714286"
      ]
     },
     "execution_count": 58,
     "metadata": {},
     "output_type": "execute_result"
    }
   ],
   "source": [
    "ed_data[ed_data['sleep_summary_date'] == '2019-10-10'].filter(['sleep_score'])"
   ]
  },
  {
   "cell_type": "code",
   "execution_count": 107,
   "metadata": {},
   "outputs": [
    {
     "data": {
      "text/html": [
       "<div>\n",
       "<style scoped>\n",
       "    .dataframe tbody tr th:only-of-type {\n",
       "        vertical-align: middle;\n",
       "    }\n",
       "\n",
       "    .dataframe tbody tr th {\n",
       "        vertical-align: top;\n",
       "    }\n",
       "\n",
       "    .dataframe thead th {\n",
       "        text-align: right;\n",
       "    }\n",
       "</style>\n",
       "<table border=\"1\" class=\"dataframe\">\n",
       "  <thead>\n",
       "    <tr style=\"text-align: right;\">\n",
       "      <th></th>\n",
       "      <th>sleep_score</th>\n",
       "      <th>sleep_afterMidnight</th>\n",
       "      <th>sleep_onset_latency</th>\n",
       "      <th>sleep_duration</th>\n",
       "      <th>sleep_score_disturbances</th>\n",
       "      <th>sleep_temperature_deviation</th>\n",
       "      <th>sleep_bedtime_start_delta</th>\n",
       "      <th>sleep_routine_score</th>\n",
       "      <th>activity_cal_total</th>\n",
       "      <th>activity_steps</th>\n",
       "      <th>activity_score_meet_daily_targets</th>\n",
       "      <th>activity_met_min_medium_plus</th>\n",
       "      <th>activity_score_training_frequency</th>\n",
       "      <th>activity_score_training_volume</th>\n",
       "      <th>activity_routine_score</th>\n",
       "      <th>activity_score_move_every_hour</th>\n",
       "      <th>activity_score_stay_active</th>\n",
       "      <th>afterwake_exercise_min</th>\n",
       "      <th>beforesleep_exercise_min</th>\n",
       "      <th>is_traveling</th>\n",
       "    </tr>\n",
       "  </thead>\n",
       "  <tbody>\n",
       "    <tr>\n",
       "      <th>4256</th>\n",
       "      <td>72.0</td>\n",
       "      <td>0.0</td>\n",
       "      <td>767.142857</td>\n",
       "      <td>28302.857143</td>\n",
       "      <td>58.714286</td>\n",
       "      <td>0.01</td>\n",
       "      <td>-4805.571429</td>\n",
       "      <td>0.136449</td>\n",
       "      <td>2362.142857</td>\n",
       "      <td>7230.571429</td>\n",
       "      <td>1.0</td>\n",
       "      <td>36.285714</td>\n",
       "      <td>1.0</td>\n",
       "      <td>33.0</td>\n",
       "      <td>0.251539</td>\n",
       "      <td>97.857143</td>\n",
       "      <td>69.714286</td>\n",
       "      <td>70.0</td>\n",
       "      <td>52.857143</td>\n",
       "      <td>0.0</td>\n",
       "    </tr>\n",
       "  </tbody>\n",
       "</table>\n",
       "</div>"
      ],
      "text/plain": [
       "      sleep_score  sleep_afterMidnight  sleep_onset_latency  sleep_duration  \\\n",
       "4256         72.0                  0.0           767.142857    28302.857143   \n",
       "\n",
       "      sleep_score_disturbances  sleep_temperature_deviation  \\\n",
       "4256                 58.714286                         0.01   \n",
       "\n",
       "      sleep_bedtime_start_delta  sleep_routine_score  activity_cal_total  \\\n",
       "4256               -4805.571429             0.136449         2362.142857   \n",
       "\n",
       "      activity_steps  activity_score_meet_daily_targets  \\\n",
       "4256     7230.571429                                1.0   \n",
       "\n",
       "      activity_met_min_medium_plus  activity_score_training_frequency  \\\n",
       "4256                     36.285714                                1.0   \n",
       "\n",
       "      activity_score_training_volume  activity_routine_score  \\\n",
       "4256                            33.0                0.251539   \n",
       "\n",
       "      activity_score_move_every_hour  activity_score_stay_active  \\\n",
       "4256                       97.857143                   69.714286   \n",
       "\n",
       "      afterwake_exercise_min  beforesleep_exercise_min  is_traveling  \n",
       "4256                    70.0                 52.857143           0.0  "
      ]
     },
     "execution_count": 107,
     "metadata": {},
     "output_type": "execute_result"
    }
   ],
   "source": [
    "#----testing variations\n",
    "\n",
    "features = [f for f in my_variables if f != 'sleep_summary_date']\n",
    "ed_test = ed_data[ed_data['sleep_summary_date'] == '2019-10-03'].filter(features)\n",
    "ed_test"
   ]
  },
  {
   "cell_type": "code",
   "execution_count": 108,
   "metadata": {},
   "outputs": [
    {
     "name": "stdout",
     "output_type": "stream",
     "text": [
      "[69.97142857]       sleep_score\n",
      "4263    73.714286\n"
     ]
    }
   ],
   "source": [
    "#prediction without feature variation\n",
    "print(rf_regr.predict(ed_test.filter(features)),\n",
    "    ed_data[ed_data['sleep_summary_date'] == '2019-10-10'].filter(['sleep_score']))"
   ]
  },
  {
   "cell_type": "code",
   "execution_count": 96,
   "metadata": {},
   "outputs": [
    {
     "data": {
      "text/plain": [
       "array([71.18571429])"
      ]
     },
     "execution_count": 96,
     "metadata": {},
     "output_type": "execute_result"
    }
   ],
   "source": [
    "#what happens when routine is improved (to 0)\n",
    "ed_test['activity_routine_score'] = 0\n",
    "ed_test['sleep_routine_score']  = 0\n",
    "rf_regr.predict(ed_test.filter(features))"
   ]
  },
  {
   "cell_type": "markdown",
   "metadata": {},
   "source": [
    "<h3>Iterative, Contextual Approach to Yielding Recommendations that Increase Avg Weekly Predicted Sleep Score</h3>"
   ]
  },
  {
   "cell_type": "markdown",
   "metadata": {},
   "source": [
    "- generate base prediction based on actual feature values and model\n",
    "- iterate through each 'actionable' feature checking against feature context and adjust feature in favorable direction, holding all else constant\n",
    "- rerun model's prediction and store resulting score,feature, and adjustment\n",
    "- choose top 3 features that yield prediction score higher than base prediction\n",
    "\n",
    "#### Context\n",
    "- sleep onset_latency - a latency of about 15 minutes gives best score (900 seconds)\n",
    "- sleep score_disturbances - 90 + considered good\n",
    "- sleep before midnight = 0\n",
    "- sleep and activity routine of zero would be considered good (conditioned on certain activity and sleep behaviors)\n",
    "- 'activity_cal_total',\n",
    "- 'activity_steps',\n",
    "- activity.score_meet_daily_targets - 95 is good\n",
    "- training frequency and volume - 95 is good"
   ]
  },
  {
   "cell_type": "code",
   "execution_count": 91,
   "metadata": {},
   "outputs": [],
   "source": [
    "def recommender(model,user_data,actionable_features):\n",
    "    base_prediction = model.predict(user_data)[0]\n",
    "    adj_predictions = []\n",
    "    for a in actionable_features:\n",
    "        #reset the copy on each iteration\n",
    "        user_data_copy = user_data.copy()\n",
    "        if a in {'sleep_bedtime_start_delta','sleep_routine_score','activity_routine_score'}:\n",
    "            #all features above have an ideal target of 0\n",
    "            user_data_copy[a] = 0\n",
    "            adj_prediction = model.predict(user_data_copy)[0]\n",
    "            if adj_prediction > base_prediction:\n",
    "                adj_predictions.append([a,adj_prediction])\n",
    "\n",
    "        elif a in {'sleep_score_disturbances','activity_score_training_frequency','activity_score_training_volume'}:\n",
    "            #all features above have an ideal target of 95+\n",
    "            user_data_copy[a] = 95\n",
    "            adj_prediction = model.predict(user_data_copy)[0]\n",
    "            if adj_prediction > base_prediction:\n",
    "                adj_predictions.append([a,adj_prediction])\n",
    "        elif a in {'activity_steps'}:\n",
    "            #1 mile is approximately 2000 steps (will increment avg by 2000)\n",
    "            user_data_copy[a] = user_data_copy[a].values[0] + 2000\n",
    "            adj_prediction = model.predict(user_data_copy)[0]   \n",
    "            if adj_prediction > base_prediction:\n",
    "                adj_predictions.append([a,adj_prediction])\n",
    "\n",
    "        elif a == 'sleep_afterMidnight':\n",
    "            if user_data_copy[a].values[0] > 0:\n",
    "                user_data_copy[a] = 0\n",
    "                adj_prediction = model.predict(user_data_copy)[0]   \n",
    "                if adj_prediction > base_prediction:\n",
    "                    adj_predictions.append([a,adj_prediction])\n",
    "        else:\n",
    "            if a == 'sleep_onset_latency':\n",
    "                user_data_copy[a] = 900    \n",
    "                adj_prediction = model.predict(user_data_copy)[0]   \n",
    "                if adj_prediction > base_prediction:\n",
    "                    adj_predictions.append([a,adj_prediction])\n",
    "                    \n",
    "    return adj_predictions\n"
   ]
  },
  {
   "cell_type": "code",
   "execution_count": 59,
   "metadata": {},
   "outputs": [],
   "source": [
    "base_prediction = rf_regr.predict(ed_test)[0]"
   ]
  },
  {
   "cell_type": "code",
   "execution_count": 69,
   "metadata": {},
   "outputs": [],
   "source": [
    "actionable_features = [\n",
    " 'sleep_afterMidnight',\n",
    " 'sleep_onset_latency',\n",
    " 'sleep_score_disturbances',\n",
    " 'sleep_bedtime_start_delta',\n",
    " 'sleep_routine_score',\n",
    "'activity_cal_total',\n",
    "'activity_routine_score',\n",
    "'activity_steps',\n",
    "'activity_score_training_frequency',\n",
    "'activity_score_training_volume'   \n",
    "]"
   ]
  },
  {
   "cell_type": "code",
   "execution_count": 94,
   "metadata": {},
   "outputs": [
    {
     "data": {
      "text/plain": [
       "[['sleep_score_disturbances', 75.77142857142857],\n",
       " ['activity_routine_score', 72.68571428571428],\n",
       " ['activity_score_training_frequency', 72.2]]"
      ]
     },
     "execution_count": 94,
     "metadata": {},
     "output_type": "execute_result"
    }
   ],
   "source": [
    "recommender(model = rf_regr,user_data = ed_test,actionable_features = actionable_features)"
   ]
  },
  {
   "cell_type": "markdown",
   "metadata": {},
   "source": [
    "#### Additional Notes to Ignore\n",
    "does it make sense to include meet_daily_targets in the consistency score and/or weight it equally among the others?\n",
    "if a user has virtually no difference in frequency, volumne, and recovery in a given week but has a large delta in meeting target, then that might imply an aggressive change in goals for the week. If they don't hit their \"goal\" but get the same frequency/volume, then how is sleep quality impacte if at all? \n",
    "\n",
    "Maybe its easier to define routine with respect to exercise consistency instead of goal setting consistency...they're kinda separate things. What I'm interested in is if exercise consistency can be a signal for sleep quality.\n",
    "\n",
    "We can also define consistency in dummy variable terms. if frequency is 95 or greater than we know the user got 100 minutes of medium or high intensity activity on at least three days during past seven days. we have a known behavior that we can be prescriptive against. Same goes for volume and recovery. \n",
    "\n",
    "\n",
    "\n",
    "i feel like it would because consistent goals are part of routine;there's routine and progress. however, if someone has a large difference in goals wow and doesn't adjust training volume/frequency it may not necessarily be a bad thing"
   ]
  },
  {
   "cell_type": "code",
   "execution_count": null,
   "metadata": {},
   "outputs": [],
   "source": [
    "# 10 predictions for a given user vs actuals using random forest\n",
    "last_predictable_entry = max(ed_data['sleep_summary_date']) - pd.DateOffset(7)\n",
    "for i in np.arange(10):\n",
    "    base_date = last_predictable_entry - pd.DateOffset(i)\n",
    "    test_date = ed_data[ed_data['sleep_summary_date'] == base_date].filter(features)\n",
    "    predicted = rf_regr.predict(test_date)\n",
    "    actual = ed_data[ed_data['sleep_summary_date'] == base_date + pd.DateOffset(7)].filter(['sleep_score']).values[0]\n",
    "    print(predicted)\n",
    "    print(actual)\n",
    "    print(\"---\")\n",
    "    "
   ]
  }
 ],
 "metadata": {
  "kernelspec": {
   "display_name": "Python 3",
   "language": "python",
   "name": "python3"
  },
  "language_info": {
   "codemirror_mode": {
    "name": "ipython",
    "version": 3
   },
   "file_extension": ".py",
   "mimetype": "text/x-python",
   "name": "python",
   "nbconvert_exporter": "python",
   "pygments_lexer": "ipython3",
   "version": "3.7.3"
  }
 },
 "nbformat": 4,
 "nbformat_minor": 2
}
