{
 "cells": [
  {
   "cell_type": "markdown",
   "metadata": {},
   "source": [
    "Incorporate activity dataset and the features created. The objective is to\n",
    "test another model against the most recent dataset and generate insights about further developments."
   ]
  },
  {
   "cell_type": "code",
   "execution_count": 1,
   "metadata": {
    "pycharm": {
     "is_executing": false,
     "name": "#%%\n"
    }
   },
   "outputs": [],
   "source": [
    "import os\n",
    "import requests\n",
    "import json\n",
    "import pandas as pd\n",
    "import numpy as np\n",
    "from matplotlib import pyplot as plt\n",
    "from zipfile import ZipFile\n"
   ]
  },
  {
   "cell_type": "code",
   "execution_count": 2,
   "metadata": {
    "pycharm": {
     "is_executing": false,
     "name": "#%%\n"
    }
   },
   "outputs": [],
   "source": [
    "current_path = os.getcwd()\n",
    "day_to_load = '10102019' # enter the day to load data files from in format \"ddmmyyyy\"\n",
    "with ZipFile(current_path + '/data_ingestion/' + day_to_load + '/dataset.zip', mode = 'r') as zip_file:\n",
    "    users = pd.read_csv(zip_file.open('users_data.csv'))\n",
    "    sleep = pd.read_csv(zip_file.open('sleep_data.csv'))\n",
    "    activity = pd.read_csv(zip_file.open('activity_data.csv'))\n",
    "    readiness = pd.read_csv(zip_file.open('readiness_data.csv'))"
   ]
  },
  {
   "cell_type": "markdown",
   "metadata": {
    "pycharm": {
     "name": "#%% md\n"
    }
   },
   "source": [
    "## Users data handling:"
   ]
  },
  {
   "cell_type": "code",
   "execution_count": 8,
   "metadata": {
    "pycharm": {
     "is_executing": false,
     "name": "#%%\n"
    }
   },
   "outputs": [
    {
     "name": "stderr",
     "output_type": "stream",
     "text": [
      "/Users/marceloqueiroz/Documents/Berkeley/term6/w210/project/venv/lib/python3.6/site-packages/pandas/core/ops/__init__.py:1115: FutureWarning: elementwise comparison failed; returning scalar instead, but in the future will perform elementwise comparison\n",
      "  result = method(y)\n"
     ]
    }
   ],
   "source": [
    "# users.drop(labels='email', inplace=True)\n",
    "num_columns = ['age', 'height', 'weight']\n",
    "\n",
    "users[num_columns] = users[num_columns].apply(pd.to_numeric)\n",
    "users['gender'] = np.where(users['gender'] == 'male', True, False)\n",
    "users.rename(columns={'gender':'is_male'}, inplace=True)"
   ]
  },
  {
   "cell_type": "markdown",
   "metadata": {
    "pycharm": {
     "name": "#%% md\n"
    }
   },
   "source": [
    "## Sleep data handling:"
   ]
  },
  {
   "cell_type": "code",
   "execution_count": null,
   "metadata": {
    "pycharm": {
     "name": "#%%\n"
    }
   },
   "outputs": [],
   "source": [
    "num_types = ['awake', 'bedtime_end_delta','bedtime_start_delta','breath_average','breath_average',\n",
    "             'deep', 'duration', 'efficiency', 'hr_average', 'hr_lowest','light', \n",
    "             'midpoint_at_delta', 'midpoint_time', 'onset_latency', 'period_id', 'rem', 'restless',\n",
    "             'rmssd', 'score', 'score_alignment', 'score_deep', 'score_disturbances', 'score_efficiency',\n",
    "             'score_latency', 'score_rem', 'score_total', 'temperature_delta', 'temperature_deviation',\n",
    "             'temperature_trend_deviation', 'timezone', 'total']\n",
    "\n",
    "date_types = ['summary_date']\n",
    "\n",
    "sleep[num_types] = users[num_types].apply(pd.to_numeric)\n",
    "sleep[date_types] = sleep[date_types].apply(pd.to_numeric)\n",
    "\n",
    "# build dummy to day of the week.\n",
    "sleep['weekday'] = sleep['summary_date'].dt.weekday\n",
    "\n",
    "# build is_workday\n",
    "sleep['is_workday'] = np.where(sleep['weekday'] < 5, True, False)\n",
    "\n",
    "# one-hot encode weekdays\n",
    "sleep = pd.get_dummies(sleep, columns=['weekday'])\n",
    "\n",
    "sleep.rename(columns = {'weekday_0':'weekday_mon]', \n",
    "                          'weekday_1':'weekday_tue]', \n",
    "                          'weekday_2': 'weekday_wed]',\n",
    "                          'weekday_3': 'weekday_thu]',\n",
    "                          'weekday_4': 'weekday_fri]',\n",
    "                          'weekday_5': 'weekday_sat]',\n",
    "                          'weekday_6': 'weekday_sun]'}, \n",
    "                          inplace = True)\n",
    "\n",
    "# adding the columns that will be created for the full dataframe:\n",
    "df = pd.DataFrame(columns=sleep.columns.append(pd.Index(['score_D-1', 'score_D-2', 'rol_score_7d', 'rol_score_14d',\n",
    "                                                         'rol_score_21d', 'is_traveling', \n",
    "                                                         'bedtime_start_dev-3', 'bedtime_start_dev-2',\n",
    "                                                         'bedtime_start_dev-1', 'bedtime_start_dev+1', \n",
    "                                                         'bedtime_start_dev+2', 'bedtime_start_dev+3',\n",
    "                                                         'bedtime_end_dev-3', 'bedtime_end_dev-2',\n",
    "                                                         'bedtime_end_dev-1', 'bedtime_end_dev+1',\n",
    "                                                         'bedtime_end_dev+2', 'bedtime_end_dev+3',\n",
    "                                                         'duration_dev-3', 'duration_dev-2', 'duration_dev-1',\n",
    "                                                         'duration_dev+1', 'duration_dev+2', 'duration_dev+3'])))\n",
    "\n",
    "for user in df['user_id[str]'].unique():\n",
    "    # setting summary date as index to make rolling averages easier.\n",
    "    single_user_df = df[df['user_id[str]'] == user]\n",
    "    single_user_df.set_index('summary_date[t]', inplace = True)\n",
    "    \n",
    "    # build D - 1 and D - 2 scores:\n",
    "    single_user_df['score_D-1[%]'] = single_user_df['score[%]'].shift()[single_user_df.index.shift(1,freq='1D')]\n",
    "    single_user_df['score_D-2[%]'] = single_user_df['score[%]'].shift()[single_user_df.index.shift(1,freq='2D')]\n",
    "    \n",
    "    # build 7, 14, and 21 roling averega scores:\n",
    "    single_user_df['rol_score_7d[%]'] = pd.rolling_mean(single_user_df['score[%]'].shift(1, freq='1D'), window=7, min_periods=3)\n",
    "    single_user_df['rol_score_14d[%]'] = pd.rolling_mean(single_user_df['score[%]'].shift(1, freq='1D'), window=14, min_periods=10)\n",
    "    single_user_df['rol_score_21d[%]'] = pd.rolling_mean(single_user_df['score[%]'].shift(1, freq='1D'), window=21, min_periods=17)\n",
    "    \n",
    "    # build is_traveling\n",
    "    single_user_df['is_traveling[bool]'] = np.where(single_user_df['timezone[s]'] == \n",
    "                                                    single_user_df['timezone[s]'].value_counts().idxmax(), False, True)\n",
    "    \n",
    "    # build rol_bedtime_start_21d[s]\n",
    "    single_user_df['rol_bedtime_start_21d[s]'] = pd.rolling_mean(single_user_df['bedtime_start_delta[s]'].shift(1, freq='1D'),\n",
    "                                                                 window=21, min_periods=10)\n",
    "    \n",
    "    # build avg_bedtime_start_delta, create dummy variables for deviation (-3, -2, -1, 1, 2, 3)\n",
    "    single_user_df['rol_bedtime_start_std_21d[s]'] = pd.rolling_std(single_user_df['bedtime_start_delta[s]'].shift(1, freq='1D'),\n",
    "                                                                 window=21, min_periods=10)\n",
    "    \n",
    "    single_user_df['bedtime_start_dev[std]'] = (single_user_df['bedtime_start_delta[s]'] - single_user_df['rol_bedtime_start_21d[s]'])/single_user_df['rol_bedtime_start_std_21d[s]']\n",
    "    \n",
    "    single_user_df['bedtime_start_dev[std]'] = np.where(single_user_df['bedtime_start_dev[std]'] >= 0, \n",
    "                                                        np.ceil(single_user_df['bedtime_start_dev[std]']),\n",
    "                                                        np.floor(single_user_df['bedtime_start_dev[std]']))\n",
    "    # cap standard deviations to -3 or +3:\n",
    "    single_user_df['bedtime_start_dev[std]'] = np.where(single_user_df['bedtime_start_dev[std]'] <= -3,-3,\n",
    "                                                        single_user_df['bedtime_start_dev[std]'])\n",
    "    \n",
    "    single_user_df['bedtime_start_dev[std]'] = np.where(single_user_df['bedtime_start_dev[std]'] >= 3,3,\n",
    "                                                        single_user_df['bedtime_start_dev[std]'])\n",
    "    \n",
    "    single_user_df = pd.get_dummies(single_user_df, columns=['bedtime_start_dev[std]'])\n",
    "    \n",
    "    single_user_df.rename(columns = { 'bedtime_start_dev[std]_-3.0':'bedtime_start_dev-3[bool]', \n",
    "                                      'bedtime_start_dev[std]_-2.0':'bedtime_start_dev-2[bool]', \n",
    "                                      'bedtime_start_dev[std]_-1.0': 'bedtime_start_dev-1[bool]',\n",
    "                                      'bedtime_start_dev[std]_1.0': 'bedtime_start_dev+1[bool]',\n",
    "                                      'bedtime_start_dev[std]_2.0': 'bedtime_start_dev+2[bool]',\n",
    "                                      'bedtime_start_dev[std]_3.0': 'bedtime_start_dev+3[bool]'},\n",
    "                                      inplace = True)\n",
    "    \n",
    "    single_user_df.drop(labels = ['rol_bedtime_start_21d[s]','rol_bedtime_start_std_21d[s]'], axis = 1, inplace = True)\n",
    "    \n",
    "    # build avg_bedtime_end_delta, create dummy variables for deviation. (-3, -2, -1, 1, 2, 3)\n",
    "    single_user_df['rol_bedtime_end_21d[s]'] = pd.rolling_mean(single_user_df['bedtime_end_delta[s]'].shift(1, freq='1D'),\n",
    "                                                                 window=21, min_periods=10)\n",
    "\n",
    "    single_user_df['rol_bedtime_end_std_21d[s]'] = pd.rolling_std(single_user_df['bedtime_end_delta[s]'].shift(1, freq='1D'),\n",
    "                                                                 window=21, min_periods=10)\n",
    "\n",
    "    single_user_df['bedtime_end_dev[std]'] = (single_user_df['bedtime_end_delta[s]'] - single_user_df['rol_bedtime_end_21d[s]'])/single_user_df['rol_bedtime_end_std_21d[s]']\n",
    "\n",
    "    single_user_df['bedtime_end_dev[std]'] = np.where(single_user_df['bedtime_end_dev[std]'] >= 0, \n",
    "                                                        np.ceil(single_user_df['bedtime_end_dev[std]']),\n",
    "                                                        np.floor(single_user_df['bedtime_end_dev[std]']))\n",
    "    # cap standard deviations to -3 or +3:\n",
    "    single_user_df['bedtime_end_dev[std]'] = np.where(single_user_df['bedtime_end_dev[std]'] <= -3,-3,\n",
    "                                                        single_user_df['bedtime_end_dev[std]'])\n",
    "\n",
    "    single_user_df['bedtime_end_dev[std]'] = np.where(single_user_df['bedtime_end_dev[std]'] >= 3,3,\n",
    "                                                        single_user_df['bedtime_end_dev[std]'])\n",
    "\n",
    "    single_user_df = pd.get_dummies(single_user_df, columns=['bedtime_end_dev[std]'])\n",
    "\n",
    "    single_user_df.rename(columns = {'bedtime_end_dev[std]_-3.0':'bedtime_end_dev-3[bool]', \n",
    "                              'bedtime_end_dev[std]_-2.0':'bedtime_end_dev-2[bool]', \n",
    "                              'bedtime_end_dev[std]_-1.0': 'bedtime_end_dev-1[bool]',\n",
    "                              'bedtime_end_dev[std]_1.0': 'bedtime_end_dev+1[bool]',\n",
    "                              'bedtime_end_dev[std]_2.0': 'bedtime_end_dev+2[bool]',\n",
    "                              'bedtime_end_dev[std]_3.0': 'bedtime_end_dev+3[bool]'},\n",
    "                              inplace = True)\n",
    "\n",
    "    single_user_df.drop(labels = ['rol_bedtime_end_21d[s]','rol_bedtime_end_std_21d[s]'], axis = 1, inplace = True)\n",
    "    \n",
    "    # build avg_duration, create dummy variables for deviation (-3, -2, -1, 1, 2, 3)\n",
    "    single_user_df['rol_duration_21d[s]'] = pd.rolling_mean(single_user_df['duration[s]'].shift(1, freq='1D'),\n",
    "                                                                 window=21, min_periods=10)\n",
    "\n",
    "    single_user_df['rol_duration_std_21d[s]'] = pd.rolling_std(single_user_df['duration[s]'].shift(1, freq='1D'),\n",
    "                                                                 window=21, min_periods=10)\n",
    "\n",
    "    single_user_df['duration_dev[std]'] = (single_user_df['duration[s]'] - single_user_df['rol_duration_21d[s]'])/single_user_df['rol_duration_std_21d[s]']\n",
    "\n",
    "    single_user_df['duration_dev[std]'] = np.where(single_user_df['duration_dev[std]'] >= 0, \n",
    "                                                        np.ceil(single_user_df['duration_dev[std]']),\n",
    "                                                        np.floor(single_user_df['duration_dev[std]']))\n",
    "    # cap standard deviations to -3 or +3:\n",
    "    single_user_df['duration_dev[std]'] = np.where(single_user_df['duration_dev[std]'] <= -3,-3,\n",
    "                                                        single_user_df['duration_dev[std]'])\n",
    "\n",
    "    single_user_df['duration_dev[std]'] = np.where(single_user_df['duration_dev[std]'] >= 3,3,\n",
    "                                                        single_user_df['duration_dev[std]'])\n",
    "\n",
    "    single_user_df = pd.get_dummies(single_user_df, columns=['duration_dev[std]'])\n",
    "\n",
    "    single_user_df.rename(columns = {'duration_dev[std]_-3.0':'duration_dev-3[bool]', \n",
    "                              'duration_dev[std]_-2.0':'duration_dev-2[bool]', \n",
    "                              'duration_dev[std]_-1.0':'duration_dev-1[bool]',\n",
    "                              'duration_dev[std]_1.0': 'duration_dev+1[bool]',\n",
    "                              'duration_dev[std]_2.0': 'duration_dev+2[bool]',\n",
    "                              'duration_dev[std]_3.0': 'duration_dev+3[bool]'},\n",
    "                              inplace = True)\n",
    "\n",
    "    single_user_df.drop(labels = ['rol_duration_21d[s]','rol_duration_std_21d[s]'], axis = 1, inplace = True)\n",
    "    \n",
    "    # reset index to be user_date[str]\n",
    "    single_user_df.set_index('user_date[str]', inplace = True)\n",
    "    \n",
    "    # create a new dataset with the new variables\n",
    "    nf_df = nf_df.append(single_user_df)\n",
    "\n"
   ]
  }
 ],
 "metadata": {
  "kernelspec": {
   "display_name": "Python 3",
   "language": "python",
   "name": "python3"
  },
  "language_info": {
   "codemirror_mode": {
    "name": "ipython",
    "version": 3
   },
   "file_extension": ".py",
   "mimetype": "text/x-python",
   "name": "python",
   "nbconvert_exporter": "python",
   "pygments_lexer": "ipython3",
   "version": "3.7.3"
  },
  "pycharm": {
   "stem_cell": {
    "cell_type": "raw",
    "metadata": {
     "collapsed": false
    },
    "source": []
   }
  }
 },
 "nbformat": 4,
 "nbformat_minor": 2
}
