{
 "cells": [
  {
   "cell_type": "markdown",
   "metadata": {},
   "source": [
    "# Zeez 😴\n",
    "\n",
    "_sleep improvement using wearables and n-of-1 experiments_\n",
    "\n",
    "[Project Homepage](http://people.ischool.berkeley.edu/~marcelo.queiroz/Zeez/ \"Zeez Project Homepage\") \n",
    "\n",
    "## Data Ingestion, Transformation, and Modeling Notebook\n",
    "\n",
    "This notebook showcases an ETL pipeline for:\n",
    "1. ingesting Oura telemetry and Bioloop experiment data via API\n",
    "2. parsing data into one-record-per-person-per-day form\n",
    "3. feature engineering\n",
    "4. model training using H2O\n",
    "5. model saving for reuse in production\n",
    "\n",
    "### Distributed, In-Memory Machine Learning\n",
    "\n",
    "H2O Sparkling Water is designed to be executed as a regular Spark application. It provides a way to initialize H2O services on Spark and access data stored in data structures of Spark and H2O.We have implemented the entire flow in H2O so that we can have a framework in place for getting this project to production.\n",
    "\n",
    "Advanced Machine Learning for Spark is feasible using H2O. Here we can use the best algorithms for distributed in-memory computing with your existing Spark implementation. After that we can also deploy results in Spark using H2O low-latency pipelines or within Spark for scoring."
   ]
  },
  {
   "cell_type": "code",
   "execution_count": 1,
   "metadata": {
    "pycharm": {
     "is_executing": false,
     "name": "#%%\n"
    }
   },
   "outputs": [],
   "source": [
    "# packages for ETL\n",
    "import json\n",
    "import numpy as np\n",
    "import pandas as pd\n",
    "import os\n",
    "import zipfile\n",
    "from zipfile import ZipFile\n",
    "from datetime import datetime, date\n",
    "import time\n",
    "import requests\n",
    "\n",
    "# ignore warnings\n",
    "import warnings\n",
    "warnings.filterwarnings('ignore')"
   ]
  },
  {
   "cell_type": "code",
   "execution_count": 2,
   "metadata": {
    "pycharm": {
     "is_executing": false,
     "name": "#%%\n"
    }
   },
   "outputs": [],
   "source": [
    "# timing facilities\n",
    "%reload_ext autoreload\n",
    "%autoreload 2\n",
    "\n",
    "main_time_counter = time.time()"
   ]
  },
  {
   "cell_type": "markdown",
   "metadata": {},
   "source": [
    "## ETL Helper Functions"
   ]
  },
  {
   "cell_type": "code",
   "execution_count": 3,
   "metadata": {
    "pycharm": {
     "is_executing": false,
     "name": "#%%\n"
    }
   },
   "outputs": [],
   "source": [
    "# Helper functions for ETL and feature engineering:\n",
    "\n",
    "def decode_stacked_json(stacked_json_string, pos=0, decoder=json.JSONDecoder()):\n",
    "    \"\"\"Yield multiple JSON objects and restart parsing from the previous position\n",
    "    Input must be of the form: {'key1': value1, 'key2': value2}{'key3': value3, 'key4': value4\"\"\"\n",
    "    while True:\n",
    "        try:\n",
    "            json_object, pos = decoder.raw_decode(stacked_json_string, pos)\n",
    "        except json.JSONDecodeError:\n",
    "            break\n",
    "        yield json_object\n",
    "       \n",
    "        \n",
    "def after_wake_exercise(class_5min,bedtime_end):\n",
    "    \"\"\"returns the number of minutes with medium to high MET scores \n",
    "    within the first 3 hours of wake-time as a proxy for whether or not exercise \n",
    "    occurs after waking up\"\"\"\n",
    "    if isinstance(class_5min,float) or isinstance(bedtime_end, float):\n",
    "        return np.nan\n",
    "    else:\n",
    "        #convert the str integer into a list of integers\n",
    "        class_5min_list = list(map(int, class_5min))\n",
    "        #--take the timestamp from the datetime string, extracts hh:mm data, and converts to a number--#\n",
    "        wake_hr_min = int(''.join(bedtime_end.split('T')[1][0:5].split(':')))\n",
    "        #---calculate minutes lapsed since 4am and wake up time---#\n",
    "        #---rescale minutes into 5 minute intervals to find the number of elements at which to offset class_5min--#\n",
    "        offset = int(((wake_hr_min - 400)/100)*(60/5))\n",
    "\n",
    "        #subset observations between wake up and 3 hrs post wake up (24*5=120 min)\n",
    "        morning_obs = class_5min_list[offset:offset+36]\n",
    "\n",
    "        #tally total minutes spent in medium to high intensity exercise (3-4)\n",
    "        total_min = sum([1 for obs in morning_obs if obs >=3])*5\n",
    "        return total_min\n",
    "\n",
    "\n",
    "def before_sleep_exercise(class_5min,bedtime_start):\n",
    "    \"\"\"returns the number of minutes with medium to high MET scores \n",
    "    within the last 3 hours of wake-time as a proxy for whether or not exercise \n",
    "    occurs in the evening close to bedtime\"\"\"\n",
    "    if isinstance(class_5min,float) or isinstance(bedtime_start, float):\n",
    "        return np.nan\n",
    "    else:\n",
    "        #convert the str integer into a list of integers\n",
    "        class_5min_list = list(map(int, class_5min))\n",
    "        #--take the timestamp from the datetime string, extracts hh:mm data, and converts to a number--#\n",
    "        sleep_hr_min = int(''.join(bedtime_start.split('T')[1][0:5].split(':')))\n",
    "        #---calculate minutes lapsed since 4am and wake up time---#\n",
    "        #---rescale minutes into 5 minute intervals to find the number of elements at which to offset class_5min--#\n",
    "        offset = int(((sleep_hr_min - 400)/100)*(60/5))\n",
    "\n",
    "        #subset observations 3 hours before sleep time\n",
    "        evening_obs = class_5min_list[offset-36:offset]\n",
    "\n",
    "        #tally total minutes spent in medium to high intensity exercise (3-4)\n",
    "        total_min = sum([1 for obs in evening_obs if obs >=3])*5\n",
    "        return total_min\n",
    "\n",
    "\n",
    "def noon_exercise(class_5min):\n",
    "    \"\"\"returns the number of minutes with medium to high MET scores \n",
    "    between noon and two local time\"\"\"\n",
    "    if isinstance(class_5min,float):\n",
    "        return np.nan\n",
    "    else:\n",
    "        #convert the str integer into a list of integers\n",
    "        class_5min_list = list(map(int, class_5min))\n",
    "\n",
    "        #---calculate minutes lapsed since 4am and 12 (8*12 (5min intervasl in an hr)---#\n",
    "\n",
    "        offset = 96\n",
    "\n",
    "        #subset observations between noon and 2 pm\n",
    "        noon_obs = class_5min_list[offset:offset+24]\n",
    "\n",
    "        #tally total minutes spent in medium to high intensity exercise (3-4)\n",
    "        total_min = sum([1 for obs in noon_obs if obs >=3])*5\n",
    "        return total_min\n",
    " \n",
    "    \n",
    "def evening_exercise(class_5min):\n",
    "    \"\"\"returns the number of minutes with medium to high MET scores \n",
    "    between noon and two local time\"\"\"\n",
    "    if isinstance(class_5min, float):\n",
    "        return np.nan\n",
    "    else:\n",
    "        #convert the str integer into a list of integers\n",
    "        class_5min_list = list(map(int, class_5min))\n",
    "\n",
    "        #---calculate minutes lapsed since 4am and 5pm (13*12) --there are 12 5min intervasl in an hr---#\n",
    "\n",
    "        offset = 156\n",
    "\n",
    "        #subset observations between 5pm and 7 pm post wake up\n",
    "        eve_obs = class_5min_list[offset:offset+24]\n",
    "\n",
    "        #tally total minutes spent in medium to high intensity exercise (3-4)\n",
    "        total_min = sum([1 for obs in eve_obs if obs >=3])*5\n",
    "        return total_min\n",
    "\n",
    "\n",
    "def after_midnight(timestamp_str):\n",
    "    \"\"\"indicator for whether or not bedtime started after midnight (in early am hours)\"\"\"\n",
    "    try:\n",
    "        day, hour = timestamp_str.split('T')\n",
    "        hr = int(hour[0:2]) #extract hr from timestamp\n",
    "        if 0 <= hr < 6:\n",
    "            return 1\n",
    "        else:\n",
    "            return 0\n",
    "    except:\n",
    "        return np.nan\n",
    "\n",
    "def age_bin(e):\n",
    "    \"\"\"Bins: 20s, 30s, 40s, and 50s +\"\"\"\n",
    "    if  20 <= e < 30:\n",
    "        return \"20s\"\n",
    "    elif 30 <= e < 40:\n",
    "        return \"30s\"\n",
    "    elif 40 <= e < 50:\n",
    "        return \"40s\"\n",
    "    elif e > 50:\n",
    "        return \"50s plus\"\n",
    "    else:\n",
    "        return np.nan\n",
    "   \n",
    "    \n",
    "def height_bin(e):\n",
    "    \"\"\"Bins: 0, 150, 160, 170, 180, 190. In centimeters \"\"\"\n",
    "    if  0 < e < 150:\n",
    "        return \"less than 150 cm\"\n",
    "    elif 150 <= e <= 160:\n",
    "        return \"150s\"\n",
    "    elif 160 <= e <= 170:\n",
    "        return \"160s\"\n",
    "    elif 170 <= e <= 180:\n",
    "        return \"170s\"\n",
    "    elif 180 <= e <= 190:\n",
    "        return \"180s\"\n",
    "    elif e > 190:\n",
    "        return \"greater than 190 cm\"\n",
    "    else:\n",
    "        return np.nan\n",
    "    \n",
    "    \n",
    "def weight_bin(e):\n",
    "    \"\"\"Bins: 0, 65, 80, 95. In kilograms\"\"\"\n",
    "    if  0 < e <=65:\n",
    "        return \"less than 65 kg\"\n",
    "    elif 65 <= e <= 80:\n",
    "        return \"65 to 80 kg\"\n",
    "    elif 80 <= e <= 95:\n",
    "        return \"80 to 95 kg\"\n",
    "    elif e > 95:\n",
    "        return \"more than 95 kg\"\n",
    "    else:\n",
    "        return np.nan\n",
    "\n",
    "def experiments_recategorize(e):\n",
    "    '''helper function to recategorize experiment types:\n",
    "    broader categories will be Magnesium, Chamomile tea, Meditation and Other'''\n",
    "    if pd.isnull(e):\n",
    "        return 'None'\n",
    "    elif 'Meditat' in e:\n",
    "        return 'Meditation'\n",
    "    elif 'Magnesium' in e:\n",
    "        return 'Magnesium'\n",
    "    elif 'Chamomile' in e:\n",
    "        return 'Chamomile Tea'\n",
    "    else:\n",
    "        return 'Other'"
   ]
  },
  {
   "cell_type": "markdown",
   "metadata": {},
   "source": [
    "## Extract Data from API"
   ]
  },
  {
   "cell_type": "code",
   "execution_count": 6,
   "metadata": {
    "pycharm": {
     "is_executing": false,
     "name": "#%%\n"
    }
   },
   "outputs": [],
   "source": [
    "# define data ingestion location\n",
    "full_path = 'data_ingestion/{}'.format(date.today().strftime('%Y-%m-%d'))\n",
    "os.makedirs(full_path, exist_ok=True)\n",
    "\n",
    "# get secret connection credentials\n",
    "import time\n",
    "#from dotenv import load_dotenv\n",
    "import os\n",
    "\n",
    "# start timing\n",
    "script_time_start = time.time()\n",
    "\n",
    "# read .env file\n",
    "load_dotenv()\n",
    "\n",
    "# extract .env constants\n",
    "BIOLOOP_CONNECTION_URL     = os.getenv(\"BIOLOOP_CONNECTION_URL\")\n",
    "BIOLOOP_CONNECTION_TOKEN   = os.getenv(\"BIOLOOP_CONNECTION_TOKEN\")\n",
    "\n",
    "# create a simple \"log file\" on the log ingestion directory. Can be helpful to debug and later on for feature monitoring.\n",
    "log_file = open(full_path + '/log.txt', 'a+')\n",
    "log_file.write(time.asctime() + ' - Starting data ingestion process\\n')\n",
    "\n",
    "# if a data file exists, load it, otherwise, create the directory, download a new one and load the DFs:\n",
    "if not os.path.isfile(full_path + '/raw_dataset.zip'):    \n",
    "    start = time.time() # time the data ingestion from Memento\n",
    "    log_file.write(time.asctime() + ' - Day file not found. Starting data download\\n')\n",
    "    \n",
    "    # try: \n",
    "    ACCESS_TOKEN = '###'\n",
    "    headers = {'Authorization': 'Bearer ' + BIOLOOP_CONNECTION_TOKEN }\n",
    "    URL = BIOLOOP_CONNECTION_URL\n",
    "\n",
    "    \n",
    "    # changed this code to deal with streaming json from 10/20/2019 on. Must double check if this will be the final \n",
    "    # format\n",
    "    data = requests.get(URL, headers=headers).content.decode(encoding='utf-8')\n",
    "\n",
    "    # save the raw data to disk as zip it to allow re-processing without new download\n",
    "    zip_file = full_path + '/raw_dataset.zip'\n",
    "    zipObj = ZipFile(zip_file, 'w', compression=zipfile.ZIP_DEFLATED)\n",
    "    zipObj.writestr('raw_dataset.txt', data)\n",
    "    zipObj.close()\n",
    "\n",
    "    # print('total run time:',time.time() - start)\n",
    "    log_file.write(time.asctime() + ' - JSON File downloaded and saved. Time: ' + f'{(time.time() - start):.1f}' + ' secs.\\n')\n",
    "    "
   ]
  },
  {
   "cell_type": "markdown",
   "metadata": {},
   "source": [
    "## Transform To One Dataframe Per Type - Experiments, Sleep, Activity, etc"
   ]
  },
  {
   "cell_type": "code",
   "execution_count": 7,
   "metadata": {
    "pycharm": {
     "is_executing": false,
     "name": "#%%\n"
    }
   },
   "outputs": [],
   "source": [
    "# define intermediate data frames:\n",
    "users = pd.DataFrame()\n",
    "sleep = pd.DataFrame()\n",
    "readiness = pd.DataFrame()\n",
    "activity = pd.DataFrame()\n",
    "experiments = pd.DataFrame()\n",
    "\n",
    "# timing and logging\n",
    "start = time.time()\n",
    "raw_data = str(zipfile.ZipFile(full_path + '/raw_dataset.zip').read('raw_dataset.txt'), encoding='utf-8')\n",
    "log_file.write(time.asctime() + ' - raw data file loaded. Time: ' + f'{(time.time() - start):.1f}' + ' secs.\\n')\n",
    "\n",
    "start = time.time()\n",
    "log_file.write(time.asctime() + ' - creating feature space\\n')\n",
    "\n",
    "active_user_counter = 0\n",
    "xp_counter = 0\n",
    "\n",
    "for user_json in decode_stacked_json(raw_data):\n",
    "    # in the stacked json file, each json object corresponds to all data of one user. So here I will perform all \n",
    "    # feature transformation that are user-dependent before I append the whole user data to a final data frame.\n",
    "    user_user = pd.DataFrame.from_records([user_json['userInfo']['userInfo']])\n",
    "    \n",
    "    try: # user signup date may be useful to define if a user model is relevant or not:\n",
    "        user_user['signupDate'] = pd.to_datetime(user_json['signupDate'])\n",
    "    except KeyError:\n",
    "        user_user['signupDate'] = np.nan\n",
    "\n",
    "    # one hot encode gender data:\n",
    "    try:\n",
    "        user_user['gender'] = np.where(user_user['gender'] == 'male', True, False)\n",
    "    except KeyError:\n",
    "        user_user['gender'] = np.nan\n",
    "\n",
    "    user_user.rename(columns={'gender':'is_male'}, inplace=True)\n",
    "\n",
    "    try:\n",
    "        user_user['age'] = user_user['age']\n",
    "    except KeyError:\n",
    "        user_user['age'] = np.nan\n",
    "\n",
    "    try:\n",
    "        user_user['height'] = user_user['height']\n",
    "    except KeyError:\n",
    "        user_user['height'] = np.nan\n",
    "\n",
    "    try:\n",
    "        user_user['weight'] = user_user['weight']\n",
    "    except KeyError:\n",
    "        user_user['weight'] = np.nan\n",
    "\n",
    "    # send to a final users data frame:\n",
    "    users = users.append(user_user)\n",
    "\n",
    "    # skip users without sleep records (strictly experiment users, or users of other hardware)\n",
    "    if len(user_json['sleep']) == 0: continue\n",
    "    active_user_counter += 1\n",
    "\n",
    "    # unpack data for each user in a specific data frame\n",
    "    user_sleep = pd.DataFrame.from_records([i for i in user_json['sleep']])\n",
    "    user_readiness = pd.DataFrame.from_records([i for i in user_json['readiness']])\n",
    "    user_activity = pd.DataFrame.from_records([i for i in user_json['activity']])\n",
    "\n",
    "    # each DF has a `score` feature. Renaming to avoid later confusion:\n",
    "    user_sleep.rename(columns = {'score':'sleep_score'}, inplace=True)\n",
    "    user_activity.rename(columns = {'score':'activity_score'}, inplace=True)\n",
    "    user_readiness.rename(columns = {'score':'readiness_score'}, inplace=True)\n",
    "\n",
    "    #### ---------- SLEEP FEATURES ----------- ####\n",
    "    # sleep features normalizing and transformations:\n",
    "    user_sleep['awake_norm'] = user_sleep['awake']/user_sleep['duration']\n",
    "    user_sleep['deep_norm'] = user_sleep['deep']/user_sleep['duration']\n",
    "    user_sleep['light_norm'] = user_sleep['light']/user_sleep['duration']\n",
    "    user_sleep['onset_latency_norm'] = user_sleep['onset_latency']/user_sleep['duration']\n",
    "    user_sleep['rem_norm'] = user_sleep['rem']/user_sleep['duration']\n",
    "    user_sleep['restless_norm'] = user_sleep['light']/100\n",
    "\n",
    "    # bins for sleep score to Shiraz's models:\n",
    "    bins = [0, 75, 85, 100]\n",
    "    names = ['fair', 'good', 'greate']\n",
    "    user_sleep['good_sleep'] = pd.cut(user_sleep['sleep_score'], bins=bins, labels=names)\n",
    "\n",
    "    # creating new sleep features:\n",
    "    user_sleep['summary_date'] = pd.to_datetime(user_sleep['summary_date'])\n",
    "    user_sleep['user_id'] = user_user['user_id'][0]\n",
    "    user_sleep['user_date'] = user_sleep['user_id'] + '|' + user_sleep['summary_date'].astype('str')\n",
    "\n",
    "    user_sleep.set_index('summary_date', inplace = True, drop=False)\n",
    "\n",
    "    # build D - 1 and D - 2 scores:\n",
    "    user_sleep['sleep_score_D-1'] = user_sleep['sleep_score'].shift()[user_sleep.index.shift(1,freq='1D')]\n",
    "    user_sleep['sleep_score_D-2'] = user_sleep['sleep_score'].shift()[user_sleep.index.shift(1,freq='2D')]\n",
    "    user_sleep['deep_D-1'] = user_sleep['deep'].shift()[user_sleep.index.shift(1,freq='1D')]\n",
    "    user_sleep['deep_D-2'] = user_sleep['deep'].shift()[user_sleep.index.shift(1,freq='2D')]\n",
    "    user_sleep['rem_D-1'] = user_sleep['rem'].shift()[user_sleep.index.shift(1,freq='1D')]\n",
    "    user_sleep['rem_D-2'] = user_sleep['rem'].shift()[user_sleep.index.shift(1,freq='2D')]\n",
    "\n",
    "    # build 7, 14, and 21 rolling average scores:\n",
    "    user_sleep['rol_sleep_score_7d'] = pd.DataFrame.rolling(user_sleep['sleep_score'].shift(1, freq='1D'),\n",
    "                                                      window=7, min_periods=3).mean()\n",
    "    # shifted 7 day score rolled feature. This is target feature to predict your average 7 days ahead\n",
    "    user_sleep['avg_sleep_score_next_week'] = user_sleep['rol_sleep_score_7d'].shift(-1,freq='7D')\n",
    "\n",
    "    user_sleep['rol_sleep_score_14d'] = pd.DataFrame.rolling(user_sleep['sleep_score'].shift(1, freq='1D'),\n",
    "                                                      window=14, min_periods=10).mean()\n",
    "    user_sleep['rol_sleep_score_21d'] = pd.DataFrame.rolling(user_sleep['sleep_score'].shift(1, freq='1D'),\n",
    "                                                      window=21, min_periods=17).mean()\n",
    "\n",
    "    # build other 7-day rolling features for peter's models later:\n",
    "    user_sleep['rol_bedtime_end_delta_7d'] = pd.DataFrame.rolling(user_sleep['bedtime_end_delta'].shift(1, freq='1D'),\n",
    "                                                            window=7, min_periods=3).mean()\n",
    "    user_sleep['rol_bedtime_start_delta_7d'] = pd.DataFrame.rolling(user_sleep['bedtime_start_delta'].shift(1, freq='1D'),\n",
    "                                                                    window=7, min_periods=3).mean()\n",
    "    user_sleep['rol_onset_latency_7d'] = pd.DataFrame.rolling(user_sleep['onset_latency'].shift(1, freq='1D'),\n",
    "                                                              window=7, min_periods=3).mean()\n",
    "    user_sleep['rol_duration_7d'] = pd.DataFrame.rolling(user_sleep['duration'].shift(1, freq='1D'),\n",
    "                                                         window=7, min_periods=3).mean()\n",
    "\n",
    "    # build is_traveling\n",
    "    user_sleep['is_traveling'] = np.where(user_sleep['timezone'] == \n",
    "                                                    user_sleep['timezone'].value_counts().idxmax(), False, True)\n",
    "    \n",
    "    user_sleep['tz_delta'] = (user_sleep['timezone'] - user_sleep['timezone'].value_counts().idxmax()) / (-60)\n",
    "    \n",
    "    # build rol_bedtime_start_21d\n",
    "    user_sleep['rol_bedtime_start_21d'] = pd.DataFrame.rolling(user_sleep['bedtime_start_delta'].shift(1, freq='1D'),\n",
    "                                                                 window=21, min_periods=10).mean()\n",
    "\n",
    "    # build avg_bedtime_start_delta, create dummy variables for deviation (-3, -2, -1, 1, 2, 3)\n",
    "    user_sleep['rol_bedtime_start_std_21d'] = pd.DataFrame.rolling(user_sleep['bedtime_start_delta'].shift(1, freq='1D'),\n",
    "                                                                 window=21, min_periods=10).std()\n",
    "\n",
    "    user_sleep['bedtime_start_dev'] = (user_sleep['bedtime_start_delta'] - user_sleep['rol_bedtime_start_21d'])/\\\n",
    "                                      user_sleep['rol_bedtime_start_std_21d']\n",
    "\n",
    "    user_sleep['bedtime_start_dev'] = np.where(user_sleep['bedtime_start_dev'] >= 0, \n",
    "                                                        np.ceil(user_sleep['bedtime_start_dev']),\n",
    "                                                        np.floor(user_sleep['bedtime_start_dev']))\n",
    "    # cap standard deviations to -3 or +3:\n",
    "    user_sleep['bedtime_start_dev'] = np.where(user_sleep['bedtime_start_dev'] <= -3,-3, user_sleep['bedtime_start_dev'])\n",
    "\n",
    "    user_sleep['bedtime_start_dev'] = np.where(user_sleep['bedtime_start_dev'] >= 3,3,\n",
    "                                                        user_sleep['bedtime_start_dev'])\n",
    "\n",
    "    user_sleep = pd.get_dummies(user_sleep, columns=['bedtime_start_dev'])\n",
    "\n",
    "    user_sleep.rename(columns = { 'bedtime_start_dev_-3.0':'bedtime_start_dev-3', \n",
    "                                  'bedtime_start_dev_-2.0':'bedtime_start_dev-2', \n",
    "                                  'bedtime_start_dev_-1.0': 'bedtime_start_dev-1',\n",
    "                                  'bedtime_start_dev_1.0': 'bedtime_start_dev+1',\n",
    "                                  'bedtime_start_dev_2.0': 'bedtime_start_dev+2',\n",
    "                                  'bedtime_start_dev_3.0': 'bedtime_start_dev+3'},\n",
    "                                  inplace = True)\n",
    "\n",
    "    user_sleep.drop(labels = ['rol_bedtime_start_21d','rol_bedtime_start_std_21d'], axis = 1, inplace = True)\n",
    "\n",
    "    # build avg_bedtime_end_delta, create dummy variables for deviation. (-3, -2, -1, 1, 2, 3)\n",
    "    user_sleep['rol_bedtime_end_21d'] = pd.DataFrame.rolling(user_sleep['bedtime_end_delta'].shift(1, freq='1D'),\n",
    "                                                                 window=21, min_periods=10).mean()\n",
    "\n",
    "    user_sleep['rol_bedtime_end_std_21d'] = pd.DataFrame.rolling(user_sleep['bedtime_end_delta'].shift(1, freq='1D'),\n",
    "                                                                 window=21, min_periods=10).std()\n",
    "\n",
    "    user_sleep['bedtime_end_dev'] = (user_sleep['bedtime_end_delta'] - user_sleep['rol_bedtime_end_21d'])/\\\n",
    "                                    user_sleep['rol_bedtime_end_std_21d']\n",
    "\n",
    "    user_sleep['bedtime_end_dev'] = np.where(user_sleep['bedtime_end_dev'] >= 0, \n",
    "                                             np.ceil(user_sleep['bedtime_end_dev']),\n",
    "                                             np.floor(user_sleep['bedtime_end_dev']))\n",
    "    # cap standard deviations to -3 or +3:\n",
    "    user_sleep['bedtime_end_dev'] = np.where(user_sleep['bedtime_end_dev'] <= -3,-3,\n",
    "                                             user_sleep['bedtime_end_dev'])\n",
    "\n",
    "    user_sleep['bedtime_end_dev'] = np.where(user_sleep['bedtime_end_dev'] >= 3,3,\n",
    "                                             user_sleep['bedtime_end_dev'])\n",
    "\n",
    "    user_sleep = pd.get_dummies(user_sleep, columns=['bedtime_end_dev'])\n",
    "\n",
    "    user_sleep.rename(columns = {'bedtime_end_dev_-3.0':'bedtime_end_dev-3', \n",
    "                                 'bedtime_end_dev_-2.0':'bedtime_end_dev-2', \n",
    "                                 'bedtime_end_dev_-1.0': 'bedtime_end_dev-1',\n",
    "                                 'bedtime_end_dev_1.0': 'bedtime_end_dev+1',\n",
    "                                 'bedtime_end_dev_2.0': 'bedtime_end_dev+2',\n",
    "                                 'bedtime_end_dev_3.0': 'bedtime_end_dev+3'},\n",
    "                                 inplace = True)\n",
    "\n",
    "    user_sleep.drop(labels = ['rol_bedtime_end_21d','rol_bedtime_end_std_21d'], axis = 1, inplace = True)\n",
    "\n",
    "    # build avg_duration, create dummy variables for deviation (-3, -2, -1, 1, 2, 3)\n",
    "    user_sleep['rol_duration_21d'] = pd.DataFrame.rolling(user_sleep['duration'].shift(1, freq='1D'),\n",
    "                                                                 window=21, min_periods=10).mean()\n",
    "\n",
    "    user_sleep['rol_duration_std_21d'] = pd.DataFrame.rolling(user_sleep['duration'].shift(1, freq='1D'),\n",
    "                                                                 window=21, min_periods=10).std()\n",
    "\n",
    "    user_sleep['duration_dev'] = (user_sleep['duration'] - user_sleep['rol_duration_21d'])/\\\n",
    "                                 user_sleep['rol_duration_std_21d']\n",
    "\n",
    "    user_sleep['duration_dev'] = np.where(user_sleep['duration_dev'] >= 0, \n",
    "                                          np.ceil(user_sleep['duration_dev']),\n",
    "                                          np.floor(user_sleep['duration_dev']))\n",
    "\n",
    "    # cap standard deviations to -3 or +3:\n",
    "    user_sleep['duration_dev'] = np.where(user_sleep['duration_dev'] <= -3,-3, user_sleep['duration_dev'])\n",
    "\n",
    "    user_sleep['duration_dev'] = np.where(user_sleep['duration_dev'] >= 3,3, user_sleep['duration_dev'])\n",
    "\n",
    "    user_sleep = pd.get_dummies(user_sleep, columns=['duration_dev'])\n",
    "\n",
    "    user_sleep.rename(columns = {'duration_dev_-3.0':'duration_dev-3', \n",
    "                              'duration_dev_-2.0':'duration_dev-2', \n",
    "                              'duration_dev_-1.0':'duration_dev-1',\n",
    "                              'duration_dev_1.0': 'duration_dev+1',\n",
    "                              'duration_dev_2.0': 'duration_dev+2',\n",
    "                              'duration_dev_3.0': 'duration_dev+3'},\n",
    "                              inplace = True)\n",
    "\n",
    "    user_sleep.drop(labels = ['rol_duration_21d','rol_duration_std_21d'], axis = 1, inplace = True)\n",
    "\n",
    "    # build dummy to day of the week.\n",
    "    user_sleep['weekday'] = user_sleep['summary_date'].dt.weekday\n",
    "\n",
    "    # build is_workday\n",
    "    user_sleep['is_workday'] = np.where(user_sleep['weekday'] < 5, True, False)\n",
    "\n",
    "    # one-hot encode weekdays\n",
    "    user_sleep = pd.get_dummies(user_sleep, columns=['weekday'])\n",
    "\n",
    "    user_sleep.rename(columns = {'weekday_0':'weekday_mon', \n",
    "                              'weekday_1':'weekday_tue', \n",
    "                              'weekday_2': 'weekday_wed',\n",
    "                              'weekday_3': 'weekday_thu',\n",
    "                              'weekday_4': 'weekday_fri',\n",
    "                              'weekday_5': 'weekday_sat',\n",
    "                              'weekday_6': 'weekday_sun'}, \n",
    "                              inplace = True)\n",
    "\n",
    "    #rolling actionable sleep features\n",
    "    sleep_vars_to_roll = ['onset_latency','duration','is_traveling','score_disturbances']\n",
    "    \n",
    "    for feature in sleep_vars_to_roll :\n",
    "        user_sleep['rol_' + feature + '_7d'] = pd.DataFrame.rolling(user_sleep[feature].shift(1, freq='1D'),\n",
    "                                                      window=7, min_periods=3).mean()\n",
    "    \n",
    "    \n",
    "    #---Week-over-Week sleep behavior changes as proxy for sleep routine---#\n",
    "    user_sleep['rol_onset_latency_7d_WoW'] = user_sleep['rol_onset_latency_7d'].pct_change(periods=7)\n",
    "    user_sleep['rol_duration_7d_WoW'] = user_sleep['rol_duration_7d'].pct_change(periods=7)\n",
    "    user_sleep['rol_score_disturbances_7d_WoW'] = user_sleep['rol_score_disturbances_7d'].pct_change(periods=7)\n",
    "    user_sleep['rol_bedtime_start_delta_7d_WoW'] = user_sleep['rol_bedtime_start_delta_7d'].pct_change(periods=7)\n",
    "    \n",
    "    #sleep routine as the mean absolute value of WoW variables\n",
    "    user_sleep['sleep_routine_score'] = (\n",
    "    np.absolute(user_sleep['rol_onset_latency_7d_WoW']) + \n",
    "    np.absolute(user_sleep['rol_duration_7d_WoW']) +\n",
    "    np.absolute(user_sleep['rol_score_disturbances_7d_WoW'])+\n",
    "    np.absolute(user_sleep['rol_bedtime_start_delta_7d_WoW']))/4\n",
    "    \n",
    "    user_sleep.set_index('user_date', inplace = True)\n",
    "    sleep = sleep.append(user_sleep)\n",
    "\n",
    "\n",
    "    #### ---------- ACTIVITY FEATURES ----------- ####\n",
    "    # Creating the new activity related features. Because several activity features depends on user info and/or \n",
    "    # sleep features, I will add the features needed here:\n",
    "    user_activity['user_date'] = user_user['user_id'][0] + '|' + user_activity['summary_date'].astype('str')\n",
    "\n",
    "    user_activity['age'] = user_user['age'][0]\n",
    "    user_activity['height'] = user_user['height'][0]\n",
    "    user_activity['weight'] = user_user['weight'][0]\n",
    "    user_activity['is_male'] = user_user['is_male'][0]\n",
    "\n",
    "    user_activity['summary_date'] = pd.to_datetime(user_activity['summary_date'])   \n",
    "    user_activity = user_activity.merge(user_sleep[['bedtime_start', 'bedtime_end', 'summary_date']], \n",
    "                                        on='summary_date', how='left')\n",
    "\n",
    "    user_activity.set_index('summary_date', inplace = True, drop=False)\n",
    "\n",
    "    user_activity['met_min_medium_plus'] = user_activity['met_min_medium'] + \\\n",
    "                                                    user_activity['met_min_high']\n",
    "\n",
    "    user_activity['age_bin'] = user_activity['age'].apply(age_bin)\n",
    "    user_activity['height_bin'] = user_activity['height'].apply(height_bin)\n",
    "    user_activity['weight_bin'] = user_activity['weight'].apply(weight_bin)\n",
    "    user_activity['sleep_afterMidnight'] = user_activity['bedtime_start'].apply(after_midnight)\n",
    "    user_activity['afterwake_exercise_min'] = [after_wake_exercise(c,b) for c,b in \\\n",
    "                                               zip(user_activity['class_5min'],\n",
    "                                                   user_activity['bedtime_end'])]\n",
    "    user_activity['beforesleep_exercise_min'] = [before_sleep_exercise(c,b) for c,b in \\\n",
    "                                                 zip(user_activity['class_5min'],\n",
    "                                                     user_activity['bedtime_start'])]\n",
    "    user_activity['noon_exercise_min'] = user_activity['class_5min'].apply(noon_exercise)\n",
    "    user_activity['eve_exercise_min'] = user_activity['class_5min'].apply(evening_exercise)\n",
    "\n",
    "    # actionable activity variables that will be rolled within a 7 day window\n",
    "    activity_vars_to_roll = ['cal_total', 'high', 'medium','steps','inactive', \n",
    "                             'non_wear', 'activity_score','met_min_medium','sleep_afterMidnight',\n",
    "                             'met_min_high', 'met_min_medium_plus','score_move_every_hour',\n",
    "                             'score_stay_active', 'beforesleep_exercise_min',\n",
    "                             'afterwake_exercise_min','noon_exercise_min', 'eve_exercise_min']\n",
    "\n",
    "    for feature in activity_vars_to_roll :\n",
    "        user_activity['rol_' + feature + '_7d'] = pd.DataFrame.rolling(user_activity[feature].shift(1, freq='1D'),\n",
    "                                                      window=7, min_periods=3).mean()\n",
    "    \n",
    "    #---Week-over-Week activity behavior changes as proxy for activity routine---#\n",
    "    #note; these variables are already recorded on a last 7 day average per API so we didn't need to roll them\n",
    "    user_activity['score_training_frequency_WoW'] = user_activity['score_training_frequency'].pct_change(periods=7)\n",
    "    user_activity['score_training_volume_WoW'] = user_activity['score_training_volume'].pct_change(periods=7)\n",
    "    user_activity['score_meet_daily_targets_WoW'] = user_activity['score_meet_daily_targets'].pct_change(periods=7)\n",
    "    user_activity['score_recovery_time_WoW'] = user_activity['score_recovery_time'].pct_change(periods=7)\n",
    "    \n",
    "    #activity routine as the mean absolute value of WoW variables\n",
    "    user_activity['activity_routine_score'] = (\n",
    "    np.absolute(user_activity['score_training_frequency_WoW']) + \n",
    "    np.absolute(user_activity['score_training_volume_WoW']) +\n",
    "    np.absolute(user_activity['score_meet_daily_targets_WoW'])+\n",
    "    np.absolute(user_activity['score_recovery_time_WoW']))/4\n",
    "\n",
    "\n",
    "    user_activity.set_index('user_date', inplace = True)\n",
    "    activity = activity.append(user_activity)\n",
    "\n",
    "\n",
    "    #### ---------- READINESS FEATURES ----------- ####\n",
    "    # As we are not doing any transformation in the readiness data frame, append directly to the final one:\n",
    "    user_readiness['user_date'] = user_user['user_id'][0] + '|' + user_readiness['summary_date'].astype('str')\n",
    "    user_readiness.set_index('user_date', inplace=True)\n",
    "    readiness = readiness.append(user_readiness)\n",
    "\n",
    "    #### ---------- EXPERIMENTS FEATURES ----------- ####\n",
    "    # Not all users had experiments done:\n",
    "    if len(user_json['previousExperiments']) != 0:\n",
    "    # extract and flattens only the features needed: date, treatment, effect, and if if is a baseline date.\n",
    "    # NOTE: In Memento one experiment have one treatment, but can have multiple effects, however we are not interested\n",
    "    #       in the intermediate effect, but on the effect on final sleep score. Therefore, we will ignore the effects\n",
    "    #       the users set and incorporate the experiments to the main data frame.\n",
    "      \n",
    "        user_experiments = pd.DataFrame.from_records([i for i in user_json['previousExperiments']])\n",
    "        xp_counter += len(user_json['previousExperiments'])\n",
    "    \n",
    "        try:\n",
    "            treatment_randomized = pd.io.json.json_normalize(user_experiments.design[0]).isRandomized[0]\n",
    "        except:\n",
    "            treatment_randomized = 0\n",
    "        \n",
    "        # parse experiment types:\n",
    "        experiment_type = user_experiments.experimentName[0].split('(')[0]\n",
    "        \n",
    "        # unroll checkIns object\n",
    "        checkIns = pd.DataFrame()\n",
    "        checkIns = pd.io.json.json_normalize(user_experiments.checkIns[0])\n",
    "        \n",
    "        # add experiment randomization, type, and user_ids to checkins\n",
    "        checkIns['treatment_randomized'] = treatment_randomized\n",
    "        checkIns['experiment_type'] = experiment_type\n",
    "        checkIns['user_id'] = user_user['user_id'][0]\n",
    "        \n",
    "        # filter out only the necessary columns (helps the join later)\n",
    "        checkIns = checkIns.filter(['date','user_id','treatment_randomized','experiment_type','compliance'])\n",
    "    \n",
    "        checkIns['user_date'] = checkIns['user_id'] + '|' + checkIns['date'].astype('str')\n",
    "        checkIns.set_index('user_date', inplace=True)\n",
    "    \n",
    "        experiments = experiments.append(checkIns)"
   ]
  },
  {
   "cell_type": "markdown",
   "metadata": {},
   "source": [
    "## Log Results"
   ]
  },
  {
   "cell_type": "code",
   "execution_count": 8,
   "metadata": {
    "pycharm": {
     "is_executing": false,
     "name": "#%%\n"
    }
   },
   "outputs": [
    {
     "data": {
      "text/plain": [
       "69"
      ]
     },
     "execution_count": 8,
     "metadata": {},
     "output_type": "execute_result"
    }
   ],
   "source": [
    "# log the time and main descriptive statistics of the final datasets for data governance purposes\n",
    "log_file.write(time.asctime() + ' - Feature space created. Time: ' + f'{(time.time() - start):.1f}' + ' secs.\\n')\n",
    "log_file.write(time.asctime() + '     - Total active users: ' + str(active_user_counter) + '\\n')\n",
    "log_file.write(time.asctime() + '     - ACTIVITY data frame shape: ' + str(activity.shape) + '\\n')\n",
    "log_file.write(time.asctime() + '     - SLEEP data frame shape: ' + str(sleep.shape) + '\\n')\n",
    "log_file.write(time.asctime() + '     - READINESS data frame shape: ' + str(readiness.shape) + '\\n')\n",
    "log_file.write(time.asctime() + '     - EXPERIMENTS data frame shape: ' + str(experiments.shape) + '\\n')\n",
    "log_file.write(time.asctime() + '       - finished EXPERIMENTS count: ' + str(xp_counter) + '\\n')\n",
    "log_file.write(time.asctime() + '       - finished EXPERIMENTS user-days: ' + str(experiments.shape[0]) + '\\n')"
   ]
  },
  {
   "cell_type": "markdown",
   "metadata": {},
   "source": [
    "## Merge To One-Record-Per-Person-Per-Day, and Save"
   ]
  },
  {
   "cell_type": "code",
   "execution_count": 9,
   "metadata": {
    "pycharm": {
     "is_executing": false,
     "name": "#%%\n"
    }
   },
   "outputs": [],
   "source": [
    "start = time.time()\n",
    "\n",
    "# Save each DF as a csv file (case needed to work on a single file in teh future\n",
    "users_file_path = full_path + '/users_data.csv'\n",
    "sleep_file_path = full_path + '/sleep_data.csv'\n",
    "readiness_file_path = full_path + '/readiness_data.csv'\n",
    "activity_file_path = full_path + '/activity_data.csv'\n",
    "df_gold_file_path = full_path + '/gold.csv'\n",
    "experiments_file_path = full_path + '/experiments.csv'\n",
    "\n",
    "users.to_csv(users_file_path, index=None, encoding='utf-8')\n",
    "sleep.to_csv(sleep_file_path, index_label='user_date', encoding='utf-8')\n",
    "readiness.to_csv(readiness_file_path, index_label='user_Date', encoding='utf-8')\n",
    "activity.to_csv(activity_file_path, index_label='user_Date', encoding='utf-8')\n",
    "experiments.to_csv(experiments_file_path, index=None, encoding='utf-8')\n",
    "\n",
    "# Drop duplicate columns and merge all dfs in a big \"gold\" df. Will keep only one of the summary dates (readiness)\n",
    "readiness.drop(['period_id'], axis=1, inplace=True)\n",
    "sleep.drop(['summary_date', 'timezone','period_id'], axis=1, inplace=True)\n",
    "activity.drop(['bedtime_start', 'bedtime_end', 'summary_date', 'timezone', 'total'], axis=1, inplace=True)\n",
    "experiments.drop(['date', 'user_id'], axis=1, inplace=True)\n",
    "\n",
    "# merge all data frames into one. NOTE: sleep, activity and readiness are inner joins, so only days with all records are\n",
    "# used. For experiments we use outer join, so user_days without experiments will have NaN on those features.\n",
    "df_gold = sleep.merge(activity, left_index=True, right_index=True)\n",
    "df_gold = df_gold.merge(readiness, left_index=True, right_index=True)\n",
    "df_gold = df_gold.merge(experiments, how='outer', left_index=True, right_index=True)\n",
    "\n",
    "#---adding experiment category and user_id indicators---#\n",
    "\n",
    "df_gold['experiment_category'] = df_gold['experiment_type'].apply(experiments_recategorize)\n",
    "df_gold = pd.get_dummies(df_gold, columns=['experiment_category','user_id'])\n",
    "\n",
    "#binarizing next week's sleep score: 0 if decrease, 1 otherwise\n",
    "df_gold['avg_sleep_score_next_week_binarized'] = (df_gold['avg_sleep_score_next_week'] >= df_gold['rol_sleep_score_7d']).astype(int)\n",
    "\n",
    "#---writing out to file----#\n",
    "df_gold.to_csv(df_gold_file_path, index_label='user_date', encoding='utf-8')\n",
    "\n",
    "log_file.write(time.asctime() + '     - GOLD data frame shape: ' + str(df_gold.shape) + '\\n')\n",
    "\n",
    "# zip all files in a gold_dataset.zip\n",
    "files = [users_file_path, sleep_file_path, readiness_file_path,\n",
    "         activity_file_path, df_gold_file_path, experiments_file_path]\n",
    "\n",
    "files_names = ['users_data.csv', 'sleep_data.csv', 'readiness_data.csv',\n",
    "         'activity_data.csv', 'gold.csv', 'experiments.csv']\n",
    "\n",
    "zip_file = full_path + '/gold_dataset.zip'\n",
    "zipObj = zipfile.ZipFile(zip_file, mode='w')\n",
    "\n",
    "for i in range(len(files)):\n",
    "    zipObj.write(files[i], arcname=files_names[i])    \n",
    "\n",
    "zipObj.close()"
   ]
  },
  {
   "cell_type": "markdown",
   "metadata": {},
   "source": [
    "## Log Results"
   ]
  },
  {
   "cell_type": "code",
   "execution_count": 10,
   "metadata": {
    "pycharm": {
     "is_executing": false,
     "name": "#%%\n"
    }
   },
   "outputs": [],
   "source": [
    "# delete unzipped CSVs\n",
    "for i in range(len(files)):\n",
    "    os.remove(files[i])\n",
    "    \n",
    "log_file.write(time.asctime() + ' - All data frames saved and zipped. Time: ' + f'{(time.time() - start):.1f}' + ' secs.\\n')\n",
    "\n",
    "log_file.write(time.asctime() + ' - Total time spent in the routine: ' + f'{(time.time() - main_time_counter):.1f}' + ' secs.\\n')\n",
    "log_file.write(time.asctime() + ' ##### ----- DATA INGESTION ROUTINE FINALIZED ----- #####\\n\\n')\n",
    "\n",
    "log_file.close()"
   ]
  },
  {
   "cell_type": "markdown",
   "metadata": {},
   "source": [
    "## Loading Data for Modeling\n"
   ]
  },
  {
   "cell_type": "code",
   "execution_count": 11,
   "metadata": {},
   "outputs": [],
   "source": [
    "#Unzipping and Reading in Gold Dataset\n",
    "import zipfile\n",
    "unzip_file_path = full_path + '/unzipped_data'\n",
    "os.makedirs(unzip_file_path, exist_ok=True)\n",
    "\n",
    "with zipfile.ZipFile(zip_file, 'r') as zip_ref:\n",
    "    zip_ref.extractall(unzip_file_path)"
   ]
  },
  {
   "cell_type": "code",
   "execution_count": 12,
   "metadata": {},
   "outputs": [],
   "source": [
    "df_gold = pd.read_csv('data_ingestion/'+format(date.today().strftime('%Y-%m-%d'))+'/unzipped_data/gold.csv',parse_dates = ['summary_date'])"
   ]
  },
  {
   "cell_type": "markdown",
   "metadata": {},
   "source": [
    "## Data Shape and Columns"
   ]
  },
  {
   "cell_type": "code",
   "execution_count": 13,
   "metadata": {},
   "outputs": [
    {
     "name": "stdout",
     "output_type": "stream",
     "text": [
      "\n",
      "Train Set Shape:\n",
      "(28379, 275)\n",
      "\n",
      "Training Data Columns:\n",
      "user_date, avg_sleep_score_next_week, awake, awake_norm, bedtime_end, bedtime_end_delta, bedtime_end_dev+1, bedtime_end_dev+2, bedtime_end_dev+3, bedtime_end_dev-1, bedtime_end_dev-2, bedtime_end_dev-3, bedtime_start, bedtime_start_delta, bedtime_start_dev+1, bedtime_start_dev+2, bedtime_start_dev+3, bedtime_start_dev-1, bedtime_start_dev-2, bedtime_start_dev-3, breath_average, deep, deep_D-1, deep_D-2, deep_norm, duration, duration_dev+1, duration_dev+2, duration_dev+3, duration_dev-1, duration_dev-2, duration_dev-3, duration_dev_0.0, efficiency, good_sleep, hr_5min, hr_average, hr_lowest, hypnogram_5min, is_longest, is_traveling, is_workday, light, light_norm, midpoint_at_delta, midpoint_time, onset_latency, onset_latency_norm, rem, rem_D-1, rem_D-2, rem_norm, restless, restless_norm, rmssd, rmssd_5min, rol_bedtime_end_delta_7d, rol_bedtime_start_delta_7d, rol_bedtime_start_delta_7d_WoW, rol_duration_7d, rol_duration_7d_WoW, rol_is_traveling_7d, rol_onset_latency_7d, rol_onset_latency_7d_WoW, rol_score_disturbances_7d, rol_score_disturbances_7d_WoW, rol_sleep_score_14d, rol_sleep_score_21d, rol_sleep_score_7d, score_alignment, score_deep, score_disturbances, score_efficiency, score_latency, score_rem, score_total, sleep_routine_score, sleep_score, sleep_score_D-1, sleep_score_D-2, temperature_delta, temperature_deviation, temperature_trend_deviation, total, tz_delta, weekday_fri, weekday_mon, weekday_sat, weekday_sun, weekday_thu, weekday_tue, weekday_wed, average_met, cal_active, cal_total, class_5min, daily_movement, day_end, day_start, high, inactive, inactivity_alerts, low, medium, met_1min, met_min_high, met_min_inactive, met_min_low, met_min_medium, non_wear, rest, activity_score, score_meet_daily_targets, score_move_every_hour, score_recovery_time, score_stay_active, score_training_frequency, score_training_volume, steps, target_calories, target_km, target_miles, to_target_km, to_target_miles, age, height, weight, is_male, met_min_medium_plus, age_bin, height_bin, weight_bin, sleep_afterMidnight, afterwake_exercise_min, beforesleep_exercise_min, noon_exercise_min, eve_exercise_min, rol_cal_total_7d, rol_high_7d, rol_medium_7d, rol_steps_7d, rol_inactive_7d, rol_non_wear_7d, rol_activity_score_7d, rol_met_min_medium_7d, rol_sleep_afterMidnight_7d, rol_met_min_high_7d, rol_met_min_medium_plus_7d, rol_score_move_every_hour_7d, rol_score_stay_active_7d, rol_beforesleep_exercise_min_7d, rol_afterwake_exercise_min_7d, rol_noon_exercise_min_7d, rol_eve_exercise_min_7d, score_training_frequency_WoW, score_training_volume_WoW, score_meet_daily_targets_WoW, score_recovery_time_WoW, activity_routine_score, readiness_score, score_activity_balance, score_hrv_balance, score_previous_day, score_previous_night, score_recovery_index, score_resting_hr, score_sleep_balance, score_temperature, summary_date, treatment_randomized, experiment_type, compliance, experiment_category_Chamomile Tea, experiment_category_Magnesium, experiment_category_Meditation, experiment_category_None, experiment_category_Other, user_id_35MFM6FVESRUSFVVT42XZ4EESW2QDWO6, user_id_3GFNJNPROVUFMPSYCY4I2ZHED5LF4IP4, user_id_3ODDBBH2X2M657BVIKGBR3GTXOM5RNEC, user_id_3RRCF34LLVBPDMZIH64OFRKQAHKRLLCO, user_id_3VFEKJTF2DXVNHMXSM7MHR3NLS6LD4ES, user_id_4GNMWE24LNFB3H2A63NKHCEGYJ6SK2VM, user_id_5FMMQSD6LRZMK2I6Q7UCZD7VCHNCLBMD, user_id_5LMPI32NNEM4SZZRNZWSLWJJMBH4BRI7, user_id_5NG5XEFS7SLWT4LUSCW4THSFO75SIWJ6, user_id_5OXXAWBOTMCWRHRP5IIGB3EUQR74GP7N, user_id_665MWIP5V5RKSFKZJJ5RCINMDJVHQPYN, user_id_75WRTQXVS7L5PLQ745ZJCKHI2YNBZU6Y, user_id_7EH7LJ2LATLAG4XXGGB4BJB6PV2HUJH5, user_id_7RODD5JSZEB5LD3QLYLL6UAP5Q6ALPVB, user_id_7YE7DHNBZC7OHB4HLMGCV5TRM5QM4OYM, user_id_AL5K2E56QSVWCQFQGSGRELQPVTKOAVRJ, user_id_ASAPPLHTMSEL7FWS5PFSDXOISXCUK3RN, user_id_AXDFBGOBVJ2XQMQ5VJNBGWU6EJZWB56H, user_id_BKSOOPTP226CTULYPCFRY6UJQUVAP44W, user_id_BSMMIBAIXMNSKRWKZLSHXA7VCBFFYQGK, user_id_C3VBZVHZ7GQBQ5ZQJ3WRISIZSCXREZFV, user_id_CAOTF7H2AP5N6QDF37SO4OMDOM7CTATJ, user_id_CCDHHTNYOR4KECZI2PVPTT7VBWV22KRJ, user_id_CKXJ3NECBUSLCG3VZR7D5UNJRV3XCQJN, user_id_COFYOGC575GXUOYHBTBV7AUC6WUPFPGE, user_id_D3SHPWN6RWVAL5HU6W6XZ5CX5FLP3V67, user_id_D4F2UYJHGCFG2ZWBH2IYBWHENG3KPJKG, user_id_DSFY2GOXDGCH42CZFQTRFUNT4VLU47WN, user_id_EFR5GF6DIOEH7IP7PUZOZMHQOWOIMCNE, user_id_EKMAYS6DRKEXV3YMDKNUOSFTFXEEVBY5, user_id_EVU662U4JR447Y4MSM6O5TNBX2MA3COH, user_id_FMRQ33SRZ2OFBXHVT37NA6PRQZOO4NHF, user_id_FUB6D44PNSJFMIJ5U6HNWBG2EG3CE7SE, user_id_FXSCJ3SR4L5VUG67ONITX35XHXVM6YWG, user_id_FYA4OXP4Z2K7TRL2PWHJVUA6DW2ZX2FZ, user_id_G4S6FQ4FGBFPZ3PAXUG2ANQWGIU4KVGF, user_id_G625HHCHCWI3VM34SWL47M4G7MMJBYR7, user_id_GKPPNGZF737SZAKO3XEWFBTIDUQR2GP2, user_id_GYIQA5ZQHUIZVHZTMYI2RDJENWPAZ5HY, user_id_H242KC2RBINYXOFIYW2HXZOXG72RKV7I, user_id_HE7LYDFE2U5ER6KFIGT6ZDIGEO7VNNOW, user_id_IJMYQTPY2PE7HCV3PKNMQFPQWV4TKIE4, user_id_IP26IE64PAU55MJSGIOU5ERGOJX5FER5, user_id_JCZWBWNSAIMC4AURKPGNI5MU42C7JK3Y, user_id_JEHBSVZW5BU6KIMXO2MDJHWVY7SZO5SX, user_id_JRXSQ3IHGUY5A72CRCJHZHJ3OXD3QRC5, user_id_JS5KEJ7K5GP4426GKYEGQRK4WMJPSWOP, user_id_JTSGXI32MOLULL3YCXQG7Q6NDRFP22YQ, user_id_K65QHWZZVBQVKFMKENIYPFFXWZLOGZXB, user_id_KYK7BJY3XUXT3YMLFUYITXJWOYU3BSML, user_id_LIQI5SGSWLLF2PWAG37HVERU3IQ56YNC, user_id_LPKT7EFPG3G2DQM5ZDE53OCJXL32VSEH, user_id_M3GQNIYHRR4MFNHM5ETTAAJEEYLS52LG, user_id_M66MESIGOACKFG6HV7A4RFOWUZ7WWGIO, user_id_MH3XWAJMRKHFE72O64QLI5QUPZHWEZ5G, user_id_N24GYPSARH67MJ3CIZXERX6QBCOLTDC5, user_id_NEZ7COKVOQ26GVP372HVBBPELVPLIRBH, user_id_NFDXWWBOEYFFXYZ7YXWCX3JUADIJCOVE, user_id_NJR7VMQYYXDZ45FOLV4PGOZVPXI3VRY5, user_id_NVQUZTMMEMPVCPVMTEFY5EDXMVVX7A64, user_id_OCXY4EIDIPHVNPMI7S4532A7LE3FCOHX, user_id_OIZO23IQ6BGVBMWG5QHIKGVMUR2UPUYY, user_id_OUU5ZTE7SJ3XI6LCEMGAACRTFC6ALW2B, user_id_P5Z7G2E2HN7ZYXBHVATGEDKVB54ZHJHL, user_id_PCHU6IQHQY5GCEQTCO7DVEUS5F4EJYBH, user_id_PDP4LTUST75KLPGTLVVH4ZNBHWP2N6WS, user_id_PGMUZ2RPGFIDZLOIP554ZNQELU4PFFO3, user_id_PQC6APVY4RN6ZBRKEOMFMGJDPCS67GDY, user_id_RRWWBSWLSV6BPRDSRFHNDLO7TAZNQ3VH, user_id_RYREDK2UBSQ5UJBUOFSCLUNKFUHFVNNT, user_id_S7KHBIGVM4FFA5VIVB4GHMB6ROTSR65L, user_id_SFGJB2Z7DD4IUSQOMJHOG4O2MJQ5EB6J, user_id_SVOVVGTMXMFCRMGNE6N4PCV6EA7GOUM7, user_id_T5X6JFT433GVZJ4SYJBWOU5HCO2JN7TZ, user_id_TAA3QDDZ4Y66YDRTZTVDWR7ELOUD7YBR, user_id_TE2CPSSWP4QUGFAJQZ5FHITIKPNCCICX, user_id_TNW7YYC4H2VYZRDXQRTHMGQJZSSUHM6X, user_id_TOCZTTWDTEIXG76C2FLILMGT3TTWW2CQ, user_id_U4IIJPEFGAKDRI4K7KUJVJRF5S7ZRHH5, user_id_U7DE247XPEMCU7NOFOVNEC5HKWVNILEV, user_id_UEBVTTCGFDZ6U3ATPSOR4ZABFJ6RGKNA, user_id_UIL4MTGKYFCCXFKCKISRFUTYNPNMEYHF, user_id_UZNLIVG56OJ2YYIUWHQZ4IOPJ7YBSEOE, user_id_VCFFO3Z4VIZBSW4ZDKS7JDWPI2JFMLH7, user_id_VFSI32SZ4SPYR7NXPGKGXUBKCDH5M247, user_id_VV7R7TC2LTMGAMNMY3CUCUGTUCWZUXWR, user_id_WVUK2CBNFCSLOMBB6XAHBDIQ5RETOHDG, user_id_WXTBDYGYQXTTIWODVGNBNK4IIUGNTPDX, user_id_X3KF7PN5SZMZ7R3K5EK5WNOMFYW5OYKA, user_id_X4B2PWSKOJKCIJC3JU7W4QW3AKNWXA7T, user_id_XDPDCV254I6GMSVFCMTLP25GCVZOQGCM, user_id_XWISH4KW6U4NGIJXJ7WES5CUXQH6OXJP, user_id_XYVULCP6S5EMI5JU2LCELQ6NMPAXOS2A, user_id_YAA6LITNNXM2LH2647SLP2JCGC5G7UI3, user_id_YXPKWLMQR3VLNCAUP4HPG2U2NMIZM52B, user_id_ZCJQTLO5JAXRAI63MNUHG2GVOWG6JKMS, user_id_ZGNWC32OXKEJBATPPJUFVMYQHU4L63SJ, avg_sleep_score_next_week_binarized, "
     ]
    }
   ],
   "source": [
    "# show dimensions of the training and test data at this stage\n",
    "print(\"\\nTrain Set Shape:\")\n",
    "print(df_gold.shape)\n",
    "\n",
    "print(\"\\nTraining Data Columns:\")\n",
    "for i in df_gold.columns:\n",
    "    print(i,end=\", \")"
   ]
  },
  {
   "cell_type": "code",
   "execution_count": 14,
   "metadata": {},
   "outputs": [
    {
     "data": {
      "text/plain": [
       "(28379, 275)"
      ]
     },
     "execution_count": 14,
     "metadata": {},
     "output_type": "execute_result"
    }
   ],
   "source": [
    "df_gold.shape"
   ]
  },
  {
   "cell_type": "markdown",
   "metadata": {},
   "source": [
    "#### Production implementation\n",
    "\n",
    "The following section is fully implmented using H2O. The objective is to have code ready for a production release that will allow this solution to benefit from Spark and Hive infrastructure. The following section is annotated to demonstrate a set of H2O models that will allow for a production release team to be able to take the sklearn version and continue to develop a scalable solution."
   ]
  },
  {
   "cell_type": "code",
   "execution_count": 25,
   "metadata": {},
   "outputs": [
    {
     "name": "stdout",
     "output_type": "stream",
     "text": [
      "Checking whether there is an H2O instance running at http://localhost:54321 . connected.\n",
      "Warning: Your H2O cluster version is too old (4 months and 21 days)! Please download and install the latest version from http://h2o.ai/download/\n"
     ]
    },
    {
     "data": {
      "text/html": [
       "<div style=\"overflow:auto\"><table style=\"width:50%\"><tr><td>H2O cluster uptime:</td>\n",
       "<td>27 days 19 hours 55 mins</td></tr>\n",
       "<tr><td>H2O cluster timezone:</td>\n",
       "<td>UTC</td></tr>\n",
       "<tr><td>H2O data parsing timezone:</td>\n",
       "<td>UTC</td></tr>\n",
       "<tr><td>H2O cluster version:</td>\n",
       "<td>3.26.0.1</td></tr>\n",
       "<tr><td>H2O cluster version age:</td>\n",
       "<td>4 months and 21 days !!!</td></tr>\n",
       "<tr><td>H2O cluster name:</td>\n",
       "<td>H2O_from_python_unknownUser_m7x25t</td></tr>\n",
       "<tr><td>H2O cluster total nodes:</td>\n",
       "<td>1</td></tr>\n",
       "<tr><td>H2O cluster free memory:</td>\n",
       "<td>5.417 Gb</td></tr>\n",
       "<tr><td>H2O cluster total cores:</td>\n",
       "<td>32</td></tr>\n",
       "<tr><td>H2O cluster allowed cores:</td>\n",
       "<td>32</td></tr>\n",
       "<tr><td>H2O cluster status:</td>\n",
       "<td>locked, healthy</td></tr>\n",
       "<tr><td>H2O connection url:</td>\n",
       "<td>http://localhost:54321</td></tr>\n",
       "<tr><td>H2O connection proxy:</td>\n",
       "<td>None</td></tr>\n",
       "<tr><td>H2O internal security:</td>\n",
       "<td>False</td></tr>\n",
       "<tr><td>H2O API Extensions:</td>\n",
       "<td>Amazon S3, XGBoost, Algos, AutoML, Core V3, Core V4</td></tr>\n",
       "<tr><td>Python version:</td>\n",
       "<td>3.6.4 final</td></tr></table></div>"
      ],
      "text/plain": [
       "--------------------------  ---------------------------------------------------\n",
       "H2O cluster uptime:         27 days 19 hours 55 mins\n",
       "H2O cluster timezone:       UTC\n",
       "H2O data parsing timezone:  UTC\n",
       "H2O cluster version:        3.26.0.1\n",
       "H2O cluster version age:    4 months and 21 days !!!\n",
       "H2O cluster name:           H2O_from_python_unknownUser_m7x25t\n",
       "H2O cluster total nodes:    1\n",
       "H2O cluster free memory:    5.417 Gb\n",
       "H2O cluster total cores:    32\n",
       "H2O cluster allowed cores:  32\n",
       "H2O cluster status:         locked, healthy\n",
       "H2O connection url:         http://localhost:54321\n",
       "H2O connection proxy:\n",
       "H2O internal security:      False\n",
       "H2O API Extensions:         Amazon S3, XGBoost, Algos, AutoML, Core V3, Core V4\n",
       "Python version:             3.6.4 final\n",
       "--------------------------  ---------------------------------------------------"
      ]
     },
     "metadata": {},
     "output_type": "display_data"
    }
   ],
   "source": [
    "import h2o\n",
    "from h2o.automl import H2OAutoML\n",
    "h2o.init()"
   ]
  },
  {
   "cell_type": "markdown",
   "metadata": {},
   "source": [
    "#### Load Data\n",
    "\n",
    "We use the same analytical ready dataset as we have used for the sklearn version of the models here."
   ]
  },
  {
   "cell_type": "code",
   "execution_count": 26,
   "metadata": {},
   "outputs": [
    {
     "data": {
      "text/plain": [
       "(28379, 275)"
      ]
     },
     "execution_count": 26,
     "metadata": {},
     "output_type": "execute_result"
    }
   ],
   "source": [
    "df_gold.shape"
   ]
  },
  {
   "cell_type": "code",
   "execution_count": 27,
   "metadata": {},
   "outputs": [],
   "source": [
    "df_gold.to_csv('dataset.csv', encoding='utf-8')"
   ]
  },
  {
   "cell_type": "code",
   "execution_count": 28,
   "metadata": {},
   "outputs": [],
   "source": [
    "# select columns for inclusion in modeling\n",
    "model_columns = [# time index\n",
    "                'summary_date',\n",
    "                # features constructed from Oura ring telemetry\n",
    "                'rol_sleep_afterMidnight_7d','rol_onset_latency_7d',\n",
    "                'rol_bedtime_start_delta_7d','rol_steps_7d','rol_is_traveling_7d',\n",
    "                'score_training_frequency', 'score_training_volume',\n",
    "                'activity_routine_score','sleep_routine_score',\n",
    "                'rol_score_disturbances_7d','rol_sleep_score_7d',\n",
    "                # features gathered on Oura signup\n",
    "                'is_male','age',\n",
    "                # binary features constructed from Bioloop experiments\n",
    "                'experiment_category_Chamomile Tea',\n",
    "                'experiment_category_Magnesium',\n",
    "                'experiment_category_Meditation',\n",
    "                # outcome feature\n",
    "                'avg_sleep_score_next_week'\n",
    "                ]\n",
    "\n",
    "# keep only selected columns\n",
    "mod_df = df_gold.filter(model_columns)\n",
    "\n",
    "# splitting training and test set by recency\n",
    "train = mod_df[mod_df['summary_date'] <= pd.Timestamp(2019, 9, 1, 12)]\n",
    "test = mod_df[mod_df['summary_date'] > pd.Timestamp(2019, 9, 1, 12)]\n",
    "\n",
    "# dropping summary date since its not needed after train/test split on recency\n",
    "train = train.drop(['summary_date'],axis=1)\n",
    "test = test.drop(['summary_date'],axis=1)\n",
    "\n",
    "# dropping NaNs\n",
    "train = train.dropna()\n",
    "test = test.dropna()\n",
    "\n",
    "## Fit and Evaluate Random Forest Model\n",
    "\n",
    "#drop summary date from features\n",
    "features = [f for f in model_columns if f not in {'summary_date',\n",
    "                                                  'avg_sleep_score_next_week'}]\n"
   ]
  },
  {
   "cell_type": "code",
   "execution_count": 29,
   "metadata": {},
   "outputs": [
    {
     "data": {
      "text/plain": [
       "((14700, 17), (5433, 17))"
      ]
     },
     "execution_count": 29,
     "metadata": {},
     "output_type": "execute_result"
    }
   ],
   "source": [
    "train.shape , test.shape"
   ]
  },
  {
   "cell_type": "code",
   "execution_count": 30,
   "metadata": {},
   "outputs": [
    {
     "data": {
      "text/html": [
       "<div>\n",
       "<style scoped>\n",
       "    .dataframe tbody tr th:only-of-type {\n",
       "        vertical-align: middle;\n",
       "    }\n",
       "\n",
       "    .dataframe tbody tr th {\n",
       "        vertical-align: top;\n",
       "    }\n",
       "\n",
       "    .dataframe thead th {\n",
       "        text-align: right;\n",
       "    }\n",
       "</style>\n",
       "<table border=\"1\" class=\"dataframe\">\n",
       "  <thead>\n",
       "    <tr style=\"text-align: right;\">\n",
       "      <th></th>\n",
       "      <th>rol_sleep_afterMidnight_7d</th>\n",
       "      <th>rol_onset_latency_7d</th>\n",
       "      <th>rol_bedtime_start_delta_7d</th>\n",
       "      <th>rol_steps_7d</th>\n",
       "      <th>rol_is_traveling_7d</th>\n",
       "      <th>score_training_frequency</th>\n",
       "      <th>score_training_volume</th>\n",
       "      <th>activity_routine_score</th>\n",
       "      <th>sleep_routine_score</th>\n",
       "      <th>rol_score_disturbances_7d</th>\n",
       "      <th>rol_sleep_score_7d</th>\n",
       "      <th>is_male</th>\n",
       "      <th>age</th>\n",
       "      <th>experiment_category_Chamomile Tea</th>\n",
       "      <th>experiment_category_Magnesium</th>\n",
       "      <th>experiment_category_Meditation</th>\n",
       "      <th>avg_sleep_score_next_week</th>\n",
       "    </tr>\n",
       "  </thead>\n",
       "  <tbody>\n",
       "    <tr>\n",
       "      <th>268</th>\n",
       "      <td>1.0</td>\n",
       "      <td>1110.000000</td>\n",
       "      <td>13259.714286</td>\n",
       "      <td>8319.571429</td>\n",
       "      <td>0.142857</td>\n",
       "      <td>40.0</td>\n",
       "      <td>79.0</td>\n",
       "      <td>0.445969</td>\n",
       "      <td>0.169693</td>\n",
       "      <td>76.428571</td>\n",
       "      <td>75.571429</td>\n",
       "      <td>1.0</td>\n",
       "      <td>28.0</td>\n",
       "      <td>0</td>\n",
       "      <td>0</td>\n",
       "      <td>0</td>\n",
       "      <td>78.571429</td>\n",
       "    </tr>\n",
       "    <tr>\n",
       "      <th>270</th>\n",
       "      <td>1.0</td>\n",
       "      <td>1050.000000</td>\n",
       "      <td>12918.857143</td>\n",
       "      <td>9334.142857</td>\n",
       "      <td>0.000000</td>\n",
       "      <td>71.0</td>\n",
       "      <td>96.0</td>\n",
       "      <td>0.248712</td>\n",
       "      <td>0.151036</td>\n",
       "      <td>79.285714</td>\n",
       "      <td>79.285714</td>\n",
       "      <td>1.0</td>\n",
       "      <td>28.0</td>\n",
       "      <td>0</td>\n",
       "      <td>0</td>\n",
       "      <td>0</td>\n",
       "      <td>76.142857</td>\n",
       "    </tr>\n",
       "    <tr>\n",
       "      <th>271</th>\n",
       "      <td>1.0</td>\n",
       "      <td>1157.142857</td>\n",
       "      <td>12447.571429</td>\n",
       "      <td>9234.000000</td>\n",
       "      <td>0.000000</td>\n",
       "      <td>71.0</td>\n",
       "      <td>96.0</td>\n",
       "      <td>0.138569</td>\n",
       "      <td>0.141902</td>\n",
       "      <td>77.857143</td>\n",
       "      <td>78.428571</td>\n",
       "      <td>1.0</td>\n",
       "      <td>28.0</td>\n",
       "      <td>0</td>\n",
       "      <td>0</td>\n",
       "      <td>0</td>\n",
       "      <td>73.857143</td>\n",
       "    </tr>\n",
       "  </tbody>\n",
       "</table>\n",
       "</div>"
      ],
      "text/plain": [
       "     rol_sleep_afterMidnight_7d  rol_onset_latency_7d  \\\n",
       "268                         1.0           1110.000000   \n",
       "270                         1.0           1050.000000   \n",
       "271                         1.0           1157.142857   \n",
       "\n",
       "     rol_bedtime_start_delta_7d  rol_steps_7d  rol_is_traveling_7d  \\\n",
       "268                13259.714286   8319.571429             0.142857   \n",
       "270                12918.857143   9334.142857             0.000000   \n",
       "271                12447.571429   9234.000000             0.000000   \n",
       "\n",
       "     score_training_frequency  score_training_volume  activity_routine_score  \\\n",
       "268                      40.0                   79.0                0.445969   \n",
       "270                      71.0                   96.0                0.248712   \n",
       "271                      71.0                   96.0                0.138569   \n",
       "\n",
       "     sleep_routine_score  rol_score_disturbances_7d  rol_sleep_score_7d  \\\n",
       "268             0.169693                  76.428571           75.571429   \n",
       "270             0.151036                  79.285714           79.285714   \n",
       "271             0.141902                  77.857143           78.428571   \n",
       "\n",
       "     is_male   age  experiment_category_Chamomile Tea  \\\n",
       "268      1.0  28.0                                  0   \n",
       "270      1.0  28.0                                  0   \n",
       "271      1.0  28.0                                  0   \n",
       "\n",
       "     experiment_category_Magnesium  experiment_category_Meditation  \\\n",
       "268                              0                               0   \n",
       "270                              0                               0   \n",
       "271                              0                               0   \n",
       "\n",
       "     avg_sleep_score_next_week  \n",
       "268                  78.571429  \n",
       "270                  76.142857  \n",
       "271                  73.857143  "
      ]
     },
     "execution_count": 30,
     "metadata": {},
     "output_type": "execute_result"
    }
   ],
   "source": [
    "train.head(3)"
   ]
  },
  {
   "cell_type": "code",
   "execution_count": 31,
   "metadata": {},
   "outputs": [],
   "source": [
    "### Save the train and test to convert to H2OFrame\n",
    "\n",
    "train.to_csv('train.csv', encoding='utf-8')\n",
    "test.to_csv('test.csv', encoding='utf-8')"
   ]
  },
  {
   "cell_type": "code",
   "execution_count": 32,
   "metadata": {},
   "outputs": [
    {
     "ename": "NameError",
     "evalue": "name 'RandomForestRegressor' is not defined",
     "output_type": "error",
     "traceback": [
      "\u001b[0;31m---------------------------------------------------------------------------\u001b[0m",
      "\u001b[0;31mNameError\u001b[0m                                 Traceback (most recent call last)",
      "\u001b[0;32m<ipython-input-32-a8d70c246df0>\u001b[0m in \u001b[0;36m<module>\u001b[0;34m\u001b[0m\n\u001b[1;32m      1\u001b[0m \u001b[0;31m# initialize Random Forest\u001b[0m\u001b[0;34m\u001b[0m\u001b[0;34m\u001b[0m\u001b[0m\n\u001b[0;32m----> 2\u001b[0;31m \u001b[0mrf_regr\u001b[0m \u001b[0;34m=\u001b[0m \u001b[0mRandomForestRegressor\u001b[0m\u001b[0;34m(\u001b[0m\u001b[0mn_estimators\u001b[0m \u001b[0;34m=\u001b[0m \u001b[0;36m100\u001b[0m\u001b[0;34m)\u001b[0m\u001b[0;34m\u001b[0m\u001b[0m\n\u001b[0m\u001b[1;32m      3\u001b[0m \u001b[0;34m\u001b[0m\u001b[0m\n\u001b[1;32m      4\u001b[0m \u001b[0;31m# train the model\u001b[0m\u001b[0;34m\u001b[0m\u001b[0;34m\u001b[0m\u001b[0m\n\u001b[1;32m      5\u001b[0m \u001b[0mrf_regr\u001b[0m\u001b[0;34m.\u001b[0m\u001b[0mfit\u001b[0m\u001b[0;34m(\u001b[0m\u001b[0mtrain\u001b[0m\u001b[0;34m[\u001b[0m\u001b[0mfeatures\u001b[0m\u001b[0;34m]\u001b[0m\u001b[0;34m,\u001b[0m\u001b[0mtrain\u001b[0m\u001b[0;34m[\u001b[0m\u001b[0;34m'avg_sleep_score_next_week'\u001b[0m\u001b[0;34m]\u001b[0m\u001b[0;34m)\u001b[0m\u001b[0;34m\u001b[0m\u001b[0m\n",
      "\u001b[0;31mNameError\u001b[0m: name 'RandomForestRegressor' is not defined"
     ]
    }
   ],
   "source": [
    "\n",
    "# initialize Random Forest\n",
    "rf_regr = RandomForestRegressor(n_estimators = 100)\n",
    "\n",
    "# train the model\n",
    "rf_regr.fit(train[features],train['avg_sleep_score_next_week'])\n",
    "rf_reg_pred = rf_regr.predict(test[features])\n",
    "\n",
    "# test performance of the model\n",
    "print('R2 of: ',r2_score(test['avg_sleep_score_next_week'], rf_reg_pred))\n",
    "print('MSE of: ', mean_squared_error(test['avg_sleep_score_next_week'], rf_reg_pred))\n",
    "print('MAE of: ', mean_absolute_error(test['avg_sleep_score_next_week'], rf_reg_pred))\n",
    "print('Explained Variance:', explained_variance_score(test['avg_sleep_score_next_week'], rf_reg_pred))\n",
    "print('Median Absolute Error',median_absolute_error(test['avg_sleep_score_next_week'], rf_reg_pred))"
   ]
  },
  {
   "cell_type": "code",
   "execution_count": 33,
   "metadata": {},
   "outputs": [
    {
     "name": "stdout",
     "output_type": "stream",
     "text": [
      "Parse progress: |█████████████████████████████████████████████████████████| 100%\n",
      "Parse progress: |█████████████████████████████████████████████████████████| 100%\n"
     ]
    }
   ],
   "source": [
    "# Load data into H2O\n",
    "\n",
    "data_path = 'train.csv'\n",
    "train = h2o.import_file(data_path)\n",
    "train = train.drop('C1')\n",
    "data_path = 'test.csv'\n",
    "test = h2o.import_file(data_path)\n",
    "test = test.drop('C1')\n",
    "\n",
    "predictors = list(set(train.col_names) - set('avg_sleep_score_next_week'))"
   ]
  },
  {
   "cell_type": "code",
   "execution_count": 34,
   "metadata": {},
   "outputs": [
    {
     "data": {
      "text/plain": [
       "((14700, 17), (5433, 17))"
      ]
     },
     "execution_count": 34,
     "metadata": {},
     "output_type": "execute_result"
    }
   ],
   "source": [
    "train.shape , test.shape"
   ]
  },
  {
   "cell_type": "markdown",
   "metadata": {},
   "source": [
    "Now that we have cleaned our data and added new columns, we train a model to predict bad loans. First split our loans data into train and test."
   ]
  },
  {
   "cell_type": "code",
   "execution_count": 116,
   "metadata": {},
   "outputs": [
    {
     "name": "stdout",
     "output_type": "stream",
     "text": [
      "Help on class H2OGradientBoostingEstimator in module h2o.estimators.gbm:\n",
      "\n",
      "class H2OGradientBoostingEstimator(h2o.estimators.estimator_base.H2OEstimator)\n",
      " |  Gradient Boosting Machine\n",
      " |  \n",
      " |  Builds gradient boosted trees on a parsed data set, for regression or classification.\n",
      " |  The default distribution function will guess the model type based on the response column type.\n",
      " |  Otherwise, the response column must be an enum for \"bernoulli\" or \"multinomial\", and numeric\n",
      " |  for all other distributions.\n",
      " |  \n",
      " |  Method resolution order:\n",
      " |      H2OGradientBoostingEstimator\n",
      " |      h2o.estimators.estimator_base.H2OEstimator\n",
      " |      h2o.model.model_base.ModelBase\n",
      " |      h2o.utils.backward_compatibility.BackwardsCompatibleBase\n",
      " |      h2o.base.Keyed\n",
      " |      builtins.object\n",
      " |  \n",
      " |  Methods defined here:\n",
      " |  \n",
      " |  __init__(self, **kwargs)\n",
      " |      Construct a new model instance.\n",
      " |  \n",
      " |  ----------------------------------------------------------------------\n",
      " |  Data descriptors defined here:\n",
      " |  \n",
      " |  balance_classes\n",
      " |      Balance training data class counts via over/under-sampling (for imbalanced data).\n",
      " |      \n",
      " |      Type: ``bool``  (default: ``False``).\n",
      " |  \n",
      " |  build_tree_one_node\n",
      " |      Run on one node only; no network overhead but fewer cpus used.  Suitable for small datasets.\n",
      " |      \n",
      " |      Type: ``bool``  (default: ``False``).\n",
      " |  \n",
      " |  calibrate_model\n",
      " |      Use Platt Scaling to calculate calibrated class probabilities. Calibration can provide more accurate estimates\n",
      " |      of class probabilities.\n",
      " |      \n",
      " |      Type: ``bool``  (default: ``False``).\n",
      " |  \n",
      " |  calibration_frame\n",
      " |      Calibration frame for Platt Scaling\n",
      " |      \n",
      " |      Type: ``H2OFrame``.\n",
      " |  \n",
      " |  categorical_encoding\n",
      " |      Encoding scheme for categorical features\n",
      " |      \n",
      " |      One of: ``\"auto\"``, ``\"enum\"``, ``\"one_hot_internal\"``, ``\"one_hot_explicit\"``, ``\"binary\"``, ``\"eigen\"``,\n",
      " |      ``\"label_encoder\"``, ``\"sort_by_response\"``, ``\"enum_limited\"``  (default: ``\"auto\"``).\n",
      " |  \n",
      " |  check_constant_response\n",
      " |      Check if response column is constant. If enabled, then an exception is thrown if the response column is a\n",
      " |      constant value.If disabled, then model will train regardless of the response column being a constant value or\n",
      " |      not.\n",
      " |      \n",
      " |      Type: ``bool``  (default: ``True``).\n",
      " |  \n",
      " |  checkpoint\n",
      " |      Model checkpoint to resume training with.\n",
      " |      \n",
      " |      Type: ``str``.\n",
      " |  \n",
      " |  class_sampling_factors\n",
      " |      Desired over/under-sampling ratios per class (in lexicographic order). If not specified, sampling factors will\n",
      " |      be automatically computed to obtain class balance during training. Requires balance_classes.\n",
      " |      \n",
      " |      Type: ``List[float]``.\n",
      " |  \n",
      " |  col_sample_rate\n",
      " |      Column sample rate (from 0.0 to 1.0)\n",
      " |      \n",
      " |      Type: ``float``  (default: ``1``).\n",
      " |  \n",
      " |  col_sample_rate_change_per_level\n",
      " |      Relative change of the column sampling rate for every level (must be > 0.0 and <= 2.0)\n",
      " |      \n",
      " |      Type: ``float``  (default: ``1``).\n",
      " |  \n",
      " |  col_sample_rate_per_tree\n",
      " |      Column sample rate per tree (from 0.0 to 1.0)\n",
      " |      \n",
      " |      Type: ``float``  (default: ``1``).\n",
      " |  \n",
      " |  custom_distribution_func\n",
      " |      Reference to custom distribution, format: `language:keyName=funcName`\n",
      " |      \n",
      " |      Type: ``str``.\n",
      " |  \n",
      " |  custom_metric_func\n",
      " |      Reference to custom evaluation function, format: `language:keyName=funcName`\n",
      " |      \n",
      " |      Type: ``str``.\n",
      " |  \n",
      " |  distribution\n",
      " |      Distribution function\n",
      " |      \n",
      " |      One of: ``\"auto\"``, ``\"bernoulli\"``, ``\"quasibinomial\"``, ``\"multinomial\"``, ``\"gaussian\"``, ``\"poisson\"``,\n",
      " |      ``\"gamma\"``, ``\"tweedie\"``, ``\"laplace\"``, ``\"quantile\"``, ``\"huber\"``, ``\"custom\"``  (default: ``\"auto\"``).\n",
      " |  \n",
      " |  export_checkpoints_dir\n",
      " |      Automatically export generated models to this directory.\n",
      " |      \n",
      " |      Type: ``str``.\n",
      " |  \n",
      " |  fold_assignment\n",
      " |      Cross-validation fold assignment scheme, if fold_column is not specified. The 'Stratified' option will stratify\n",
      " |      the folds based on the response variable, for classification problems.\n",
      " |      \n",
      " |      One of: ``\"auto\"``, ``\"random\"``, ``\"modulo\"``, ``\"stratified\"``  (default: ``\"auto\"``).\n",
      " |  \n",
      " |  fold_column\n",
      " |      Column with cross-validation fold index assignment per observation.\n",
      " |      \n",
      " |      Type: ``str``.\n",
      " |  \n",
      " |  histogram_type\n",
      " |      What type of histogram to use for finding optimal split points\n",
      " |      \n",
      " |      One of: ``\"auto\"``, ``\"uniform_adaptive\"``, ``\"random\"``, ``\"quantiles_global\"``, ``\"round_robin\"``  (default:\n",
      " |      ``\"auto\"``).\n",
      " |  \n",
      " |  huber_alpha\n",
      " |      Desired quantile for Huber/M-regression (threshold between quadratic and linear loss, must be between 0 and 1).\n",
      " |      \n",
      " |      Type: ``float``  (default: ``0.9``).\n",
      " |  \n",
      " |  ignore_const_cols\n",
      " |      Ignore constant columns.\n",
      " |      \n",
      " |      Type: ``bool``  (default: ``True``).\n",
      " |  \n",
      " |  ignored_columns\n",
      " |      Names of columns to ignore for training.\n",
      " |      \n",
      " |      Type: ``List[str]``.\n",
      " |  \n",
      " |  keep_cross_validation_fold_assignment\n",
      " |      Whether to keep the cross-validation fold assignment.\n",
      " |      \n",
      " |      Type: ``bool``  (default: ``False``).\n",
      " |  \n",
      " |  keep_cross_validation_models\n",
      " |      Whether to keep the cross-validation models.\n",
      " |      \n",
      " |      Type: ``bool``  (default: ``True``).\n",
      " |  \n",
      " |  keep_cross_validation_predictions\n",
      " |      Whether to keep the predictions of the cross-validation models.\n",
      " |      \n",
      " |      Type: ``bool``  (default: ``False``).\n",
      " |  \n",
      " |  learn_rate\n",
      " |      Learning rate (from 0.0 to 1.0)\n",
      " |      \n",
      " |      Type: ``float``  (default: ``0.1``).\n",
      " |  \n",
      " |  learn_rate_annealing\n",
      " |      Scale the learning rate by this factor after each tree (e.g., 0.99 or 0.999)\n",
      " |      \n",
      " |      Type: ``float``  (default: ``1``).\n",
      " |  \n",
      " |  max_abs_leafnode_pred\n",
      " |      Maximum absolute value of a leaf node prediction\n",
      " |      \n",
      " |      Type: ``float``  (default: ``1.797693135e+308``).\n",
      " |  \n",
      " |  max_after_balance_size\n",
      " |      Maximum relative size of the training data after balancing class counts (can be less than 1.0). Requires\n",
      " |      balance_classes.\n",
      " |      \n",
      " |      Type: ``float``  (default: ``5``).\n",
      " |  \n",
      " |  max_confusion_matrix_size\n",
      " |      [Deprecated] Maximum size (# classes) for confusion matrices to be printed in the Logs\n",
      " |      \n",
      " |      Type: ``int``  (default: ``20``).\n",
      " |  \n",
      " |  max_depth\n",
      " |      Maximum tree depth.\n",
      " |      \n",
      " |      Type: ``int``  (default: ``5``).\n",
      " |  \n",
      " |  max_hit_ratio_k\n",
      " |      Max. number (top K) of predictions to use for hit ratio computation (for multi-class only, 0 to disable)\n",
      " |      \n",
      " |      Type: ``int``  (default: ``0``).\n",
      " |  \n",
      " |  max_runtime_secs\n",
      " |      Maximum allowed runtime in seconds for model training. Use 0 to disable.\n",
      " |      \n",
      " |      Type: ``float``  (default: ``0``).\n",
      " |  \n",
      " |  min_rows\n",
      " |      Fewest allowed (weighted) observations in a leaf.\n",
      " |      \n",
      " |      Type: ``float``  (default: ``10``).\n",
      " |  \n",
      " |  min_split_improvement\n",
      " |      Minimum relative improvement in squared error reduction for a split to happen\n",
      " |      \n",
      " |      Type: ``float``  (default: ``1e-05``).\n",
      " |  \n",
      " |  monotone_constraints\n",
      " |      A mapping representing monotonic constraints. Use +1 to enforce an increasing constraint and -1 to specify a\n",
      " |      decreasing constraint.\n",
      " |      \n",
      " |      Type: ``dict``.\n",
      " |  \n",
      " |  nbins\n",
      " |      For numerical columns (real/int), build a histogram of (at least) this many bins, then split at the best point\n",
      " |      \n",
      " |      Type: ``int``  (default: ``20``).\n",
      " |  \n",
      " |  nbins_cats\n",
      " |      For categorical columns (factors), build a histogram of this many bins, then split at the best point. Higher\n",
      " |      values can lead to more overfitting.\n",
      " |      \n",
      " |      Type: ``int``  (default: ``1024``).\n",
      " |  \n",
      " |  nbins_top_level\n",
      " |      For numerical columns (real/int), build a histogram of (at most) this many bins at the root level, then decrease\n",
      " |      by factor of two per level\n",
      " |      \n",
      " |      Type: ``int``  (default: ``1024``).\n",
      " |  \n",
      " |  nfolds\n",
      " |      Number of folds for K-fold cross-validation (0 to disable or >= 2).\n",
      " |      \n",
      " |      Type: ``int``  (default: ``0``).\n",
      " |  \n",
      " |  ntrees\n",
      " |      Number of trees.\n",
      " |      \n",
      " |      Type: ``int``  (default: ``50``).\n",
      " |  \n",
      " |  offset_column\n",
      " |      Offset column. This will be added to the combination of columns before applying the link function.\n",
      " |      \n",
      " |      Type: ``str``.\n",
      " |  \n",
      " |  pred_noise_bandwidth\n",
      " |      Bandwidth (sigma) of Gaussian multiplicative noise ~N(1,sigma) for tree node predictions\n",
      " |      \n",
      " |      Type: ``float``  (default: ``0``).\n",
      " |  \n",
      " |  quantile_alpha\n",
      " |      Desired quantile for Quantile regression, must be between 0 and 1.\n",
      " |      \n",
      " |      Type: ``float``  (default: ``0.5``).\n",
      " |  \n",
      " |  r2_stopping\n",
      " |      r2_stopping is no longer supported and will be ignored if set - please use stopping_rounds, stopping_metric and\n",
      " |      stopping_tolerance instead. Previous version of H2O would stop making trees when the R^2 metric equals or\n",
      " |      exceeds this\n",
      " |      \n",
      " |      Type: ``float``  (default: ``1.797693135e+308``).\n",
      " |  \n",
      " |  response_column\n",
      " |      Response variable column.\n",
      " |      \n",
      " |      Type: ``str``.\n",
      " |  \n",
      " |  sample_rate\n",
      " |      Row sample rate per tree (from 0.0 to 1.0)\n",
      " |      \n",
      " |      Type: ``float``  (default: ``1``).\n",
      " |  \n",
      " |  sample_rate_per_class\n",
      " |      A list of row sample rates per class (relative fraction for each class, from 0.0 to 1.0), for each tree\n",
      " |      \n",
      " |      Type: ``List[float]``.\n",
      " |  \n",
      " |  score_each_iteration\n",
      " |      Whether to score during each iteration of model training.\n",
      " |      \n",
      " |      Type: ``bool``  (default: ``False``).\n",
      " |  \n",
      " |  score_tree_interval\n",
      " |      Score the model after every so many trees. Disabled if set to 0.\n",
      " |      \n",
      " |      Type: ``int``  (default: ``0``).\n",
      " |  \n",
      " |  seed\n",
      " |      Seed for pseudo random number generator (if applicable)\n",
      " |      \n",
      " |      Type: ``int``  (default: ``-1``).\n",
      " |  \n",
      " |  stopping_metric\n",
      " |      Metric to use for early stopping (AUTO: logloss for classification, deviance for regression and anonomaly_score\n",
      " |      for Isolation Forest). Note that custom and custom_increasing can only be used in GBM and DRF with the Python\n",
      " |      client.\n",
      " |      \n",
      " |      One of: ``\"auto\"``, ``\"deviance\"``, ``\"logloss\"``, ``\"mse\"``, ``\"rmse\"``, ``\"mae\"``, ``\"rmsle\"``, ``\"auc\"``,\n",
      " |      ``\"lift_top_group\"``, ``\"misclassification\"``, ``\"mean_per_class_error\"``, ``\"custom\"``, ``\"custom_increasing\"``\n",
      " |      (default: ``\"auto\"``).\n",
      " |  \n",
      " |  stopping_rounds\n",
      " |      Early stopping based on convergence of stopping_metric. Stop if simple moving average of length k of the\n",
      " |      stopping_metric does not improve for k:=stopping_rounds scoring events (0 to disable)\n",
      " |      \n",
      " |      Type: ``int``  (default: ``0``).\n",
      " |  \n",
      " |  stopping_tolerance\n",
      " |      Relative tolerance for metric-based stopping criterion (stop if relative improvement is not at least this much)\n",
      " |      \n",
      " |      Type: ``float``  (default: ``0.001``).\n",
      " |  \n",
      " |  training_frame\n",
      " |      Id of the training data frame.\n",
      " |      \n",
      " |      Type: ``H2OFrame``.\n",
      " |  \n",
      " |  tweedie_power\n",
      " |      Tweedie power for Tweedie regression, must be between 1 and 2.\n",
      " |      \n",
      " |      Type: ``float``  (default: ``1.5``).\n",
      " |  \n",
      " |  validation_frame\n",
      " |      Id of the validation data frame.\n",
      " |      \n",
      " |      Type: ``H2OFrame``.\n",
      " |  \n",
      " |  weights_column\n",
      " |      Column with observation weights. Giving some observation a weight of zero is equivalent to excluding it from the\n",
      " |      dataset; giving an observation a relative weight of 2 is equivalent to repeating that row twice. Negative\n",
      " |      weights are not allowed. Note: Weights are per-row observation weights and do not increase the size of the data\n",
      " |      frame. This is typically the number of times a row is repeated, but non-integer values are supported as well.\n",
      " |      During training, rows with higher weights matter more, due to the larger loss function pre-factor.\n",
      " |      \n",
      " |      Type: ``str``.\n",
      " |  \n",
      " |  ----------------------------------------------------------------------\n",
      " |  Data and other attributes defined here:\n",
      " |  \n",
      " |  algo = 'gbm'\n",
      " |  \n",
      " |  ----------------------------------------------------------------------\n",
      " |  Methods inherited from h2o.estimators.estimator_base.H2OEstimator:\n",
      " |  \n",
      " |  convert_H2OXGBoostParams_2_XGBoostParams(self)\n",
      " |      In order to use convert_H2OXGBoostParams_2_XGBoostParams and convert_H2OFrame_2_DMatrix, you must import\n",
      " |      the following toolboxes: xgboost, pandas, numpy and scipy.sparse.\n",
      " |      \n",
      " |      Given an H2OXGBoost model, this method will generate the corresponding parameters that should be used by\n",
      " |      native XGBoost in order to give exactly the same result, assuming that the same dataset\n",
      " |      (derived from h2oFrame) is used to train the native XGBoost model.\n",
      " |      \n",
      " |      Follow the steps below to compare H2OXGBoost and native XGBoost:\n",
      " |      \n",
      " |      1. Train the H2OXGBoost model with H2OFrame trainFile and generate a prediction:\n",
      " |      h2oModelD = H2OXGBoostEstimator(**h2oParamsD) # parameters specified as a dict()\n",
      " |      h2oModelD.train(x=myX, y=y, training_frame=trainFile) # train with H2OFrame trainFile\n",
      " |      h2oPredict = h2oPredictD = h2oModelD.predict(trainFile)\n",
      " |      \n",
      " |      2. Derive the DMatrix from H2OFrame:\n",
      " |      nativeDMatrix = trainFile.convert_H2OFrame_2_DMatrix(myX, y, h2oModelD)\n",
      " |      \n",
      " |      3. Derive the parameters for native XGBoost:\n",
      " |      nativeParams = h2oModelD.convert_H2OXGBoostParams_2_XGBoostParams()\n",
      " |      \n",
      " |      4. Train your native XGBoost model and generate a prediction:\n",
      " |      nativeModel = xgb.train(params=nativeParams[0], dtrain=nativeDMatrix, num_boost_round=nativeParams[1])\n",
      " |      nativePredict = nativeModel.predict(data=nativeDMatrix, ntree_limit=nativeParams[1].\n",
      " |      \n",
      " |      5. Compare the predictions h2oPredict from H2OXGBoost, nativePredict from native XGBoost.\n",
      " |      \n",
      " |      :return: nativeParams, num_boost_round\n",
      " |  \n",
      " |  fit(self, X, y=None, **params)\n",
      " |      Fit an H2O model as part of a scikit-learn pipeline or grid search.\n",
      " |      \n",
      " |      A warning will be issued if a caller other than sklearn attempts to use this method.\n",
      " |      \n",
      " |      :param H2OFrame X: An H2OFrame consisting of the predictor variables.\n",
      " |      :param H2OFrame y: An H2OFrame consisting of the response variable.\n",
      " |      :param params: Extra arguments.\n",
      " |      :returns: The current instance of H2OEstimator for method chaining.\n",
      " |  \n",
      " |  get_params(self, deep=True)\n",
      " |      Obtain parameters for this estimator.\n",
      " |      \n",
      " |      Used primarily for sklearn Pipelines and sklearn grid search.\n",
      " |      \n",
      " |      :param deep: If True, return parameters of all sub-objects that are estimators.\n",
      " |      \n",
      " |      :returns: A dict of parameters\n",
      " |  \n",
      " |  join(self)\n",
      " |      Wait until job's completion.\n",
      " |  \n",
      " |  set_params(self, **parms)\n",
      " |      Used by sklearn for updating parameters during grid search.\n",
      " |      \n",
      " |      :param parms: A dictionary of parameters that will be set on this model.\n",
      " |      :returns: self, the current estimator object with the parameters all set as desired.\n",
      " |  \n",
      " |  start(self, x, y=None, training_frame=None, offset_column=None, fold_column=None, weights_column=None, validation_frame=None, **params)\n",
      " |      Train the model asynchronously (to block for results call :meth:`join`).\n",
      " |      \n",
      " |      :param x: A list of column names or indices indicating the predictor columns.\n",
      " |      :param y: An index or a column name indicating the response column.\n",
      " |      :param H2OFrame training_frame: The H2OFrame having the columns indicated by x and y (as well as any\n",
      " |          additional columns specified by fold, offset, and weights).\n",
      " |      :param offset_column: The name or index of the column in training_frame that holds the offsets.\n",
      " |      :param fold_column: The name or index of the column in training_frame that holds the per-row fold\n",
      " |          assignments.\n",
      " |      :param weights_column: The name or index of the column in training_frame that holds the per-row weights.\n",
      " |      :param validation_frame: H2OFrame with validation data to be scored on while training.\n",
      " |  \n",
      " |  train(self, x=None, y=None, training_frame=None, offset_column=None, fold_column=None, weights_column=None, validation_frame=None, max_runtime_secs=None, ignored_columns=None, model_id=None, verbose=False)\n",
      " |      Train the H2O model.\n",
      " |      \n",
      " |      :param x: A list of column names or indices indicating the predictor columns.\n",
      " |      :param y: An index or a column name indicating the response column.\n",
      " |      :param H2OFrame training_frame: The H2OFrame having the columns indicated by x and y (as well as any\n",
      " |          additional columns specified by fold, offset, and weights).\n",
      " |      :param offset_column: The name or index of the column in training_frame that holds the offsets.\n",
      " |      :param fold_column: The name or index of the column in training_frame that holds the per-row fold\n",
      " |          assignments.\n",
      " |      :param weights_column: The name or index of the column in training_frame that holds the per-row weights.\n",
      " |      :param validation_frame: H2OFrame with validation data to be scored on while training.\n",
      " |      :param float max_runtime_secs: Maximum allowed runtime in seconds for model training. Use 0 to disable.\n",
      " |      :param bool verbose: Print scoring history to stdout. Defaults to False.\n",
      " |  \n",
      " |  ----------------------------------------------------------------------\n",
      " |  Static methods inherited from h2o.estimators.estimator_base.H2OEstimator:\n",
      " |  \n",
      " |  mixin(obj, cls)\n",
      " |  \n",
      " |  ----------------------------------------------------------------------\n",
      " |  Methods inherited from h2o.model.model_base.ModelBase:\n",
      " |  \n",
      " |  __repr__(self)\n",
      " |      Return repr(self).\n",
      " |  \n",
      " |  aic(self, train=False, valid=False, xval=False)\n",
      " |      Get the AIC (Akaike Information Criterium).\n",
      " |      \n",
      " |      If all are False (default), then return the training metric value.\n",
      " |      If more than one options is set to True, then return a dictionary of metrics where the keys are \"train\",\n",
      " |      \"valid\", and \"xval\".\n",
      " |      \n",
      " |      :param bool train: If train is True, then return the AIC value for the training data.\n",
      " |      :param bool valid: If valid is True, then return the AIC value for the validation data.\n",
      " |      :param bool xval:  If xval is True, then return the AIC value for the validation data.\n",
      " |      \n",
      " |      :returns: The AIC.\n",
      " |  \n",
      " |  auc(self, train=False, valid=False, xval=False)\n",
      " |      Get the AUC (Area Under Curve).\n",
      " |      \n",
      " |      If all are False (default), then return the training metric value.\n",
      " |      If more than one options is set to True, then return a dictionary of metrics where the keys are \"train\",\n",
      " |      \"valid\", and \"xval\".\n",
      " |      \n",
      " |      :param bool train: If train is True, then return the AUC value for the training data.\n",
      " |      :param bool valid: If valid is True, then return the AUC value for the validation data.\n",
      " |      :param bool xval:  If xval is True, then return the AUC value for the validation data.\n",
      " |      \n",
      " |      :returns: The AUC.\n",
      " |  \n",
      " |  biases(self, vector_id=0)\n",
      " |      Return the frame for the respective bias vector.\n",
      " |      \n",
      " |      :param: vector_id: an integer, ranging from 0 to number of layers, that specifies the bias vector to return.\n",
      " |      \n",
      " |      :returns: an H2OFrame which represents the bias vector identified by vector_id\n",
      " |  \n",
      " |  catoffsets(self)\n",
      " |      Categorical offsets for one-hot encoding.\n",
      " |  \n",
      " |  coef(self)\n",
      " |      Return the coefficients which can be applied to the non-standardized data.\n",
      " |      \n",
      " |      Note: standardize = True by default, if set to False then coef() return the coefficients which are fit directly.\n",
      " |  \n",
      " |  coef_norm(self)\n",
      " |      Return coefficients fitted on the standardized data (requires standardize = True, which is on by default).\n",
      " |      \n",
      " |      These coefficients can be used to evaluate variable importance.\n",
      " |  \n",
      " |  cross_validation_fold_assignment(self)\n",
      " |      Obtain the cross-validation fold assignment for all rows in the training data.\n",
      " |      \n",
      " |      :returns: H2OFrame\n",
      " |  \n",
      " |  cross_validation_holdout_predictions(self)\n",
      " |      Obtain the (out-of-sample) holdout predictions of all cross-validation models on the training data.\n",
      " |      \n",
      " |      This is equivalent to summing up all H2OFrames returned by cross_validation_predictions.\n",
      " |      \n",
      " |      :returns: H2OFrame\n",
      " |  \n",
      " |  cross_validation_metrics_summary(self)\n",
      " |      Retrieve Cross-Validation Metrics Summary.\n",
      " |      \n",
      " |      :returns: The cross-validation metrics summary as an H2OTwoDimTable\n",
      " |  \n",
      " |  cross_validation_models(self)\n",
      " |      Obtain a list of cross-validation models.\n",
      " |      \n",
      " |      :returns: list of H2OModel objects.\n",
      " |  \n",
      " |  cross_validation_predictions(self)\n",
      " |      Obtain the (out-of-sample) holdout predictions of all cross-validation models on their holdout data.\n",
      " |      \n",
      " |      Note that the predictions are expanded to the full number of rows of the training data, with 0 fill-in.\n",
      " |      \n",
      " |      :returns: list of H2OFrame objects.\n",
      " |  \n",
      " |  deepfeatures(self, test_data, layer)\n",
      " |      Return hidden layer details.\n",
      " |      \n",
      " |      :param test_data: Data to create a feature space on\n",
      " |      :param layer: 0 index hidden layer\n",
      " |  \n",
      " |  detach(self)\n",
      " |      Detach the Python object from the backend, usually by clearing its key\n",
      " |  \n",
      " |  download_mojo(self, path='.', get_genmodel_jar=False, genmodel_name='')\n",
      " |      Download the model in MOJO format.\n",
      " |      \n",
      " |      :param path: the path where MOJO file should be saved.\n",
      " |      :param get_genmodel_jar: if True, then also download h2o-genmodel.jar and store it in folder ``path``.\n",
      " |      :param genmodel_name: Custom name of genmodel jar\n",
      " |      :returns: name of the MOJO file written.\n",
      " |  \n",
      " |  download_pojo(self, path='', get_genmodel_jar=False, genmodel_name='')\n",
      " |      Download the POJO for this model to the directory specified by path.\n",
      " |      \n",
      " |      If path is an empty string, then dump the output to screen.\n",
      " |      \n",
      " |      :param path:  An absolute path to the directory where POJO should be saved.\n",
      " |      :param get_genmodel_jar: if True, then also download h2o-genmodel.jar and store it in folder ``path``.\n",
      " |      :param genmodel_name: Custom name of genmodel jar\n",
      " |      :returns: name of the POJO file written.\n",
      " |  \n",
      " |  feature_frequencies(self, test_data)\n",
      " |      Retrieve the number of occurrences of each feature for given observations \n",
      " |      on their respective paths in a tree ensemble model.\n",
      " |      Available for GBM, Random Forest and Isolation Forest models.\n",
      " |      \n",
      " |      :param H2OFrame test_data: Data on which to calculate feature frequencies.\n",
      " |      \n",
      " |      :returns: A new H2OFrame made of feature contributions.\n",
      " |  \n",
      " |  get_xval_models(self, key=None)\n",
      " |      Return a Model object.\n",
      " |      \n",
      " |      :param key: If None, return all cross-validated models; otherwise return the model that key points to.\n",
      " |      \n",
      " |      :returns: A model or list of models.\n",
      " |  \n",
      " |  gini(self, train=False, valid=False, xval=False)\n",
      " |      Get the Gini coefficient.\n",
      " |      \n",
      " |      If all are False (default), then return the training metric value.\n",
      " |      If more than one options is set to True, then return a dictionary of metrics where the keys are \"train\",\n",
      " |      \"valid\", and \"xval\"\n",
      " |      \n",
      " |      :param bool train: If train is True, then return the Gini Coefficient value for the training data.\n",
      " |      :param bool valid: If valid is True, then return the Gini Coefficient value for the validation data.\n",
      " |      :param bool xval:  If xval is True, then return the Gini Coefficient value for the cross validation data.\n",
      " |      \n",
      " |      :returns: The Gini Coefficient for this binomial model.\n",
      " |  \n",
      " |  is_cross_validated(self)\n",
      " |      Return True if the model was cross-validated.\n",
      " |  \n",
      " |  logloss(self, train=False, valid=False, xval=False)\n",
      " |      Get the Log Loss.\n",
      " |      \n",
      " |      If all are False (default), then return the training metric value.\n",
      " |      If more than one options is set to True, then return a dictionary of metrics where the keys are \"train\",\n",
      " |      \"valid\", and \"xval\".\n",
      " |      \n",
      " |      :param bool train: If train is True, then return the log loss value for the training data.\n",
      " |      :param bool valid: If valid is True, then return the log loss value for the validation data.\n",
      " |      :param bool xval:  If xval is True, then return the log loss value for the cross validation data.\n",
      " |      \n",
      " |      :returns: The log loss for this regression model.\n",
      " |  \n",
      " |  mae(self, train=False, valid=False, xval=False)\n",
      " |      Get the Mean Absolute Error.\n",
      " |      \n",
      " |      If all are False (default), then return the training metric value.\n",
      " |      If more than one options is set to True, then return a dictionary of metrics where the keys are \"train\",\n",
      " |      \"valid\", and \"xval\".\n",
      " |      \n",
      " |      :param bool train: If train is True, then return the MAE value for the training data.\n",
      " |      :param bool valid: If valid is True, then return the MAE value for the validation data.\n",
      " |      :param bool xval:  If xval is True, then return the MAE value for the cross validation data.\n",
      " |      \n",
      " |      :returns: The MAE for this regression model.\n",
      " |  \n",
      " |  mean_residual_deviance(self, train=False, valid=False, xval=False)\n",
      " |      Get the Mean Residual Deviances.\n",
      " |      \n",
      " |      If all are False (default), then return the training metric value.\n",
      " |      If more than one options is set to True, then return a dictionary of metrics where the keys are \"train\",\n",
      " |      \"valid\", and \"xval\".\n",
      " |      \n",
      " |      :param bool train: If train is True, then return the Mean Residual Deviance value for the training data.\n",
      " |      :param bool valid: If valid is True, then return the Mean Residual Deviance value for the validation data.\n",
      " |      :param bool xval:  If xval is True, then return the Mean Residual Deviance value for the cross validation data.\n",
      " |      \n",
      " |      :returns: The Mean Residual Deviance for this regression model.\n",
      " |  \n",
      " |  model_performance(self, test_data=None, train=False, valid=False, xval=False)\n",
      " |      Generate model metrics for this model on test_data.\n",
      " |      \n",
      " |      :param H2OFrame test_data: Data set for which model metrics shall be computed against. All three of train,\n",
      " |          valid and xval arguments are ignored if test_data is not None.\n",
      " |      :param bool train: Report the training metrics for the model.\n",
      " |      :param bool valid: Report the validation metrics for the model.\n",
      " |      :param bool xval: Report the cross-validation metrics for the model. If train and valid are True, then it\n",
      " |          defaults to True.\n",
      " |      \n",
      " |      :returns: An object of class H2OModelMetrics.\n",
      " |  \n",
      " |  mse(self, train=False, valid=False, xval=False)\n",
      " |      Get the Mean Square Error.\n",
      " |      \n",
      " |      If all are False (default), then return the training metric value.\n",
      " |      If more than one options is set to True, then return a dictionary of metrics where the keys are \"train\",\n",
      " |      \"valid\", and \"xval\".\n",
      " |      \n",
      " |      :param bool train: If train is True, then return the MSE value for the training data.\n",
      " |      :param bool valid: If valid is True, then return the MSE value for the validation data.\n",
      " |      :param bool xval:  If xval is True, then return the MSE value for the cross validation data.\n",
      " |      \n",
      " |      :returns: The MSE for this regression model.\n",
      " |  \n",
      " |  normmul(self)\n",
      " |      Normalization/Standardization multipliers for numeric predictors.\n",
      " |  \n",
      " |  normsub(self)\n",
      " |      Normalization/Standardization offsets for numeric predictors.\n",
      " |  \n",
      " |  null_degrees_of_freedom(self, train=False, valid=False, xval=False)\n",
      " |      Retreive the null degress of freedom if this model has the attribute, or None otherwise.\n",
      " |      \n",
      " |      :param bool train: Get the null dof for the training set. If both train and valid are False, then train is\n",
      " |          selected by default.\n",
      " |      :param bool valid: Get the null dof for the validation set. If both train and valid are True, then train is\n",
      " |          selected by default.\n",
      " |      \n",
      " |      :returns: Return the null dof, or None if it is not present.\n",
      " |  \n",
      " |  null_deviance(self, train=False, valid=False, xval=False)\n",
      " |      Retreive the null deviance if this model has the attribute, or None otherwise.\n",
      " |      \n",
      " |      :param bool train: Get the null deviance for the training set. If both train and valid are False, then train\n",
      " |          is selected by default.\n",
      " |      :param bool valid: Get the null deviance for the validation set. If both train and valid are True, then train\n",
      " |          is selected by default.\n",
      " |      \n",
      " |      :returns: Return the null deviance, or None if it is not present.\n",
      " |  \n",
      " |  partial_plot(self, data, cols=None, destination_key=None, nbins=20, weight_column=None, plot=True, plot_stddev=True, figsize=(7, 10), server=False, include_na=False, user_splits=None, col_pairs_2dpdp=None, save_to_file=None, row_index=None)\n",
      " |      Create partial dependence plot which gives a graphical depiction of the marginal effect of a variable on the\n",
      " |      response. The effect of a variable is measured in change in the mean response.\n",
      " |      \n",
      " |      :param H2OFrame data: An H2OFrame object used for scoring and constructing the plot.\n",
      " |      :param cols: Feature(s) for which partial dependence will be calculated.\n",
      " |      :param destination_key: An key reference to the created partial dependence tables in H2O.\n",
      " |      :param nbins: Number of bins used. For categorical columns make sure the number of bins exceed the level count. If you enable add_missing_NA, the returned length will be nbin+1.\n",
      " |      :param weight_column: A string denoting which column of data should be used as the weight column.\n",
      " |      :param plot: A boolean specifying whether to plot partial dependence table.\n",
      " |      :param plot_stddev: A boolean specifying whether to add std err to partial dependence plot.\n",
      " |      :param figsize: Dimension/size of the returning plots, adjust to fit your output cells.\n",
      " |      :param server: Specify whether to activate matplotlib \"server\" mode. In this case, the plots are saved to a file instead of being rendered.\n",
      " |      :param include_na: A boolean specifying whether missing value should be included in the Feature values.\n",
      " |      :param user_splits: a dictionary containing column names as key and user defined split values as value in a list.\n",
      " |      :param col_pairs_2dpdp: list containing pairs of column names for 2D pdp\n",
      " |      :param save_to_file: Fully qualified name to an image file the resulting plot should be saved to, e.g. '/home/user/pdpplot.png'. The 'png' postfix might be omitted. If the file already exists, it will be overridden. Plot is only saved if plot = True.\n",
      " |      :param row_index: Row for which partial dependence will be calculated instead of the whole input frame.\n",
      " |      :returns: Plot and list of calculated mean response tables for each feature requested.\n",
      " |  \n",
      " |  pprint_coef(self)\n",
      " |      Pretty print the coefficents table (includes normalized coefficients).\n",
      " |  \n",
      " |  predict(self, test_data, custom_metric=None, custom_metric_func=None)\n",
      " |      Predict on a dataset.\n",
      " |      \n",
      " |      :param H2OFrame test_data: Data on which to make predictions.\n",
      " |      :param custom_metric:  custom evaluation function defined as class reference, the class get uploaded\n",
      " |          into the cluster\n",
      " |      :param custom_metric_func: custom evaluation function reference, e.g, result of upload_custom_metric\n",
      " |      \n",
      " |      :returns: A new H2OFrame of predictions.\n",
      " |  \n",
      " |  predict_contributions(self, test_data)\n",
      " |      Predict feature contributions - SHAP values on an H2O Model (only GBM and XGBoost models).\n",
      " |      \n",
      " |      Returned H2OFrame has shape (#rows, #features + 1) - there is a feature contribution column for each input\n",
      " |      feature, the last column is the model bias (same value for each row). The sum of the feature contributions\n",
      " |      and the bias term is equal to the raw prediction of the model. Raw prediction of tree-based model is the sum \n",
      " |      of the predictions of the individual trees before before the inverse link function is applied to get the actual\n",
      " |      prediction. For Gaussian distribution the sum of the contributions is equal to the model prediction. \n",
      " |      \n",
      " |      Note: Multinomial classification models are currently not supported.\n",
      " |      \n",
      " |      :param H2OFrame test_data: Data on which to calculate contributions.\n",
      " |      \n",
      " |      :returns: A new H2OFrame made of feature contributions.\n",
      " |  \n",
      " |  predict_leaf_node_assignment(self, test_data, type='Path')\n",
      " |      Predict on a dataset and return the leaf node assignment (only for tree-based models).\n",
      " |      \n",
      " |      :param H2OFrame test_data: Data on which to make predictions.\n",
      " |      :param Enum type: How to identify the leaf node. Nodes can be either identified by a path from to the root node\n",
      " |          of the tree to the node or by H2O's internal node id. One of: ``\"Path\"``, ``\"Node_ID\"`` (default: ``\"Path\"``).\n",
      " |      \n",
      " |      :returns: A new H2OFrame of predictions.\n",
      " |  \n",
      " |  r2(self, train=False, valid=False, xval=False)\n",
      " |      Return the R squared for this regression model.\n",
      " |      \n",
      " |      Will return R^2 for GLM Models and will return NaN otherwise.\n",
      " |      \n",
      " |      The R^2 value is defined to be 1 - MSE/var, where var is computed as sigma*sigma.\n",
      " |      \n",
      " |      If all are False (default), then return the training metric value.\n",
      " |      If more than one options is set to True, then return a dictionary of metrics where the keys are \"train\",\n",
      " |      \"valid\", and \"xval\".\n",
      " |      \n",
      " |      :param bool train: If train is True, then return the R^2 value for the training data.\n",
      " |      :param bool valid: If valid is True, then return the R^2 value for the validation data.\n",
      " |      :param bool xval:  If xval is True, then return the R^2 value for the cross validation data.\n",
      " |      \n",
      " |      :returns: The R squared for this regression model.\n",
      " |  \n",
      " |  residual_degrees_of_freedom(self, train=False, valid=False, xval=False)\n",
      " |      Retreive the residual degress of freedom if this model has the attribute, or None otherwise.\n",
      " |      \n",
      " |      :param bool train: Get the residual dof for the training set. If both train and valid are False, then train\n",
      " |          is selected by default.\n",
      " |      :param bool valid: Get the residual dof for the validation set. If both train and valid are True, then train\n",
      " |          is selected by default.\n",
      " |      \n",
      " |      :returns: Return the residual dof, or None if it is not present.\n",
      " |  \n",
      " |  residual_deviance(self, train=False, valid=False, xval=None)\n",
      " |      Retreive the residual deviance if this model has the attribute, or None otherwise.\n",
      " |      \n",
      " |      :param bool train: Get the residual deviance for the training set. If both train and valid are False, then\n",
      " |          train is selected by default.\n",
      " |      :param bool valid: Get the residual deviance for the validation set. If both train and valid are True, then\n",
      " |          train is selected by default.\n",
      " |      \n",
      " |      :returns: Return the residual deviance, or None if it is not present.\n",
      " |  \n",
      " |  respmul(self)\n",
      " |      Normalization/Standardization multipliers for numeric response.\n",
      " |  \n",
      " |  respsub(self)\n",
      " |      Normalization/Standardization offsets for numeric response.\n",
      " |  \n",
      " |  rmse(self, train=False, valid=False, xval=False)\n",
      " |      Get the Root Mean Square Error.\n",
      " |      \n",
      " |      If all are False (default), then return the training metric value.\n",
      " |      If more than one options is set to True, then return a dictionary of metrics where the keys are \"train\",\n",
      " |      \"valid\", and \"xval\".\n",
      " |      \n",
      " |      :param bool train: If train is True, then return the RMSE value for the training data.\n",
      " |      :param bool valid: If valid is True, then return the RMSE value for the validation data.\n",
      " |      :param bool xval:  If xval is True, then return the RMSE value for the cross validation data.\n",
      " |      \n",
      " |      :returns: The RMSE for this regression model.\n",
      " |  \n",
      " |  rmsle(self, train=False, valid=False, xval=False)\n",
      " |      Get the Root Mean Squared Logarithmic Error.\n",
      " |      \n",
      " |      If all are False (default), then return the training metric value.\n",
      " |      If more than one options is set to True, then return a dictionary of metrics where the keys are \"train\",\n",
      " |      \"valid\", and \"xval\".\n",
      " |      \n",
      " |      :param bool train: If train is True, then return the RMSLE value for the training data.\n",
      " |      :param bool valid: If valid is True, then return the RMSLE value for the validation data.\n",
      " |      :param bool xval:  If xval is True, then return the RMSLE value for the cross validation data.\n",
      " |      \n",
      " |      :returns: The RMSLE for this regression model.\n",
      " |  \n",
      " |  rotation(self)\n",
      " |      Obtain the rotations (eigenvectors) for a PCA model\n",
      " |      \n",
      " |      :return: H2OFrame\n",
      " |  \n",
      " |  save_model_details(self, path='', force=False)\n",
      " |      Save Model Details of an H2O Model in JSON Format to disk.\n",
      " |      \n",
      " |      :param model: The model object to save.\n",
      " |      :param path: a path to save the model details at (hdfs, s3, local)\n",
      " |      :param force: if True overwrite destination directory in case it exists, or throw exception if set to False.\n",
      " |      \n",
      " |      :returns str: the path of the saved model details\n",
      " |  \n",
      " |  save_mojo(self, path='', force=False)\n",
      " |      Save an H2O Model as MOJO (Model Object, Optimized) to disk.\n",
      " |      \n",
      " |      :param model: The model object to save.\n",
      " |      :param path: a path to save the model at (hdfs, s3, local)\n",
      " |      :param force: if True overwrite destination directory in case it exists, or throw exception if set to False.\n",
      " |      \n",
      " |      :returns str: the path of the saved model\n",
      " |  \n",
      " |  score_history(self)\n",
      " |      DEPRECATED. Use :meth:`scoring_history` instead.\n",
      " |  \n",
      " |  scoring_history(self)\n",
      " |      Retrieve Model Score History.\n",
      " |      \n",
      " |      :returns: The score history as an H2OTwoDimTable or a Pandas DataFrame.\n",
      " |  \n",
      " |  show(self)\n",
      " |      Print innards of model, without regards to type.\n",
      " |  \n",
      " |  staged_predict_proba(self, test_data)\n",
      " |      Predict class probabilities at each stage of an H2O Model (only GBM models).\n",
      " |      \n",
      " |      The output structure is analogous to the output of function predict_leaf_node_assignment. For each tree t and\n",
      " |      class c there will be a column Tt.Cc (eg. T3.C1 for tree 3 and class 1). The value will be the corresponding\n",
      " |      predicted probability of this class by combining the raw contributions of trees T1.Cc,..,TtCc. Binomial models\n",
      " |      build the trees just for the first class and values in columns Tx.C1 thus correspond to the the probability p0.\n",
      " |      \n",
      " |      :param H2OFrame test_data: Data on which to make predictions.\n",
      " |      \n",
      " |      :returns: A new H2OFrame of staged predictions.\n",
      " |  \n",
      " |  std_coef_plot(self, num_of_features=None, server=False)\n",
      " |      Plot a GLM model\"s standardized coefficient magnitudes.\n",
      " |      \n",
      " |      :param num_of_features: the number of features shown in the plot.\n",
      " |      :param server: ?\n",
      " |      \n",
      " |      :returns: None.\n",
      " |  \n",
      " |  summary(self)\n",
      " |      Print a detailed summary of the model.\n",
      " |  \n",
      " |  varimp(self, use_pandas=False)\n",
      " |      Pretty print the variable importances, or return them in a list.\n",
      " |      \n",
      " |      :param bool use_pandas: If True, then the variable importances will be returned as a pandas data frame.\n",
      " |      \n",
      " |      :returns: A list or Pandas DataFrame.\n",
      " |  \n",
      " |  varimp_plot(self, num_of_features=None, server=False)\n",
      " |      Plot the variable importance for a trained model.\n",
      " |      \n",
      " |      :param num_of_features: the number of features shown in the plot (default is 10 or all if less than 10).\n",
      " |      :param server: ?\n",
      " |      \n",
      " |      :returns: None.\n",
      " |  \n",
      " |  weights(self, matrix_id=0)\n",
      " |      Return the frame for the respective weight matrix.\n",
      " |      \n",
      " |      :param matrix_id: an integer, ranging from 0 to number of layers, that specifies the weight matrix to return.\n",
      " |      \n",
      " |      :returns: an H2OFrame which represents the weight matrix identified by matrix_id\n",
      " |  \n",
      " |  xval_keys(self)\n",
      " |      Return model keys for the cross-validated model.\n",
      " |  \n",
      " |  ----------------------------------------------------------------------\n",
      " |  Data descriptors inherited from h2o.model.model_base.ModelBase:\n",
      " |  \n",
      " |  actual_params\n",
      " |      Dictionary of actual parameters of the model.\n",
      " |  \n",
      " |  default_params\n",
      " |      Dictionary of the default parameters of the model.\n",
      " |  \n",
      " |  end_time\n",
      " |      Timestamp (milliseconds since 1970) when the model training was ended.\n",
      " |  \n",
      " |  full_parameters\n",
      " |      Dictionary of the full specification of all parameters.\n",
      " |  \n",
      " |  have_mojo\n",
      " |      True, if export to MOJO is possible\n",
      " |  \n",
      " |  have_pojo\n",
      " |      True, if export to POJO is possible\n",
      " |  \n",
      " |  key\n",
      " |      :return: the unique key representing the object on the backend\n",
      " |  \n",
      " |  model_id\n",
      " |      Model identifier.\n",
      " |  \n",
      " |  params\n",
      " |      Get the parameters and the actual/default values only.\n",
      " |      \n",
      " |      :returns: A dictionary of parameters used to build this model.\n",
      " |  \n",
      " |  run_time\n",
      " |      Model training time in milliseconds\n",
      " |  \n",
      " |  start_time\n",
      " |      Timestamp (milliseconds since 1970) when the model training was started.\n",
      " |  \n",
      " |  type\n",
      " |      The type of model built: ``\"classifier\"`` or ``\"regressor\"`` or ``\"unsupervised\"``\n",
      " |  \n",
      " |  xvals\n",
      " |      Return a list of the cross-validated models.\n",
      " |      \n",
      " |      :returns: A list of models.\n",
      " |  \n",
      " |  ----------------------------------------------------------------------\n",
      " |  Methods inherited from h2o.utils.backward_compatibility.BackwardsCompatibleBase:\n",
      " |  \n",
      " |  __getattr__(self, item)\n",
      " |  \n",
      " |  ----------------------------------------------------------------------\n",
      " |  Data descriptors inherited from h2o.utils.backward_compatibility.BackwardsCompatibleBase:\n",
      " |  \n",
      " |  __dict__\n",
      " |      dictionary for instance variables (if defined)\n",
      " |  \n",
      " |  __weakref__\n",
      " |      list of weak references to the object (if defined)\n"
     ]
    },
    {
     "name": "stdout",
     "output_type": "stream",
     "text": [
      "\n",
      "Help on function import_file in module h2o.h2o:\n",
      "\n",
      "import_file(path=None, destination_frame=None, parse=True, header=0, sep=None, col_names=None, col_types=None, na_strings=None, pattern=None, skipped_columns=None, custom_non_data_line_markers=None)\n",
      "    Import a dataset that is already on the cluster.\n",
      "    \n",
      "    The path to the data must be a valid path for each node in the H2O cluster. If some node in the H2O cluster\n",
      "    cannot see the file, then an exception will be thrown by the H2O cluster. Does a parallel/distributed\n",
      "    multi-threaded pull of the data. The main difference between this method and :func:`upload_file` is that\n",
      "    the latter works with local files, whereas this method imports remote files (i.e. files local to the server).\n",
      "    If you running H2O server on your own machine, then both methods behave the same.\n",
      "    \n",
      "    :param path: path(s) specifying the location of the data to import or a path to a directory of files to import\n",
      "    :param destination_frame: The unique hex key assigned to the imported file. If none is given, a key will be\n",
      "        automatically generated.\n",
      "    :param parse: If True, the file should be parsed after import. If False, then a list is returned containing the file path.\n",
      "    :param header: -1 means the first line is data, 0 means guess, 1 means first line is header.\n",
      "    :param sep: The field separator character. Values on each line of the file are separated by\n",
      "        this character. If not provided, the parser will automatically detect the separator.\n",
      "    :param col_names: A list of column names for the file.\n",
      "    :param col_types: A list of types or a dictionary of column names to types to specify whether columns\n",
      "        should be forced to a certain type upon import parsing. If a list, the types for elements that are\n",
      "        one will be guessed. The possible types a column may have are:\n",
      "    \n",
      "        - \"unknown\" - this will force the column to be parsed as all NA\n",
      "        - \"uuid\"    - the values in the column must be true UUID or will be parsed as NA\n",
      "        - \"string\"  - force the column to be parsed as a string\n",
      "        - \"numeric\" - force the column to be parsed as numeric. H2O will handle the compression of the numeric\n",
      "          data in the optimal manner.\n",
      "        - \"enum\"    - force the column to be parsed as a categorical column.\n",
      "        - \"time\"    - force the column to be parsed as a time column. H2O will attempt to parse the following\n",
      "          list of date time formats: (date) \"yyyy-MM-dd\", \"yyyy MM dd\", \"dd-MMM-yy\", \"dd MMM yy\", (time)\n",
      "          \"HH:mm:ss\", \"HH:mm:ss:SSS\", \"HH:mm:ss:SSSnnnnnn\", \"HH.mm.ss\" \"HH.mm.ss.SSS\", \"HH.mm.ss.SSSnnnnnn\".\n",
      "          Times can also contain \"AM\" or \"PM\".\n",
      "    :param na_strings: A list of strings, or a list of lists of strings (one list per column), or a dictionary\n",
      "        of column names to strings which are to be interpreted as missing values.\n",
      "    :param pattern: Character string containing a regular expression to match file(s) in the folder if `path` is a\n",
      "        directory.\n",
      "    :param skipped_columns: an integer list of column indices to skip and not parsed into the final frame from the import file.\n",
      "    :param custom_non_data_line_markers: If a line in imported file starts with any character in given string it will NOT be imported. Empty string means all lines are imported, None means that default behaviour for given format will be used\n",
      "    \n",
      "    :returns: a new :class:`H2OFrame` instance.\n",
      "    \n",
      "    :examples:\n",
      "        >>> # Single file import\n",
      "        >>> iris = import_file(\"h2o-3/smalldata/iris.csv\")\n",
      "        >>> # Return all files in the folder iris/ matching the regex r\"iris_.*\\.csv\"\n",
      "        >>> iris_pattern = h2o.import_file(path = \"h2o-3/smalldata/iris\",\n",
      "        ...                                pattern = \"iris_.*\\.csv\")\n",
      "\n"
     ]
    }
   ],
   "source": [
    "# h2o Python API with specific classes\n",
    "import h2o                                        \n",
    "from h2o.grid.grid_search import H2OGridSearch \n",
    "from h2o.estimators.deeplearning import H2ODeepLearningEstimator\n",
    "from h2o.estimators.gbm import H2OGradientBoostingEstimator\n",
    "from h2o.estimators.random_forest import H2ORandomForestEstimator\n",
    "help(H2OGradientBoostingEstimator)\n",
    "help(h2o.import_file)\n",
    "\n",
    "import numpy as np   # array, vector, matrix calculations\n",
    "import pandas as pd  # DataFrame handling\n",
    "import shap          # for visualizing Shapley values\n",
    "\n",
    "import matplotlib.pyplot as plt # general plotting\n",
    "pd.options.display.max_columns = 999 # enable display of all columns in notebook\n",
    "\n",
    "# display plots in-notebook\n",
    "%matplotlib inline   "
   ]
  },
  {
   "cell_type": "code",
   "execution_count": 37,
   "metadata": {},
   "outputs": [],
   "source": [
    "# initialize GBM model\n",
    "rf_h2o = H2ORandomForestEstimator(\n",
    "    model_id=\"rf_h2o\",\n",
    "    ntrees=200,\n",
    "    max_depth=30,\n",
    "    stopping_rounds=2,\n",
    "    stopping_tolerance=0.01,\n",
    "    score_each_iteration=True,\n",
    "    seed=3000000)\n",
    "\n",
    "\n",
    "gbm_h2o = H2OGradientBoostingEstimator(\n",
    "    ntrees=30,\n",
    "    learn_rate=0.3,\n",
    "    max_depth=10,\n",
    "    sample_rate=0.7,\n",
    "    col_sample_rate=0.7,\n",
    "    stopping_rounds=2,\n",
    "    stopping_tolerance=0.01, #10-fold increase in threshold as defined in rf_v1\n",
    "    score_each_iteration=True,\n",
    "    model_id=\"gbm_h2o\",\n",
    "    seed=2000000\n",
    ")\n",
    "\n",
    "\n"
   ]
  },
  {
   "cell_type": "code",
   "execution_count": 40,
   "metadata": {},
   "outputs": [
    {
     "name": "stdout",
     "output_type": "stream",
     "text": [
      "drf Model Build progress: |███████████████████████████████████████████████| 100%\n"
     ]
    },
    {
     "data": {
      "image/png": "[encoded data removed]",
      "text/plain": [
       "<Figure size 432x288 with 1 Axes>"
      ]
     },
     "metadata": {
      "needs_background": "light"
     },
     "output_type": "display_data"
    }
   ],
   "source": [
    "rf_h2o.train(y='avg_sleep_score_next_week', x=predictors, training_frame=train, validation_frame=test)\n",
    "\n",
    "%matplotlib inline\n",
    "rf_h2o.plot()"
   ]
  },
  {
   "cell_type": "code",
   "execution_count": 41,
   "metadata": {},
   "outputs": [
    {
     "name": "stdout",
     "output_type": "stream",
     "text": [
      "gbm Model Build progress: |███████████████████████████████████████████████| 100%\n"
     ]
    },
    {
     "data": {
      "image/png": "[encoded data removed]",
      "text/plain": [
       "<Figure size 432x288 with 1 Axes>"
      ]
     },
     "metadata": {
      "needs_background": "light"
     },
     "output_type": "display_data"
    }
   ],
   "source": [
    "gbm_h2o.train(y='avg_sleep_score_next_week', x=predictors, training_frame=train, validation_frame=test)\n",
    "\n",
    "%matplotlib inline\n",
    "gbm_h2o.plot()"
   ]
  },
  {
   "cell_type": "code",
   "execution_count": 355,
   "metadata": {},
   "outputs": [
    {
     "data": {
      "image/png": "[encoded data removed]",
      "text/plain": [
       "<Figure size 432x288 with 1 Axes>"
      ]
     },
     "metadata": {
      "needs_background": "light"
     },
     "output_type": "display_data"
    }
   ],
   "source": [
    "%matplotlib inline\n",
    "model.plot()"
   ]
  },
  {
   "cell_type": "code",
   "execution_count": 45,
   "metadata": {},
   "outputs": [
    {
     "data": {
      "image/png": "[encoded data removed]",
      "text/plain": [
       "<Figure size 1008x720 with 1 Axes>"
      ]
     },
     "metadata": {
      "needs_background": "light"
     },
     "output_type": "display_data"
    }
   ],
   "source": [
    "rf_h2o.varimp_plot()"
   ]
  },
  {
   "cell_type": "code",
   "execution_count": 46,
   "metadata": {},
   "outputs": [
    {
     "name": "stdout",
     "output_type": "stream",
     "text": [
      "\n",
      "ModelMetricsRegression: drf\n",
      "** Reported on train data. **\n",
      "\n",
      "MSE: 8.542808215278084\n",
      "RMSE: 2.9228082754908993\n",
      "MAE: 2.1143570882618694\n",
      "RMSLE: 0.03830336137763912\n",
      "Mean Residual Deviance: 8.542808215278084\n"
     ]
    },
    {
     "data": {
      "text/plain": []
     },
     "execution_count": 46,
     "metadata": {},
     "output_type": "execute_result"
    }
   ],
   "source": [
    "perf_cls = rf_h2o.model_performance()\n",
    "perf_cls"
   ]
  },
  {
   "cell_type": "code",
   "execution_count": 47,
   "metadata": {},
   "outputs": [
    {
     "data": {
      "image/png": "[encoded data removed]",
      "text/plain": [
       "<Figure size 1008x720 with 1 Axes>"
      ]
     },
     "metadata": {
      "needs_background": "light"
     },
     "output_type": "display_data"
    }
   ],
   "source": [
    "gbm_h2o.varimp_plot()"
   ]
  },
  {
   "cell_type": "code",
   "execution_count": 57,
   "metadata": {},
   "outputs": [
    {
     "name": "stdout",
     "output_type": "stream",
     "text": [
      "\n",
      "ModelMetricsRegression: gbm\n",
      "** Reported on test data. **\n",
      "\n",
      "MSE: 16.221246237746723\n",
      "RMSE: 4.027560829800926\n",
      "MAE: 3.115253196980419\n",
      "RMSLE: 0.05420365334888549\n",
      "Mean Residual Deviance: 16.221246237746723\n"
     ]
    },
    {
     "data": {
      "text/plain": []
     },
     "execution_count": 57,
     "metadata": {},
     "output_type": "execute_result"
    }
   ],
   "source": [
    "perf_cls = gbm_h2o.model_performance(test)\n",
    "perf_cls"
   ]
  },
  {
   "cell_type": "code",
   "execution_count": 50,
   "metadata": {},
   "outputs": [
    {
     "name": "stdout",
     "output_type": "stream",
     "text": [
      "xgboost Model Build progress: |███████████████████████████████████████████| 100%\n"
     ]
    },
    {
     "data": {
      "image/png": "[encoded data removed]",
      "text/plain": [
       "<Figure size 432x288 with 1 Axes>"
      ]
     },
     "metadata": {
      "needs_background": "light"
     },
     "output_type": "display_data"
    }
   ],
   "source": [
    "from h2o.estimators import H2OXGBoostEstimator\n",
    "\n",
    "param = {\n",
    "      \"ntrees\" : 50\n",
    "    , \"nfolds\" : 10\n",
    "    , \"seed\": 20\n",
    "}\n",
    "xgb_h2o = H2OXGBoostEstimator(**param)\n",
    "\n",
    "xgb_h2o.train(y='avg_sleep_score_next_week', x=predictors, training_frame=train, validation_frame=test)\n",
    "\n",
    "%matplotlib inline\n",
    "xgb_h2o.plot()\n",
    "\n"
   ]
  },
  {
   "cell_type": "code",
   "execution_count": 51,
   "metadata": {},
   "outputs": [
    {
     "data": {
      "image/png": "[encoded data removed]",
      "text/plain": [
       "<Figure size 1008x720 with 1 Axes>"
      ]
     },
     "metadata": {
      "needs_background": "light"
     },
     "output_type": "display_data"
    }
   ],
   "source": [
    "xgb_h2o.varimp_plot()"
   ]
  },
  {
   "cell_type": "code",
   "execution_count": 56,
   "metadata": {},
   "outputs": [
    {
     "name": "stdout",
     "output_type": "stream",
     "text": [
      "\n",
      "ModelMetricsRegression: xgboost\n",
      "** Reported on test data. **\n",
      "\n",
      "MSE: 16.188765676599036\n",
      "RMSE: 4.023526522417746\n",
      "MAE: 3.131884827131991\n",
      "RMSLE: 0.054478834459383\n",
      "Mean Residual Deviance: 16.188765676599036\n"
     ]
    },
    {
     "data": {
      "text/plain": []
     },
     "execution_count": 56,
     "metadata": {},
     "output_type": "execute_result"
    }
   ],
   "source": [
    "perf_cls = xgb_h2o.model_performance(test)\n",
    "perf_cls"
   ]
  },
  {
   "cell_type": "code",
   "execution_count": 362,
   "metadata": {},
   "outputs": [
    {
     "data": {
      "image/png": "[encoded data removed]",
      "text/plain": [
       "<Figure size 1008x720 with 1 Axes>"
      ]
     },
     "metadata": {
      "needs_background": "light"
     },
     "output_type": "display_data"
    }
   ],
   "source": [
    "xgboost_model.varimp_plot()"
   ]
  },
  {
   "cell_type": "code",
   "execution_count": 55,
   "metadata": {},
   "outputs": [
    {
     "name": "stdout",
     "output_type": "stream",
     "text": [
      "\n",
      "ModelMetricsRegression: xgboost\n",
      "** Reported on test data. **\n",
      "\n",
      "MSE: 16.188765676599036\n",
      "RMSE: 4.023526522417746\n",
      "MAE: 3.131884827131991\n",
      "RMSLE: 0.054478834459383\n",
      "Mean Residual Deviance: 16.188765676599036\n"
     ]
    },
    {
     "data": {
      "text/plain": []
     },
     "execution_count": 55,
     "metadata": {},
     "output_type": "execute_result"
    }
   ],
   "source": [
    "perf_cls = xgb_h2o.model_performance(test)\n",
    "perf_cls"
   ]
  },
  {
   "cell_type": "markdown",
   "metadata": {},
   "source": [
    "#### H2O AutoML\n",
    "\n",
    "\n",
    "Although H2O has made it easy for non-experts to experiment with machine learning, there is still a fair bit of knowledge and background in data science that is required to produce high-performing machine learning models. Deep Neural Networks in particular are notoriously difficult for a non-expert to tune properly. In order for machine learning software to truly be accessible to non-experts, we have designed an easy-to-use interface which automates the process of training a large selection of candidate models. H2O’s AutoML can also be a helpful tool for the advanced user, by providing a simple wrapper function that performs a large number of modeling-related tasks that would typically require many lines of code, and by freeing up their time to focus on other aspects of the data science pipeline tasks such as data-preprocessing, feature engineering and model deployment.\n",
    "\n",
    "H2O’s AutoML can be used for automating the machine learning workflow, which includes automatic training and tuning of many models within a user-specified time-limit. Stacked Ensembles – one based on all previously trained models, another one on the best model of each family – will be automatically trained on collections of individual models to produce highly predictive ensemble models which, in most cases, will be the top performing models in the AutoML Leaderboard."
   ]
  },
  {
   "cell_type": "code",
   "execution_count": 60,
   "metadata": {},
   "outputs": [
    {
     "name": "stdout",
     "output_type": "stream",
     "text": [
      "AutoML progress: |████████████████████████████████████████████████████████| 100%\n",
      "CPU times: user 3.16 s, sys: 316 ms, total: 3.48 s\n",
      "Wall time: 4min 7s\n"
     ]
    }
   ],
   "source": [
    "%%time\n",
    "from h2o.automl import H2OAutoML\n",
    "\n",
    "aml = H2OAutoML(max_models=5, \n",
    "                max_runtime_secs_per_model=60, \n",
    "                seed=20)\n",
    "aml.train(y='avg_sleep_score_next_week', x=predictors, training_frame=train, validation_frame=test)\n"
   ]
  },
  {
   "cell_type": "code",
   "execution_count": 62,
   "metadata": {},
   "outputs": [
    {
     "data": {
      "text/html": [
       "<table>\n",
       "<thead>\n",
       "<tr><th>model_id                                 </th><th style=\"text-align: right;\">  mean_residual_deviance</th><th style=\"text-align: right;\">   rmse</th><th style=\"text-align: right;\">     mse</th><th style=\"text-align: right;\">    mae</th><th style=\"text-align: right;\">    rmsle</th></tr>\n",
       "</thead>\n",
       "<tbody>\n",
       "<tr><td>DRF_1_AutoML_20191207_191122             </td><td style=\"text-align: right;\">                 6.53626</td><td style=\"text-align: right;\">2.55661</td><td style=\"text-align: right;\"> 6.53626</td><td style=\"text-align: right;\">1.86373</td><td style=\"text-align: right;\">0.0335617</td></tr>\n",
       "<tr><td>DRF_1_AutoML_20191207_190500             </td><td style=\"text-align: right;\">                 6.53626</td><td style=\"text-align: right;\">2.55661</td><td style=\"text-align: right;\"> 6.53626</td><td style=\"text-align: right;\">1.86373</td><td style=\"text-align: right;\">0.0335617</td></tr>\n",
       "<tr><td>GLM_grid_1_AutoML_20191207_190500_model_1</td><td style=\"text-align: right;\">                15.3992 </td><td style=\"text-align: right;\">3.92418</td><td style=\"text-align: right;\">15.3992 </td><td style=\"text-align: right;\">3.01055</td><td style=\"text-align: right;\">0.0514595</td></tr>\n",
       "<tr><td>GLM_grid_1_AutoML_20191207_191122_model_1</td><td style=\"text-align: right;\">                15.3992 </td><td style=\"text-align: right;\">3.92418</td><td style=\"text-align: right;\">15.3992 </td><td style=\"text-align: right;\">3.01055</td><td style=\"text-align: right;\">0.0514595</td></tr>\n",
       "<tr><td>XGBoost_3_AutoML_20191207_191122         </td><td style=\"text-align: right;\">                57.7908 </td><td style=\"text-align: right;\">7.60202</td><td style=\"text-align: right;\">57.7908 </td><td style=\"text-align: right;\">6.61688</td><td style=\"text-align: right;\">0.0984769</td></tr>\n",
       "<tr><td>XGBoost_2_AutoML_20191207_190500         </td><td style=\"text-align: right;\">                61.8911 </td><td style=\"text-align: right;\">7.86709</td><td style=\"text-align: right;\">61.8911 </td><td style=\"text-align: right;\">7.02558</td><td style=\"text-align: right;\">0.102054 </td></tr>\n",
       "<tr><td>XGBoost_2_AutoML_20191207_191122         </td><td style=\"text-align: right;\">                64.7435 </td><td style=\"text-align: right;\">8.04634</td><td style=\"text-align: right;\">64.7435 </td><td style=\"text-align: right;\">7.03069</td><td style=\"text-align: right;\">0.104885 </td></tr>\n",
       "<tr><td>XGBoost_1_AutoML_20191207_190500         </td><td style=\"text-align: right;\">                72.1924 </td><td style=\"text-align: right;\">8.49661</td><td style=\"text-align: right;\">72.1924 </td><td style=\"text-align: right;\">7.42521</td><td style=\"text-align: right;\">0.111184 </td></tr>\n",
       "<tr><td>XGBoost_3_AutoML_20191207_190500         </td><td style=\"text-align: right;\">                76.703  </td><td style=\"text-align: right;\">8.75803</td><td style=\"text-align: right;\">76.703  </td><td style=\"text-align: right;\">7.67674</td><td style=\"text-align: right;\">0.114671 </td></tr>\n",
       "<tr><td>XGBoost_1_AutoML_20191207_191122         </td><td style=\"text-align: right;\">                80.1749 </td><td style=\"text-align: right;\">8.95404</td><td style=\"text-align: right;\">80.1749 </td><td style=\"text-align: right;\">7.90464</td><td style=\"text-align: right;\">0.1175   </td></tr>\n",
       "</tbody>\n",
       "</table>"
      ]
     },
     "metadata": {},
     "output_type": "display_data"
    },
    {
     "data": {
      "text/plain": []
     },
     "execution_count": 62,
     "metadata": {},
     "output_type": "execute_result"
    }
   ],
   "source": [
    "lb = aml.leaderboard\n",
    "lb.head()\n",
    "lb.head(rows=lb.nrows) # Entire leaderboardm,"
   ]
  },
  {
   "cell_type": "code",
   "execution_count": 64,
   "metadata": {},
   "outputs": [
    {
     "name": "stdout",
     "output_type": "stream",
     "text": [
      "\n",
      "ModelMetricsRegression: drf\n",
      "** Reported on test data. **\n",
      "\n",
      "MSE: 14.566758677768382\n",
      "RMSE: 3.816642330343306\n",
      "MAE: 2.9681689355892256\n",
      "RMSLE: 0.051435801930313114\n",
      "Mean Residual Deviance: 14.566758677768382\n"
     ]
    },
    {
     "data": {
      "text/plain": []
     },
     "execution_count": 64,
     "metadata": {},
     "output_type": "execute_result"
    }
   ],
   "source": [
    "perf_cls = aml.leader.model_performance(test_data=test)\n",
    "perf_cls"
   ]
  },
  {
   "cell_type": "code",
   "execution_count": 65,
   "metadata": {},
   "outputs": [
    {
     "data": {
      "image/png": "[encoded data removed]",
      "text/plain": [
       "<Figure size 1008x720 with 1 Axes>"
      ]
     },
     "metadata": {
      "needs_background": "light"
     },
     "output_type": "display_data"
    }
   ],
   "source": [
    "aml.leader.varimp_plot()"
   ]
  },
  {
   "cell_type": "code",
   "execution_count": 68,
   "metadata": {},
   "outputs": [],
   "source": [
    "sh = aml.leader.score_history()\n",
    "sh = pd.DataFrame(sh)\n"
   ]
  },
  {
   "cell_type": "code",
   "execution_count": 69,
   "metadata": {},
   "outputs": [
    {
     "data": {
      "text/plain": [
       "Index(['', 'timestamp', 'duration', 'number_of_trees', 'training_rmse',\n",
       "       'training_mae', 'training_deviance', 'validation_rmse',\n",
       "       'validation_mae', 'validation_deviance'],\n",
       "      dtype='object')"
      ]
     },
     "execution_count": 69,
     "metadata": {},
     "output_type": "execute_result"
    }
   ],
   "source": [
    "sh.columns"
   ]
  },
  {
   "cell_type": "code",
   "execution_count": 71,
   "metadata": {},
   "outputs": [
    {
     "data": {
      "text/plain": [
       "<matplotlib.axes._subplots.AxesSubplot at 0x7fbe729e7c88>"
      ]
     },
     "execution_count": 71,
     "metadata": {},
     "output_type": "execute_result"
    },
    {
     "data": {
      "image/png": "[encoded data removed]",
      "text/plain": [
       "<Figure size 432x288 with 1 Axes>"
      ]
     },
     "metadata": {
      "needs_background": "light"
     },
     "output_type": "display_data"
    }
   ],
   "source": [
    "import matplotlib.pyplot as plt\n",
    "%matplotlib inline \n",
    "# plot training training_rmse and training_mae\n",
    "sh.plot(x='number_of_trees', y = ['training_rmse','validation_rmse'])"
   ]
  },
  {
   "cell_type": "code",
   "execution_count": 72,
   "metadata": {},
   "outputs": [
    {
     "data": {
      "text/plain": [
       "<matplotlib.axes._subplots.AxesSubplot at 0x7fbe72962f28>"
      ]
     },
     "execution_count": 72,
     "metadata": {},
     "output_type": "execute_result"
    },
    {
     "data": {
      "image/png": "[encoded data removed]",
      "text/plain": [
       "<Figure size 432x288 with 1 Axes>"
      ]
     },
     "metadata": {
      "needs_background": "light"
     },
     "output_type": "display_data"
    }
   ],
   "source": [
    "import matplotlib.pyplot as plt\n",
    "%matplotlib inline \n",
    "# plot training training_rmse and training_mae\n",
    "sh.plot(x='number_of_trees', y = ['training_deviance','validation_deviance'])"
   ]
  },
  {
   "cell_type": "code",
   "execution_count": 132,
   "metadata": {},
   "outputs": [
    {
     "name": "stdout",
     "output_type": "stream",
     "text": [
      "PartialDependencePlot progress: |█████████████████████████████████████████| 100%\n"
     ]
    },
    {
     "data": {
      "image/png": "[encoded data removed]",
      "text/plain": [
       "<Figure size 504x720 with 1 Axes>"
      ]
     },
     "metadata": {
      "needs_background": "light"
     },
     "output_type": "display_data"
    }
   ],
   "source": [
    "pdp = aml.leader.partial_plot(cols=[\"rol_sleep_afterMidnight_7d\"], data=test)"
   ]
  },
  {
   "cell_type": "code",
   "execution_count": 133,
   "metadata": {},
   "outputs": [
    {
     "name": "stdout",
     "output_type": "stream",
     "text": [
      "PartialDependencePlot progress: |█████████████████████████████████████████| 100%\n"
     ]
    },
    {
     "data": {
      "image/png": "[encoded data removed]",
      "text/plain": [
       "<Figure size 504x720 with 1 Axes>"
      ]
     },
     "metadata": {
      "needs_background": "light"
     },
     "output_type": "display_data"
    }
   ],
   "source": [
    "pdp = aml.leader.partial_plot(cols=[\"rol_bedtime_start_delta_7d\"], data=test)"
   ]
  },
  {
   "cell_type": "markdown",
   "metadata": {},
   "source": [
    "## Saving an H2O Model\n",
    "\n",
    "\n",
    "In Python, we can save a model locally or to HDFS using the `h2o.saveModel` (Python) function . This function accepts the model object and the file path. If no path is specified, then the model will be saved to the current working directory. After the model is saved, we can load it using the `h2o.load_model` (Python) function."
   ]
  },
  {
   "cell_type": "code",
   "execution_count": 134,
   "metadata": {},
   "outputs": [
    {
     "name": "stdout",
     "output_type": "stream",
     "text": [
      "/jupyter/h2o_model/DRF_1_AutoML_20191207_191122\n"
     ]
    }
   ],
   "source": [
    "# save the model\n",
    "model_path = h2o.save_model(model=aml.leader, path=\"h2o_model\", force=True)\n",
    "\n",
    "print(model_path)\n"
   ]
  },
  {
   "cell_type": "code",
   "execution_count": 135,
   "metadata": {},
   "outputs": [],
   "source": [
    "# load the model\n",
    "saved_model = h2o.load_model(model_path)"
   ]
  },
  {
   "cell_type": "code",
   "execution_count": 137,
   "metadata": {},
   "outputs": [
    {
     "name": "stdout",
     "output_type": "stream",
     "text": [
      "\n",
      "ModelMetricsRegression: drf\n",
      "** Reported on test data. **\n",
      "\n",
      "MSE: 14.566758677768382\n",
      "RMSE: 3.816642330343306\n",
      "MAE: 2.9681689355892256\n",
      "RMSLE: 0.051435801930313114\n",
      "Mean Residual Deviance: 14.566758677768382\n"
     ]
    },
    {
     "data": {
      "text/plain": []
     },
     "execution_count": 137,
     "metadata": {},
     "output_type": "execute_result"
    }
   ],
   "source": [
    "saved_model.model_performance(test_data=test)"
   ]
  },
  {
   "cell_type": "code",
   "execution_count": 138,
   "metadata": {},
   "outputs": [
    {
     "data": {
      "image/png": "[encoded data removed]",
      "text/plain": [
       "<Figure size 1008x720 with 1 Axes>"
      ]
     },
     "metadata": {
      "needs_background": "light"
     },
     "output_type": "display_data"
    }
   ],
   "source": [
    "saved_model.varimp_plot()"
   ]
  },
  {
   "cell_type": "markdown",
   "metadata": {},
   "source": [
    "### The MOJO approach - Shipping a model\n",
    "\n",
    "This is an important functionality that provides a means to use external, pre-trained models in H2O - mainly for the purpose of scoring. Depending on each external model, metrics and other model information might be obtained as well. \n",
    "Importing a MOJO\n",
    "\n",
    "Importing a MOJO can be done from Python, R, and Flow. H2O imports the model and embraces it for the purpose of scoring. Information output about the model may be limited.\n",
    "Reference : http://docs.h2o.ai/h2o/latest-stable/h2o-docs/save-and-load-model.html#supported-mojos"
   ]
  },
  {
   "cell_type": "markdown",
   "metadata": {},
   "source": [
    "### Building a MOJO\n",
    "\n",
    "MOJOs are built in much the same way as POJOs. The  code below shows how to do this.The `download_mojo()` function saves the model as a zip file. We can unzip the file to view the options used to build the file along with each tree built in the model. Note that each tree file is saved as a binary file type."
   ]
  },
  {
   "cell_type": "code",
   "execution_count": 139,
   "metadata": {},
   "outputs": [
    {
     "name": "stdout",
     "output_type": "stream",
     "text": [
      "Model saved to /jupyter/DRF_1_AutoML_20191207_191122.zip\n"
     ]
    }
   ],
   "source": [
    "### CODE SOURCED FROM : http://docs.h2o.ai/h2o/latest-stable/h2o-docs/productionizing.html#mojo-quickstart\n",
    "\n",
    "# Download the MOJO and the resulting ``h2o-genmodel.jar`` file\n",
    "# to a new **experiment** folder. Note that the ``h2o-genmodel.jar`` file\n",
    "# is a library that supports scoring and contains the required readers\n",
    "# and interpreters. This file is required when MOJO models are deployed\n",
    "# to production. Be sure to specify the entire path, not just the relative path.\n",
    "modelfile = aml.leader.download_mojo(path=\"./\", get_genmodel_jar=True)\n",
    "print(\"Model saved to \" + modelfile)"
   ]
  },
  {
   "cell_type": "markdown",
   "metadata": {},
   "source": [
    "### Compile and Run the MOJO\n",
    "\n",
    "A detailed step by step implementation approach is provided here : http://docs.h2o.ai/h2o/latest-stable/h2o-docs/productionizing.html#mojo-quickstart\n"
   ]
  },
  {
   "cell_type": "code",
   "execution_count": null,
   "metadata": {},
   "outputs": [],
   "source": []
  },
  {
   "cell_type": "code",
   "execution_count": null,
   "metadata": {},
   "outputs": [],
   "source": []
  },
  {
   "cell_type": "code",
   "execution_count": null,
   "metadata": {},
   "outputs": [],
   "source": []
  },
  {
   "cell_type": "code",
   "execution_count": null,
   "metadata": {},
   "outputs": [],
   "source": []
  },
  {
   "cell_type": "code",
   "execution_count": null,
   "metadata": {},
   "outputs": [],
   "source": []
  },
  {
   "cell_type": "code",
   "execution_count": null,
   "metadata": {},
   "outputs": [],
   "source": []
  },
  {
   "cell_type": "code",
   "execution_count": null,
   "metadata": {},
   "outputs": [],
   "source": []
  },
  {
   "cell_type": "code",
   "execution_count": null,
   "metadata": {},
   "outputs": [],
   "source": []
  }
 ],
 "metadata": {
  "kernelspec": {
   "display_name": "Python 3",
   "language": "python",
   "name": "python3"
  },
  "language_info": {
   "codemirror_mode": {
    "name": "ipython",
    "version": 3
   },
   "file_extension": ".py",
   "mimetype": "text/x-python",
   "name": "python",
   "nbconvert_exporter": "python",
   "pygments_lexer": "ipython3",
   "version": "3.6.4"
  },
  "pycharm": {
   "stem_cell": {
    "cell_type": "raw",
    "metadata": {
     "collapsed": false
    },
    "source": []
   }
  }
 },
 "nbformat": 4,
 "nbformat_minor": 1
}
